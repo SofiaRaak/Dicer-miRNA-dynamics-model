{
 "cells": [
  {
   "cell_type": "markdown",
   "id": "a49a1907-6143-425d-980d-f141b535f231",
   "metadata": {},
   "source": [
    "# Extract BPP of mature sequence of miRNAs in Lee _et al._ 2011\n",
    "\n",
    "This notebook describes how the pre-miRNA structures were obtained from [mirBase](https://mirbase.org/) and parsed to isolate the mature sequences with true base pairings. The sequences were then used to create custom FASTA files for use in [RNACofold](https://www.tbi.univie.ac.at/RNA/RNAcofold.1.html) and the base-pair binding probabilit (BPP) extracted based on the mirBase structure."
   ]
  },
  {
   "cell_type": "markdown",
   "id": "43a02dda-fd5a-4348-9e2f-fa3d4bae79c4",
   "metadata": {
    "tags": []
   },
   "source": [
    "## Obtaining structures from mirBase"
   ]
  },
  {
   "cell_type": "markdown",
   "id": "21259e26-be15-4511-aae6-477faf9656f5",
   "metadata": {
    "tags": []
   },
   "source": [
    "### Setup"
   ]
  },
  {
   "cell_type": "code",
   "execution_count": 1,
   "id": "861ca094-df26-4cd8-929c-2a3cc7d7b442",
   "metadata": {
    "tags": []
   },
   "outputs": [],
   "source": [
    "#prepare environment\n",
    "import requests\n",
    "from bs4 import BeautifulSoup\n",
    "import re\n",
    "from tqdm import tqdm\n",
    "import pandas as pd\n",
    "import numpy as np\n",
    "from Bio import SeqIO\n",
    "from Bio.Seq import Seq\n",
    "from Bio.SeqRecord import SeqRecord\n",
    "import mirna as mr\n",
    "import matplotlib.pyplot as plt\n",
    "import matplotlib.lines as mlines\n",
    "import scipy.stats as st"
   ]
  },
  {
   "cell_type": "markdown",
   "id": "09727541-c598-4716-9938-bef22f3a0d3c",
   "metadata": {
    "tags": []
   },
   "source": [
    "### Utils"
   ]
  },
  {
   "cell_type": "code",
   "execution_count": 2,
   "id": "53d4b073-d75d-4982-a469-f270be821ade",
   "metadata": {
    "tags": []
   },
   "outputs": [],
   "source": [
    "def url_generator_mirbase(accession):\n",
    "    \"\"\"\n",
    "    Function to automatically generate urls for scraping mirbase\n",
    "    \n",
    "    Args:\n",
    "    accession (list): mirbase accession number for target miRNA OR miRNA name\n",
    "    \n",
    "    Returns:\n",
    "    urls (list):      list of mirbase urls for target miRNA\n",
    "    \"\"\"\n",
    "    \n",
    "    mirbase = 'https://www.mirbase.org/hairpin/'\n",
    "    urls = []\n",
    "    for i in range(len(accession)):\n",
    "        urls.append(mirbase+accession[i])\n",
    "        \n",
    "    return urls"
   ]
  },
  {
   "cell_type": "code",
   "execution_count": 3,
   "id": "4b0319ae-3fb8-4d5c-9e31-880c45e6320d",
   "metadata": {
    "tags": []
   },
   "outputs": [],
   "source": [
    "def return_structure(accessions):\n",
    "    \"\"\"\n",
    "    Function to return the structure based on accession name.\n",
    "    \n",
    "    Args:\n",
    "    accessions    list of accessions\n",
    "    \n",
    "    Returns:\n",
    "    urls          list of structures\n",
    "    \"\"\"\n",
    "    urls = url_generator_mirbase(accessions)\n",
    "    \n",
    "    structures = []\n",
    "    for i in tqdm(range(len(urls))):\n",
    "        page = requests.get(urls[i])\n",
    "        soup = BeautifulSoup(page.content, 'html.parser')\n",
    "        pre = soup.find_all(class_='hairpin frame')\n",
    "        \n",
    "        if pre == 0:\n",
    "            structures.append(None)\n",
    "        else:\n",
    "            t = re.search(r'<pre.*</pre>', str(pre[0]), re.S)\n",
    "            t = re.sub(r'<.*?>', '', t.group(), flags = re.S)\n",
    "            \n",
    "            structures.append(t)\n",
    "            \n",
    "    return structures"
   ]
  },
  {
   "cell_type": "code",
   "execution_count": 4,
   "id": "f6cd6c58-34e1-4c56-bbe6-b456fee41649",
   "metadata": {
    "tags": []
   },
   "outputs": [],
   "source": [
    "def mirna_seq_finder(seq1, seq2, mismatch_3p=0, mismatch_5p=0, scan_reverse=False):\n",
    "    \"\"\"\n",
    "    Function to find and match seq1 to seq2 with variable allowance of mismatch in 3' and 5' end. \\n\n",
    "    Finds indices where seq1 matches seq2.\n",
    "    \n",
    "    Args:\n",
    "    seq1:         Fasta sequence to match to (mature sequence)\n",
    "    seq2:         Fasta sequence to match from (hairpin sequence)\n",
    "    mismatch_3p:  Number of tolerated mismatches on 3' end, int > 0\n",
    "    mismatch_5p:  Number of tolerated mismatches on 5' end, int > 0\n",
    "    scan_reverse: Bool, scan reverse complement of string (false)\n",
    "    \n",
    "    Returns:     index (tuple) or 0 if no matches\n",
    "    \"\"\"\n",
    "    \n",
    "    alt_seq = Seq(seq1)\n",
    "    alt_seq = str(alt_seq.reverse_complement_rna())\n",
    "    \n",
    "    if seq1 not in seq2 and alt_seq not in seq2:\n",
    "        if mismatch_3p == 0 and mismatch_5p == 0:\n",
    "            print('No match')\n",
    "            return 0\n",
    "        else:\n",
    "            combos = combination_creator(mismatch_3p, mismatch_5p)\n",
    "            \n",
    "            for i, j in combos:\n",
    "                i = -1*(i+1)\n",
    "                \n",
    "                if seq1[j:i] in seq2:\n",
    "                    ix1, ix2 = seq2.index(seq1[j:i]), seq2.index(seq1[j:i]) + len(seq1[j:i])\n",
    "                    return (ix1, ix2)\n",
    "                    break\n",
    "                elif scan_reverse:\n",
    "                    if alt_seq[j:i] in seq2:\n",
    "                        ix1, ix2 = seq2.index(alt_seq[j:i]), seq2.index(alt_seq[j:i]) + len(alt_seq[j:i])\n",
    "                        return (ix1, ix2)\n",
    "                        break\n",
    "                    elif (i,j) < combos[-1]:\n",
    "                        continue\n",
    "                    else:\n",
    "                        print('No match')\n",
    "                        return 0\n",
    "                elif (i, j) < combos[-1]:\n",
    "                    continue\n",
    "                else:\n",
    "                    print('No match')\n",
    "                    return 0\n",
    "    else:\n",
    "        if seq1 in seq2:\n",
    "            ix1, ix2 = (seq2.index(seq1), seq2.index(seq1) + len(seq1))\n",
    "            return (ix1, ix2)\n",
    "        elif scan_reverse:\n",
    "            ix1, ix2 = (seq2.index(alt_seq), seq2.index(alt_seq) + len(alt_seq))\n",
    "            return (ix1, ix2)\n",
    "        else:\n",
    "            print('No match!')\n",
    "            return 0"
   ]
  },
  {
   "cell_type": "markdown",
   "id": "bd6a84f9-43c4-430d-8a91-e6408acce4bf",
   "metadata": {
    "jp-MarkdownHeadingCollapsed": true,
    "tags": []
   },
   "source": [
    "### Find accessions\n",
    "\n",
    "Here all hairpin fastas were downloaded from [mirBase](https://mirbase.org/download/) and loaded into a terminal bash environment. All entries with the mouse species prefix (mmu) were fileterd out and the fasta header saved as ```only_mouse.fa```."
   ]
  },
  {
   "cell_type": "raw",
   "id": "e563e8c0-1a2f-4187-b3a7-0a738b9184c8",
   "metadata": {},
   "source": [
    "hairpins = open('./data/only_mouse.fa')"
   ]
  },
  {
   "cell_type": "raw",
   "id": "d82ace75-8779-4e1f-991b-027fb997f5a8",
   "metadata": {},
   "source": [
    "record_hairpin = list(SeqIO.parse(hairpins, 'fasta'))\n",
    "hairpins.close()"
   ]
  },
  {
   "cell_type": "raw",
   "id": "3d509633-665e-44ef-98d4-76602e8a3ea6",
   "metadata": {},
   "source": [
    "#Find all accessions, pair with names\n",
    "names = []\n",
    "accessions = []\n",
    "for record in record_hairpin:\n",
    "    _, i0 = mirna_seq_finder(record.name, record.description)\n",
    "    i1, _ = mirna_seq_finder(' Mus musculus', record.description)\n",
    "    \n",
    "    if i0 != 0 and i1 !=0 and type(i0) != type(None) and type(i1) != type(None):\n",
    "        \n",
    "        names.append(record.name)\n",
    "        accessions.append(record.description[i0+1:i1])\n",
    "    \n",
    "    else:\n",
    "        names.append(record.name)\n",
    "        accessions.append(None)"
   ]
  },
  {
   "cell_type": "raw",
   "id": "2dde7f99-c94a-4ec0-835e-0c2e6362261c",
   "metadata": {},
   "source": [
    "#export the accesions and names as .csv\n",
    "df = pd.DataFrame({'Name': names, 'Accession': accessions})\n",
    "df.to_csv('./data/mmusculus.csv', index = False)"
   ]
  },
  {
   "cell_type": "markdown",
   "id": "b58ca861-ebc3-46e5-afb9-582e5343a121",
   "metadata": {
    "jp-MarkdownHeadingCollapsed": true,
    "tags": []
   },
   "source": [
    "### Parse mirBase for structures"
   ]
  },
  {
   "cell_type": "raw",
   "id": "16da54c3-3569-464c-bbd5-e84cf0ff0fca",
   "metadata": {
    "jupyter": {
     "outputs_hidden": true
    },
    "tags": []
   },
   "source": [
    "#isolate accessions\n",
    "accessions = list(df['Accession'])\n",
    "#empty list to hold structures\n",
    "structures = []\n",
    "#create urls\n",
    "urls = url_generator_mirbase(accessions)\n",
    "\n",
    "for url in tqdm(urls):\n",
    "    page = requests.get(url, verify=False)\n",
    "    soup = BeautifulSoup(page.content, 'html.parser')\n",
    "    pre = soup.find_all(class_='hairpin frame')\n",
    "        \n",
    "    if pre == 0:\n",
    "        structures.append(None)\n",
    "    else:\n",
    "        t = re.search(r'<pre.*</pre>', str(pre[0]), re.S)\n",
    "        t = re.sub(r'<.*?>', '', t.group(), flags = re.S)\n",
    "            \n",
    "    structures.append(t)"
   ]
  },
  {
   "cell_type": "raw",
   "id": "6f0fd026-1439-4e3a-b196-67c2a6c556c5",
   "metadata": {},
   "source": [
    "df['Structures'] = structures\n",
    "df.to_csv('./data/mmusculus.csv', index = False)"
   ]
  },
  {
   "cell_type": "markdown",
   "id": "1de495e6-a9b9-4ab0-a042-2b5c13c06502",
   "metadata": {},
   "source": [
    "## Set up fastas for RNACofold"
   ]
  },
  {
   "cell_type": "markdown",
   "id": "cdba8c6c-29b4-45ed-968c-ddfc7ea2b1fe",
   "metadata": {},
   "source": [
    "### Load and format data"
   ]
  },
  {
   "cell_type": "code",
   "execution_count": 5,
   "id": "7f9f1a2a-2716-44e7-ba91-31aafd64e21b",
   "metadata": {
    "tags": []
   },
   "outputs": [
    {
     "data": {
      "text/html": [
       "<div>\n",
       "<style scoped>\n",
       "    .dataframe tbody tr th:only-of-type {\n",
       "        vertical-align: middle;\n",
       "    }\n",
       "\n",
       "    .dataframe tbody tr th {\n",
       "        vertical-align: top;\n",
       "    }\n",
       "\n",
       "    .dataframe thead th {\n",
       "        text-align: right;\n",
       "    }\n",
       "</style>\n",
       "<table border=\"1\" class=\"dataframe\">\n",
       "  <thead>\n",
       "    <tr style=\"text-align: right;\">\n",
       "      <th>3</th>\n",
       "      <th>Systematic Name</th>\n",
       "      <th>Expression level (WT5mo)</th>\n",
       "      <th>Expression level (YAC5mo)</th>\n",
       "      <th>Expression level (WT12mo)</th>\n",
       "      <th>Expression level (YAC12mo)</th>\n",
       "      <th>Fold change (YAC5mo/WT5mo)</th>\n",
       "      <th>Change (YAC5mo/WT5mo)</th>\n",
       "      <th>Fold change (YAC12mo/WT12mo)</th>\n",
       "      <th>Change (YAC12mo/WT12mo)</th>\n",
       "    </tr>\n",
       "  </thead>\n",
       "  <tbody>\n",
       "    <tr>\n",
       "      <th>4</th>\n",
       "      <td>mmu-let-7a</td>\n",
       "      <td>474.1</td>\n",
       "      <td>537.7</td>\n",
       "      <td>552.1</td>\n",
       "      <td>419.3</td>\n",
       "      <td>1.134149</td>\n",
       "      <td>NaN</td>\n",
       "      <td>0.759464</td>\n",
       "      <td>NaN</td>\n",
       "    </tr>\n",
       "    <tr>\n",
       "      <th>5</th>\n",
       "      <td>mmu-let-7b</td>\n",
       "      <td>1567</td>\n",
       "      <td>1705</td>\n",
       "      <td>1793</td>\n",
       "      <td>1418</td>\n",
       "      <td>1.088066</td>\n",
       "      <td>NaN</td>\n",
       "      <td>0.790853</td>\n",
       "      <td>NaN</td>\n",
       "    </tr>\n",
       "    <tr>\n",
       "      <th>6</th>\n",
       "      <td>mmu-let-7b*</td>\n",
       "      <td>17.385</td>\n",
       "      <td>14.54</td>\n",
       "      <td>15.725</td>\n",
       "      <td>15.55</td>\n",
       "      <td>0.836353</td>\n",
       "      <td>NaN</td>\n",
       "      <td>0.988871</td>\n",
       "      <td>NaN</td>\n",
       "    </tr>\n",
       "    <tr>\n",
       "      <th>7</th>\n",
       "      <td>mmu-let-7c</td>\n",
       "      <td>1289.5</td>\n",
       "      <td>1446</td>\n",
       "      <td>1380</td>\n",
       "      <td>1129.6</td>\n",
       "      <td>1.121365</td>\n",
       "      <td>NaN</td>\n",
       "      <td>0.818551</td>\n",
       "      <td>NaN</td>\n",
       "    </tr>\n",
       "    <tr>\n",
       "      <th>8</th>\n",
       "      <td>mmu-let-7d</td>\n",
       "      <td>450.95</td>\n",
       "      <td>554.7</td>\n",
       "      <td>563.25</td>\n",
       "      <td>399.25</td>\n",
       "      <td>1.23007</td>\n",
       "      <td>NaN</td>\n",
       "      <td>0.708833</td>\n",
       "      <td>NaN</td>\n",
       "    </tr>\n",
       "  </tbody>\n",
       "</table>\n",
       "</div>"
      ],
      "text/plain": [
       "3 Systematic Name Expression level (WT5mo) Expression level (YAC5mo)  \\\n",
       "4      mmu-let-7a                    474.1                     537.7   \n",
       "5      mmu-let-7b                     1567                      1705   \n",
       "6     mmu-let-7b*                   17.385                     14.54   \n",
       "7      mmu-let-7c                   1289.5                      1446   \n",
       "8      mmu-let-7d                   450.95                     554.7   \n",
       "\n",
       "3 Expression level (WT12mo) Expression level (YAC12mo)  \\\n",
       "4                     552.1                      419.3   \n",
       "5                      1793                       1418   \n",
       "6                    15.725                      15.55   \n",
       "7                      1380                     1129.6   \n",
       "8                    563.25                     399.25   \n",
       "\n",
       "3 Fold change (YAC5mo/WT5mo) Change (YAC5mo/WT5mo)  \\\n",
       "4                   1.134149                   NaN   \n",
       "5                   1.088066                   NaN   \n",
       "6                   0.836353                   NaN   \n",
       "7                   1.121365                   NaN   \n",
       "8                    1.23007                   NaN   \n",
       "\n",
       "3 Fold change (YAC12mo/WT12mo) Change (YAC12mo/WT12mo)  \n",
       "4                     0.759464                     NaN  \n",
       "5                     0.790853                     NaN  \n",
       "6                     0.988871                     NaN  \n",
       "7                     0.818551                     NaN  \n",
       "8                     0.708833                     NaN  "
      ]
     },
     "execution_count": 5,
     "metadata": {},
     "output_type": "execute_result"
    }
   ],
   "source": [
    "#re-load dataframe with structures (only if re-starting notebook)\n",
    "df = pd.read_csv(r'./data/mmusculus.csv', header = [0])\n",
    "\n",
    "#load mouse data\n",
    "yac128 = pd.read_excel('./data/yac128-expr-mmc1.xls')\n",
    "#format mouse data\n",
    "yac128.columns = yac128.iloc[3]\n",
    "yac128.drop([0,1,2,3], inplace = True)\n",
    "yac128.head()"
   ]
  },
  {
   "cell_type": "code",
   "execution_count": 6,
   "id": "d8c1a1ed-ba98-4842-b26d-4caf80b0ff3e",
   "metadata": {},
   "outputs": [
    {
     "data": {
      "text/plain": [
       "3\n",
       "Systematic Name                 object\n",
       "Expression level (WT5mo)        object\n",
       "Expression level (YAC5mo)       object\n",
       "Expression level (WT12mo)       object\n",
       "Expression level (YAC12mo)      object\n",
       "Fold change (YAC5mo/WT5mo)      object\n",
       "Change (YAC5mo/WT5mo)           object\n",
       "Fold change (YAC12mo/WT12mo)    object\n",
       "Change (YAC12mo/WT12mo)         object\n",
       "dtype: object"
      ]
     },
     "execution_count": 6,
     "metadata": {},
     "output_type": "execute_result"
    }
   ],
   "source": [
    "#check and update dtypes\n",
    "yac128.dtypes"
   ]
  },
  {
   "cell_type": "code",
   "execution_count": 7,
   "id": "afc88f79-1bff-4f6b-a18b-c82199e74ba6",
   "metadata": {},
   "outputs": [
    {
     "data": {
      "text/plain": [
       "3\n",
       "Systematic Name                  object\n",
       "Expression level (WT5mo)        float64\n",
       "Expression level (YAC5mo)       float64\n",
       "Expression level (WT12mo)       float64\n",
       "Expression level (YAC12mo)      float64\n",
       "Fold change (YAC5mo/WT5mo)      float64\n",
       "Change (YAC5mo/WT5mo)            object\n",
       "Fold change (YAC12mo/WT12mo)    float64\n",
       "Change (YAC12mo/WT12mo)          object\n",
       "dtype: object"
      ]
     },
     "execution_count": 7,
     "metadata": {},
     "output_type": "execute_result"
    }
   ],
   "source": [
    "cols_to_change = list(yac128.columns[1:6])\n",
    "cols_to_change.append(yac128.columns[7])\n",
    "yac128[cols_to_change] = yac128[cols_to_change].apply(pd.to_numeric)\n",
    "yac128.dtypes"
   ]
  },
  {
   "cell_type": "code",
   "execution_count": 8,
   "id": "0ab6f143-6a17-44f0-9b45-d5b182a3ad79",
   "metadata": {},
   "outputs": [],
   "source": [
    "#drop na in fold change column\n",
    "yac128.dropna(subset=['Fold change (YAC12mo/WT12mo)'], inplace = True)"
   ]
  },
  {
   "cell_type": "code",
   "execution_count": 9,
   "id": "1bd759f4-9fbe-46a7-8826-e36dce2c2853",
   "metadata": {},
   "outputs": [],
   "source": [
    "#subset up, down-regulated miRNAs as determined in the paper\n",
    "up_12mo = yac128['Systematic Name'].loc[yac128['Fold change (YAC12mo/WT12mo)'] > 1.5]\n",
    "down_12mo = yac128['Systematic Name'].loc[yac128['Fold change (YAC12mo/WT12mo)'] < 0.67]\n",
    "up = [i.lower() for i in up_12mo]\n",
    "down = [i.lower() for i in down_12mo]"
   ]
  },
  {
   "cell_type": "markdown",
   "id": "98192efd-7cd8-4fdb-891e-eca94561e452",
   "metadata": {},
   "source": [
    "## Prepare fastas for RNACofold"
   ]
  },
  {
   "cell_type": "code",
   "execution_count": 10,
   "id": "774072b8-26b7-4b2b-a0de-4cdfcd0fde80",
   "metadata": {
    "tags": []
   },
   "outputs": [
    {
     "name": "stderr",
     "output_type": "stream",
     "text": [
      "100%|██████████| 1234/1234 [00:00<00:00, 25116.08it/s]\n"
     ]
    }
   ],
   "source": [
    "#create string in fasta format\n",
    "fasta = ''\n",
    "for i in tqdm(range(len(df['Name']))):\n",
    "    mir = mr.MicroRNA(df['Structures'][i], df['Name'][i])\n",
    "    fasta += mir.create_fasta_matures() + '\\n'"
   ]
  },
  {
   "cell_type": "code",
   "execution_count": 11,
   "id": "5ae8443d-8085-404e-ac22-e98a6b11eb78",
   "metadata": {},
   "outputs": [],
   "source": [
    "#write fasta\n",
    "with open('mm-struct-mature_cofold.fa', 'w') as f:\n",
    "    f.write(fasta)"
   ]
  },
  {
   "cell_type": "markdown",
   "id": "f7ddbe9e-4268-41b6-a694-c017bc27d009",
   "metadata": {},
   "source": [
    "### Pass fasta to RNACofold and extract BPP\n",
    "\n",
    "At this point the fasta was passed to RNACofold in a terminal bash environment to align the mature 5' and 3' sequences. The output includes a post-script file that can be parsed for the base pair binding probabilities of individual bonds (BPP)"
   ]
  },
  {
   "cell_type": "code",
   "execution_count": 10,
   "id": "32b572c4-4a3c-439d-a576-e6ef5178456a",
   "metadata": {
    "collapsed": true,
    "jupyter": {
     "outputs_hidden": true
    },
    "tags": []
   },
   "outputs": [
    {
     "name": "stderr",
     "output_type": "stream",
     "text": [
      "  0%|          | 0/1234 [00:00<?, ?it/s]\n"
     ]
    },
    {
     "ename": "OSError",
     "evalue": "Cannot save file into a non-existent directory: 'mmu-struct-mature_csvs'",
     "output_type": "error",
     "traceback": [
      "\u001b[1;31m---------------------------------------------------------------------------\u001b[0m",
      "\u001b[1;31mOSError\u001b[0m                                   Traceback (most recent call last)",
      "\u001b[1;32m~\\AppData\\Local\\Temp/ipykernel_22260/4149905124.py\u001b[0m in \u001b[0;36m<module>\u001b[1;34m\u001b[0m\n\u001b[0;32m      7\u001b[0m     \u001b[0mname\u001b[0m \u001b[1;33m=\u001b[0m \u001b[1;34m'./mmu-struct-mature_csvs/'\u001b[0m \u001b[1;33m+\u001b[0m \u001b[0mdf\u001b[0m\u001b[1;33m[\u001b[0m\u001b[1;34m'Name'\u001b[0m\u001b[1;33m]\u001b[0m\u001b[1;33m[\u001b[0m\u001b[0mi\u001b[0m\u001b[1;33m]\u001b[0m \u001b[1;33m+\u001b[0m \u001b[1;34m'.csv'\u001b[0m\u001b[1;33m\u001b[0m\u001b[1;33m\u001b[0m\u001b[0m\n\u001b[0;32m      8\u001b[0m \u001b[1;33m\u001b[0m\u001b[0m\n\u001b[1;32m----> 9\u001b[1;33m     \u001b[0mmr\u001b[0m\u001b[1;33m.\u001b[0m\u001b[0mparse_postscript\u001b[0m\u001b[1;33m(\u001b[0m\u001b[0mps\u001b[0m\u001b[1;33m,\u001b[0m \u001b[0mname\u001b[0m\u001b[1;33m)\u001b[0m\u001b[1;33m\u001b[0m\u001b[1;33m\u001b[0m\u001b[0m\n\u001b[0m",
      "\u001b[1;32m~\\OneDrive - University of Bristol\\Year 4\\mirna_dicer_paper\\Code\\bioinformatics\\mirna.py\u001b[0m in \u001b[0;36mparse_postscript\u001b[1;34m(ps, name)\u001b[0m\n\u001b[0;32m    320\u001b[0m \u001b[1;33m\u001b[0m\u001b[0m\n\u001b[0;32m    321\u001b[0m     \u001b[0mdf\u001b[0m \u001b[1;33m=\u001b[0m \u001b[0mpd\u001b[0m\u001b[1;33m.\u001b[0m\u001b[0mDataFrame\u001b[0m\u001b[1;33m(\u001b[0m\u001b[0mout\u001b[0m\u001b[1;33m)\u001b[0m\u001b[1;33m\u001b[0m\u001b[1;33m\u001b[0m\u001b[0m\n\u001b[1;32m--> 322\u001b[1;33m     \u001b[0mdf\u001b[0m\u001b[1;33m.\u001b[0m\u001b[0mto_csv\u001b[0m\u001b[1;33m(\u001b[0m\u001b[0mname\u001b[0m\u001b[1;33m,\u001b[0m \u001b[0mindex\u001b[0m \u001b[1;33m=\u001b[0m \u001b[1;32mFalse\u001b[0m\u001b[1;33m)\u001b[0m\u001b[1;33m\u001b[0m\u001b[1;33m\u001b[0m\u001b[0m\n\u001b[0m\u001b[0;32m    323\u001b[0m \u001b[1;33m\u001b[0m\u001b[0m\n\u001b[0;32m    324\u001b[0m \u001b[1;32mdef\u001b[0m \u001b[0mcalc_stats\u001b[0m\u001b[1;33m(\u001b[0m\u001b[0mdata_dict\u001b[0m\u001b[1;33m,\u001b[0m \u001b[0msubset\u001b[0m \u001b[1;33m=\u001b[0m \u001b[1;32mNone\u001b[0m\u001b[1;33m)\u001b[0m\u001b[1;33m:\u001b[0m\u001b[1;33m\u001b[0m\u001b[1;33m\u001b[0m\u001b[0m\n",
      "\u001b[1;32m~\\Anaconda3\\lib\\site-packages\\pandas\\core\\generic.py\u001b[0m in \u001b[0;36mto_csv\u001b[1;34m(self, path_or_buf, sep, na_rep, float_format, columns, header, index, index_label, mode, encoding, compression, quoting, quotechar, line_terminator, chunksize, date_format, doublequote, escapechar, decimal, errors, storage_options)\u001b[0m\n\u001b[0;32m   3549\u001b[0m         )\n\u001b[0;32m   3550\u001b[0m \u001b[1;33m\u001b[0m\u001b[0m\n\u001b[1;32m-> 3551\u001b[1;33m         return DataFrameRenderer(formatter).to_csv(\n\u001b[0m\u001b[0;32m   3552\u001b[0m             \u001b[0mpath_or_buf\u001b[0m\u001b[1;33m,\u001b[0m\u001b[1;33m\u001b[0m\u001b[1;33m\u001b[0m\u001b[0m\n\u001b[0;32m   3553\u001b[0m             \u001b[0mline_terminator\u001b[0m\u001b[1;33m=\u001b[0m\u001b[0mline_terminator\u001b[0m\u001b[1;33m,\u001b[0m\u001b[1;33m\u001b[0m\u001b[1;33m\u001b[0m\u001b[0m\n",
      "\u001b[1;32m~\\Anaconda3\\lib\\site-packages\\pandas\\io\\formats\\format.py\u001b[0m in \u001b[0;36mto_csv\u001b[1;34m(self, path_or_buf, encoding, sep, columns, index_label, mode, compression, quoting, quotechar, line_terminator, chunksize, date_format, doublequote, escapechar, errors, storage_options)\u001b[0m\n\u001b[0;32m   1178\u001b[0m             \u001b[0mformatter\u001b[0m\u001b[1;33m=\u001b[0m\u001b[0mself\u001b[0m\u001b[1;33m.\u001b[0m\u001b[0mfmt\u001b[0m\u001b[1;33m,\u001b[0m\u001b[1;33m\u001b[0m\u001b[1;33m\u001b[0m\u001b[0m\n\u001b[0;32m   1179\u001b[0m         )\n\u001b[1;32m-> 1180\u001b[1;33m         \u001b[0mcsv_formatter\u001b[0m\u001b[1;33m.\u001b[0m\u001b[0msave\u001b[0m\u001b[1;33m(\u001b[0m\u001b[1;33m)\u001b[0m\u001b[1;33m\u001b[0m\u001b[1;33m\u001b[0m\u001b[0m\n\u001b[0m\u001b[0;32m   1181\u001b[0m \u001b[1;33m\u001b[0m\u001b[0m\n\u001b[0;32m   1182\u001b[0m         \u001b[1;32mif\u001b[0m \u001b[0mcreated_buffer\u001b[0m\u001b[1;33m:\u001b[0m\u001b[1;33m\u001b[0m\u001b[1;33m\u001b[0m\u001b[0m\n",
      "\u001b[1;32m~\\Anaconda3\\lib\\site-packages\\pandas\\io\\formats\\csvs.py\u001b[0m in \u001b[0;36msave\u001b[1;34m(self)\u001b[0m\n\u001b[0;32m    239\u001b[0m         \"\"\"\n\u001b[0;32m    240\u001b[0m         \u001b[1;31m# apply compression and byte/text conversion\u001b[0m\u001b[1;33m\u001b[0m\u001b[1;33m\u001b[0m\u001b[0m\n\u001b[1;32m--> 241\u001b[1;33m         with get_handle(\n\u001b[0m\u001b[0;32m    242\u001b[0m             \u001b[0mself\u001b[0m\u001b[1;33m.\u001b[0m\u001b[0mfilepath_or_buffer\u001b[0m\u001b[1;33m,\u001b[0m\u001b[1;33m\u001b[0m\u001b[1;33m\u001b[0m\u001b[0m\n\u001b[0;32m    243\u001b[0m             \u001b[0mself\u001b[0m\u001b[1;33m.\u001b[0m\u001b[0mmode\u001b[0m\u001b[1;33m,\u001b[0m\u001b[1;33m\u001b[0m\u001b[1;33m\u001b[0m\u001b[0m\n",
      "\u001b[1;32m~\\Anaconda3\\lib\\site-packages\\pandas\\io\\common.py\u001b[0m in \u001b[0;36mget_handle\u001b[1;34m(path_or_buf, mode, encoding, compression, memory_map, is_text, errors, storage_options)\u001b[0m\n\u001b[0;32m    692\u001b[0m     \u001b[1;31m# Only for write methods\u001b[0m\u001b[1;33m\u001b[0m\u001b[1;33m\u001b[0m\u001b[0m\n\u001b[0;32m    693\u001b[0m     \u001b[1;32mif\u001b[0m \u001b[1;34m\"r\"\u001b[0m \u001b[1;32mnot\u001b[0m \u001b[1;32min\u001b[0m \u001b[0mmode\u001b[0m \u001b[1;32mand\u001b[0m \u001b[0mis_path\u001b[0m\u001b[1;33m:\u001b[0m\u001b[1;33m\u001b[0m\u001b[1;33m\u001b[0m\u001b[0m\n\u001b[1;32m--> 694\u001b[1;33m         \u001b[0mcheck_parent_directory\u001b[0m\u001b[1;33m(\u001b[0m\u001b[0mstr\u001b[0m\u001b[1;33m(\u001b[0m\u001b[0mhandle\u001b[0m\u001b[1;33m)\u001b[0m\u001b[1;33m)\u001b[0m\u001b[1;33m\u001b[0m\u001b[1;33m\u001b[0m\u001b[0m\n\u001b[0m\u001b[0;32m    695\u001b[0m \u001b[1;33m\u001b[0m\u001b[0m\n\u001b[0;32m    696\u001b[0m     \u001b[1;32mif\u001b[0m \u001b[0mcompression\u001b[0m\u001b[1;33m:\u001b[0m\u001b[1;33m\u001b[0m\u001b[1;33m\u001b[0m\u001b[0m\n",
      "\u001b[1;32m~\\Anaconda3\\lib\\site-packages\\pandas\\io\\common.py\u001b[0m in \u001b[0;36mcheck_parent_directory\u001b[1;34m(path)\u001b[0m\n\u001b[0;32m    566\u001b[0m     \u001b[0mparent\u001b[0m \u001b[1;33m=\u001b[0m \u001b[0mPath\u001b[0m\u001b[1;33m(\u001b[0m\u001b[0mpath\u001b[0m\u001b[1;33m)\u001b[0m\u001b[1;33m.\u001b[0m\u001b[0mparent\u001b[0m\u001b[1;33m\u001b[0m\u001b[1;33m\u001b[0m\u001b[0m\n\u001b[0;32m    567\u001b[0m     \u001b[1;32mif\u001b[0m \u001b[1;32mnot\u001b[0m \u001b[0mparent\u001b[0m\u001b[1;33m.\u001b[0m\u001b[0mis_dir\u001b[0m\u001b[1;33m(\u001b[0m\u001b[1;33m)\u001b[0m\u001b[1;33m:\u001b[0m\u001b[1;33m\u001b[0m\u001b[1;33m\u001b[0m\u001b[0m\n\u001b[1;32m--> 568\u001b[1;33m         \u001b[1;32mraise\u001b[0m \u001b[0mOSError\u001b[0m\u001b[1;33m(\u001b[0m\u001b[1;34mrf\"Cannot save file into a non-existent directory: '{parent}'\"\u001b[0m\u001b[1;33m)\u001b[0m\u001b[1;33m\u001b[0m\u001b[1;33m\u001b[0m\u001b[0m\n\u001b[0m\u001b[0;32m    569\u001b[0m \u001b[1;33m\u001b[0m\u001b[0m\n\u001b[0;32m    570\u001b[0m \u001b[1;33m\u001b[0m\u001b[0m\n",
      "\u001b[1;31mOSError\u001b[0m: Cannot save file into a non-existent directory: 'mmu-struct-mature_csvs'"
     ]
    }
   ],
   "source": [
    "#open and parse all ps files, output as csv files for BPP\n",
    "for i in tqdm(range(len(df['Name']))):\n",
    "    fold = open(r'./mm-struct-mature.fold/' + df['Name'][i] + '_dp.ps')\n",
    "    ps = fold.read()\n",
    "    fold.close()\n",
    "    \n",
    "    name = './mmu-struct-mature_csvs/' + df['Name'][i] + '.csv'\n",
    "    \n",
    "    mr.parse_postscript(ps, name)"
   ]
  },
  {
   "cell_type": "code",
   "execution_count": 11,
   "id": "114a8bfe-85f2-4bd5-a925-799231201b2e",
   "metadata": {
    "tags": []
   },
   "outputs": [
    {
     "name": "stderr",
     "output_type": "stream",
     "text": [
      "100%|██████████| 1234/1234 [00:34<00:00, 35.65it/s]\n"
     ]
    }
   ],
   "source": [
    "#Extract BPP of true base pair binding probailites\n",
    "##if in doubt use mean BPP for ith nucleotide on 5' side\n",
    "data = {}\n",
    "for i in tqdm(range(len(df['Name']))):\n",
    "    data[df['Name'][i]] = {}\n",
    "        \n",
    "    mirna = mr.MicroRNA(df['Structures'][i],\n",
    "                        df['Name'][i])\n",
    "    \n",
    "    df_temp = pd.read_csv('./mmu-struct-mature.csvs/' + df['Name'][i] + '.csv', \n",
    "                          header = [0])\n",
    "    \n",
    "    x, y = mirna.extract_true_bpp(df = df_temp, mature = True, extract = 'mean')\n",
    "    \n",
    "    data[df['Name'][i]]['x'] = x\n",
    "    data[df['Name'][i]]['y'] = y**2"
   ]
  },
  {
   "cell_type": "markdown",
   "id": "cca304d1-9c30-4161-8ce1-f7691fb5f63e",
   "metadata": {},
   "source": [
    "## Plotting"
   ]
  },
  {
   "cell_type": "code",
   "execution_count": 12,
   "id": "84363759-67a5-4a39-b31b-408ad21f512d",
   "metadata": {
    "tags": []
   },
   "outputs": [
    {
     "name": "stderr",
     "output_type": "stream",
     "text": [
      "C:\\Users\\op20001\\Anaconda3\\lib\\site-packages\\numpy\\core\\_methods.py:206: RuntimeWarning: Degrees of freedom <= 0 for slice\n",
      "  ret = _var(a, axis=axis, dtype=dtype, out=out, ddof=ddof,\n",
      "C:\\Users\\op20001\\Anaconda3\\lib\\site-packages\\numpy\\core\\_methods.py:198: RuntimeWarning: invalid value encountered in scalar divide\n",
      "  ret = ret.dtype.type(ret / rcount)\n"
     ]
    }
   ],
   "source": [
    "#calculate meas, sems\n",
    "all_means, all_sems, all_keys = mr.calc_stats(data)\n",
    "#calculate auc using Simpson's rule\n",
    "auc_all = mr.calc_auc(data)\n",
    "names = list(data.keys())"
   ]
  },
  {
   "cell_type": "code",
   "execution_count": 13,
   "id": "c3664cd0-bd18-4c5c-935d-64032e787caa",
   "metadata": {},
   "outputs": [
    {
     "data": {
      "image/png": "[encoded data removed]",
      "text/plain": [
       "<Figure size 432x288 with 1 Axes>"
      ]
     },
     "metadata": {
      "needs_background": "light"
     },
     "output_type": "display_data"
    }
   ],
   "source": [
    "#plot mean, example BPPS\n",
    "fig, ax = plt.subplots()\n",
    "\n",
    "#plot example of BPP\n",
    "high_mirna = 'mmu-let-7g'\n",
    "low_mirna = 'mmu-mir-511'\n",
    "ax.plot(data[high_mirna]['x'],\n",
    "        data[high_mirna]['y'],\n",
    "        color = 'red', alpha = 1,\n",
    "       linestyle = ':')\n",
    "\n",
    "ax.plot(data[low_mirna]['x'],\n",
    "        data[low_mirna]['y'],\n",
    "        color = 'blue', alpha = 1,\n",
    "       linestyle = '--')\n",
    "\n",
    "\n",
    "ax.set_ylabel('Base pair binding probabilities')\n",
    "ax.fill_between(all_keys, np.array(all_means)-np.array(all_sems),\n",
    "                np.array(all_means)+np.array(all_sems),\n",
    "                color = 'black', alpha = 0.3)\n",
    "ax.plot(all_keys, all_means,\n",
    "        color = 'black', alpha = 1)\n",
    "\n",
    "l1 = mlines.Line2D([],[], linestyle = '-', color = 'black', label = 'Mean BPP')\n",
    "l2 = mlines.Line2D([], [], linestyle = ':', color = 'red', label = high_mirna)\n",
    "l3 = mlines.Line2D([], [], linestyle = '--', color = 'blue', label = low_mirna)\n",
    "\n",
    "plt.legend(handles = [l1, l2, l3], loc = 1)\n",
    "\n",
    "ax.set_xlim(-25, 25)\n",
    "plt.savefig(r'./figures/BPP.svg', dpi = 600, bbox_inches = 'tight')\n",
    "plt.show()"
   ]
  },
  {
   "cell_type": "code",
   "execution_count": 14,
   "id": "c1366bfd-a463-402c-909f-49c409db56be",
   "metadata": {},
   "outputs": [
    {
     "data": {
      "text/plain": [
       "array([-22., -21., -20., -19., -18., -17., -16., -15., -14., -13., -12.,\n",
       "       -11., -10.,  -9.,  -8.,  -7.,  -6.,  -5.,  -4.,  -3.,  -2.,  -1.,\n",
       "         0.,   1.,   2.,   3.,   4.,   5.,   6.,   7.,   8.,   9.,  10.,\n",
       "        11.,  12.,  13.,  14.,  15.,  16.,  17.,  18.,  19.,  20.,  21.])"
      ]
     },
     "execution_count": 14,
     "metadata": {},
     "output_type": "execute_result"
    }
   ],
   "source": [
    "data[high_mirna]['x']"
   ]
  },
  {
   "cell_type": "code",
   "execution_count": 15,
   "id": "2d2e8eb9-b5ef-49ed-94c1-a045b2245443",
   "metadata": {},
   "outputs": [
    {
     "name": "stderr",
     "output_type": "stream",
     "text": [
      "100%|██████████| 25/25 [00:00<?, ?it/s]\n"
     ]
    }
   ],
   "source": [
    "#plot miRNA structure\n",
    "x_alls = []\n",
    "x_lows = []\n",
    "x_highs = []\n",
    "\n",
    "y_all = np.linspace(25, 1, 25)\n",
    "y_lows = np.linspace(18, 1, 18)\n",
    "y_highs = np.linspace(21, 1, 21)\n",
    "\n",
    "x_all_3p = []\n",
    "x_all_5p = []\n",
    "x_low_3p = []\n",
    "x_low_5p = []\n",
    "x_high_3p = []\n",
    "x_high_5p = []\n",
    "\n",
    "for i in tqdm(range(-25, 0, 1)):\n",
    "    p3 = i\n",
    "    p5 = i * -1\n",
    "    \n",
    "    all_ix3 = np.where(all_keys == p3)[0][0]\n",
    "    all_ix5 = np.where(all_keys == p5)[0][0]\n",
    "    \n",
    "    width_all = (all_means[all_ix3] + all_means[all_ix5])/2\n",
    "    \n",
    "    x_alls.append((-1.5 + width_all, 1.5 - width_all))\n",
    "    x_all_3p.append(-1.5 + width_all)\n",
    "    x_all_5p.append(1.5 - width_all)\n",
    "    \n",
    "    if p5 <= 21:\n",
    "        high_ix3 = np.where(data[high_mirna]['x'] == p3)[0][0]\n",
    "        high_ix5 = np.where(data[high_mirna]['x'] == p5)[0][0]\n",
    "        \n",
    "        width_high = (data[high_mirna]['y'][high_ix3] + data[high_mirna]['y'][high_ix5])/2\n",
    "            \n",
    "        x_highs.append((-1.5 + width_high, 1.5 - width_high))\n",
    "        x_high_3p.append(-1.5 + width_high)\n",
    "        x_high_5p.append(1.5 - width_high)\n",
    "            \n",
    "    if p5 <= 18:\n",
    "        low_ix3 = np.where(data[low_mirna]['x'] == p3)[0][0]\n",
    "        low_ix5 = np.where(data[low_mirna]['x'] == p5)[0][0]\n",
    "        \n",
    "        width_low = (data[low_mirna]['y'][low_ix3] + data[low_mirna]['y'][low_ix5])/2\n",
    "        \n",
    "        x_lows.append((-1.5 + width_low, 1.5 -width_low))\n",
    "        x_low_3p.append(-1.5 + width_low)\n",
    "        x_low_5p.append(1.5 - width_low)\n"
   ]
  },
  {
   "cell_type": "code",
   "execution_count": 16,
   "id": "65276c83-cfcd-403b-8f42-95a26b2bd6ac",
   "metadata": {},
   "outputs": [
    {
     "data": {
      "image/png": "[encoded data removed]",
      "text/plain": [
       "<Figure size 144x1440 with 3 Axes>"
      ]
     },
     "metadata": {
      "needs_background": "light"
     },
     "output_type": "display_data"
    }
   ],
   "source": [
    "fig, ax = plt.subplots(3, sharey = True, sharex = True, figsize = (2, 20))\n",
    "\n",
    "for i in range(len(x_alls)):\n",
    "    ax[0].plot(x_alls[i],\n",
    "               [y_all[i], y_all[i]],\n",
    "               color = 'black',\n",
    "               linestyle = '--')\n",
    "    \n",
    "    if i < len(x_highs):\n",
    "        ax[1].plot(x_highs[i],\n",
    "                   [y_highs[i], y_highs[i]],\n",
    "                   color = 'red',\n",
    "                   linestyle = '--')\n",
    "        \n",
    "        if i < len(x_lows):\n",
    "            ax[2].plot(x_lows[i],\n",
    "                       [y_lows[i], y_lows[i]],\n",
    "                       color = 'blue',\n",
    "                       linestyle = '--')\n",
    "    \n",
    "ax[0].plot(x_all_3p,\n",
    "           y_all,\n",
    "           color = 'black',\n",
    "           linestyle = '-')\n",
    "ax[0].plot(x_all_5p,\n",
    "           y_all,\n",
    "           color = 'black',\n",
    "           linestyle = '-')\n",
    "ax[0].set_title('Mean miRNA')\n",
    "ax[1].plot(x_high_3p,\n",
    "           y_highs,\n",
    "           color = 'black',\n",
    "           linestyle = '-')\n",
    "ax[1].plot(x_high_5p,\n",
    "           y_highs,\n",
    "           color = 'black',\n",
    "           linestyle = '-')\n",
    "ax[1].set_title(high_mirna)\n",
    "ax[2].plot(x_low_3p,\n",
    "           y_lows,\n",
    "           color = 'black',\n",
    "           linestyle = '-')\n",
    "ax[2].plot(x_low_5p,\n",
    "           y_lows,\n",
    "           color = 'black',\n",
    "           linestyle = '-')\n",
    "ax[2].set_title(low_mirna)\n",
    "\n",
    "plt.savefig(r'./figures/example_structures.svg', dpi = 600, bbox_inches = 'tight')\n",
    "\n",
    "plt.show()"
   ]
  },
  {
   "cell_type": "markdown",
   "id": "761df22a-cab3-479a-a5ad-a8a9fecdcbb0",
   "metadata": {},
   "source": [
    "### Stats and plotting AUC"
   ]
  },
  {
   "cell_type": "code",
   "execution_count": 17,
   "id": "9850dae3-249f-4614-b445-f719ab15b3ed",
   "metadata": {},
   "outputs": [],
   "source": [
    "#extract aucs, fcs etc.\n",
    "auc_x = []\n",
    "fcs = []\n",
    "exp_wt = []\n",
    "exp_yac128 = []\n",
    "low_bpp = {'auc': 0, 'fcs': 0, 'exp_wt': 0, 'exp_yac128': 0}\n",
    "high_bpp = {'auc': 0, 'fcs': 0, 'exp_wt': 0, 'exp_yac128': 0}\n",
    "there = []\n",
    "for name in yac128['Systematic Name']:\n",
    "    if name.lower() in auc_all:\n",
    "        there.append(name.lower())\n",
    "        auc_x.append(auc_all[name.lower()])\n",
    "        exp_yac128.append(float(yac128['Expression level (YAC12mo)'].loc[yac128['Systematic Name'] == name]))\n",
    "        exp_wt.append(float(yac128['Expression level (WT12mo)'].loc[yac128['Systematic Name'] == name]))\n",
    "        fcs.append(float(yac128['Fold change (YAC12mo/WT12mo)'].loc[yac128['Systematic Name'] == name]))\n",
    "        \n",
    "        if name.lower() == low_mirna:\n",
    "            low_bpp['auc'] = auc_all[name.lower()]\n",
    "            low_bpp['exp_yac128'] = float(yac128['Expression level (YAC12mo)'].loc[yac128['Systematic Name'] == name])\n",
    "            low_bpp['exp_wt'] = float(yac128['Expression level (WT12mo)'].loc[yac128['Systematic Name'] == name])\n",
    "            low_bpp['fcs'] = float(yac128['Fold change (YAC12mo/WT12mo)'].loc[yac128['Systematic Name'] == name])\n",
    "            \n",
    "        if name.lower() == high_mirna:\n",
    "            high_bpp['auc'] = auc_all[name.lower()]\n",
    "            high_bpp['exp_yac128'] = float(yac128['Expression level (YAC12mo)'].loc[yac128['Systematic Name'] == name])\n",
    "            high_bpp['exp_wt'] = float(yac128['Expression level (WT12mo)'].loc[yac128['Systematic Name'] == name])\n",
    "            high_bpp['fcs'] = float(yac128['Fold change (YAC12mo/WT12mo)'].loc[yac128['Systematic Name'] == name])"
   ]
  },
  {
   "cell_type": "code",
   "execution_count": 18,
   "id": "cafd6618-cc5b-4356-bd69-c97f90a9fbfa",
   "metadata": {},
   "outputs": [],
   "source": [
    "#remove big outliers in fcs\n",
    "outliers = [i for i in fcs if i > 2]"
   ]
  },
  {
   "cell_type": "code",
   "execution_count": 19,
   "id": "77547f60-3a2f-4e37-8f30-9368d7067c3e",
   "metadata": {},
   "outputs": [
    {
     "name": "stdout",
     "output_type": "stream",
     "text": [
      "mmu-mir-351\n",
      "mmu-mir-677\n",
      "mmu-mir-763\n"
     ]
    }
   ],
   "source": [
    "#Least squares linear regression\n",
    "auc_x = np.array(auc_x)\n",
    "exp_wt = np.array(exp_wt)\n",
    "exp_yac128 = np.array(exp_yac128)\n",
    "fcs = np.array(fcs)\n",
    "\n",
    "fcs_filtered = []\n",
    "auc_x_filtered = []\n",
    "for i in range(len(fcs)):\n",
    "    if fcs[i] < 2:\n",
    "        fcs_filtered.append(fcs[i])\n",
    "        auc_x_filtered.append(auc_x[i])\n",
    "    if fcs[i] > 2:\n",
    "        print(there[i])\n",
    "\n",
    "\n",
    "auc_sorted = np.sort(auc_x)\n",
    "\n",
    "res_wt = st.linregress(auc_x, np.log10(exp_wt))\n",
    "res_yac128 = st.linregress(auc_x, np.log10(exp_yac128))\n",
    "res_fc = st.linregress(auc_x_filtered, fcs_filtered)\n",
    "\n",
    "lgr_wt = res_wt.intercept + res_wt.slope * auc_sorted\n",
    "lgr_yac128 = res_yac128.intercept + res_yac128.slope * auc_sorted\n",
    "lgr_fc = res_fc.intercept + res_fc.slope * np.sort(np.array(auc_x_filtered))"
   ]
  },
  {
   "cell_type": "code",
   "execution_count": 20,
   "id": "d5de5e88-2cb2-49da-8a24-336d8dad5771",
   "metadata": {},
   "outputs": [
    {
     "name": "stdout",
     "output_type": "stream",
     "text": [
      "t = -0.6450036526152623\n",
      "df = 84\n"
     ]
    }
   ],
   "source": [
    "t = (res_wt.slope - res_yac128.slope)/np.sqrt((res_wt.stderr**2 + res_yac128.stderr**2))\n",
    "print(f't = {t}\\ndf = {len(exp_wt)-1}')"
   ]
  },
  {
   "cell_type": "code",
   "execution_count": 21,
   "id": "df96172f-689c-404f-97e9-d6912f4c1f4a",
   "metadata": {},
   "outputs": [
    {
     "name": "stdout",
     "output_type": "stream",
     "text": [
      "wt slope: 1.4942783753259488\n",
      "yac128 slope: 1.8944811533730084\n",
      "wt sem: 0.44941869147894203\n",
      "yac128 sem: 0.427785909990392\n"
     ]
    }
   ],
   "source": [
    "print(f'wt slope: {res_wt.slope}')\n",
    "print(f'yac128 slope: {res_yac128.slope}')\n",
    "print(f'wt sem: {res_wt.stderr}')\n",
    "print(f'yac128 sem: {res_yac128.stderr}')"
   ]
  },
  {
   "cell_type": "code",
   "execution_count": 183,
   "id": "c350a67f-39bf-46fa-b12d-6d1407d646c3",
   "metadata": {},
   "outputs": [
    {
     "data": {
      "image/png": "[encoded data removed]",
      "text/plain": [
       "<Figure size 432x864 with 3 Axes>"
      ]
     },
     "metadata": {
      "needs_background": "light"
     },
     "output_type": "display_data"
    }
   ],
   "source": [
    "#plot auc against FC, expression for all mirnas\n",
    "fig, ax = plt.subplots(3, sharex = True, figsize = (6,12))\n",
    "\n",
    "plt.rc('font', size = 14)\n",
    "ax[0].scatter(auc_x,\n",
    "              np.log10(exp_wt),\n",
    "              color = 'grey',\n",
    "             edgecolor = 'black')\n",
    "ax[0].plot(auc_sorted,\n",
    "          lgr_wt,#pfit_wt,\n",
    "          color = 'black')\n",
    "ax[0].set_ylabel('Expression level\\nWT 12mo, $log_{10}$ a.u.', size = 14)\n",
    "ax[0].fill_between(auc_sorted,\n",
    "                   (res_wt.intercept + res_wt.intercept_stderr) + (res_wt.slope + res_wt.stderr) * auc_sorted,\n",
    "                   (res_wt.intercept - res_wt.intercept_stderr) + (res_wt.slope - res_wt.stderr) * auc_sorted,\n",
    "                   color = 'black',\n",
    "                   alpha = 0.1)\n",
    "ax[0].plot(auc_sorted,\n",
    "           (res_wt.intercept + res_wt.intercept_stderr) + (res_wt.slope + res_wt.stderr) * auc_sorted,\n",
    "           color = 'black', linestyle = '--')\n",
    "ax[0].plot(auc_sorted,\n",
    "           (res_wt.intercept - res_wt.intercept_stderr) + (res_wt.slope - res_wt.stderr) * auc_sorted,\n",
    "           color = 'black', linestyle = '--')\n",
    "\n",
    "ax[0].scatter(high_bpp['auc'],\n",
    "              np.log10(high_bpp['exp_wt']),\n",
    "              marker = 'd',\n",
    "              color = 'red', \n",
    "              edgecolor = 'black')\n",
    "ax[0].scatter(low_bpp['auc'],\n",
    "              np.log10(low_bpp['exp_wt']),\n",
    "              marker = 's',\n",
    "              color = 'blue',\n",
    "              edgecolor = 'black')\n",
    "\n",
    "ax[0].text(.6, -2, f'r = {round(res_wt.rvalue, 5)}\\np = {round(res_wt.pvalue, 5)}')\n",
    "        \n",
    "ax[1].scatter(auc_x,\n",
    "              np.log10(exp_yac128),\n",
    "              color = 'grey',\n",
    "             edgecolor = 'black')\n",
    "ax[1].plot(auc_sorted,\n",
    "           lgr_yac128,#pfit_yac128,#\n",
    "           color = 'black')          \n",
    "ax[1].set_ylabel('Expression level\\nYAC128 12mo, $log_{10}$ a.u.', size = 14)\n",
    "ax[1].fill_between(auc_sorted,\n",
    "                   (res_yac128.intercept + res_yac128.intercept_stderr) + (res_yac128.slope + res_yac128.stderr) * auc_sorted,\n",
    "                   (res_yac128.intercept - res_yac128.intercept_stderr) + (res_yac128.slope - res_yac128.stderr) * auc_sorted,\n",
    "                   color = 'black',\n",
    "                   alpha = 0.1)\n",
    "ax[1].plot(auc_sorted,\n",
    "           (res_yac128.intercept + res_yac128.intercept_stderr) + (res_yac128.slope + res_yac128.stderr) * auc_sorted,\n",
    "           color = 'black', linestyle = '--')\n",
    "ax[1].plot(auc_sorted,\n",
    "           (res_yac128.intercept - res_yac128.intercept_stderr) + (res_yac128.slope - res_yac128.stderr) * auc_sorted,\n",
    "           color = 'black', linestyle = '--')\n",
    "\n",
    "ax[1].scatter(high_bpp['auc'],\n",
    "              np.log10(high_bpp['exp_yac128']),\n",
    "              marker = 'd',\n",
    "              color = 'red', \n",
    "              edgecolor = 'black')\n",
    "ax[1].scatter(low_bpp['auc'],\n",
    "              np.log10(low_bpp['exp_yac128']),\n",
    "              marker = 's',\n",
    "              color = 'blue',\n",
    "              edgecolor = 'black')\n",
    "ax[1].text(.6, -2, f'r = {round(res_yac128.rvalue, 5)}\\np = {round(res_yac128.pvalue, 5)}')\n",
    "\n",
    "        \n",
    "ax[2].scatter(auc_x,\n",
    "              fcs,\n",
    "              color = 'grey',\n",
    "             edgecolor = 'black')\n",
    "ax[2].plot(np.sort(np.array(auc_x_filtered)),\n",
    "           lgr_fc,#pfit_fc,#\n",
    "           color = 'black')\n",
    "ax[2].set_ylabel('Fold change 12mo, a.u.', size = 14)\n",
    "ax[2].set_xlabel('AUC, a.u.', size = 14)\n",
    "ax[2].set_ylim(0,2)\n",
    "ax[2].fill_between(np.sort(np.array(auc_x_filtered)),\n",
    "                   (res_fc.intercept + res_fc.intercept_stderr) + (res_fc.slope + res_fc.stderr) * np.sort(np.array(auc_x_filtered)),\n",
    "                   (res_fc.intercept - res_fc.intercept_stderr) + (res_fc.slope - res_fc.stderr) * np.sort(np.array(auc_x_filtered)),\n",
    "                   color = 'black',\n",
    "                   alpha = 0.1)\n",
    "ax[2].plot(np.sort(np.array(auc_x_filtered)),\n",
    "           (res_fc.intercept + res_fc.intercept_stderr) + (res_fc.slope + res_fc.stderr) * np.sort(np.array(auc_x_filtered)),\n",
    "           color = 'black', linestyle = '--')\n",
    "ax[2].plot(np.sort(np.array(auc_x_filtered)),\n",
    "           (res_fc.intercept - res_fc.intercept_stderr) + (res_fc.slope - res_fc.stderr) * np.sort(np.array(auc_x_filtered)),\n",
    "           color = 'black', linestyle = '--')\n",
    "ax[2].scatter(high_bpp['auc'],\n",
    "              high_bpp['fcs'],\n",
    "              marker = 'd',\n",
    "              color = 'red', \n",
    "              edgecolor = 'black')\n",
    "ax[2].scatter(low_bpp['auc'],\n",
    "              low_bpp['fcs'],\n",
    "              marker = 's',\n",
    "              color = 'blue',\n",
    "              edgecolor = 'black')\n",
    "ax[2].text(.6, 1.6, f'r = {round(res_fc.rvalue, 5)}\\np = {round(res_fc.pvalue, 5)}')\n",
    "ax[2].text(0, -1.5, f'Following outliers removed from\\nFC regression:\\n{round(outliers[0], 1)}\\n{round(outliers[1], 1)}\\n{round(outliers[2],1)}')\n",
    "    \n",
    "plt.tight_layout()\n",
    "\n",
    "plt.savefig(r'./figures/vs-auc_lim.svg', dpi = 600, bbox_inches = 'tight')\n",
    "plt.show()"
   ]
  },
  {
   "cell_type": "code",
   "execution_count": null,
   "id": "1f42dbdf-709c-4ed8-b47a-1419fe098c96",
   "metadata": {},
   "outputs": [],
   "source": []
  }
 ],
 "metadata": {
  "kernelspec": {
   "display_name": "Python 3 (ipykernel)",
   "language": "python",
   "name": "python3"
  },
  "language_info": {
   "codemirror_mode": {
    "name": "ipython",
    "version": 3
   },
   "file_extension": ".py",
   "mimetype": "text/x-python",
   "name": "python",
   "nbconvert_exporter": "python",
   "pygments_lexer": "ipython3",
   "version": "3.9.13"
  }
 },
 "nbformat": 4,
 "nbformat_minor": 5
}
