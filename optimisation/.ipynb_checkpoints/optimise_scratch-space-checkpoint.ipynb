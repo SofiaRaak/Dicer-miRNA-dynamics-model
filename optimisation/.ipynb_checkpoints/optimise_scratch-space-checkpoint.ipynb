{
 "cells": [
  {
   "cell_type": "code",
   "execution_count": 1,
   "id": "f9b9d6ae-bc77-44dc-b98b-a8fcadb07755",
   "metadata": {},
   "outputs": [],
   "source": [
    "import numpy as np\n",
    "import matplotlib.pyplot as plt\n",
    "from scipy.optimize import minimize\n",
    "from scipy.optimize import curve_fit\n",
    "from scipy.integrate import solve_ivp\n",
    "import cma\n",
    "import os\n",
    "import model\n",
    "import params\n",
    "import utils"
   ]
  },
  {
   "cell_type": "code",
   "execution_count": 25,
   "id": "1afd8904-e1c4-486f-bbe6-c99503e77fc7",
   "metadata": {},
   "outputs": [],
   "source": [
    "#timesteps\n",
    "dt = 0.0001\n",
    "minutes = 60\n",
    "\n",
    "Kd_wt = 25.4 #nM, experimental values\n",
    "Kd_short = 147.7 #nM, experimental values\n",
    "\n",
    "#K_d = k_off / k_on\n",
    "\n",
    "WT_init = 1 #nM, from experimental setup\n",
    "short_init = 1 #nM\n",
    "dicer_init = 5 #nM\n",
    "mirna = 0\n",
    "\n",
    "k1 = params.ka1\n",
    "k_1 = Kd_wt * k1\n",
    "k2 = params.ka_1\n",
    "k_2 = Kd_short * k2\n",
    "k3 = params.ka2\n",
    "\n",
    "theta = [k1, k2, k3]"
   ]
  },
  {
   "cell_type": "code",
   "execution_count": 26,
   "id": "e9e6d07e-a720-450a-ab91-8cd0252da07e",
   "metadata": {},
   "outputs": [],
   "source": [
    "#data fig 1\n",
    "time = np.array([0, 5, 10, 20, 40, 60])\n",
    "WT_y = np.array([0, 0.11144276160503169, 0.16566679779700877, 0.23905143587726366, 0.2954956726986665, 0.2946793863099961])\n",
    "short_y = np.array([0, 0.0033684107002276975, 0.007599822974028003, 0.010019177812737812, 0.009603658536577298, 0.01242378048779691])"
   ]
  },
  {
   "cell_type": "code",
   "execution_count": 27,
   "id": "921dcd8f-6016-4426-8927-4fcb78f7f491",
   "metadata": {},
   "outputs": [],
   "source": [
    "#find curve fit for experimental data for plotting purposes\n",
    "#NB! logarithmic trendline!\n",
    "WT_popt, WT_pcov = curve_fit(lambda t, a, b: a * np.log(t) + b,\n",
    "                            time[1:], WT_y[1:]) #exclude first point as == origin\n",
    "\n",
    "short_popt, short_pcov = curve_fit(lambda t, a, b: a * np.log(t) + b,\n",
    "                            time[1:], short_y[1:]) #exclude first point as == origin"
   ]
  },
  {
   "cell_type": "code",
   "execution_count": 28,
   "id": "beaab4fd-cd1c-4078-bbd9-afc82f9f7003",
   "metadata": {},
   "outputs": [
    {
     "data": {
      "text/plain": [
       "array([ 0.07927374, -0.01165457])"
      ]
     },
     "execution_count": 28,
     "metadata": {},
     "output_type": "execute_result"
    }
   ],
   "source": [
    "WT_popt"
   ]
  },
  {
   "cell_type": "code",
   "execution_count": 29,
   "id": "0c251dc9-7da4-48f1-9dd2-383752524bfd",
   "metadata": {},
   "outputs": [
    {
     "name": "stderr",
     "output_type": "stream",
     "text": [
      "C:\\Users\\op20001\\AppData\\Local\\Temp/ipykernel_19128/2447705808.py:8: RuntimeWarning: divide by zero encountered in log\n",
      "  WT_pred[i] = WT_popt[0] * np.log(x[i]) + WT_popt[1]\n",
      "C:\\Users\\op20001\\AppData\\Local\\Temp/ipykernel_19128/2447705808.py:9: RuntimeWarning: divide by zero encountered in log\n",
      "  short_pred[i] =  short_popt[0] * np.log(x[i]) + short_popt[1]\n"
     ]
    }
   ],
   "source": [
    "#create array with curve_fit data\n",
    "x = np.linspace(0,60,600)\n",
    "\n",
    "WT_pred = np.zeros(len(x))\n",
    "short_pred = np.zeros(len(x))\n",
    "\n",
    "for i in range(len(x)):\n",
    "    WT_pred[i] = WT_popt[0] * np.log(x[i]) + WT_popt[1]\n",
    "    short_pred[i] =  short_popt[0] * np.log(x[i]) + short_popt[1]"
   ]
  },
  {
   "cell_type": "code",
   "execution_count": 30,
   "id": "3b1bc0af-3d6a-43e1-8a41-140addfb72e4",
   "metadata": {},
   "outputs": [
    {
     "data": {
      "image/png": "[encoded data removed]",
      "text/plain": [
       "<Figure size 432x288 with 1 Axes>"
      ]
     },
     "metadata": {
      "needs_background": "light"
     },
     "output_type": "display_data"
    }
   ],
   "source": [
    "fig = plt.figure()\n",
    "\n",
    "ax = plt.subplot()\n",
    "\n",
    "ax.scatter(time, WT_y,\n",
    "          color = 'C0')\n",
    "ax.plot(x[12:], WT_pred[12:],\n",
    "       color = 'C0')\n",
    "\n",
    "ax.scatter(time, short_y,\n",
    "           color = 'C1',\n",
    "          marker = 'x')\n",
    "ax.plot(x, short_pred,\n",
    "       color = 'C1',\n",
    "       linestyle = '--')\n",
    "\n",
    "ax.set_xlabel('time, min')\n",
    "ax.set_ylabel('fraction diced')\n",
    "#ax.set_ylim(0.01,0.35)\n",
    "\n",
    "ax.legend(['WT', 'Short'])\n",
    "\n",
    "#plt.savefig(r'Figures/linear_fit.png', dpi = 600, bbox_inches = 'tight')\n",
    "\n",
    "plt.show()"
   ]
  },
  {
   "cell_type": "code",
   "execution_count": 31,
   "id": "3f6b3867-9d18-48ae-82f7-f03e64678a8c",
   "metadata": {},
   "outputs": [],
   "source": [
    "def curveError(model_values, time, ts):\n",
    "    \"\"\"\n",
    "    Error function for ODE model optimisation based on predicted values from \n",
    "    scipy.optimize.curve_fit\n",
    "    \"\"\"\n",
    "    \n",
    "    WT_pred = np.zeros(len(time))\n",
    "    for i in range(len(time)):\n",
    "        WT_pred[i] = WT_popt[0] * np.log(time[i]) + WT_popt[1]\n",
    "        \n",
    "    return utils.Error(WT_pred, model_values, time, ts)   \n",
    "    "
   ]
  },
  {
   "cell_type": "code",
   "execution_count": 32,
   "id": "9ffc62fa-3957-4b71-9be5-0a351d2add22",
   "metadata": {},
   "outputs": [],
   "source": [
    "def ErrorODE(theta):\n",
    "    \"\"\"\n",
    "    Error function for ODE model based on error function described in utils module\n",
    "    \"\"\"\n",
    "    WT_diced, short_diced, ts = model.frac_diced_ODE(theta)\n",
    "    \n",
    "    model_values =  np.array([WT_diced, short_diced])\n",
    "    \n",
    "    return utils.error_ODE(model_values = model_values, ts = ts)"
   ]
  },
  {
   "cell_type": "code",
   "execution_count": 33,
   "id": "c2c055e6-bc46-4d75-a6c6-3cb5492412be",
   "metadata": {},
   "outputs": [
    {
     "data": {
      "text/plain": [
       "[1.0285752, 26.125810079999997, 0.180311]"
      ]
     },
     "execution_count": 33,
     "metadata": {},
     "output_type": "execute_result"
    }
   ],
   "source": [
    "theta"
   ]
  },
  {
   "cell_type": "code",
   "execution_count": 128,
   "id": "2a67cb56-a2ca-4701-b8c1-e9acd7807e02",
   "metadata": {},
   "outputs": [],
   "source": [
    "def ErrorODE(theta, time, data_values = None):\n",
    "    \"\"\"\n",
    "    Error function for ODE model based on error function described in utils module\n",
    "    \"\"\"\n",
    "    \n",
    "    ka, kb, kc = theta\n",
    "    \n",
    "    inits = [params.init_premirna1, params.init_premirna1_dicer, \\\n",
    "             params.init_dicer, params.init_mirna1]\n",
    "    \n",
    "    def model(t, inits):\n",
    "        \n",
    "        \n",
    "        premiR = inits[1]*ka - inits[0]*inits[2]*kb\n",
    "        premiR_dicer = inits[0]*inits[2]*kb - inits[1]*(ka + kc)\n",
    "        dicer = inits[1]*(ka + kc) - inits[0]*inits[2]*kb\n",
    "        mirna = inits[1]*kc\n",
    "        \n",
    "        return premiR, premiR_dicer, dicer, mirna\n",
    "    \n",
    "    sol = solve_ivp(model, (0, int(params.minutes)), inits)\n",
    "    \n",
    "    premiR = sol.y[0]\n",
    "    \n",
    "    diced = np.zeros(len(premiR))\n",
    "    \n",
    "    for i in range(len(diced)):\n",
    "        diced[i] = (premiR[0] - premiR[i]) / premiR[0]\n",
    "    \n",
    "    if data_values is None:\n",
    "        return utils.curveError(diced, time, sol.t)\n",
    "    else:\n",
    "        return utils.Error(data_values, diced, time, sol.t)"
   ]
  },
  {
   "cell_type": "code",
   "execution_count": 129,
   "id": "94340fa2-7858-4db2-8207-db8f8df0a242",
   "metadata": {},
   "outputs": [
    {
     "name": "stdout",
     "output_type": "stream",
     "text": [
      "3.0496825085224852\n"
     ]
    }
   ],
   "source": [
    "print(ErrorODE(theta, params.time, params.WT_data))"
   ]
  },
  {
   "cell_type": "code",
   "execution_count": 130,
   "id": "18a0021f-3c59-4349-8459-bce87bfb5263",
   "metadata": {
    "tags": []
   },
   "outputs": [],
   "source": [
    "res = minimize(ErrorODE, theta, args = (params.time, params.WT_data), method = 'CG')"
   ]
  },
  {
   "cell_type": "code",
   "execution_count": 131,
   "id": "a7c2377a-cdb0-4794-984b-98dcebefe34e",
   "metadata": {},
   "outputs": [
    {
     "name": "stdout",
     "output_type": "stream",
     "text": [
      "0.008800341694286068\n"
     ]
    }
   ],
   "source": [
    "print(ErrorODE(res.x, params.time, params.WT_data))"
   ]
  },
  {
   "cell_type": "code",
   "execution_count": 132,
   "id": "c841d609-d65e-4a71-a77e-54f6f6b29b58",
   "metadata": {},
   "outputs": [],
   "source": [
    "def test_optim(theta):\n",
    "    inits = [params.init_premirna1, params.init_premirna1_dicer, \\\n",
    "             params.init_dicer, params.init_mirna1]\n",
    "    \n",
    "    ka, kb, kc = theta\n",
    "    \n",
    "    def model(t, inits):\n",
    "        \n",
    "        premiR = inits[1]*ka - inits[0]*inits[2]*kb\n",
    "        premiR_dicer = inits[0]*inits[2]*kb - inits[1]*(ka + kc)\n",
    "        dicer = inits[1]*(ka + kc) - inits[0]*inits[2]*kb\n",
    "        mirna = inits[1]*kc\n",
    "        \n",
    "        return premiR, premiR_dicer, dicer, mirna\n",
    "    \n",
    "    res = solve_ivp(model, (0, int(params.minutes)), inits)\n",
    "    \n",
    "    premiR = res.y[0]\n",
    "    \n",
    "    diced = np.zeros(len(premiR))\n",
    "    \n",
    "    for i in range(len(diced)):\n",
    "        diced[i] = (premiR[0] - premiR[i]) / premiR[0]\n",
    "        \n",
    "    return diced, res.t"
   ]
  },
  {
   "cell_type": "code",
   "execution_count": 133,
   "id": "6b7b3089-3903-4549-8a9b-e2b0d00103ee",
   "metadata": {},
   "outputs": [
    {
     "data": {
      "text/plain": [
       "array([2.77656913e+02, 1.25918242e+01, 1.54200767e-02])"
      ]
     },
     "execution_count": 133,
     "metadata": {},
     "output_type": "execute_result"
    }
   ],
   "source": [
    "res.x"
   ]
  },
  {
   "cell_type": "code",
   "execution_count": 134,
   "id": "8bdf2b79-cc92-4d9c-b99d-b2437944b0c9",
   "metadata": {},
   "outputs": [],
   "source": [
    "test = test_optim(res.x)"
   ]
  },
  {
   "cell_type": "code",
   "execution_count": 135,
   "id": "a9eadec2-3c07-4958-bee7-55a979c21766",
   "metadata": {},
   "outputs": [
    {
     "data": {
      "text/plain": [
       "(array([0.        , 0.00140778, 0.01488853, ..., 0.30570681, 0.30565034,\n",
       "        0.30565034]),\n",
       " array([0.00000000e+00, 2.24489339e-05, 2.46938273e-04, ...,\n",
       "        5.99896709e+01, 6.00000000e+01, 6.00000000e+01]))"
      ]
     },
     "execution_count": 135,
     "metadata": {},
     "output_type": "execute_result"
    }
   ],
   "source": [
    "test"
   ]
  },
  {
   "cell_type": "code",
   "execution_count": 136,
   "id": "45e01078-959c-4d45-bb98-aff30a73ef9c",
   "metadata": {},
   "outputs": [],
   "source": [
    "#model data, optimised\n",
    "model, model_time = test_optim(res.x)\n",
    "\n",
    "#interp at datapoints\n",
    "model_points = np.interp(params.time, model_time, model)"
   ]
  },
  {
   "cell_type": "code",
   "execution_count": 137,
   "id": "4f3c9ae2-5413-41a0-af88-b2a7b742dca3",
   "metadata": {},
   "outputs": [
    {
     "data": {
      "image/png": "[encoded data removed]",
      "text/plain": [
       "<Figure size 432x288 with 1 Axes>"
      ]
     },
     "metadata": {
      "needs_background": "light"
     },
     "output_type": "display_data"
    }
   ],
   "source": [
    "\n",
    "\n",
    "#plot\n",
    "fig, ax = plt.subplots()\n",
    "\n",
    "plt.rc('font', size=12)\n",
    "plt.rcParams['svg.fonttype'] = 'none'\n",
    "\n",
    "ax.plot(params.time, params.WT_data, color = 'black', alpha = 0.5, ls = '--')\n",
    "ax.plot(model_time, model, color = 'red')\n",
    "\n",
    "ax.scatter(params.time, params.WT_data, color = 'black', alpha = 0.5) \n",
    "ax.scatter(params.time, model_points, color = 'red')\n",
    "\n",
    "ax.legend(['Experimental data', 'Optimised model'])\n",
    "ax.set_xlabel('Time (minutes)')\n",
    "ax.set_ylabel('Fraction diced')\n",
    "\n",
    "fig.tight_layout()\n",
    "\n",
    "plt.show()"
   ]
  },
  {
   "cell_type": "code",
   "execution_count": null,
   "id": "e80a23e5-b553-4a22-85de-a6c70daf4d03",
   "metadata": {},
   "outputs": [],
   "source": []
  }
 ],
 "metadata": {
  "kernelspec": {
   "display_name": "Python 3 (ipykernel)",
   "language": "python",
   "name": "python3"
  },
  "language_info": {
   "codemirror_mode": {
    "name": "ipython",
    "version": 3
   },
   "file_extension": ".py",
   "mimetype": "text/x-python",
   "name": "python",
   "nbconvert_exporter": "python",
   "pygments_lexer": "ipython3",
   "version": "3.9.13"
  }
 },
 "nbformat": 4,
 "nbformat_minor": 5
}
