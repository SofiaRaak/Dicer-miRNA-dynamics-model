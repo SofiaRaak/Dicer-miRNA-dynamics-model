{
 "cells": [
  {
   "cell_type": "markdown",
   "id": "eb29653a-ee7f-41f4-883a-ddcf151c0774",
   "metadata": {},
   "source": [
    "# Investigating competition effects between 8 theoretical pre-miRNAs"
   ]
  },
  {
   "cell_type": "markdown",
   "id": "598fa8f0-7221-4d0d-ac5a-36eea41e44b1",
   "metadata": {
    "jp-MarkdownHeadingCollapsed": true,
    "tags": []
   },
   "source": [
    "## Set up workspace"
   ]
  },
  {
   "cell_type": "code",
   "execution_count": 1,
   "id": "e407f89a-b99f-4b10-a81d-aff52829eaa8",
   "metadata": {},
   "outputs": [],
   "source": [
    "import model_utils as mu\n",
    "import params\n",
    "from scipy.integrate import solve_ivp\n",
    "import numpy as np\n",
    "import pandas as pd\n",
    "import matplotlib.pyplot as plt\n",
    "import matplotlib.lines as mlines\n",
    "from tqdm import tqdm"
   ]
  },
  {
   "cell_type": "code",
   "execution_count": 2,
   "id": "c0583925-9410-4640-9207-b38839421fc1",
   "metadata": {},
   "outputs": [],
   "source": [
    "destdir_csvs = './outputs/8sp-comp/csvs/'\n",
    "destdir_figs = './outputs/8sp-cop/plots/'"
   ]
  },
  {
   "cell_type": "markdown",
   "id": "7deaf756-6a45-4062-8fde-b8214bf36a36",
   "metadata": {
    "jp-MarkdownHeadingCollapsed": true,
    "tags": []
   },
   "source": [
    "## Generate model"
   ]
  },
  {
   "cell_type": "code",
   "execution_count": 3,
   "id": "5c581c46-f3c4-4bcc-82e6-4ecde3111787",
   "metadata": {},
   "outputs": [],
   "source": [
    "#make 2 miRNA model\n",
    "ODE_inits = [0]*8*4 + [0]\n",
    "ODE_ka = [0] * 8\n",
    "ODE_kb = ODE_ka\n",
    "ODE_kc = ODE_ka\n",
    "ODE_kd = ODE_ka"
   ]
  },
  {
   "cell_type": "code",
   "execution_count": 4,
   "id": "e0ce5c1e-55c7-4f2b-b8c2-3b51e78252f2",
   "metadata": {},
   "outputs": [],
   "source": [
    "ode = mu.makeODEs(ODE_inits, ODE_ka, ODE_kb, ODE_kc, ODE_kd)"
   ]
  },
  {
   "cell_type": "code",
   "execution_count": 5,
   "id": "d46f7315-325a-4f93-82a5-b6ac7e3ca08d",
   "metadata": {},
   "outputs": [],
   "source": [
    "model = mu.makeModel(ode)"
   ]
  },
  {
   "cell_type": "markdown",
   "id": "bb4e32fb-bd43-4d34-a745-207df6282200",
   "metadata": {},
   "source": [
    "## Set up conditions for models"
   ]
  },
  {
   "cell_type": "code",
   "execution_count": 21,
   "id": "5966fe3f-8fc0-461c-b2c3-b6cc90316444",
   "metadata": {},
   "outputs": [],
   "source": [
    "high = 10\n",
    "low = 1\n",
    "k = 2"
   ]
  },
  {
   "cell_type": "code",
   "execution_count": 22,
   "id": "a5e4bd20-9ccc-4f0d-aafb-b90b6951e01e",
   "metadata": {},
   "outputs": [],
   "source": [
    "inits1 = [params.init_pMiR1, params.init_pMiR1_dcr, params.init_pMiR1_dcr_star, params.init_MiR1] * 8"
   ]
  },
  {
   "cell_type": "code",
   "execution_count": 23,
   "id": "2816d050-bfcf-4cbc-bfb5-551eece0d156",
   "metadata": {},
   "outputs": [],
   "source": [
    "ka = [params.ka1 * high, params.ka1 * low] + [params.ka1] * 2 +\\\n",
    "     [params.ka1 * high * k, params.ka1 * low] + [params.ka1 * k] * 2\n",
    "\n",
    "kb = [params.ka1 * params.Kd_wt, params.ka1 * params.Kd_wt * high]  + \\\n",
    "    [params.ka1 * params.Kd_wt] * 2 + \\\n",
    "    [params.ka1 * params.Kd_wt, params.ka1 * params.Kd_wt * high * k] +\\\n",
    "    [params.ka1 * params.Kd_wt] * 2\n",
    "\n",
    "kc = [params.kc1] * 2 + [params.kc1 * high, params.kc1] + \\\n",
    "     [params.kc1] * 2 + [params.kc1 * high * k, params.kc1]\n",
    "\n",
    "kd = [params.kd] * 3 + [params.kd * high] + [params.kd] * 4 + [params.kd * high * k]"
   ]
  },
  {
   "cell_type": "code",
   "execution_count": 24,
   "id": "a01e531b-39d3-47bf-a609-29561fa882d1",
   "metadata": {},
   "outputs": [],
   "source": [
    "dvars = np.linspace(0, 2.5, 5)\n",
    "dvars[0] = 0.01\n",
    "dvars = np.append(dvars, np.linspace(7.25, 17.25, 5))\n",
    "variations = [str(int(i * 100)) for i in list(dvars)]"
   ]
  },
  {
   "cell_type": "markdown",
   "id": "1c0140de-ae03-4142-b66d-78d564ef5e15",
   "metadata": {
    "tags": []
   },
   "source": [
    "## Run model, save outputs"
   ]
  },
  {
   "cell_type": "code",
   "execution_count": 25,
   "id": "a1f96e03-a3ba-4316-b4b5-90e9552a89d1",
   "metadata": {},
   "outputs": [],
   "source": [
    "exec(model)"
   ]
  },
  {
   "cell_type": "code",
   "execution_count": 26,
   "id": "188d4274-fc0c-423a-9a13-85b26bb056ba",
   "metadata": {},
   "outputs": [
    {
     "name": "stderr",
     "output_type": "stream",
     "text": [
      "100%|██████████| 10/10 [00:00<00:00, 39.35it/s]\n"
     ]
    }
   ],
   "source": [
    "names = []\n",
    "for i in tqdm(range(len(dvars))):\n",
    "    init = inits1 + [dvars[i]]\n",
    "    \n",
    "    res = solve_ivp(runModel, (0, int(params.minutes)), init, \\\n",
    "                    args = (ka, kb, kc, kd), method = 'LSODA')\n",
    "    \n",
    "    mirna_length = int((len(res.y)-1)/4)\n",
    "    index = []\n",
    "    \n",
    "    for j in range(mirna_length):\n",
    "        index = index + ['pMiR' + str(j), 'pMiR_dicer' + str(j), \\\n",
    "                         'pMiR_dicer_star' + str(j), 'miR' + str(j)]\n",
    "    \n",
    "    index = index + ['dicer']\n",
    "    \n",
    "    df = pd.DataFrame(res.y, index = index)\n",
    "    df = df.transpose()\n",
    "    df.insert(loc = 0, column = 'time_min', value = res.t)\n",
    "    \n",
    "    name = 'model_' + variations[i]\n",
    "    names.append(name)\n",
    "    \n",
    "    df.to_csv(destdir_csvs + name + '.csv', index = False)"
   ]
  },
  {
   "cell_type": "markdown",
   "id": "be5a317c-18ba-46dd-8d93-0e4c93162c9e",
   "metadata": {},
   "source": [
    "## Plot models"
   ]
  },
  {
   "cell_type": "markdown",
   "id": "74341268-b59d-45c9-83d8-7105aa6d4554",
   "metadata": {},
   "source": [
    "### Load data"
   ]
  },
  {
   "cell_type": "code",
   "execution_count": 28,
   "id": "fe917342-f418-4489-9307-0ba3e316bb50",
   "metadata": {},
   "outputs": [],
   "source": [
    "for name in names:\n",
    "    exec(name  + ' = pd.read_csv(\"' + destdir_csvs + name + '.csv\", header = [0])')"
   ]
  },
  {
   "cell_type": "code",
   "execution_count": 30,
   "id": "61ce80d9-340c-47a0-8473-33e30edbc32b",
   "metadata": {},
   "outputs": [],
   "source": [
    "#mirna species names\n",
    "mirnas = ['high $k_a$', 'high $k_b$', 'high $k_c', 'high_= $k_d$']\n",
    "mirnas += [str(int(k)) + 'x ' + i for i in mirnas]"
   ]
  },
  {
   "cell_type": "code",
   "execution_count": 32,
   "id": "aeb7cbb0-e1a3-4098-8344-1c33fb0b8b91",
   "metadata": {},
   "outputs": [
    {
     "data": {
      "text/plain": [
       "'model_1725'"
      ]
     },
     "execution_count": 32,
     "metadata": {},
     "output_type": "execute_result"
    }
   ],
   "source": [
    "names[-1]"
   ]
  },
  {
   "cell_type": "code",
   "execution_count": 33,
   "id": "88b278ac-60e6-4a92-ba32-93d55a52c595",
   "metadata": {},
   "outputs": [],
   "source": [
    "#prep endpoints for plotting\n",
    "ends = {'0': [], '1': [], '2': [], '3': [], '4': [], '5': [], '6': [], '7': []}\n",
    "fc = ends\n",
    "\n",
    "for i in range(len(dvars)):\n",
    "    exec('miR = ' + names[i])\n",
    "    \n",
    "    ends['0'].append(miR['miR0'].iloc[-1])\n",
    "    ends['1'].append(miR['miR1'].iloc[-1])\n",
    "    ends['2'].append(miR['miR2'].iloc[-1])\n",
    "    ends['3'].append(miR['miR3'].iloc[-1])\n",
    "    ends['4'].append(miR['miR4'].iloc[-1])\n",
    "    ends['5'].append(miR['miR5'].iloc[-1])\n",
    "    ends['6'].append(miR['miR6'].iloc[-1])\n",
    "    ends['7'].append(miR['miR7'].iloc[-1])\n",
    "    \n",
    "    fc['0'].append(miR['miR0'].iloc[-1] / model_1725['miR0'].iloc[-1])\n",
    "    fc['1'].append(miR['miR1'].iloc[-1] / model_1725['miR1'].iloc[-1])\n",
    "    fc['2'].append(miR['miR2'].iloc[-1] / model_1725['miR2'].iloc[-1])\n",
    "    fc['3'].append(miR['miR3'].iloc[-1] / model_1725['miR3'].iloc[-1])\n",
    "    fc['4'].append(miR['miR4'].iloc[-1] / model_1725['miR4'].iloc[-1])\n",
    "    fc['5'].append(miR['miR5'].iloc[-1] / model_1725['miR5'].iloc[-1])\n",
    "    fc['6'].append(miR['miR6'].iloc[-1] / model_1725['miR6'].iloc[-1])\n",
    "    fc['7'].append(miR['miR7'].iloc[-1] / model_1725['miR7'].iloc[-1])"
   ]
  },
  {
   "cell_type": "code",
   "execution_count": null,
   "id": "3d194c95-e0c0-4a5d-8316-4b845be09846",
   "metadata": {},
   "outputs": [],
   "source": []
  }
 ],
 "metadata": {
  "kernelspec": {
   "display_name": "Python 3 (ipykernel)",
   "language": "python",
   "name": "python3"
  },
  "language_info": {
   "codemirror_mode": {
    "name": "ipython",
    "version": 3
   },
   "file_extension": ".py",
   "mimetype": "text/x-python",
   "name": "python",
   "nbconvert_exporter": "python",
   "pygments_lexer": "ipython3",
   "version": "3.9.13"
  }
 },
 "nbformat": 4,
 "nbformat_minor": 5
}
