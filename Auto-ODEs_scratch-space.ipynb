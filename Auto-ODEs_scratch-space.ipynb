{
 "cells": [
  {
   "cell_type": "code",
   "execution_count": 1,
   "id": "6e67bf84-4967-42ca-b2c1-bbd91cf099d8",
   "metadata": {},
   "outputs": [],
   "source": [
    "import numpy as np\n",
    "import numba\n",
    "import params"
   ]
  },
  {
   "cell_type": "code",
   "execution_count": 2,
   "id": "bb6e5532-a132-4798-917f-f6cc3998e20d",
   "metadata": {},
   "outputs": [],
   "source": [
    "species = [(\"preMiR\", 1),\n",
    "          (\"preMiR_Dicer\", 0),\n",
    "          (\"miRNA\", 0),\n",
    "          (\"Dicer\", 50)]"
   ]
  },
  {
   "cell_type": "code",
   "execution_count": 3,
   "id": "8209211e-a1e7-4f2a-b098-afe781d29f5b",
   "metadata": {},
   "outputs": [
    {
     "data": {
      "text/plain": [
       "[('preMiR', 1), ('preMiR_Dicer', 0), ('miRNA', 0), ('Dicer', 50)]"
      ]
     },
     "execution_count": 3,
     "metadata": {},
     "output_type": "execute_result"
    }
   ],
   "source": [
    "species"
   ]
  },
  {
   "cell_type": "code",
   "execution_count": 4,
   "id": "d29d77de-b7ce-4226-89ea-b5c79cc2bfb4",
   "metadata": {},
   "outputs": [],
   "source": [
    "init_dicer, init_premirna1, init_premirna2, init_premirna3, init_premirna4, \\\n",
    "init_premirna5, init_premirna1_dicer, init_premirna2_dicer, init_premirna3_dicer, \\\n",
    "init_premirna4_dicer, init_premirna5_dicer, init_mirna1, init_mirna2, init_mirna3, \\\n",
    "init_mirna4, init_mirna5 = params.init_values"
   ]
  },
  {
   "cell_type": "code",
   "execution_count": 5,
   "id": "e730aa52-2c40-477c-87bb-38a8562c5790",
   "metadata": {},
   "outputs": [],
   "source": [
    "ka1, ka_1, ka2, kb1, kb_1, kb2, kc1, kc_1, kc2, kd1, kd_1, kd2, ke1, ke_1, ke2 = params.theta"
   ]
  },
  {
   "cell_type": "raw",
   "id": "d958ee12-2b6d-4c74-b2fc-7c56e08cb824",
   "metadata": {},
   "source": [
    "def generateSpecies(num_preMiR, pMiR, dicer_pMiR, miR):\n",
    "    \"\"\"\n",
    "    Function to generate vector of initial concentrations for all species.\n",
    "    \n",
    "    Args:\n",
    "    num_preMiR:    int, number of pre-miRNA species\n",
    "    pMiR:          list of floats, initial concentration of pre-miRNA\n",
    "    dicer_pMiR:    list of floats, initial concentration Dicer and pre-miRNA complexes\n",
    "    miR:           list of floats, initial concentration of miRNA\n",
    "    \"\"\"\n",
    "    \n",
    "    assert num_preMiR == len(pMiR), \"The number of concentrations given do not correspond with the number of species\"\n",
    "    assert num_preMiR == len(dicer_pMiR), \"The number of concentrations given do not correspond with the number of species\"\n",
    "    assert num_preMiR == len(miR), \"The number of concentrations given do not correspond with the number of species\"\n",
    "    \n",
    "    init_concs = [pMiR[0], dicer_pMiR[0]]\n",
    "    init_species = {\"pMiR0\": pMiR[0], \"dicer_pMiR0\": dicer_pMiR[0], \"miR0\": miR[0]}\n",
    "    \n",
    "    for i in range(1, num_preMiR):\n",
    "        init_concs.append(pMiR[i])\n",
    "        init_concs.append(dicer_pMiR[i])\n",
    "        \n",
    "        init_species[\"preMiR\"+str(i)] = pMiR[i]\n",
    "        init_species[\"dicer_preMiR\"+str(i)] = dicer_pMiR[i]\n",
    "        init_species[\"miR\"+str(i)] = miR[i]\n",
    "        \n",
    "    return init_concs, init_species"
   ]
  },
  {
   "cell_type": "raw",
   "id": "c102034e-7b11-4a61-ad39-c331afef90c8",
   "metadata": {},
   "source": [
    "def generateSystem(num_preMiR, k0, k1, k2):\n",
    "    \"\"\"\n",
    "    Function to generate system of ODEs with n type miRNAs, all with customisable reaction rates.\n",
    "    \n",
    "    Args:\n",
    "    num_preMiR:    int, number of pre-miRNA species\n",
    "    k0:            list of floats, reaction rate for association of Dicer with pre-miRNA\n",
    "    k1:            list of floats, reaction rate for disassociation of Dicer and pre-miRNA\n",
    "    k2:            list of floats, reaction rate for miRNA formation\n",
    "    \"\"\"\n",
    "    \n",
    "    assert num_preMiR == len(k0), \"The number of reaction rates given do not correspond with the number of ODEs in the system\"\n",
    "    assert num_preMiR == len(k1), \"The number of reaction rates given do not correspond with the number of ODEs in the system\"\n",
    "    assert num_preMiR == len(k2), \"The number of reaction rates given do not correspond with the number of ODEs in the system\"\n",
    "    \n",
    "    basic_system = [[k1[0], -k0[0]], #dWT/dt start with dicer_pre-miR, second term dicer x pre-miR\n",
    "              [-(k1[0] + k2[0]), k0[0]], #dDicerWT/dt\n",
    "              [k2[0], 0]] #dmiRNA/dt\n",
    "    dicer = [(k1[0] + k2[0]), -k0[0]] #last index:  dDicer/dt\n",
    "    \n",
    "    for i in range(1, num_preMiR):\n",
    "        \n",
    "        basic_system0 = [[k1[i], -k0[i]], #dWT/dt start with dicer_pre-miR, second term dicer x pre-miR\n",
    "              [-(k1[i] + k2[i]), k0[0]], #dDicerWT/dt\n",
    "              [k2[i], 0]] #dmiRNA/dt\n",
    "        dDicer = [(k1[i] + k2[i]), -k0[i]] #last index:  dDicer/dt\n",
    "        \n",
    "        for j in range(3):\n",
    "            #add empty rows at bottom of matrix\n",
    "            basic_system.append([0]*len(basic_system[0]))\n",
    "        for k in range(len(basic_system)):\n",
    "            if k < len(basic_system) - 3:\n",
    "                #add 0s to end of each row unless last 3\n",
    "                basic_system[k] = basic_system[k] + [0]*2 #to keep it flat\n",
    "            else:\n",
    "                #add correct equation to end of row\n",
    "                if k == len(basic_system) - 3:\n",
    "                    basic_system[k] = basic_system[k] + basic_system0[0][:2]             \n",
    "                elif k == len(basic_system) - 2:\n",
    "                    basic_system[k] = basic_system[k] + basic_system0[1][:2]\n",
    "                elif k == len(basic_system) - 1:\n",
    "                    basic_system[k] = basic_system[k] + basic_system0[2][:2]\n",
    "        #update dicer\n",
    "        dicer = dicer + dDicer\n",
    "        \n",
    "    return basic_system + [dicer]"
   ]
  },
  {
   "cell_type": "raw",
   "id": "5d4173f1-1ba7-424a-973b-a8c0d9b74d79",
   "metadata": {
    "tags": []
   },
   "source": [
    "test = generateSpecies(5, [init_premirna1]*5, [init_dicer*init_premirna1]*5, \\\n",
    "                       [init_mirna1]*5)"
   ]
  },
  {
   "cell_type": "raw",
   "id": "82be8f61-1733-4285-a2e9-94cf63133ce0",
   "metadata": {
    "tags": []
   },
   "source": [
    "timeit(generateSpecies(5, [1]*5, [0]*5, [0]*5))"
   ]
  },
  {
   "cell_type": "raw",
   "id": "5d60e004-195e-4eec-9534-610ca5d95345",
   "metadata": {},
   "source": [
    "test[0]"
   ]
  },
  {
   "cell_type": "raw",
   "id": "ef2be087-aaf4-4b89-a947-24be53711be9",
   "metadata": {},
   "source": [
    "test2 = generateSystem(5, [ka1]*5, [ka_1]*5, [ka2]*5)"
   ]
  },
  {
   "cell_type": "raw",
   "id": "3210712d-6e9c-40ec-96d2-d27d63f6c89d",
   "metadata": {},
   "source": [
    "len(test2)"
   ]
  },
  {
   "cell_type": "raw",
   "id": "1643d82a-4585-41b8-a18b-5e933a5958b7",
   "metadata": {},
   "source": [
    "timeit(generateSystem(5, [ka1]*5, [ka_1]*5, [ka2]*5))"
   ]
  },
  {
   "cell_type": "raw",
   "id": "25aa955a-81fb-4be6-b003-823153c06f3a",
   "metadata": {},
   "source": []
  },
  {
   "cell_type": "raw",
   "id": "fd94bef2-c62e-4ef1-a742-9c512be4b70b",
   "metadata": {},
   "source": [
    "def test_model(t, init_values, ka, kb, kc):\n",
    "    \"\"\"\n",
    "    Function to pass to generate, pass ODEs to ODE solver.\n",
    "    \n",
    "    Args:\n",
    "    init_values:    Array of initial concentration of each initial concentration of every species, min 4\n",
    "    ka:             Array of reaction rates for formation of pre-miR - dicer commplex\n",
    "    kb:             Array of reaction rates for dissociation of pre-miR - dicer complex\n",
    "    kc:             Array of reaction rates for catalysis of pre-miR to miR by dicer\n",
    "    \"\"\"\n",
    "    \n",
    "    concs_len = len(init_values)\n",
    "    \n",
    "    assert int(concs_len/2) == len(ka), \"The number of reactions do not agree with the number of reaction rates given.\"\n",
    "    assert int(concs_len/2) == len(kb), \"The number of reactions do not agree with the number of reaction rates given.\"\n",
    "    assert int(concs_len/2) == len(kc), \"The number of reactions do not agree with the number of reaction rates given.\"\n",
    "    \n",
    "    ODEs = generateSystem(int(concs_len/2), ka, kb, kc)\n",
    "    #output = [[0]]*len(ODEs)\n",
    "    output = []\n",
    "    \n",
    "    for i in range(len(ODEs)):\n",
    "        #utput[i] = output[i][0] + [(sum(ODEs[i] * init_values))]\n",
    "        #utput.append(sum(ODEs[i] * init_values))\n",
    "        #rint(output[i])\n",
    "        if i == int(len(ODEs) - 1):\n",
    "            exec('dicer = sum(ODEs[i] * init_values)')\n",
    "            exec('output.append(dicer)')\n",
    "            exec('print(i, dicer)')\n",
    "        elif (i + 1) % 3 == 0:\n",
    "            exec('mirna' + str(i) + ' = sum(ODEs[i] * init_values)')\n",
    "            exec('output.append(mirna' + str(i) + ')')\n",
    "            exec('print(i, mirna' + str(i) + ')')\n",
    "        elif (i + 1) % 2 == 0:\n",
    "            exec('pmiR_dicer' + str(i) + ' = sum(ODEs[i] * init_values)')\n",
    "            exec('output.append(pmiR_dicer' + str(i) + ')')\n",
    "            exec('print(i, pmiR_dicer' + str(i) + ')')\n",
    "        else:\n",
    "            exec('pmiR' + str(i) + ' = sum(ODEs[i] * init_values)')\n",
    "            exec('output.append(pmiR' + str(i) + ')')         \n",
    "            exec('print(i, pmiR' + str(i) + ')')\n",
    "                 \n",
    "    return output[:]"
   ]
  },
  {
   "cell_type": "code",
   "execution_count": 6,
   "id": "524d533c-dc56-46d8-bbeb-65cea1f4aeb0",
   "metadata": {},
   "outputs": [],
   "source": [
    "from scipy.integrate import solve_ivp"
   ]
  },
  {
   "cell_type": "raw",
   "id": "f5be1f01-b2da-4388-9b91-bb23656edc91",
   "metadata": {},
   "source": [
    "init_conc = test[0]"
   ]
  },
  {
   "cell_type": "raw",
   "id": "b068409c-c35f-4a7d-b3ec-bcd0f6e740b4",
   "metadata": {
    "jupyter": {
     "outputs_hidden": true
    },
    "tags": []
   },
   "source": [
    "res1 = solve_ivp(test_model, (0, int(params.minutes)), init_conc, \\\n",
    "                 args=([ka1]*5, [ka_1]*5, [ka2]*5))"
   ]
  },
  {
   "cell_type": "raw",
   "id": "b296002c-70f2-4c5c-b8ab-38c817259991",
   "metadata": {},
   "source": [
    "def dynamic_model(t, init_values, ka, kb, kc):\n",
    "    \"\"\"\n",
    "    Dynamic model for ODE system creation and solving\n",
    "    \n",
    "    init_values:    List of initial concentration of free pre-miRNA concentration for\n",
    "                    each pre-mirna, pre-mirna x dicer concentration and dicer \n",
    "                    concentration. Alternating pre-mirna (a) and pre-mirna dicer (b),\n",
    "                    with final dicer concentration (c) i.e. [a, b, a, b, a, b, c]\n",
    "    ka:             Array of reaction rates for formation of pre-miR - dicer commplex\n",
    "    kb:             Array of reaction rates for dissociation of pre-miR - dicer complex\n",
    "    kc:             Array of reaction rates for catalysis of pre-miR to miR by dicer\n",
    "    \"\"\"\n",
    "    \n",
    "    assert (len(init_values)-1) % 2 == 0, \"You have supplied an uneven number of \\\n",
    "    pre-mirna, dicer x pre-mirna concentrations\"\n",
    "    assert int((len(init_values) - 1)/2) == len(ka), \"The number of reactions do not \\\n",
    "    agree with the number of reaction rates given.\"\n",
    "    assert int((len(init_values) - 1)/2) == len(kb), \"The number of reactions do not \\\n",
    "    agree with the number of reaction rates given.\"\n",
    "    assert int((len(init_values) - 1)/2) == len(kc), \"The number of reactions do not \\\n",
    "    agree with the number of reaction rates given.\"\n",
    "    \n",
    "    #calculate number of miRNAs\n",
    "    n_mirna = int(len(init_values)/2)\n",
    "    \n",
    "    output = []\n",
    "    dicer_strings = \"\"\n",
    "    \n",
    "    for i in range(n_mirna):\n",
    "        exec('premirna' + str(i) + ' = init_values[i+1] * kb[i] - \\\n",
    "        init_values[i] * init_values[-1] * ka[i]')\n",
    "        exec('output.append(premirna' + str(i) + ')')\n",
    "        \n",
    "        exec('pmiR_dicer' + str(i) + ' = init_values[i] * init_values[-1] * ka[i] - \\\n",
    "        init_values[i+1] * kb[i]')\n",
    "        exec('output.append(pmiR_dicer' + str(i) + ')')\n",
    "        \n",
    "        exec('mirna' + str(i) + ' = init_values[i+1] * kc[i]')\n",
    "        exec('output.append(mirna' + str(i) + ')')\n",
    "    \n",
    "        if i == 0:\n",
    "            dicer_strings = dicer_strings + 'init_values[i+1] * (kb[i] + kc[i]) - \\\n",
    "            init_values[-1] * init_values[i] * ka[i]'\n",
    "        \n",
    "        else:\n",
    "            dicer_strings = dicer_strings + '+ init_values[i+1] * (kb[i] + kc[i]) - \\\n",
    "            init_values[-1] * init_values[i] * ka[i]'\n",
    "    \n",
    "    exec('dicer = ' + dicer_strings)\n",
    "    exec('output.append(dicer)')\n",
    "    \n",
    "    return output\n",
    "    "
   ]
  },
  {
   "cell_type": "code",
   "execution_count": 9,
   "id": "5dace979-052a-4213-b61d-b7c22cc2c606",
   "metadata": {
    "tags": []
   },
   "outputs": [],
   "source": [
    "def make_inits(num_preMiR, pMiR, dicer_pMiR, miR, dicer):\n",
    "    \"\"\"\n",
    "    Function to generate vector of initial concentrations for all species.\n",
    "    \n",
    "    Args:\n",
    "    num_preMiR:    int, number of pre-miRNA species\n",
    "    pMiR:          list of floats, initial concentration of pre-miRNA\n",
    "    dicer_pMiR:    list of floats, initial concentration Dicer and pre-miRNA complexes\n",
    "    miR:           list of floats, initial concentration of mature miRNA\n",
    "    dicer:         float, initial concentration of dicer\n",
    "    \"\"\"\n",
    "    \n",
    "    assert num_preMiR == len(pMiR), \"The number of concentrations given do \\\n",
    "    not correspond with the number of species\"\n",
    "    assert num_preMiR == len(dicer_pMiR), \"The number of concentrations given do not \\\n",
    "    correspond with the number of species\"\n",
    "    \n",
    "    init_concs = [pMiR[0], dicer_pMiR[0], miR[0]]\n",
    "    init_species = {\"pMiR0\": pMiR[0], \"dicer_pMiR0\": dicer_pMiR[0], \"miR\": miR[0]}\n",
    "    \n",
    "    for i in range(1, num_preMiR):\n",
    "        init_concs.append(pMiR[i])\n",
    "        init_concs.append(dicer_pMiR[i])\n",
    "        init_concs.append(miR[i])\n",
    "        \n",
    "        init_species[\"preMiR\"+str(i)] = pMiR[i]\n",
    "        init_species[\"dicer_preMiR\"+str(i)] = dicer_pMiR[i]\n",
    "        init_species[\"miR\"+str(i)] = miR[i]\n",
    "    \n",
    "    init_concs.append(dicer)\n",
    "    init_species[\"dicer\"] = dicer\n",
    "        \n",
    "    return init_concs, init_species"
   ]
  },
  {
   "cell_type": "code",
   "execution_count": 10,
   "id": "2e8ad98f-12c9-4e10-8a21-317fc1b02e1b",
   "metadata": {},
   "outputs": [],
   "source": [
    "inits = make_inits(5, [params.init_premirna1] * 5, [params.init_premirna1_dicer] * 5, \\\n",
    "                   [params.init_mirna1]*5, params.init_dicer)"
   ]
  },
  {
   "cell_type": "code",
   "execution_count": 11,
   "id": "f9cf5a7d-3a89-4e0a-a6bd-a1123b3f5040",
   "metadata": {},
   "outputs": [
    {
     "data": {
      "text/plain": [
       "([1, 0, 0, 1, 0, 0, 1, 0, 0, 1, 0, 0, 1, 0, 0, 50],\n",
       " {'pMiR0': 1,\n",
       "  'dicer_pMiR0': 0,\n",
       "  'miR': 0,\n",
       "  'preMiR1': 1,\n",
       "  'dicer_preMiR1': 0,\n",
       "  'miR1': 0,\n",
       "  'preMiR2': 1,\n",
       "  'dicer_preMiR2': 0,\n",
       "  'miR2': 0,\n",
       "  'preMiR3': 1,\n",
       "  'dicer_preMiR3': 0,\n",
       "  'miR3': 0,\n",
       "  'preMiR4': 1,\n",
       "  'dicer_preMiR4': 0,\n",
       "  'miR4': 0,\n",
       "  'dicer': 50})"
      ]
     },
     "execution_count": 11,
     "metadata": {},
     "output_type": "execute_result"
    }
   ],
   "source": [
    "inits"
   ]
  },
  {
   "cell_type": "raw",
   "id": "2bf679be-e707-4bc4-a197-f355413f5c35",
   "metadata": {
    "jupyter": {
     "outputs_hidden": true
    },
    "tags": []
   },
   "source": [
    "res2 = solve_ivp(dynamic_model, (0, int(params.minutes)), inits[0], \\\n",
    "                 args=([ka1]*5, [ka_1]*5, [ka2]*5))"
   ]
  },
  {
   "cell_type": "code",
   "execution_count": null,
   "id": "166a3453-49ec-4625-8f47-c6715637bfce",
   "metadata": {},
   "outputs": [],
   "source": []
  },
  {
   "cell_type": "code",
   "execution_count": 65,
   "id": "ab37ba83-5658-419b-9576-c78fe3962c8d",
   "metadata": {},
   "outputs": [],
   "source": [
    "def makeModel(init_values, ka, kb, kc):\n",
    "    \"\"\"\n",
    "    Function to generate string of functions for passing to ODE solver\n",
    "    \n",
    "    init_vals:      List of initial concentration of free pre-miRNA concentration for\n",
    "                    each pre-mirna, pre-mirna x dicer concentration, mirna concentration\n",
    "                    and dicer concentration. Alternating pre-mirna (a), pre-mirna dicer (b),\n",
    "                    and mirna(c), with final dicer concentration (d), i.e. [a, b, c, a, b, c, d]\n",
    "    ka:             Array of reaction rates for formation of pre-miR - dicer commplex\n",
    "    kb:             Array of reaction rates for dissociation of pre-miR - dicer complex\n",
    "    kc:             Array of reaction rates for catalysis of pre-miR to miR by dicer\n",
    "    \n",
    "    Outputs a string with all functions separated by new lines.\n",
    "    \"\"\"\n",
    "    \n",
    "    assert (len(init_values)-1) % 3 == 0, \"You have supplied an uneven number of concentrations\"\n",
    "    assert int((len(init_values) - 1)/3) == len(ka), \"The number of reactions do not \\\n",
    "    agree with the number of reaction rates given.\"\n",
    "    assert int((len(init_values) - 1)/3) == len(kb), \"The number of reactions do not \\\n",
    "    agree with the number of reaction rates given.\"\n",
    "    assert int((len(init_values) - 1)/3) == len(kc), \"The number of reactions do not \\\n",
    "    agree with the number of reaction rates given.\"\n",
    "    \n",
    "    #calculate number of miRNAs\n",
    "    n_mirna = int((len(init_values) - 1)/3)\n",
    "    output = \"\"\n",
    "    names = \"\"\n",
    "    concs = \"\"\n",
    "    dicer_strings = \"    dicer = \"\n",
    "    \n",
    "    #create system\n",
    "    j = 0\n",
    "    for i in range(n_mirna):\n",
    "\n",
    "        output = output + '\\n    premirna' + str(i) + ' = init_values[' + str(j+1) + '] * kb[' + str(i) + '] - init_values[' + str(j) + '] * init_values[-1] * ka[' + str(i) + ']' + '\\n    pmiR_dicer' + str(i) + ' = init_values[' + str(j) + '] * init_values[-1] * ka[' + str(i) + '] - init_values[' + str(j+1) + '] * (kb[' + str(i) + '] + kc[' + str(i) + '])' + '\\n    mirna' + str(i) + ' = init_values[' + str(j+1) + '] * kc[' + str(i) + ']'\n",
    "        \n",
    "        if i == 0:\n",
    "            dicer_strings = dicer_strings + 'init_values[' + str(j+1) + '] * (kb[' + str(i) + '] + kc[' + str(i) + ']) - init_values[-1] * init_values[' + str(j) + '] * ka[' + str(i) + ']'\n",
    "            names = names + 'premirna' + str(i) + ', pmiR_dicer' + str(i) + ', mirna' + str(i)\n",
    "        \n",
    "        else:\n",
    "            dicer_strings = dicer_strings + '+ init_values[' + str(j+1) + '] * (kb[' + str(i) + '] + kc[' + str(i) + ']) - init_values[-1] * init_values[' + str(j) + '] * ka[' + str(i) + ']'\n",
    "            names = names + ', premirna' + str(i) + ', pmiR_dicer' + str(i) + ', mirna' + str(i)\n",
    "        \n",
    "        j += 3\n",
    "    \n",
    "    output = output + '\\n' + dicer_strings\n",
    "    names = names + ', dicer'\n",
    "    \n",
    "    return output, names"
   ]
  },
  {
   "cell_type": "code",
   "execution_count": 66,
   "id": "1a383099-1fc4-47b4-bfaf-8d1700d205c8",
   "metadata": {},
   "outputs": [
    {
     "data": {
      "text/plain": [
       "16"
      ]
     },
     "execution_count": 66,
     "metadata": {},
     "output_type": "execute_result"
    }
   ],
   "source": [
    "len(inits[0])"
   ]
  },
  {
   "cell_type": "code",
   "execution_count": 67,
   "id": "513bfa91-4fe3-4dd5-8f9f-cf56f0874eee",
   "metadata": {},
   "outputs": [],
   "source": [
    "ODEs = makeModel(inits[0], [ka1]*5, [ka_1]*5, [ka2]*5)"
   ]
  },
  {
   "cell_type": "code",
   "execution_count": 68,
   "id": "9ff55181-12b9-48b7-9b27-9773d5b39aa1",
   "metadata": {},
   "outputs": [
    {
     "name": "stdout",
     "output_type": "stream",
     "text": [
      "\n",
      "    premirna0 = init_values[1] * kb[0] - init_values[0] * init_values[-1] * ka[0]\n",
      "    pmiR_dicer0 = init_values[0] * init_values[-1] * ka[0] - init_values[1] * (kb[0] + kc[0])\n",
      "    mirna0 = init_values[1] * kc[0]\n",
      "    premirna1 = init_values[4] * kb[1] - init_values[3] * init_values[-1] * ka[1]\n",
      "    pmiR_dicer1 = init_values[3] * init_values[-1] * ka[1] - init_values[4] * (kb[1] + kc[1])\n",
      "    mirna1 = init_values[4] * kc[1]\n",
      "    premirna2 = init_values[7] * kb[2] - init_values[6] * init_values[-1] * ka[2]\n",
      "    pmiR_dicer2 = init_values[6] * init_values[-1] * ka[2] - init_values[7] * (kb[2] + kc[2])\n",
      "    mirna2 = init_values[7] * kc[2]\n",
      "    premirna3 = init_values[10] * kb[3] - init_values[9] * init_values[-1] * ka[3]\n",
      "    pmiR_dicer3 = init_values[9] * init_values[-1] * ka[3] - init_values[10] * (kb[3] + kc[3])\n",
      "    mirna3 = init_values[10] * kc[3]\n",
      "    premirna4 = init_values[13] * kb[4] - init_values[12] * init_values[-1] * ka[4]\n",
      "    pmiR_dicer4 = init_values[12] * init_values[-1] * ka[4] - init_values[13] * (kb[4] + kc[4])\n",
      "    mirna4 = init_values[13] * kc[4]\n",
      "    dicer = init_values[1] * (kb[0] + kc[0]) - init_values[-1] * init_values[0] * ka[0]+ init_values[4] * (kb[1] + kc[1]) - init_values[-1] * init_values[3] * ka[1]+ init_values[7] * (kb[2] + kc[2]) - init_values[-1] * init_values[6] * ka[2]+ init_values[10] * (kb[3] + kc[3]) - init_values[-1] * init_values[9] * ka[3]+ init_values[13] * (kb[4] + kc[4]) - init_values[-1] * init_values[12] * ka[4]\n"
     ]
    }
   ],
   "source": [
    "print(ODEs[0])"
   ]
  },
  {
   "cell_type": "code",
   "execution_count": 69,
   "id": "30aa4a56-bfd2-4eb9-8ff1-d40c482d2fdc",
   "metadata": {},
   "outputs": [],
   "source": [
    "exec('''def makeModel(t, init_values, ka, kb, kc):\n",
    "    \"\"\"\n",
    "    Function to execute model, run it in ODE solver\n",
    "    \n",
    "    init_values:    List of initial concentration of free pre-miRNA concentration for\n",
    "                    each pre-mirna, pre-mirna x dicer concentration, mirna concentration\n",
    "                    and dicer concentration. Alternating pre-mirna (a), pre-mirna dicer (b),\n",
    "                    and mirna(c), with final dicer concentration (d), i.e. [a, b, c, a, b, c, d]\n",
    "    ka:             Array of reaction rates for formation of pre-miR - dicer commplex\n",
    "    kb:             Array of reaction rates for dissociation of pre-miR - dicer complex\n",
    "    kc:             Array of reaction rates for catalysis of pre-miR to miR by dicer\n",
    "    \"\"\"\n",
    "    \n",
    "    \n",
    "    \n",
    "    ''' + ODEs[0] + '''\n",
    "    \n",
    "    return ''' + ODEs[1])     "
   ]
  },
  {
   "cell_type": "code",
   "execution_count": 70,
   "id": "5c80c84c-e594-4f9a-8ecf-24d1509e6c31",
   "metadata": {},
   "outputs": [
    {
     "name": "stdout",
     "output_type": "stream",
     "text": [
      "Help on function makeModel in module __main__:\n",
      "\n",
      "makeModel(t, init_values, ka, kb, kc)\n",
      "    Function to execute model, run it in ODE solver\n",
      "    \n",
      "    init_values:    List of initial concentration of free pre-miRNA concentration for\n",
      "                    each pre-mirna, pre-mirna x dicer concentration, mirna concentration\n",
      "                    and dicer concentration. Alternating pre-mirna (a), pre-mirna dicer (b),\n",
      "                    and mirna(c), with final dicer concentration (d), i.e. [a, b, c, a, b, c, d]\n",
      "    ka:             Array of reaction rates for formation of pre-miR - dicer commplex\n",
      "    kb:             Array of reaction rates for dissociation of pre-miR - dicer complex\n",
      "    kc:             Array of reaction rates for catalysis of pre-miR to miR by dicer\n",
      "\n"
     ]
    }
   ],
   "source": [
    "help(makeModel)"
   ]
  },
  {
   "cell_type": "code",
   "execution_count": 42,
   "id": "c47005c1-1d0c-4add-a415-b0bc6e4a7e55",
   "metadata": {},
   "outputs": [],
   "source": [
    "t = 1"
   ]
  },
  {
   "cell_type": "code",
   "execution_count": 43,
   "id": "54274f14-75de-4cba-9322-658117eaeb95",
   "metadata": {},
   "outputs": [],
   "source": [
    "test = makeModel(t, params.init_values, [ka1]*5, [ka_1]*5, [ka2]*5)"
   ]
  },
  {
   "cell_type": "code",
   "execution_count": 44,
   "id": "6d91b25b-ac1e-4807-90fe-3a2defd44a2a",
   "metadata": {},
   "outputs": [
    {
     "data": {
      "text/plain": [
       "(26.125810079999997,\n",
       " -26.125810079999997,\n",
       " 0.180311,\n",
       " 26.125810079999997,\n",
       " -26.125810079999997,\n",
       " 0.180311,\n",
       " 0.0,\n",
       " 0.0,\n",
       " 0.0,\n",
       " 0.0,\n",
       " 0.0,\n",
       " 0.0,\n",
       " 0.0,\n",
       " 0.0,\n",
       " 0.0,\n",
       " 52.612242159999994)"
      ]
     },
     "execution_count": 44,
     "metadata": {},
     "output_type": "execute_result"
    }
   ],
   "source": [
    "test"
   ]
  },
  {
   "cell_type": "code",
   "execution_count": null,
   "id": "ca20e5ee-d0da-42dc-9357-8469bd121eff",
   "metadata": {
    "jupyter": {
     "source_hidden": true
    },
    "tags": []
   },
   "outputs": [],
   "source": [
    "def runModel(t, init_values, ka, kb, kc):\n",
    "    \"\"\"\n",
    "    Function to execute model, run it in ODE solver\n",
    "    init_values:    List of initial concentration of free pre-miRNA concentration for\n",
    "                    each pre-mirna, pre-mirna x dicer concentration and dicer \n",
    "                    concentration. Alternating pre-mirna (a) and pre-mirna dicer (b),\n",
    "                    with final dicer concentration (c) i.e. [a, b, a, b, a, b, c]\n",
    "    ka:             Array of reaction rates for formation of pre-miR - dicer commplex\n",
    "    kb:             Array of reaction rates for dissociation of pre-miR - dicer complex\n",
    "    kc:             Array of reaction rates for catalysis of pre-miR to miR by dicer\n",
    "    \"\"\"\n",
    "    \n",
    "    num_mirnas = int((len(init_values)-1)/2)\n",
    "    eqs = \"\"\n",
    "    for i in range(num_mirnas):\n",
    "        eqs = eqs + \"\\npremirna\" + str(i) + \"\\nmirna\" + str(i)\n",
    "    \n",
    "    eqs = eqs + \"\\ndicer\"\n",
    "\n",
    "    ODEs = makeModel(init_values, ka, kb, kc)\n",
    "    \n",
    "    exec(ODEs)\n",
    "    print(ODEs)\n",
    "    \n",
    "    return np.array([exec(eqs)])"
   ]
  },
  {
   "cell_type": "code",
   "execution_count": null,
   "id": "d8339aa1-f5b8-4f29-8483-1bf6216d3515",
   "metadata": {},
   "outputs": [],
   "source": [
    "t = 1"
   ]
  },
  {
   "cell_type": "code",
   "execution_count": null,
   "id": "63c1bfa5-f66d-48a4-9d1d-bbf11b7e4cbb",
   "metadata": {},
   "outputs": [],
   "source": [
    "test = runModel(t, inits[0], [ka1]*5, [ka_1]*5, [ka2]*5)\n",
    "test"
   ]
  },
  {
   "cell_type": "code",
   "execution_count": 71,
   "id": "431fff0b-2b28-4fc4-88b8-d33fefb40bb1",
   "metadata": {
    "tags": []
   },
   "outputs": [],
   "source": [
    "res3 = solve_ivp(makeModel, (0, int(params.minutes)), inits[0], \\\n",
    "                 args=([ka1]*5, [ka_1]*5, [ka2]*5))"
   ]
  },
  {
   "cell_type": "code",
   "execution_count": 72,
   "id": "7472cbc2-157d-408d-ab94-a7199b913b8c",
   "metadata": {},
   "outputs": [
    {
     "data": {
      "text/plain": [
       "array([[1.00000000e+00, 9.98906434e-01, 9.88075920e-01, ...,\n",
       "        2.69789624e-04, 2.67787855e-04, 2.66680557e-04],\n",
       "       [0.00000000e+00, 1.09356435e-03, 1.19238274e-02, ...,\n",
       "        5.24736951e-04, 5.23098610e-04, 5.22819898e-04],\n",
       "       [0.00000000e+00, 2.09886955e-09, 2.52477633e-07, ...,\n",
       "        9.99205473e-01, 9.99209114e-01, 9.99210500e-01],\n",
       "       ...,\n",
       "       [0.00000000e+00, 1.09356435e-03, 1.19238274e-02, ...,\n",
       "        5.24736951e-04, 5.23098610e-04, 5.22819898e-04],\n",
       "       [0.00000000e+00, 2.09886955e-09, 2.52477633e-07, ...,\n",
       "        9.99205473e-01, 9.99209114e-01, 9.99210500e-01],\n",
       "       [5.00000000e+01, 4.99945322e+01, 4.99403809e+01, ...,\n",
       "        4.99973763e+01, 4.99973845e+01, 4.99973859e+01]])"
      ]
     },
     "execution_count": 72,
     "metadata": {},
     "output_type": "execute_result"
    }
   ],
   "source": [
    "res3.y"
   ]
  },
  {
   "cell_type": "code",
   "execution_count": 73,
   "id": "536bf50a-167a-4f76-9d22-1fa01af45cda",
   "metadata": {},
   "outputs": [],
   "source": [
    "premirna0, pmiR_dicer0, mirna0, premirna1, pmiR_dicer1, mirna1, premirna2, pmiR_dicer2, \\\n",
    "mirna2, premirna3, pmiR_dicer3, mirna3, premirna4, pmiR_dicer4, mirna4, dicer = res3.y"
   ]
  },
  {
   "cell_type": "code",
   "execution_count": 74,
   "id": "541ee5e2-0463-4a18-8148-3a7a9d691271",
   "metadata": {},
   "outputs": [],
   "source": [
    "import matplotlib.pyplot as plt"
   ]
  },
  {
   "cell_type": "code",
   "execution_count": 75,
   "id": "b71f6bfb-0d77-4e9c-b4c9-c9c6aca8a174",
   "metadata": {},
   "outputs": [
    {
     "data": {
      "image/png": "[encoded data removed]",
      "text/plain": [
       "<Figure size 432x288 with 6 Axes>"
      ]
     },
     "metadata": {
      "needs_background": "light"
     },
     "output_type": "display_data"
    }
   ],
   "source": [
    "fig = plt.figure()\n",
    "plt.rc('font', size=12)\n",
    "plt.rcParams['svg.fonttype'] = 'none'\n",
    "\n",
    "ax1 = plt.subplot(2,3,1)\n",
    "ax1.plot(res3.t, mirna0, color = 'C0')\n",
    "ax1.set_ylabel('miR-1 (nM)')\n",
    "ax1.set_xlabel('Time (min)')\n",
    "\n",
    "ax2 = plt.subplot(2,3,2, sharex=ax1, sharey=ax1)\n",
    "ax2.plot(res3.t, mirna1, color = 'C1')\n",
    "ax2.set_ylabel('miR-2 (nM)')\n",
    "ax2.set_xlabel('Time (min)')\n",
    "\n",
    "ax3 = plt.subplot(2,3,3, sharex=ax1, sharey=ax1)\n",
    "ax3.plot(res3.t, mirna2, color = 'C2')\n",
    "ax3.set_ylabel('miR-3 (nM)')\n",
    "ax3.set_xlabel('Time (min)')\n",
    "\n",
    "ax4 = plt.subplot(2,3,4, sharex=ax1, sharey=ax1)\n",
    "ax4.plot(res3.t, mirna3, color = 'C3')\n",
    "ax4.set_ylabel('miR-4 (nM)')\n",
    "ax4.set_xlabel('Time (min)')\n",
    "\n",
    "ax5 = plt.subplot(2,3,5, sharex=ax1, sharey=ax1)\n",
    "ax5.plot(res3.t, mirna4, color = 'C4')\n",
    "ax5.set_ylabel('miR-5 (nM)')\n",
    "ax5.set_xlabel('Time (min)')\n",
    "\n",
    "ax6 = plt.subplot(2,3,6)\n",
    "ax6.plot(res3.t, dicer, color = 'C5')\n",
    "ax6.set_ylabel('Dicer (nM)')\n",
    "ax6.set_xlabel('Time (min)')\n",
    "\n",
    "plt.tight_layout()\n",
    "\n",
    "#fig.savefig(r'./figures/toy_model.svg', dpi = 600, bbox_inches = 'tight')\n",
    "\n",
    "plt.show()"
   ]
  },
  {
   "cell_type": "code",
   "execution_count": null,
   "id": "1b6b52d8-0313-4159-80b6-f24889fc14fd",
   "metadata": {},
   "outputs": [],
   "source": []
  }
 ],
 "metadata": {
  "kernelspec": {
   "display_name": "Python 3 (ipykernel)",
   "language": "python",
   "name": "python3"
  },
  "language_info": {
   "codemirror_mode": {
    "name": "ipython",
    "version": 3
   },
   "file_extension": ".py",
   "mimetype": "text/x-python",
   "name": "python",
   "nbconvert_exporter": "python",
   "pygments_lexer": "ipython3",
   "version": "3.9.13"
  }
 },
 "nbformat": 4,
 "nbformat_minor": 5
}
