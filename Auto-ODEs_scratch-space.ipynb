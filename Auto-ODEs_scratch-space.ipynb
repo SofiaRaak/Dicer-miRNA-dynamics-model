{
 "cells": [
  {
   "cell_type": "code",
   "execution_count": 1,
   "id": "6e67bf84-4967-42ca-b2c1-bbd91cf099d8",
   "metadata": {},
   "outputs": [],
   "source": [
    "import numpy as np"
   ]
  },
  {
   "cell_type": "raw",
   "id": "bfc794cf-9820-41b7-9510-f62062a83db8",
   "metadata": {},
   "source": [
    "lambda syntax:\n",
    "x = lambda a: a + 10\n",
    "y = lambda a, b, c: a+b+c"
   ]
  },
  {
   "cell_type": "code",
   "execution_count": 3,
   "id": "5a0dc8af-0460-4eed-9963-dc7c63d3a96a",
   "metadata": {},
   "outputs": [],
   "source": [
    "pre1 = lambda free, bound, dicer, k1, k2 : bound*k2 - free*dicer*k1"
   ]
  },
  {
   "cell_type": "code",
   "execution_count": 4,
   "id": "fe108c82-5312-4b61-be96-a646f5f42ffc",
   "metadata": {},
   "outputs": [],
   "source": [
    "def auto_generate_ODEs(n):# free, bound, reaction_rates, dicer):\n",
    "    \"\"\"\n",
    "    Function to automatically generate ODEs for model system\n",
    "    \n",
    "    Args:\n",
    "    n (int):                        number of mirnas\n",
    "    #free (list of floats):          concentration of initial free miRNA\n",
    "    #bound (list floats):            concentration of initial bound miRNA\n",
    "    #reaction_rates(list of tuples): reaction rate for binding, unbinding, and \n",
    "                                    maturation of specific miRNA species\n",
    "    #dicer (float):                  dicer concentration\n",
    "    \"\"\"\n",
    "    \n",
    "    frees = []\n",
    "    bounds = []\n",
    "    matures = []\n",
    "    \n",
    "    for i in range(0, n):\n",
    "        frees.append(lambda free, bound, dicer, k1, k2 : bound*k2 - free*dicer*k1)\n",
    "        bounds.append(lambda free, bound, dicer, k1, k2 : free*dicer*k1 - bound*k2)\n",
    "        matures.append(lambda bound, k3 : bound*k3)\n",
    "                       \n",
    "    adds = []\n",
    "    retracts = []\n",
    "    \n",
    "    for i in range(0, n):\n",
    "        adds.append(lambda bound, k2, k3 : bound*(k2 + k3))\n",
    "        retracts.append(lambda free, dicer, k1 : free*dicer*k1)\n",
    "    \n",
    "    return frees, bounds, matures, adds, retracts"
   ]
  },
  {
   "cell_type": "code",
   "execution_count": null,
   "id": "68b5b233-3070-46f6-9382-33ed95f303ba",
   "metadata": {},
   "outputs": [],
   "source": []
  }
 ],
 "metadata": {
  "kernelspec": {
   "display_name": "Python 3 (ipykernel)",
   "language": "python",
   "name": "python3"
  },
  "language_info": {
   "codemirror_mode": {
    "name": "ipython",
    "version": 3
   },
   "file_extension": ".py",
   "mimetype": "text/x-python",
   "name": "python",
   "nbconvert_exporter": "python",
   "pygments_lexer": "ipython3",
   "version": "3.9.7"
  }
 },
 "nbformat": 4,
 "nbformat_minor": 5
}
