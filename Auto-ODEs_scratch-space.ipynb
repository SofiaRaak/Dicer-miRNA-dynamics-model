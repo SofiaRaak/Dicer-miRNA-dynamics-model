{
 "cells": [
  {
   "cell_type": "code",
   "execution_count": 1,
   "id": "6e67bf84-4967-42ca-b2c1-bbd91cf099d8",
   "metadata": {},
   "outputs": [],
   "source": [
    "import numpy as np"
   ]
  },
  {
   "cell_type": "raw",
   "id": "bfc794cf-9820-41b7-9510-f62062a83db8",
   "metadata": {},
   "source": [
    "lambda syntax:\n",
    "x = lambda a: a + 10\n",
    "y = lambda a, b, c: a+b+c"
   ]
  },
  {
   "cell_type": "code",
   "execution_count": 2,
   "id": "5a0dc8af-0460-4eed-9963-dc7c63d3a96a",
   "metadata": {},
   "outputs": [],
   "source": [
    "pre1 = lambda free, bound, dicer, k1, k2 : bound*k2 - free*dicer*k1"
   ]
  },
  {
   "cell_type": "code",
   "execution_count": 3,
   "id": "a6980890-8df8-4c12-a51d-544512ad805b",
   "metadata": {},
   "outputs": [],
   "source": [
    "import params"
   ]
  },
  {
   "cell_type": "code",
   "execution_count": 4,
   "id": "1a82d740-2dd1-4c52-892c-93847e1e11a2",
   "metadata": {},
   "outputs": [],
   "source": [
    "y0 = params.init_values"
   ]
  },
  {
   "cell_type": "code",
   "execution_count": null,
   "id": "1a708b0c-3ea7-447a-b57c-c5bfd8ba995a",
   "metadata": {},
   "outputs": [],
   "source": [
    "m0 = np.array([[]])"
   ]
  },
  {
   "cell_type": "code",
   "execution_count": 4,
   "id": "fe108c82-5312-4b61-be96-a646f5f42ffc",
   "metadata": {},
   "outputs": [],
   "source": [
    "def auto_generate_ODEs(M, Y):# init concentrations, reaction rates):\n",
    "    \"\"\"\n",
    "    Function to automatically generate ODEs based on terms in the system and reaction rates.\n",
    "    \n",
    "    Args:\n",
    "    :param M   matrix of size x,y containing reaction rates in system, where x rows correspond \n",
    "               to the number of ODEs in the system and y columns corresponding to the number of\n",
    "               terms in the system\n",
    "    :param Y   vector of size y containing all terms in the system\n",
    "    \"\"\"\n",
    "    \n",
    "    "
   ]
  },
  {
   "cell_type": "code",
   "execution_count": null,
   "id": "68b5b233-3070-46f6-9382-33ed95f303ba",
   "metadata": {},
   "outputs": [],
   "source": []
  }
 ],
 "metadata": {
  "kernelspec": {
   "display_name": "Python 3 (ipykernel)",
   "language": "python",
   "name": "python3"
  },
  "language_info": {
   "codemirror_mode": {
    "name": "ipython",
    "version": 3
   },
   "file_extension": ".py",
   "mimetype": "text/x-python",
   "name": "python",
   "nbconvert_exporter": "python",
   "pygments_lexer": "ipython3",
   "version": "3.9.7"
  }
 },
 "nbformat": 4,
 "nbformat_minor": 5
}
