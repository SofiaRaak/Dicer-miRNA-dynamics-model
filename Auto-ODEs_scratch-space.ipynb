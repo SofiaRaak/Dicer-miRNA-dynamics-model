{
 "cells": [
  {
   "cell_type": "code",
   "execution_count": 1,
   "id": "6e67bf84-4967-42ca-b2c1-bbd91cf099d8",
   "metadata": {},
   "outputs": [],
   "source": [
    "import numpy as np\n",
    "import numba\n",
    "import params"
   ]
  },
  {
   "cell_type": "code",
   "execution_count": 2,
   "id": "bb6e5532-a132-4798-917f-f6cc3998e20d",
   "metadata": {},
   "outputs": [],
   "source": [
    "species = [(\"preMiR\", 1),\n",
    "          (\"preMiR_Dicer\", 0),\n",
    "          (\"miRNA\", 0),\n",
    "          (\"Dicer\", 50)]"
   ]
  },
  {
   "cell_type": "code",
   "execution_count": 3,
   "id": "8209211e-a1e7-4f2a-b098-afe781d29f5b",
   "metadata": {},
   "outputs": [
    {
     "data": {
      "text/plain": [
       "[('preMiR', 1), ('preMiR_Dicer', 0), ('miRNA', 0), ('Dicer', 50)]"
      ]
     },
     "execution_count": 3,
     "metadata": {},
     "output_type": "execute_result"
    }
   ],
   "source": [
    "species"
   ]
  },
  {
   "cell_type": "code",
   "execution_count": 4,
   "id": "d29d77de-b7ce-4226-89ea-b5c79cc2bfb4",
   "metadata": {},
   "outputs": [],
   "source": [
    "init_dicer, init_premirna1, init_premirna2, init_premirna3, init_premirna4, \\\n",
    "init_premirna5, init_premirna1_dicer, init_premirna2_dicer, init_premirna3_dicer, \\\n",
    "init_premirna4_dicer, init_premirna5_dicer, init_mirna1, init_mirna2, init_mirna3, \\\n",
    "init_mirna4, init_mirna5 = params.init_values"
   ]
  },
  {
   "cell_type": "code",
   "execution_count": 5,
   "id": "e730aa52-2c40-477c-87bb-38a8562c5790",
   "metadata": {},
   "outputs": [],
   "source": [
    "ka1, ka_1, ka2, kb1, kb_1, kb2, kc1, kc_1, kc2, kd1, kd_1, kd2, ke1, ke_1, ke2 = params.theta"
   ]
  },
  {
   "cell_type": "code",
   "execution_count": 6,
   "id": "942f2d6b-e090-418b-aaf2-17594b9f661d",
   "metadata": {},
   "outputs": [],
   "source": [
    "def generateSpecies(num_preMiR, pMiR, dicer_pMiR, miR):\n",
    "    \"\"\"\n",
    "    Function to generate vector of initial concentrations for all species.\n",
    "    \n",
    "    Args:\n",
    "    num_preMiR:    int, number of pre-miRNA species\n",
    "    pMiR:          list of floats, initial concentration of pre-miRNA\n",
    "    dicer_pMiR:    list of floats, initial concentration Dicer and pre-miRNA complexes\n",
    "    miR:           list of floats, initial concentration of miRNA\n",
    "    \"\"\"\n",
    "    \n",
    "    assert num_preMiR == len(pMiR), \"The number of concentrations given do not correspond with the number of species\"\n",
    "    assert num_preMiR == len(dicer_pMiR), \"The number of concentrations given do not correspond with the number of species\"\n",
    "    assert num_preMiR == len(miR), \"The number of concentrations given do not correspond with the number of species\"\n",
    "    \n",
    "    init_concs = [pMiR[0], dicer_pMiR[0]]\n",
    "    init_species = {\"pMiR0\": pMiR[0], \"dicer_pMiR0\": dicer_pMiR[0], \"miR0\": miR[0]}\n",
    "    \n",
    "    for i in range(1, num_preMiR):\n",
    "        init_concs.append(pMiR[i])\n",
    "        init_concs.append(dicer_pMiR[i])\n",
    "        \n",
    "        init_species[\"preMiR\"+str(i)] = pMiR[i]\n",
    "        init_species[\"dicer_preMiR\"+str(i)] = dicer_pMiR[i]\n",
    "        init_species[\"miR\"+str(i)] = miR[i]\n",
    "        \n",
    "    return init_concs, init_species"
   ]
  },
  {
   "cell_type": "code",
   "execution_count": 7,
   "id": "68b5b233-3070-46f6-9382-33ed95f303ba",
   "metadata": {},
   "outputs": [],
   "source": [
    "def generateSystem(num_preMiR, k0, k1, k2):\n",
    "    \"\"\"\n",
    "    Function to generate system of ODEs with n type miRNAs, all with customisable reaction rates.\n",
    "    \n",
    "    Args:\n",
    "    num_preMiR:    int, number of pre-miRNA species\n",
    "    k0:            list of floats, reaction rate for association of Dicer with pre-miRNA\n",
    "    k1:            list of floats, reaction rate for disassociation of Dicer and pre-miRNA\n",
    "    k2:            list of floats, reaction rate for miRNA formation\n",
    "    \"\"\"\n",
    "    \n",
    "    assert num_preMiR == len(k0), \"The number of reaction rates given do not correspond with the number of ODEs in the system\"\n",
    "    assert num_preMiR == len(k1), \"The number of reaction rates given do not correspond with the number of ODEs in the system\"\n",
    "    assert num_preMiR == len(k2), \"The number of reaction rates given do not correspond with the number of ODEs in the system\"\n",
    "    \n",
    "    basic_system = [[k1[0], -k0[0]], #dWT/dt start with dicer_pre-miR, second term dicer x pre-miR\n",
    "              [-(k1[0] + k2[0]), k0[0]], #dDicerWT/dt\n",
    "              [k2[0], 0]] #dmiRNA/dt\n",
    "    dicer = [(k1[0] + k2[0]), -k0[0]] #last index:  dDicer/dt\n",
    "    \n",
    "    for i in range(1, num_preMiR):\n",
    "        \n",
    "        basic_system0 = [[k1[i], -k0[i]], #dWT/dt start with dicer_pre-miR, second term dicer x pre-miR\n",
    "              [-(k1[i] + k2[i]), k0[0]], #dDicerWT/dt\n",
    "              [k2[i], 0]] #dmiRNA/dt\n",
    "        dDicer = [(k1[i] + k2[i]), -k0[i]] #last index:  dDicer/dt\n",
    "        \n",
    "        for j in range(3):\n",
    "            #add empty rows at bottom of matrix\n",
    "            basic_system.append([0]*len(basic_system[0]))\n",
    "        for k in range(len(basic_system)):\n",
    "            if k < len(basic_system) - 3:\n",
    "                #add 0s to end of each row unless last 3\n",
    "                basic_system[k] = basic_system[k] + [0]*2 #to keep it flat\n",
    "            else:\n",
    "                #add correct equation to end of row\n",
    "                if k == len(basic_system) - 3:\n",
    "                    basic_system[k] = basic_system[k] + basic_system0[0][:2]             \n",
    "                elif k == len(basic_system) - 2:\n",
    "                    basic_system[k] = basic_system[k] + basic_system0[1][:2]\n",
    "                elif k == len(basic_system) - 1:\n",
    "                    basic_system[k] = basic_system[k] + basic_system0[2][:2]\n",
    "        #update dicer\n",
    "        dicer = dicer + dDicer\n",
    "        \n",
    "    return basic_system + [dicer]"
   ]
  },
  {
   "cell_type": "code",
   "execution_count": 8,
   "id": "410ce6b9-9a45-4bcd-9699-82587df525d7",
   "metadata": {
    "tags": []
   },
   "outputs": [],
   "source": [
    "test = generateSpecies(5, [init_premirna1]*5, [init_dicer*init_premirna1]*5, \\\n",
    "                       [init_mirna1]*5)"
   ]
  },
  {
   "cell_type": "code",
   "execution_count": 9,
   "id": "9bd435e0-2c4b-4853-8138-a12361f3898a",
   "metadata": {
    "tags": []
   },
   "outputs": [
    {
     "name": "stdout",
     "output_type": "stream",
     "text": [
      "5.08 µs ± 152 ns per loop (mean ± std. dev. of 7 runs, 100000 loops each)\n"
     ]
    }
   ],
   "source": [
    "timeit(generateSpecies(5, [1]*5, [0]*5, [0]*5))"
   ]
  },
  {
   "cell_type": "code",
   "execution_count": 10,
   "id": "87b1bc4d-afbc-4195-b4ea-87a067ad6403",
   "metadata": {},
   "outputs": [
    {
     "data": {
      "text/plain": [
       "[1, 50, 1, 50, 1, 50, 1, 50, 1, 50]"
      ]
     },
     "execution_count": 10,
     "metadata": {},
     "output_type": "execute_result"
    }
   ],
   "source": [
    "test[0]"
   ]
  },
  {
   "cell_type": "code",
   "execution_count": 11,
   "id": "96598981-92b6-4355-bf3e-55a769003571",
   "metadata": {},
   "outputs": [],
   "source": [
    "test2 = generateSystem(5, [ka1]*5, [ka_1]*5, [ka2]*5)"
   ]
  },
  {
   "cell_type": "code",
   "execution_count": 12,
   "id": "3cfb1662-2b7d-4bd8-9b60-8b62588a7cbb",
   "metadata": {},
   "outputs": [
    {
     "data": {
      "text/plain": [
       "16"
      ]
     },
     "execution_count": 12,
     "metadata": {},
     "output_type": "execute_result"
    }
   ],
   "source": [
    "len(test2)"
   ]
  },
  {
   "cell_type": "code",
   "execution_count": 42,
   "id": "7d33c11c-1d03-4bd6-b650-b61bc569a1c1",
   "metadata": {},
   "outputs": [
    {
     "name": "stdout",
     "output_type": "stream",
     "text": [
      "22.7 µs ± 675 ns per loop (mean ± std. dev. of 7 runs, 10000 loops each)\n"
     ]
    }
   ],
   "source": [
    "timeit(generateSystem(5, [ka1]*5, [ka_1]*5, [ka2]*5))"
   ]
  },
  {
   "cell_type": "code",
   "execution_count": null,
   "id": "247fbc7b-802f-4b4d-9e89-6168a57f3a19",
   "metadata": {},
   "outputs": [],
   "source": []
  },
  {
   "cell_type": "code",
   "execution_count": 13,
   "id": "81b72092-1691-4731-8426-91931dd442fc",
   "metadata": {},
   "outputs": [],
   "source": [
    "def test_model(t, init_values, ka, kb, kc):\n",
    "    \"\"\"\n",
    "    Function to pass to generate, pass ODEs to ODE solver.\n",
    "    \n",
    "    Args:\n",
    "    init_values:    Array of initial concentration of each initial concentration of every species, min 4\n",
    "    ka:             Array of reaction rates for formation of pre-miR - dicer commplex\n",
    "    kb:             Array of reaction rates for dissociation of pre-miR - dicer complex\n",
    "    kc:             Array of reaction rates for catalysis of pre-miR to miR by dicer\n",
    "    \"\"\"\n",
    "    \n",
    "    concs_len = len(init_values)\n",
    "    \n",
    "    assert int(concs_len/2) == len(ka), \"The number of reactions do not agree with the number of reaction rates given.\"\n",
    "    assert int(concs_len/2) == len(kb), \"The number of reactions do not agree with the number of reaction rates given.\"\n",
    "    assert int(concs_len/2) == len(kc), \"The number of reactions do not agree with the number of reaction rates given.\"\n",
    "    \n",
    "    ODEs = generateSystem(int(concs_len/2), ka, kb, kc)\n",
    "    #output = [[0]]*len(ODEs)\n",
    "    output = []\n",
    "    \n",
    "    for i in range(len(ODEs)):\n",
    "        #utput[i] = output[i][0] + [(sum(ODEs[i] * init_values))]\n",
    "        #utput.append(sum(ODEs[i] * init_values))\n",
    "        #rint(output[i])\n",
    "        if i == int(len(ODEs) - 1):\n",
    "            exec('dicer = sum(ODEs[i] * init_values)')\n",
    "            exec('output.append(dicer)')\n",
    "            exec('print(i, dicer)')\n",
    "        elif (i + 1) % 3 == 0:\n",
    "            exec('mirna' + str(i) + ' = sum(ODEs[i] * init_values)')\n",
    "            exec('output.append(mirna' + str(i) + ')')\n",
    "            exec('print(i, mirna' + str(i) + ')')\n",
    "        elif (i + 1) % 2 == 0:\n",
    "            exec('pmiR_dicer' + str(i) + ' = sum(ODEs[i] * init_values)')\n",
    "            exec('output.append(pmiR_dicer' + str(i) + ')')\n",
    "            exec('print(i, pmiR_dicer' + str(i) + ')')\n",
    "        else:\n",
    "            exec('pmiR' + str(i) + ' = sum(ODEs[i] * init_values)')\n",
    "            exec('output.append(pmiR' + str(i) + ')')         \n",
    "            exec('print(i, pmiR' + str(i) + ')')\n",
    "                 \n",
    "    return output[:]"
   ]
  },
  {
   "cell_type": "code",
   "execution_count": 14,
   "id": "524d533c-dc56-46d8-bbeb-65cea1f4aeb0",
   "metadata": {},
   "outputs": [],
   "source": [
    "from scipy.integrate import solve_ivp"
   ]
  },
  {
   "cell_type": "code",
   "execution_count": 15,
   "id": "ffbf6efb-928e-41aa-be91-6e18e13b2c90",
   "metadata": {},
   "outputs": [],
   "source": [
    "init_conc = test[0]"
   ]
  },
  {
   "cell_type": "code",
   "execution_count": 138,
   "id": "d7c051a8-cfa1-4d5d-b0d1-d8e899a7ed75",
   "metadata": {
    "collapsed": true,
    "jupyter": {
     "outputs_hidden": true
    },
    "tags": []
   },
   "outputs": [
    {
     "name": "stdout",
     "output_type": "stream",
     "text": [
      "0 -25.30294992\n",
      "1 25.12263892\n",
      "2 0.180311\n",
      "3 -25.30294992\n",
      "4 25.12263892\n",
      "5 0.180311\n",
      "6 -25.30294992\n",
      "7 25.12263892\n",
      "8 0.180311\n",
      "9 -25.30294992\n",
      "10 25.12263892\n",
      "11 0.180311\n",
      "12 -25.30294992\n",
      "13 25.12263892\n",
      "14 0.180311\n",
      "15 -125.6131946\n"
     ]
    },
    {
     "ename": "ValueError",
     "evalue": "operands could not be broadcast together with shapes (16,) (10,) ",
     "output_type": "error",
     "traceback": [
      "\u001b[1;31m---------------------------------------------------------------------------\u001b[0m",
      "\u001b[1;31mValueError\u001b[0m                                Traceback (most recent call last)",
      "\u001b[1;32m~\\AppData\\Local\\Temp/ipykernel_21992/2608451859.py\u001b[0m in \u001b[0;36m<module>\u001b[1;34m\u001b[0m\n\u001b[1;32m----> 1\u001b[1;33m \u001b[0mres1\u001b[0m \u001b[1;33m=\u001b[0m \u001b[0msolve_ivp\u001b[0m\u001b[1;33m(\u001b[0m\u001b[0mtest_model\u001b[0m\u001b[1;33m,\u001b[0m \u001b[1;33m(\u001b[0m\u001b[1;36m0\u001b[0m\u001b[1;33m,\u001b[0m \u001b[0mint\u001b[0m\u001b[1;33m(\u001b[0m\u001b[0mparams\u001b[0m\u001b[1;33m.\u001b[0m\u001b[0mminutes\u001b[0m\u001b[1;33m)\u001b[0m\u001b[1;33m)\u001b[0m\u001b[1;33m,\u001b[0m \u001b[0minit_conc\u001b[0m\u001b[1;33m,\u001b[0m \u001b[0margs\u001b[0m\u001b[1;33m=\u001b[0m\u001b[1;33m(\u001b[0m\u001b[1;33m[\u001b[0m\u001b[0mka1\u001b[0m\u001b[1;33m]\u001b[0m\u001b[1;33m*\u001b[0m\u001b[1;36m5\u001b[0m\u001b[1;33m,\u001b[0m \u001b[1;33m[\u001b[0m\u001b[0mka_1\u001b[0m\u001b[1;33m]\u001b[0m\u001b[1;33m*\u001b[0m\u001b[1;36m5\u001b[0m\u001b[1;33m,\u001b[0m \u001b[1;33m[\u001b[0m\u001b[0mka2\u001b[0m\u001b[1;33m]\u001b[0m\u001b[1;33m*\u001b[0m\u001b[1;36m5\u001b[0m\u001b[1;33m)\u001b[0m\u001b[1;33m)\u001b[0m\u001b[1;33m\u001b[0m\u001b[1;33m\u001b[0m\u001b[0m\n\u001b[0m",
      "\u001b[1;32m~\\Anaconda3\\lib\\site-packages\\scipy\\integrate\\_ivp\\ivp.py\u001b[0m in \u001b[0;36msolve_ivp\u001b[1;34m(fun, t_span, y0, method, t_eval, dense_output, events, vectorized, args, **options)\u001b[0m\n\u001b[0;32m    553\u001b[0m         \u001b[0mmethod\u001b[0m \u001b[1;33m=\u001b[0m \u001b[0mMETHODS\u001b[0m\u001b[1;33m[\u001b[0m\u001b[0mmethod\u001b[0m\u001b[1;33m]\u001b[0m\u001b[1;33m\u001b[0m\u001b[1;33m\u001b[0m\u001b[0m\n\u001b[0;32m    554\u001b[0m \u001b[1;33m\u001b[0m\u001b[0m\n\u001b[1;32m--> 555\u001b[1;33m     \u001b[0msolver\u001b[0m \u001b[1;33m=\u001b[0m \u001b[0mmethod\u001b[0m\u001b[1;33m(\u001b[0m\u001b[0mfun\u001b[0m\u001b[1;33m,\u001b[0m \u001b[0mt0\u001b[0m\u001b[1;33m,\u001b[0m \u001b[0my0\u001b[0m\u001b[1;33m,\u001b[0m \u001b[0mtf\u001b[0m\u001b[1;33m,\u001b[0m \u001b[0mvectorized\u001b[0m\u001b[1;33m=\u001b[0m\u001b[0mvectorized\u001b[0m\u001b[1;33m,\u001b[0m \u001b[1;33m**\u001b[0m\u001b[0moptions\u001b[0m\u001b[1;33m)\u001b[0m\u001b[1;33m\u001b[0m\u001b[1;33m\u001b[0m\u001b[0m\n\u001b[0m\u001b[0;32m    556\u001b[0m \u001b[1;33m\u001b[0m\u001b[0m\n\u001b[0;32m    557\u001b[0m     \u001b[1;32mif\u001b[0m \u001b[0mt_eval\u001b[0m \u001b[1;32mis\u001b[0m \u001b[1;32mNone\u001b[0m\u001b[1;33m:\u001b[0m\u001b[1;33m\u001b[0m\u001b[1;33m\u001b[0m\u001b[0m\n",
      "\u001b[1;32m~\\Anaconda3\\lib\\site-packages\\scipy\\integrate\\_ivp\\rk.py\u001b[0m in \u001b[0;36m__init__\u001b[1;34m(self, fun, t0, y0, t_bound, max_step, rtol, atol, vectorized, first_step, **extraneous)\u001b[0m\n\u001b[0;32m     94\u001b[0m         \u001b[0mself\u001b[0m\u001b[1;33m.\u001b[0m\u001b[0mf\u001b[0m \u001b[1;33m=\u001b[0m \u001b[0mself\u001b[0m\u001b[1;33m.\u001b[0m\u001b[0mfun\u001b[0m\u001b[1;33m(\u001b[0m\u001b[0mself\u001b[0m\u001b[1;33m.\u001b[0m\u001b[0mt\u001b[0m\u001b[1;33m,\u001b[0m \u001b[0mself\u001b[0m\u001b[1;33m.\u001b[0m\u001b[0my\u001b[0m\u001b[1;33m)\u001b[0m\u001b[1;33m\u001b[0m\u001b[1;33m\u001b[0m\u001b[0m\n\u001b[0;32m     95\u001b[0m         \u001b[1;32mif\u001b[0m \u001b[0mfirst_step\u001b[0m \u001b[1;32mis\u001b[0m \u001b[1;32mNone\u001b[0m\u001b[1;33m:\u001b[0m\u001b[1;33m\u001b[0m\u001b[1;33m\u001b[0m\u001b[0m\n\u001b[1;32m---> 96\u001b[1;33m             self.h_abs = select_initial_step(\n\u001b[0m\u001b[0;32m     97\u001b[0m                 \u001b[0mself\u001b[0m\u001b[1;33m.\u001b[0m\u001b[0mfun\u001b[0m\u001b[1;33m,\u001b[0m \u001b[0mself\u001b[0m\u001b[1;33m.\u001b[0m\u001b[0mt\u001b[0m\u001b[1;33m,\u001b[0m \u001b[0mself\u001b[0m\u001b[1;33m.\u001b[0m\u001b[0my\u001b[0m\u001b[1;33m,\u001b[0m \u001b[0mself\u001b[0m\u001b[1;33m.\u001b[0m\u001b[0mf\u001b[0m\u001b[1;33m,\u001b[0m \u001b[0mself\u001b[0m\u001b[1;33m.\u001b[0m\u001b[0mdirection\u001b[0m\u001b[1;33m,\u001b[0m\u001b[1;33m\u001b[0m\u001b[1;33m\u001b[0m\u001b[0m\n\u001b[0;32m     98\u001b[0m                 self.error_estimator_order, self.rtol, self.atol)\n",
      "\u001b[1;32m~\\Anaconda3\\lib\\site-packages\\scipy\\integrate\\_ivp\\common.py\u001b[0m in \u001b[0;36mselect_initial_step\u001b[1;34m(fun, t0, y0, f0, direction, order, rtol, atol)\u001b[0m\n\u001b[0;32m    104\u001b[0m     \u001b[0mscale\u001b[0m \u001b[1;33m=\u001b[0m \u001b[0matol\u001b[0m \u001b[1;33m+\u001b[0m \u001b[0mnp\u001b[0m\u001b[1;33m.\u001b[0m\u001b[0mabs\u001b[0m\u001b[1;33m(\u001b[0m\u001b[0my0\u001b[0m\u001b[1;33m)\u001b[0m \u001b[1;33m*\u001b[0m \u001b[0mrtol\u001b[0m\u001b[1;33m\u001b[0m\u001b[1;33m\u001b[0m\u001b[0m\n\u001b[0;32m    105\u001b[0m     \u001b[0md0\u001b[0m \u001b[1;33m=\u001b[0m \u001b[0mnorm\u001b[0m\u001b[1;33m(\u001b[0m\u001b[0my0\u001b[0m \u001b[1;33m/\u001b[0m \u001b[0mscale\u001b[0m\u001b[1;33m)\u001b[0m\u001b[1;33m\u001b[0m\u001b[1;33m\u001b[0m\u001b[0m\n\u001b[1;32m--> 106\u001b[1;33m     \u001b[0md1\u001b[0m \u001b[1;33m=\u001b[0m \u001b[0mnorm\u001b[0m\u001b[1;33m(\u001b[0m\u001b[0mf0\u001b[0m \u001b[1;33m/\u001b[0m \u001b[0mscale\u001b[0m\u001b[1;33m)\u001b[0m\u001b[1;33m\u001b[0m\u001b[1;33m\u001b[0m\u001b[0m\n\u001b[0m\u001b[0;32m    107\u001b[0m     \u001b[1;32mif\u001b[0m \u001b[0md0\u001b[0m \u001b[1;33m<\u001b[0m \u001b[1;36m1e-5\u001b[0m \u001b[1;32mor\u001b[0m \u001b[0md1\u001b[0m \u001b[1;33m<\u001b[0m \u001b[1;36m1e-5\u001b[0m\u001b[1;33m:\u001b[0m\u001b[1;33m\u001b[0m\u001b[1;33m\u001b[0m\u001b[0m\n\u001b[0;32m    108\u001b[0m         \u001b[0mh0\u001b[0m \u001b[1;33m=\u001b[0m \u001b[1;36m1e-6\u001b[0m\u001b[1;33m\u001b[0m\u001b[1;33m\u001b[0m\u001b[0m\n",
      "\u001b[1;31mValueError\u001b[0m: operands could not be broadcast together with shapes (16,) (10,) "
     ]
    }
   ],
   "source": [
    "res1 = solve_ivp(test_model, (0, int(params.minutes)), init_conc, \\\n",
    "                 args=([ka1]*5, [ka_1]*5, [ka2]*5))"
   ]
  },
  {
   "cell_type": "code",
   "execution_count": 39,
   "id": "df5b0c15-6313-4e24-927c-d46156655e57",
   "metadata": {},
   "outputs": [],
   "source": [
    "def dynamic_model(t, init_values, ka, kb, kc):\n",
    "    \"\"\"\n",
    "    Dynamic model for ODE system creation and solving\n",
    "    \n",
    "    init_values:    List of initial concentration of free pre-miRNA concentration for\n",
    "                    each pre-mirna, pre-mirna x dicer concentration and dicer \n",
    "                    concentration. Alternating pre-mirna (a) and pre-mirna dicer (b),\n",
    "                    with final dicer concentration (c) i.e. [a, b, a, b, a, b, c]\n",
    "    ka:             Array of reaction rates for formation of pre-miR - dicer commplex\n",
    "    kb:             Array of reaction rates for dissociation of pre-miR - dicer complex\n",
    "    kc:             Array of reaction rates for catalysis of pre-miR to miR by dicer\n",
    "    \"\"\"\n",
    "    \n",
    "    assert (len(init_values)-1) % 2 == 0, \"You have supplied an uneven number of \\\n",
    "    pre-mirna, dicer x pre-mirna concentrations\"\n",
    "    assert int((len(init_values) - 1)/2) == len(ka), \"The number of reactions do not \\\n",
    "    agree with the number of reaction rates given.\"\n",
    "    assert int((len(init_values) - 1)/2) == len(kb), \"The number of reactions do not \\\n",
    "    agree with the number of reaction rates given.\"\n",
    "    assert int((len(init_values) - 1)/2) == len(kc), \"The number of reactions do not \\\n",
    "    agree with the number of reaction rates given.\"\n",
    "    \n",
    "    #calculate number of miRNAs\n",
    "    n_mirna = int(len(init_values)/2)\n",
    "    \n",
    "    output = []\n",
    "    dicer_strings = \"\"\n",
    "    \n",
    "    for i in range(n_mirna):\n",
    "        exec('premirna' + str(i) + ' = init_values[i+1] * kb[i] - \\\n",
    "        init_values[i] * init_values[-1] * ka[i]')\n",
    "        exec('output.append(premirna' + str(i) + ')')\n",
    "        \n",
    "        exec('pmiR_dicer' + str(i) + ' = init_values[i] * init_values[-1] * ka[i] - \\\n",
    "        init_values[i+1] * kb[i]')\n",
    "        exec('output.append(pmiR_dicer' + str(i) + ')')\n",
    "        \n",
    "        exec('mirna' + str(i) + ' = init_values[i+1] * kc[i]')\n",
    "        exec('output.append(mirna' + str(i) + ')')\n",
    "    \n",
    "        if i == 0:\n",
    "            dicer_strings = dicer_strings + 'init_values[i+1] * (kb[i] + kc[i]) - \\\n",
    "            init_values[-1] * init_values[i] * ka[i]'\n",
    "        \n",
    "        else:\n",
    "            dicer_strings = dicer_strings + '+ init_values[i+1] * (kb[i] + kc[i]) - \\\n",
    "            init_values[-1] * init_values[i] * ka[i]'\n",
    "    \n",
    "    exec('dicer = ' + dicer_strings)\n",
    "    exec('output.append(dicer)')\n",
    "    \n",
    "    return output\n",
    "    "
   ]
  },
  {
   "cell_type": "code",
   "execution_count": 122,
   "id": "3ef202b2-6f7f-410f-942e-1538c449f9b6",
   "metadata": {
    "tags": []
   },
   "outputs": [],
   "source": [
    "def make_inits(num_preMiR, pMiR, dicer_pMiR, miR, dicer):\n",
    "    \"\"\"\n",
    "    Function to generate vector of initial concentrations for all species.\n",
    "    \n",
    "    Args:\n",
    "    num_preMiR:    int, number of pre-miRNA species\n",
    "    pMiR:          list of floats, initial concentration of pre-miRNA\n",
    "    dicer_pMiR:    list of floats, initial concentration Dicer and pre-miRNA complexes\n",
    "    miR:           list of floats, initial concentration of mature miRNA\n",
    "    dicer:         float, initial concentration of dicer\n",
    "    \"\"\"\n",
    "    \n",
    "    assert num_preMiR == len(pMiR), \"The number of concentrations given do \\\n",
    "    not correspond with the number of species\"\n",
    "    assert num_preMiR == len(dicer_pMiR), \"The number of concentrations given do not \\\n",
    "    correspond with the number of species\"\n",
    "    \n",
    "    init_concs = [pMiR[0], dicer_pMiR[0], miR[0]]\n",
    "    init_species = {\"pMiR0\": pMiR[0], \"dicer_pMiR0\": dicer_pMiR[0], \"miR\": miR[0]}\n",
    "    \n",
    "    for i in range(1, num_preMiR):\n",
    "        init_concs.append(pMiR[i])\n",
    "        init_concs.append(dicer_pMiR[i])\n",
    "        init_concs.append(miR[i])\n",
    "        \n",
    "        init_species[\"preMiR\"+str(i)] = pMiR[i]\n",
    "        init_species[\"dicer_preMiR\"+str(i)] = dicer_pMiR[i]\n",
    "        init_species[\"miR\"+str(i)] = miR[i]\n",
    "    \n",
    "    init_concs.append(dicer)\n",
    "    init_species[\"dicer\"] = dicer\n",
    "        \n",
    "    return init_concs, init_species"
   ]
  },
  {
   "cell_type": "code",
   "execution_count": 125,
   "id": "12c7744b-3ca9-415c-84f3-60b7c5ff151c",
   "metadata": {},
   "outputs": [],
   "source": [
    "inits = make_inits(5, [params.init_premirna1] * 5, [params.init_premirna1_dicer] * 5, \\\n",
    "                   [params.init_mirna1]*5, params.init_dicer)"
   ]
  },
  {
   "cell_type": "code",
   "execution_count": 126,
   "id": "5b06a9a7-f9f2-4e3f-b83d-a05c90477e32",
   "metadata": {},
   "outputs": [
    {
     "data": {
      "text/plain": [
       "([1, 0, 0, 1, 0, 0, 1, 0, 0, 1, 0, 0, 1, 0, 0, 50],\n",
       " {'pMiR0': 1,\n",
       "  'dicer_pMiR0': 0,\n",
       "  'miR': 0,\n",
       "  'preMiR1': 1,\n",
       "  'dicer_preMiR1': 0,\n",
       "  'miR1': 0,\n",
       "  'preMiR2': 1,\n",
       "  'dicer_preMiR2': 0,\n",
       "  'miR2': 0,\n",
       "  'preMiR3': 1,\n",
       "  'dicer_preMiR3': 0,\n",
       "  'miR3': 0,\n",
       "  'preMiR4': 1,\n",
       "  'dicer_preMiR4': 0,\n",
       "  'miR4': 0,\n",
       "  'dicer': 50})"
      ]
     },
     "execution_count": 126,
     "metadata": {},
     "output_type": "execute_result"
    }
   ],
   "source": [
    "inits"
   ]
  },
  {
   "cell_type": "code",
   "execution_count": 54,
   "id": "8a31219e-092b-41b2-97b6-1da4c980c650",
   "metadata": {
    "collapsed": true,
    "jupyter": {
     "outputs_hidden": true
    },
    "tags": []
   },
   "outputs": [
    {
     "ename": "ValueError",
     "evalue": "operands could not be broadcast together with shapes (16,) (11,) ",
     "output_type": "error",
     "traceback": [
      "\u001b[1;31m---------------------------------------------------------------------------\u001b[0m",
      "\u001b[1;31mValueError\u001b[0m                                Traceback (most recent call last)",
      "\u001b[1;32m~\\AppData\\Local\\Temp/ipykernel_11860/4124639448.py\u001b[0m in \u001b[0;36m<module>\u001b[1;34m\u001b[0m\n\u001b[1;32m----> 1\u001b[1;33m res2 = solve_ivp(dynamic_model, (0, int(params.minutes)), inits[0], \\\n\u001b[0m\u001b[0;32m      2\u001b[0m                  args=([ka1]*5, [ka_1]*5, [ka2]*5))\n",
      "\u001b[1;32m~\\Anaconda3\\lib\\site-packages\\scipy\\integrate\\_ivp\\ivp.py\u001b[0m in \u001b[0;36msolve_ivp\u001b[1;34m(fun, t_span, y0, method, t_eval, dense_output, events, vectorized, args, **options)\u001b[0m\n\u001b[0;32m    553\u001b[0m         \u001b[0mmethod\u001b[0m \u001b[1;33m=\u001b[0m \u001b[0mMETHODS\u001b[0m\u001b[1;33m[\u001b[0m\u001b[0mmethod\u001b[0m\u001b[1;33m]\u001b[0m\u001b[1;33m\u001b[0m\u001b[1;33m\u001b[0m\u001b[0m\n\u001b[0;32m    554\u001b[0m \u001b[1;33m\u001b[0m\u001b[0m\n\u001b[1;32m--> 555\u001b[1;33m     \u001b[0msolver\u001b[0m \u001b[1;33m=\u001b[0m \u001b[0mmethod\u001b[0m\u001b[1;33m(\u001b[0m\u001b[0mfun\u001b[0m\u001b[1;33m,\u001b[0m \u001b[0mt0\u001b[0m\u001b[1;33m,\u001b[0m \u001b[0my0\u001b[0m\u001b[1;33m,\u001b[0m \u001b[0mtf\u001b[0m\u001b[1;33m,\u001b[0m \u001b[0mvectorized\u001b[0m\u001b[1;33m=\u001b[0m\u001b[0mvectorized\u001b[0m\u001b[1;33m,\u001b[0m \u001b[1;33m**\u001b[0m\u001b[0moptions\u001b[0m\u001b[1;33m)\u001b[0m\u001b[1;33m\u001b[0m\u001b[1;33m\u001b[0m\u001b[0m\n\u001b[0m\u001b[0;32m    556\u001b[0m \u001b[1;33m\u001b[0m\u001b[0m\n\u001b[0;32m    557\u001b[0m     \u001b[1;32mif\u001b[0m \u001b[0mt_eval\u001b[0m \u001b[1;32mis\u001b[0m \u001b[1;32mNone\u001b[0m\u001b[1;33m:\u001b[0m\u001b[1;33m\u001b[0m\u001b[1;33m\u001b[0m\u001b[0m\n",
      "\u001b[1;32m~\\Anaconda3\\lib\\site-packages\\scipy\\integrate\\_ivp\\rk.py\u001b[0m in \u001b[0;36m__init__\u001b[1;34m(self, fun, t0, y0, t_bound, max_step, rtol, atol, vectorized, first_step, **extraneous)\u001b[0m\n\u001b[0;32m     94\u001b[0m         \u001b[0mself\u001b[0m\u001b[1;33m.\u001b[0m\u001b[0mf\u001b[0m \u001b[1;33m=\u001b[0m \u001b[0mself\u001b[0m\u001b[1;33m.\u001b[0m\u001b[0mfun\u001b[0m\u001b[1;33m(\u001b[0m\u001b[0mself\u001b[0m\u001b[1;33m.\u001b[0m\u001b[0mt\u001b[0m\u001b[1;33m,\u001b[0m \u001b[0mself\u001b[0m\u001b[1;33m.\u001b[0m\u001b[0my\u001b[0m\u001b[1;33m)\u001b[0m\u001b[1;33m\u001b[0m\u001b[1;33m\u001b[0m\u001b[0m\n\u001b[0;32m     95\u001b[0m         \u001b[1;32mif\u001b[0m \u001b[0mfirst_step\u001b[0m \u001b[1;32mis\u001b[0m \u001b[1;32mNone\u001b[0m\u001b[1;33m:\u001b[0m\u001b[1;33m\u001b[0m\u001b[1;33m\u001b[0m\u001b[0m\n\u001b[1;32m---> 96\u001b[1;33m             self.h_abs = select_initial_step(\n\u001b[0m\u001b[0;32m     97\u001b[0m                 \u001b[0mself\u001b[0m\u001b[1;33m.\u001b[0m\u001b[0mfun\u001b[0m\u001b[1;33m,\u001b[0m \u001b[0mself\u001b[0m\u001b[1;33m.\u001b[0m\u001b[0mt\u001b[0m\u001b[1;33m,\u001b[0m \u001b[0mself\u001b[0m\u001b[1;33m.\u001b[0m\u001b[0my\u001b[0m\u001b[1;33m,\u001b[0m \u001b[0mself\u001b[0m\u001b[1;33m.\u001b[0m\u001b[0mf\u001b[0m\u001b[1;33m,\u001b[0m \u001b[0mself\u001b[0m\u001b[1;33m.\u001b[0m\u001b[0mdirection\u001b[0m\u001b[1;33m,\u001b[0m\u001b[1;33m\u001b[0m\u001b[1;33m\u001b[0m\u001b[0m\n\u001b[0;32m     98\u001b[0m                 self.error_estimator_order, self.rtol, self.atol)\n",
      "\u001b[1;32m~\\Anaconda3\\lib\\site-packages\\scipy\\integrate\\_ivp\\common.py\u001b[0m in \u001b[0;36mselect_initial_step\u001b[1;34m(fun, t0, y0, f0, direction, order, rtol, atol)\u001b[0m\n\u001b[0;32m    104\u001b[0m     \u001b[0mscale\u001b[0m \u001b[1;33m=\u001b[0m \u001b[0matol\u001b[0m \u001b[1;33m+\u001b[0m \u001b[0mnp\u001b[0m\u001b[1;33m.\u001b[0m\u001b[0mabs\u001b[0m\u001b[1;33m(\u001b[0m\u001b[0my0\u001b[0m\u001b[1;33m)\u001b[0m \u001b[1;33m*\u001b[0m \u001b[0mrtol\u001b[0m\u001b[1;33m\u001b[0m\u001b[1;33m\u001b[0m\u001b[0m\n\u001b[0;32m    105\u001b[0m     \u001b[0md0\u001b[0m \u001b[1;33m=\u001b[0m \u001b[0mnorm\u001b[0m\u001b[1;33m(\u001b[0m\u001b[0my0\u001b[0m \u001b[1;33m/\u001b[0m \u001b[0mscale\u001b[0m\u001b[1;33m)\u001b[0m\u001b[1;33m\u001b[0m\u001b[1;33m\u001b[0m\u001b[0m\n\u001b[1;32m--> 106\u001b[1;33m     \u001b[0md1\u001b[0m \u001b[1;33m=\u001b[0m \u001b[0mnorm\u001b[0m\u001b[1;33m(\u001b[0m\u001b[0mf0\u001b[0m \u001b[1;33m/\u001b[0m \u001b[0mscale\u001b[0m\u001b[1;33m)\u001b[0m\u001b[1;33m\u001b[0m\u001b[1;33m\u001b[0m\u001b[0m\n\u001b[0m\u001b[0;32m    107\u001b[0m     \u001b[1;32mif\u001b[0m \u001b[0md0\u001b[0m \u001b[1;33m<\u001b[0m \u001b[1;36m1e-5\u001b[0m \u001b[1;32mor\u001b[0m \u001b[0md1\u001b[0m \u001b[1;33m<\u001b[0m \u001b[1;36m1e-5\u001b[0m\u001b[1;33m:\u001b[0m\u001b[1;33m\u001b[0m\u001b[1;33m\u001b[0m\u001b[0m\n\u001b[0;32m    108\u001b[0m         \u001b[0mh0\u001b[0m \u001b[1;33m=\u001b[0m \u001b[1;36m1e-6\u001b[0m\u001b[1;33m\u001b[0m\u001b[1;33m\u001b[0m\u001b[0m\n",
      "\u001b[1;31mValueError\u001b[0m: operands could not be broadcast together with shapes (16,) (11,) "
     ]
    }
   ],
   "source": [
    "res2 = solve_ivp(dynamic_model, (0, int(params.minutes)), inits[0], \\\n",
    "                 args=([ka1]*5, [ka_1]*5, [ka2]*5))"
   ]
  },
  {
   "cell_type": "code",
   "execution_count": null,
   "id": "166a3453-49ec-4625-8f47-c6715637bfce",
   "metadata": {},
   "outputs": [],
   "source": []
  },
  {
   "cell_type": "code",
   "execution_count": 165,
   "id": "ab37ba83-5658-419b-9576-c78fe3962c8d",
   "metadata": {},
   "outputs": [],
   "source": [
    "def makeModel(init_vals, ka, kb, kc):\n",
    "    \"\"\"\n",
    "    Function to generate string of functions for passing to ODE solver\n",
    "    \n",
    "    init_vals:      List of initial concentration of free pre-miRNA concentration for\n",
    "                    each pre-mirna, pre-mirna x dicer concentration, mirna concentration\n",
    "                    and dicer concentration. Alternating pre-mirna (a), pre-mirna dicer (b),\n",
    "                    and mirna(c), with final dicer concentration (d), i.e. [a, b, c, a, b, c, d]\n",
    "    ka:             Array of reaction rates for formation of pre-miR - dicer commplex\n",
    "    kb:             Array of reaction rates for dissociation of pre-miR - dicer complex\n",
    "    kc:             Array of reaction rates for catalysis of pre-miR to miR by dicer\n",
    "    \n",
    "    Outputs a string with all functions separated by new lines.\n",
    "    \"\"\"\n",
    "    \n",
    "    assert (len(init_vals)-1) % 3 == 0, \"You have supplied an uneven number of concentrations\"\n",
    "    assert int((len(init_vals) - 1)/3) == len(ka), \"The number of reactions do not \\\n",
    "    agree with the number of reaction rates given.\"\n",
    "    assert int((len(init_vals) - 1)/3) == len(kb), \"The number of reactions do not \\\n",
    "    agree with the number of reaction rates given.\"\n",
    "    assert int((len(init_vals) - 1)/3) == len(kc), \"The number of reactions do not \\\n",
    "    agree with the number of reaction rates given.\"\n",
    "    \n",
    "    #calculate number of miRNAs\n",
    "    n_mirna = int((len(init_vals) - 1)/3)\n",
    "    output = \"\"\n",
    "    names = \"\"\n",
    "    concs = \"\"\n",
    "    dicer_strings = \"    dicer = \"\n",
    "    \n",
    "    #subset init_vals to include only premirna, mirna\n",
    "    init_values = []\n",
    "    \n",
    "    for i in range(0, int(len(init_vals)-1), 3):\n",
    "        init_values.append(init_vals[i])\n",
    "        init_values.append(init_vals[i+1])\n",
    "    \n",
    "    init_values.append(init_vals[-1])\n",
    "    \n",
    "    for i in range(n_mirna):\n",
    "        output = output + '\\n    premirna' + str(i) + ' = init_values[' + str(i+1) + '] * kb[' + str(i) + '] - init_values[' + str(i) + '] * init_values[-1] * ka[' + str(i) + ']' + '\\n    pmiR_dicer' + str(i) + ' = init_values[' + str(i) + '] * init_values[-1] * ka[' + str(i) + '] - init_values[' + str(i+1) + '] * kb[' + str(i) + ']' + '\\n    mirna' + str(i) + ' = init_values[' + str(i+1) + '] * kc[' + str(i) + ']'\n",
    "        \n",
    "        if i == 0:\n",
    "            dicer_strings = dicer_strings + 'init_values[' + str(i+1) + '] * (kb[' + str(i) + '] + kc[' + str(i) + ']) - init_values[-1] * init_values[' + str(i) + '] * ka[' + str(i) + ']'\n",
    "            names = names + 'premirna' + str(i) + ', pmiR_dicer' + str(i) + ', mirna' + str(i)\n",
    "        \n",
    "        else:\n",
    "            dicer_strings = dicer_strings + '+ init_values[' + str(i+1) + '] * (kb[' + str(i) + '] + kc[' + str(i) + ']) - init_values[-1] * init_values[' + str(i) + '] * ka[' + str(i) + ']'\n",
    "            names = names + ', premirna' + str(i) + ', pmiR_dicer' + str(i) + ', mirna' + str(i)\n",
    "    \n",
    "    output = output + '\\n' + dicer_strings\n",
    "    names = names + ', dicer'\n",
    "    \n",
    "    return output, names"
   ]
  },
  {
   "cell_type": "code",
   "execution_count": 166,
   "id": "1a383099-1fc4-47b4-bfaf-8d1700d205c8",
   "metadata": {},
   "outputs": [
    {
     "data": {
      "text/plain": [
       "[1, 0, 0, 1, 0, 0, 1, 0, 0, 1, 0, 0, 1, 0, 0, 50]"
      ]
     },
     "execution_count": 166,
     "metadata": {},
     "output_type": "execute_result"
    }
   ],
   "source": [
    "inits[0]"
   ]
  },
  {
   "cell_type": "code",
   "execution_count": 167,
   "id": "513bfa91-4fe3-4dd5-8f9f-cf56f0874eee",
   "metadata": {},
   "outputs": [],
   "source": [
    "ODEs = makeModel(inits[0], [ka1]*5, [ka_1]*5, [ka2]*5)"
   ]
  },
  {
   "cell_type": "code",
   "execution_count": 168,
   "id": "9ff55181-12b9-48b7-9b27-9773d5b39aa1",
   "metadata": {},
   "outputs": [
    {
     "name": "stdout",
     "output_type": "stream",
     "text": [
      "\n",
      "    premirna0 = init_values[1] * kb[0] - init_values[0] * init_values[-1] * ka[0]\n",
      "    pmiR_dicer0 = init_values[0] * init_values[-1] * ka[0] - init_values[1] * kb[0]\n",
      "    mirna0 = init_values[1] * kc[0]\n",
      "    premirna1 = init_values[2] * kb[1] - init_values[1] * init_values[-1] * ka[1]\n",
      "    pmiR_dicer1 = init_values[1] * init_values[-1] * ka[1] - init_values[2] * kb[1]\n",
      "    mirna1 = init_values[2] * kc[1]\n",
      "    premirna2 = init_values[3] * kb[2] - init_values[2] * init_values[-1] * ka[2]\n",
      "    pmiR_dicer2 = init_values[2] * init_values[-1] * ka[2] - init_values[3] * kb[2]\n",
      "    mirna2 = init_values[3] * kc[2]\n",
      "    premirna3 = init_values[4] * kb[3] - init_values[3] * init_values[-1] * ka[3]\n",
      "    pmiR_dicer3 = init_values[3] * init_values[-1] * ka[3] - init_values[4] * kb[3]\n",
      "    mirna3 = init_values[4] * kc[3]\n",
      "    premirna4 = init_values[5] * kb[4] - init_values[4] * init_values[-1] * ka[4]\n",
      "    pmiR_dicer4 = init_values[4] * init_values[-1] * ka[4] - init_values[5] * kb[4]\n",
      "    mirna4 = init_values[5] * kc[4]\n",
      "    dicer = init_values[1] * (kb[0] + kc[0]) - init_values[-1] * init_values[0] * ka[0]+ init_values[2] * (kb[1] + kc[1]) - init_values[-1] * init_values[1] * ka[1]+ init_values[3] * (kb[2] + kc[2]) - init_values[-1] * init_values[2] * ka[2]+ init_values[4] * (kb[3] + kc[3]) - init_values[-1] * init_values[3] * ka[3]+ init_values[5] * (kb[4] + kc[4]) - init_values[-1] * init_values[4] * ka[4]\n"
     ]
    }
   ],
   "source": [
    "print(ODEs[0])"
   ]
  },
  {
   "cell_type": "code",
   "execution_count": 169,
   "id": "30aa4a56-bfd2-4eb9-8ff1-d40c482d2fdc",
   "metadata": {},
   "outputs": [],
   "source": [
    "exec('''def makeModel(t, init_vals, ka, kb, kc):\n",
    "    \"\"\"\n",
    "    Function to execute model, run it in ODE solver\n",
    "    \n",
    "    init_vals:      List of initial concentration of free pre-miRNA concentration for\n",
    "                    each pre-mirna, pre-mirna x dicer concentration, mirna concentration\n",
    "                    and dicer concentration. Alternating pre-mirna (a), pre-mirna dicer (b),\n",
    "                    and mirna(c), with final dicer concentration (d), i.e. [a, b, c, a, b, c, d]\n",
    "    ka:             Array of reaction rates for formation of pre-miR - dicer commplex\n",
    "    kb:             Array of reaction rates for dissociation of pre-miR - dicer complex\n",
    "    kc:             Array of reaction rates for catalysis of pre-miR to miR by dicer\n",
    "    \"\"\"\n",
    "    \n",
    "    ''' + ODEs[0] + '''\n",
    "    \n",
    "    return ''' + ODEs[1])     "
   ]
  },
  {
   "cell_type": "code",
   "execution_count": 170,
   "id": "5c80c84c-e594-4f9a-8ecf-24d1509e6c31",
   "metadata": {},
   "outputs": [
    {
     "name": "stdout",
     "output_type": "stream",
     "text": [
      "Help on function makeModel in module __main__:\n",
      "\n",
      "makeModel(t, init_vals, ka, kb, kc)\n",
      "    Function to execute model, run it in ODE solver\n",
      "    \n",
      "    init_vals:      List of initial concentration of free pre-miRNA concentration for\n",
      "                    each pre-mirna, pre-mirna x dicer concentration, mirna concentration\n",
      "                    and dicer concentration. Alternating pre-mirna (a), pre-mirna dicer (b),\n",
      "                    and mirna(c), with final dicer concentration (d), i.e. [a, b, c, a, b, c, d]\n",
      "    ka:             Array of reaction rates for formation of pre-miR - dicer commplex\n",
      "    kb:             Array of reaction rates for dissociation of pre-miR - dicer complex\n",
      "    kc:             Array of reaction rates for catalysis of pre-miR to miR by dicer\n",
      "\n"
     ]
    }
   ],
   "source": [
    "help(makeModel)"
   ]
  },
  {
   "cell_type": "code",
   "execution_count": 172,
   "id": "54274f14-75de-4cba-9322-658117eaeb95",
   "metadata": {},
   "outputs": [
    {
     "ename": "NameError",
     "evalue": "name 'init_values' is not defined",
     "output_type": "error",
     "traceback": [
      "\u001b[1;31m---------------------------------------------------------------------------\u001b[0m",
      "\u001b[1;31mNameError\u001b[0m                                 Traceback (most recent call last)",
      "\u001b[1;32m~\\AppData\\Local\\Temp/ipykernel_11860/2524264452.py\u001b[0m in \u001b[0;36m<module>\u001b[1;34m\u001b[0m\n\u001b[1;32m----> 1\u001b[1;33m \u001b[0mtest\u001b[0m \u001b[1;33m=\u001b[0m \u001b[0mmakeModel\u001b[0m\u001b[1;33m(\u001b[0m\u001b[0mt\u001b[0m\u001b[1;33m,\u001b[0m \u001b[0mparams\u001b[0m\u001b[1;33m.\u001b[0m\u001b[0minit_values\u001b[0m\u001b[1;33m,\u001b[0m \u001b[1;33m[\u001b[0m\u001b[0mka1\u001b[0m\u001b[1;33m]\u001b[0m\u001b[1;33m*\u001b[0m\u001b[1;36m5\u001b[0m\u001b[1;33m,\u001b[0m \u001b[1;33m[\u001b[0m\u001b[0mka_1\u001b[0m\u001b[1;33m]\u001b[0m\u001b[1;33m*\u001b[0m\u001b[1;36m5\u001b[0m\u001b[1;33m,\u001b[0m \u001b[1;33m[\u001b[0m\u001b[0mka2\u001b[0m\u001b[1;33m]\u001b[0m\u001b[1;33m*\u001b[0m\u001b[1;36m5\u001b[0m\u001b[1;33m)\u001b[0m\u001b[1;33m\u001b[0m\u001b[1;33m\u001b[0m\u001b[0m\n\u001b[0m",
      "\u001b[1;32m<string>\u001b[0m in \u001b[0;36mmakeModel\u001b[1;34m(t, init_vals, ka, kb, kc)\u001b[0m\n",
      "\u001b[1;31mNameError\u001b[0m: name 'init_values' is not defined"
     ]
    }
   ],
   "source": [
    "test = makeModel(t, params.init_values, [ka1]*5, [ka_1]*5, [ka2]*5)"
   ]
  },
  {
   "cell_type": "code",
   "execution_count": 94,
   "id": "6d91b25b-ac1e-4807-90fe-3a2defd44a2a",
   "metadata": {},
   "outputs": [
    {
     "data": {
      "text/plain": [
       "'premirna0, pmiR_dicer0, mirna0, premirna1, pmiR_dicer1, mirna1, premirna2, pmiR_dicer2, mirna2, premirna3, pmiR_dicer3, mirna3, premirna4, pmiR_dicer4, mirna4, dicer'"
      ]
     },
     "execution_count": 94,
     "metadata": {},
     "output_type": "execute_result"
    }
   ],
   "source": [
    "test"
   ]
  },
  {
   "cell_type": "code",
   "execution_count": 77,
   "id": "ca20e5ee-d0da-42dc-9357-8469bd121eff",
   "metadata": {
    "jupyter": {
     "source_hidden": true
    },
    "tags": []
   },
   "outputs": [],
   "source": [
    "def runModel(t, init_values, ka, kb, kc):\n",
    "    \"\"\"\n",
    "    Function to execute model, run it in ODE solver\n",
    "    init_values:    List of initial concentration of free pre-miRNA concentration for\n",
    "                    each pre-mirna, pre-mirna x dicer concentration and dicer \n",
    "                    concentration. Alternating pre-mirna (a) and pre-mirna dicer (b),\n",
    "                    with final dicer concentration (c) i.e. [a, b, a, b, a, b, c]\n",
    "    ka:             Array of reaction rates for formation of pre-miR - dicer commplex\n",
    "    kb:             Array of reaction rates for dissociation of pre-miR - dicer complex\n",
    "    kc:             Array of reaction rates for catalysis of pre-miR to miR by dicer\n",
    "    \"\"\"\n",
    "    \n",
    "    num_mirnas = int((len(init_values)-1)/2)\n",
    "    eqs = \"\"\n",
    "    for i in range(num_mirnas):\n",
    "        eqs = eqs + \"\\npremirna\" + str(i) + \"\\nmirna\" + str(i)\n",
    "    \n",
    "    eqs = eqs + \"\\ndicer\"\n",
    "\n",
    "    ODEs = makeModel(init_values, ka, kb, kc)\n",
    "    \n",
    "    exec(ODEs)\n",
    "    print(ODEs)\n",
    "    \n",
    "    return np.array([exec(eqs)])"
   ]
  },
  {
   "cell_type": "code",
   "execution_count": 78,
   "id": "d8339aa1-f5b8-4f29-8483-1bf6216d3515",
   "metadata": {},
   "outputs": [],
   "source": [
    "t = 1"
   ]
  },
  {
   "cell_type": "code",
   "execution_count": 79,
   "id": "63c1bfa5-f66d-48a4-9d1d-bbf11b7e4cbb",
   "metadata": {},
   "outputs": [
    {
     "name": "stdout",
     "output_type": "stream",
     "text": [
      "\n",
      "premirna0 = init_values[1] * kb[0] - init_values[0] * init_values[-1] * ka[0]\n",
      "pmiR_dicer0 = init_values[0] * init_values[-1] * ka[0] - init_values[1] * kb[0]\n",
      "mirna0 = init_values[1] * kc[0]\n",
      "premirna1 = init_values[2] * kb[1] - init_values[1] * init_values[-1] * ka[1]\n",
      "pmiR_dicer1 = init_values[1] * init_values[-1] * ka[1] - init_values[2] * kb[1]\n",
      "mirna1 = init_values[2] * kc[1]\n",
      "premirna2 = init_values[3] * kb[2] - init_values[2] * init_values[-1] * ka[2]\n",
      "pmiR_dicer2 = init_values[2] * init_values[-1] * ka[2] - init_values[3] * kb[2]\n",
      "mirna2 = init_values[3] * kc[2]\n",
      "premirna3 = init_values[4] * kb[3] - init_values[3] * init_values[-1] * ka[3]\n",
      "pmiR_dicer3 = init_values[3] * init_values[-1] * ka[3] - init_values[4] * kb[3]\n",
      "mirna3 = init_values[4] * kc[3]\n",
      "premirna4 = init_values[5] * kb[4] - init_values[4] * init_values[-1] * ka[4]\n",
      "pmiR_dicer4 = init_values[4] * init_values[-1] * ka[4] - init_values[5] * kb[4]\n",
      "mirna4 = init_values[5] * kc[4]\n",
      "dicer = init_values[1] * (kb[0] + kc[0]) - init_values[-1] * init_values[0] * ka[0]+ init_values[2] * (kb[1] + kc[1]) - init_values[-1] * init_values[1] * ka[1]+ init_values[3] * (kb[2] + kc[2]) - init_values[-1] * init_values[2] * ka[2]+ init_values[4] * (kb[3] + kc[3]) - init_values[-1] * init_values[3] * ka[3]+ init_values[5] * (kb[4] + kc[4]) - init_values[-1] * init_values[4] * ka[4]\n"
     ]
    },
    {
     "data": {
      "text/plain": [
       "array([None], dtype=object)"
      ]
     },
     "execution_count": 79,
     "metadata": {},
     "output_type": "execute_result"
    }
   ],
   "source": [
    "test = runModel(t, inits[0], [ka1]*5, [ka_1]*5, [ka2]*5)\n",
    "test"
   ]
  },
  {
   "cell_type": "code",
   "execution_count": 171,
   "id": "431fff0b-2b28-4fc4-88b8-d33fefb40bb1",
   "metadata": {
    "tags": []
   },
   "outputs": [
    {
     "ename": "NameError",
     "evalue": "name 'init_values' is not defined",
     "output_type": "error",
     "traceback": [
      "\u001b[1;31m---------------------------------------------------------------------------\u001b[0m",
      "\u001b[1;31mNameError\u001b[0m                                 Traceback (most recent call last)",
      "\u001b[1;32m~\\AppData\\Local\\Temp/ipykernel_11860/2344998552.py\u001b[0m in \u001b[0;36m<module>\u001b[1;34m\u001b[0m\n\u001b[1;32m----> 1\u001b[1;33m res3 = solve_ivp(makeModel, (0, int(params.minutes)), inits[0], \\\n\u001b[0m\u001b[0;32m      2\u001b[0m                  args=([ka1]*5, [ka_1]*5, [ka2]*5))\n",
      "\u001b[1;32m~\\Anaconda3\\lib\\site-packages\\scipy\\integrate\\_ivp\\ivp.py\u001b[0m in \u001b[0;36msolve_ivp\u001b[1;34m(fun, t_span, y0, method, t_eval, dense_output, events, vectorized, args, **options)\u001b[0m\n\u001b[0;32m    553\u001b[0m         \u001b[0mmethod\u001b[0m \u001b[1;33m=\u001b[0m \u001b[0mMETHODS\u001b[0m\u001b[1;33m[\u001b[0m\u001b[0mmethod\u001b[0m\u001b[1;33m]\u001b[0m\u001b[1;33m\u001b[0m\u001b[1;33m\u001b[0m\u001b[0m\n\u001b[0;32m    554\u001b[0m \u001b[1;33m\u001b[0m\u001b[0m\n\u001b[1;32m--> 555\u001b[1;33m     \u001b[0msolver\u001b[0m \u001b[1;33m=\u001b[0m \u001b[0mmethod\u001b[0m\u001b[1;33m(\u001b[0m\u001b[0mfun\u001b[0m\u001b[1;33m,\u001b[0m \u001b[0mt0\u001b[0m\u001b[1;33m,\u001b[0m \u001b[0my0\u001b[0m\u001b[1;33m,\u001b[0m \u001b[0mtf\u001b[0m\u001b[1;33m,\u001b[0m \u001b[0mvectorized\u001b[0m\u001b[1;33m=\u001b[0m\u001b[0mvectorized\u001b[0m\u001b[1;33m,\u001b[0m \u001b[1;33m**\u001b[0m\u001b[0moptions\u001b[0m\u001b[1;33m)\u001b[0m\u001b[1;33m\u001b[0m\u001b[1;33m\u001b[0m\u001b[0m\n\u001b[0m\u001b[0;32m    556\u001b[0m \u001b[1;33m\u001b[0m\u001b[0m\n\u001b[0;32m    557\u001b[0m     \u001b[1;32mif\u001b[0m \u001b[0mt_eval\u001b[0m \u001b[1;32mis\u001b[0m \u001b[1;32mNone\u001b[0m\u001b[1;33m:\u001b[0m\u001b[1;33m\u001b[0m\u001b[1;33m\u001b[0m\u001b[0m\n",
      "\u001b[1;32m~\\Anaconda3\\lib\\site-packages\\scipy\\integrate\\_ivp\\rk.py\u001b[0m in \u001b[0;36m__init__\u001b[1;34m(self, fun, t0, y0, t_bound, max_step, rtol, atol, vectorized, first_step, **extraneous)\u001b[0m\n\u001b[0;32m     92\u001b[0m         \u001b[0mself\u001b[0m\u001b[1;33m.\u001b[0m\u001b[0mmax_step\u001b[0m \u001b[1;33m=\u001b[0m \u001b[0mvalidate_max_step\u001b[0m\u001b[1;33m(\u001b[0m\u001b[0mmax_step\u001b[0m\u001b[1;33m)\u001b[0m\u001b[1;33m\u001b[0m\u001b[1;33m\u001b[0m\u001b[0m\n\u001b[0;32m     93\u001b[0m         \u001b[0mself\u001b[0m\u001b[1;33m.\u001b[0m\u001b[0mrtol\u001b[0m\u001b[1;33m,\u001b[0m \u001b[0mself\u001b[0m\u001b[1;33m.\u001b[0m\u001b[0matol\u001b[0m \u001b[1;33m=\u001b[0m \u001b[0mvalidate_tol\u001b[0m\u001b[1;33m(\u001b[0m\u001b[0mrtol\u001b[0m\u001b[1;33m,\u001b[0m \u001b[0matol\u001b[0m\u001b[1;33m,\u001b[0m \u001b[0mself\u001b[0m\u001b[1;33m.\u001b[0m\u001b[0mn\u001b[0m\u001b[1;33m)\u001b[0m\u001b[1;33m\u001b[0m\u001b[1;33m\u001b[0m\u001b[0m\n\u001b[1;32m---> 94\u001b[1;33m         \u001b[0mself\u001b[0m\u001b[1;33m.\u001b[0m\u001b[0mf\u001b[0m \u001b[1;33m=\u001b[0m \u001b[0mself\u001b[0m\u001b[1;33m.\u001b[0m\u001b[0mfun\u001b[0m\u001b[1;33m(\u001b[0m\u001b[0mself\u001b[0m\u001b[1;33m.\u001b[0m\u001b[0mt\u001b[0m\u001b[1;33m,\u001b[0m \u001b[0mself\u001b[0m\u001b[1;33m.\u001b[0m\u001b[0my\u001b[0m\u001b[1;33m)\u001b[0m\u001b[1;33m\u001b[0m\u001b[1;33m\u001b[0m\u001b[0m\n\u001b[0m\u001b[0;32m     95\u001b[0m         \u001b[1;32mif\u001b[0m \u001b[0mfirst_step\u001b[0m \u001b[1;32mis\u001b[0m \u001b[1;32mNone\u001b[0m\u001b[1;33m:\u001b[0m\u001b[1;33m\u001b[0m\u001b[1;33m\u001b[0m\u001b[0m\n\u001b[0;32m     96\u001b[0m             self.h_abs = select_initial_step(\n",
      "\u001b[1;32m~\\Anaconda3\\lib\\site-packages\\scipy\\integrate\\_ivp\\base.py\u001b[0m in \u001b[0;36mfun\u001b[1;34m(t, y)\u001b[0m\n\u001b[0;32m    136\u001b[0m         \u001b[1;32mdef\u001b[0m \u001b[0mfun\u001b[0m\u001b[1;33m(\u001b[0m\u001b[0mt\u001b[0m\u001b[1;33m,\u001b[0m \u001b[0my\u001b[0m\u001b[1;33m)\u001b[0m\u001b[1;33m:\u001b[0m\u001b[1;33m\u001b[0m\u001b[1;33m\u001b[0m\u001b[0m\n\u001b[0;32m    137\u001b[0m             \u001b[0mself\u001b[0m\u001b[1;33m.\u001b[0m\u001b[0mnfev\u001b[0m \u001b[1;33m+=\u001b[0m \u001b[1;36m1\u001b[0m\u001b[1;33m\u001b[0m\u001b[1;33m\u001b[0m\u001b[0m\n\u001b[1;32m--> 138\u001b[1;33m             \u001b[1;32mreturn\u001b[0m \u001b[0mself\u001b[0m\u001b[1;33m.\u001b[0m\u001b[0mfun_single\u001b[0m\u001b[1;33m(\u001b[0m\u001b[0mt\u001b[0m\u001b[1;33m,\u001b[0m \u001b[0my\u001b[0m\u001b[1;33m)\u001b[0m\u001b[1;33m\u001b[0m\u001b[1;33m\u001b[0m\u001b[0m\n\u001b[0m\u001b[0;32m    139\u001b[0m \u001b[1;33m\u001b[0m\u001b[0m\n\u001b[0;32m    140\u001b[0m         \u001b[0mself\u001b[0m\u001b[1;33m.\u001b[0m\u001b[0mfun\u001b[0m \u001b[1;33m=\u001b[0m \u001b[0mfun\u001b[0m\u001b[1;33m\u001b[0m\u001b[1;33m\u001b[0m\u001b[0m\n",
      "\u001b[1;32m~\\Anaconda3\\lib\\site-packages\\scipy\\integrate\\_ivp\\base.py\u001b[0m in \u001b[0;36mfun_wrapped\u001b[1;34m(t, y)\u001b[0m\n\u001b[0;32m     18\u001b[0m \u001b[1;33m\u001b[0m\u001b[0m\n\u001b[0;32m     19\u001b[0m     \u001b[1;32mdef\u001b[0m \u001b[0mfun_wrapped\u001b[0m\u001b[1;33m(\u001b[0m\u001b[0mt\u001b[0m\u001b[1;33m,\u001b[0m \u001b[0my\u001b[0m\u001b[1;33m)\u001b[0m\u001b[1;33m:\u001b[0m\u001b[1;33m\u001b[0m\u001b[1;33m\u001b[0m\u001b[0m\n\u001b[1;32m---> 20\u001b[1;33m         \u001b[1;32mreturn\u001b[0m \u001b[0mnp\u001b[0m\u001b[1;33m.\u001b[0m\u001b[0masarray\u001b[0m\u001b[1;33m(\u001b[0m\u001b[0mfun\u001b[0m\u001b[1;33m(\u001b[0m\u001b[0mt\u001b[0m\u001b[1;33m,\u001b[0m \u001b[0my\u001b[0m\u001b[1;33m)\u001b[0m\u001b[1;33m,\u001b[0m \u001b[0mdtype\u001b[0m\u001b[1;33m=\u001b[0m\u001b[0mdtype\u001b[0m\u001b[1;33m)\u001b[0m\u001b[1;33m\u001b[0m\u001b[1;33m\u001b[0m\u001b[0m\n\u001b[0m\u001b[0;32m     21\u001b[0m \u001b[1;33m\u001b[0m\u001b[0m\n\u001b[0;32m     22\u001b[0m     \u001b[1;32mreturn\u001b[0m \u001b[0mfun_wrapped\u001b[0m\u001b[1;33m,\u001b[0m \u001b[0my0\u001b[0m\u001b[1;33m\u001b[0m\u001b[1;33m\u001b[0m\u001b[0m\n",
      "\u001b[1;32m~\\Anaconda3\\lib\\site-packages\\scipy\\integrate\\_ivp\\ivp.py\u001b[0m in \u001b[0;36m<lambda>\u001b[1;34m(t, x, fun)\u001b[0m\n\u001b[0;32m    525\u001b[0m             \u001b[1;32mraise\u001b[0m \u001b[0mTypeError\u001b[0m\u001b[1;33m(\u001b[0m\u001b[0msuggestion_tuple\u001b[0m\u001b[1;33m)\u001b[0m \u001b[1;32mfrom\u001b[0m \u001b[0mexp\u001b[0m\u001b[1;33m\u001b[0m\u001b[1;33m\u001b[0m\u001b[0m\n\u001b[0;32m    526\u001b[0m \u001b[1;33m\u001b[0m\u001b[0m\n\u001b[1;32m--> 527\u001b[1;33m         \u001b[0mfun\u001b[0m \u001b[1;33m=\u001b[0m \u001b[1;32mlambda\u001b[0m \u001b[0mt\u001b[0m\u001b[1;33m,\u001b[0m \u001b[0mx\u001b[0m\u001b[1;33m,\u001b[0m \u001b[0mfun\u001b[0m\u001b[1;33m=\u001b[0m\u001b[0mfun\u001b[0m\u001b[1;33m:\u001b[0m \u001b[0mfun\u001b[0m\u001b[1;33m(\u001b[0m\u001b[0mt\u001b[0m\u001b[1;33m,\u001b[0m \u001b[0mx\u001b[0m\u001b[1;33m,\u001b[0m \u001b[1;33m*\u001b[0m\u001b[0margs\u001b[0m\u001b[1;33m)\u001b[0m\u001b[1;33m\u001b[0m\u001b[1;33m\u001b[0m\u001b[0m\n\u001b[0m\u001b[0;32m    528\u001b[0m         \u001b[0mjac\u001b[0m \u001b[1;33m=\u001b[0m \u001b[0moptions\u001b[0m\u001b[1;33m.\u001b[0m\u001b[0mget\u001b[0m\u001b[1;33m(\u001b[0m\u001b[1;34m'jac'\u001b[0m\u001b[1;33m)\u001b[0m\u001b[1;33m\u001b[0m\u001b[1;33m\u001b[0m\u001b[0m\n\u001b[0;32m    529\u001b[0m         \u001b[1;32mif\u001b[0m \u001b[0mcallable\u001b[0m\u001b[1;33m(\u001b[0m\u001b[0mjac\u001b[0m\u001b[1;33m)\u001b[0m\u001b[1;33m:\u001b[0m\u001b[1;33m\u001b[0m\u001b[1;33m\u001b[0m\u001b[0m\n",
      "\u001b[1;32m<string>\u001b[0m in \u001b[0;36mmakeModel\u001b[1;34m(t, init_vals, ka, kb, kc)\u001b[0m\n",
      "\u001b[1;31mNameError\u001b[0m: name 'init_values' is not defined"
     ]
    }
   ],
   "source": [
    "res3 = solve_ivp(makeModel, (0, int(params.minutes)), inits[0], \\\n",
    "                 args=([ka1]*5, [ka_1]*5, [ka2]*5))"
   ]
  },
  {
   "cell_type": "code",
   "execution_count": null,
   "id": "7472cbc2-157d-408d-ab94-a7199b913b8c",
   "metadata": {},
   "outputs": [],
   "source": [
    "re3.y"
   ]
  },
  {
   "cell_type": "code",
   "execution_count": null,
   "id": "536bf50a-167a-4f76-9d22-1fa01af45cda",
   "metadata": {},
   "outputs": [],
   "source": []
  }
 ],
 "metadata": {
  "kernelspec": {
   "display_name": "Python 3 (ipykernel)",
   "language": "python",
   "name": "python3"
  },
  "language_info": {
   "codemirror_mode": {
    "name": "ipython",
    "version": 3
   },
   "file_extension": ".py",
   "mimetype": "text/x-python",
   "name": "python",
   "nbconvert_exporter": "python",
   "pygments_lexer": "ipython3",
   "version": "3.9.13"
  }
 },
 "nbformat": 4,
 "nbformat_minor": 5
}
