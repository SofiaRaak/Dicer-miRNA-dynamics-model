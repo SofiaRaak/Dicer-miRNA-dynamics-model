{
 "cells": [
  {
   "cell_type": "code",
   "execution_count": 8,
   "id": "6e67bf84-4967-42ca-b2c1-bbd91cf099d8",
   "metadata": {},
   "outputs": [],
   "source": [
    "import numpy as np\n",
    "import numba\n",
    "import params"
   ]
  },
  {
   "cell_type": "code",
   "execution_count": 48,
   "id": "bb6e5532-a132-4798-917f-f6cc3998e20d",
   "metadata": {},
   "outputs": [],
   "source": [
    "species = [(\"preMiR\", 1),\n",
    "          (\"preMiR_Dicer\", 0),\n",
    "          (\"miRNA\", 0),\n",
    "          (\"Dicer\", 50)]"
   ]
  },
  {
   "cell_type": "code",
   "execution_count": 49,
   "id": "8209211e-a1e7-4f2a-b098-afe781d29f5b",
   "metadata": {},
   "outputs": [
    {
     "data": {
      "text/plain": [
       "[('preMiR', 1), ('preMiR_Dicer', 0), ('miRNA', 0), ('Dicer', 50)]"
      ]
     },
     "execution_count": 49,
     "metadata": {},
     "output_type": "execute_result"
    }
   ],
   "source": [
    "species"
   ]
  },
  {
   "cell_type": "code",
   "execution_count": 66,
   "id": "68b5b233-3070-46f6-9382-33ed95f303ba",
   "metadata": {},
   "outputs": [],
   "source": [
    "def generateSystem(num_preMiR, k0, k1, k2):\n",
    "    \"\"\"\n",
    "    Function to generate system of ODEs with n type miRNAs, all with customisable reaction rates.\n",
    "    \n",
    "    Args:\n",
    "    num_preMiR:    int, number of pre-miRNA species\n",
    "    k0:            list of floats, reaction rate for association of Dicer with pre-miRNA\n",
    "    k1:            list of floats, reaction rate for disassociation of Dicer and pre-miRNA\n",
    "    k2:            list of floats, reaction rate for miRNA formation\n",
    "    \"\"\"\n",
    "    \n",
    "    assert num_preMiR == len(k0), \"The number of reaction rates given do not correspond with the number of ODEs in the system\"\n",
    "    assert num_preMiR == len(k1), \"The number of reaction rates given do not correspond with the number of ODEs in the system\"\n",
    "    assert num_preMiR == len(k2), \"The number of reaction rates given do not correspond with the number of ODEs in the system\"\n",
    "    \n",
    "    basic_system = [[-k0[0], k1[0], 0], #dWT/dt\n",
    "              [k0[0], -(k1[0] + k2[0]), 0], #dDicerWT/dt\n",
    "              [0, 0, k2[0]]] #dmiRNA/dt\n",
    "    dicer = [-k0[0], (k1[0] + k2[0]), 0] #last index:  dDicer/dt\n",
    "    \n",
    "    for i in range(1, num_preMiR):\n",
    "        \n",
    "        basic_system0 = [[-k0[0], k1[0], 0], #dWT/dt\n",
    "              [k0[0], -(k1[0] + k2[0]), 0], #dDicerWT/dt\n",
    "              [0, 0, k2[0]]]\n",
    "        dDicer = [-k0[i], (k1[i] + k2[i]), 0]\n",
    "        \n",
    "        for j in range(3):\n",
    "            basic_system.append([0]*len(basic_system[0]))\n",
    "        for k in range(len(basic_system)):\n",
    "            if k < len(basic_system) - 3:\n",
    "                basic_system[k] = basic_system[k] + [0]*3 #to keep it flat\n",
    "            else:\n",
    "                if k == len(basic_system) - 3:\n",
    "                    basic_system[k] = basic_system[k] + basic_system0[0][:3]\n",
    "                elif k == len(basic_system) - 2:\n",
    "                    basic_system[k] = basic_system[k] + basic_system0[1][:3]\n",
    "                elif k == len(basic_system) - 1:\n",
    "                    basic_system[k] = basic_system[k] + basic_system0[2][:3]\n",
    "        dicer = dicer + dDicer\n",
    "        \n",
    "    return basic_system + [dicer]"
   ]
  },
  {
   "cell_type": "code",
   "execution_count": 79,
   "id": "942f2d6b-e090-418b-aaf2-17594b9f661d",
   "metadata": {},
   "outputs": [],
   "source": [
    "def generateSpecies(num_preMiR, pMiR, dicer_pMiR, miR):\n",
    "    \"\"\"\n",
    "    Function to generate vector of initial concentrations for all species.\n",
    "    \n",
    "    Args:\n",
    "    num_preMiR:    int, number of pre-miRNA species\n",
    "    pMiR:          list of floats, initial concentration of pre-miRNA\n",
    "    dicer_pMiR:    list of floats, initial concentration Dicer and pre-miRNA complexes\n",
    "    miR:           list of floats, initial concentration of miRNA\n",
    "    \"\"\"\n",
    "    \n",
    "    assert num_preMiR == len(pMiR), \"The number of concentrations given do not correspond with the number of species\"\n",
    "    assert num_preMiR == len(dicer_pMiR), \"The number of concentrations given do not correspond with the number of species\"\n",
    "    assert num_preMiR == len(miR), \"The number of concentrations given do not correspond with the number of species\"\n",
    "    \n",
    "    init_concs = [pMiR[0], dicer_pMiR[0], miR[0]]\n",
    "    init_species = {\"pMiR0\": pMiR[0], \"dicer_pMiR0\": dicer_pMiR[0], \"miR0\": miR[0]}\n",
    "    \n",
    "    for i in range(1, num_preMiR):\n",
    "        init_concs.append(pMiR[i])\n",
    "        init_concs.append(dicer_pMiR[i])\n",
    "        init_concs.append(miR[i])\n",
    "        \n",
    "        init_species[\"preMiR\"+str(i)] = pMiR[i]\n",
    "        init_species[\"dicer_preMiR\"+str(i)] = dicer_pMiR[i]\n",
    "        init_species[\"miR\"+str(i)] = miR[i]\n",
    "        \n",
    "    return init_concs, init_species"
   ]
  },
  {
   "cell_type": "code",
   "execution_count": 124,
   "id": "410ce6b9-9a45-4bcd-9699-82587df525d7",
   "metadata": {
    "tags": []
   },
   "outputs": [],
   "source": [
    "test = generateSpecies(5, [1]*5, [0]*5, [0]*5)"
   ]
  },
  {
   "cell_type": "code",
   "execution_count": 82,
   "id": "9bd435e0-2c4b-4853-8138-a12361f3898a",
   "metadata": {
    "tags": []
   },
   "outputs": [
    {
     "name": "stdout",
     "output_type": "stream",
     "text": [
      "6.16 µs ± 148 ns per loop (mean ± std. dev. of 7 runs, 100000 loops each)\n"
     ]
    }
   ],
   "source": [
    "timeit(generateSpecies(5, [1]*5, [0]*5, [0]*5))"
   ]
  },
  {
   "cell_type": "code",
   "execution_count": 90,
   "id": "96598981-92b6-4355-bf3e-55a769003571",
   "metadata": {},
   "outputs": [],
   "source": [
    "test2 = generateSystem(5, [ka1]*5, [ka_1]*5, [ka2]*5)"
   ]
  },
  {
   "cell_type": "code",
   "execution_count": 92,
   "id": "7d33c11c-1d03-4bd6-b650-b61bc569a1c1",
   "metadata": {},
   "outputs": [
    {
     "name": "stdout",
     "output_type": "stream",
     "text": [
      "23.3 µs ± 886 ns per loop (mean ± std. dev. of 7 runs, 10000 loops each)\n"
     ]
    }
   ],
   "source": [
    "timeit(generateSystem(5, [ka1]*5, [ka_1]*5, [ka2]*5))"
   ]
  },
  {
   "cell_type": "code",
   "execution_count": 178,
   "id": "81b72092-1691-4731-8426-91931dd442fc",
   "metadata": {},
   "outputs": [],
   "source": [
    "def test_model(t, init_values, ka, kb, kc):\n",
    "    \"\"\"\n",
    "    Function to pass to generate, pass ODEs to ODE solver.\n",
    "    \n",
    "    Args:\n",
    "    init_values:    Array of initial concentration of each initial concentration of every species, min 4\n",
    "    ka:             Array of reaction rates for formation of pre-miR - dicer commplex\n",
    "    kb:             Array of reaction rates for dissociation of pre-miR - dicer complex\n",
    "    kc:             Array of reaction rates for catalysis of pre-miR to miR by dicer\n",
    "    \"\"\"\n",
    "    \n",
    "    concs_len = len(init_values) - 1\n",
    "    \n",
    "    assert int(concs_len/3) == len(ka), \"The number of reactions do not agree with the number of reaction rates given.\"\n",
    "    assert int(concs_len/3) == len(kb), \"The number of reactions do not agree with the number of reaction rates given.\"\n",
    "    assert int(concs_len/3) == len(kc), \"The number of reactions do not agree with the number of reaction rates given.\"\n",
    "    \n",
    "    ODEs = generateSystem(int(concs_len/3), ka, kb, kc)\n",
    "    \n",
    "    output = [[0]]*len(ODEs)\n",
    "    print(len(ODEs))\n",
    "    print(len(init_values))\n",
    "    print(ODEs[0] * init_values)\n",
    "    \n",
    "    for i in range(len(ODEs)):\n",
    "        output[i].append(sum(ODEs[i] * init_values))\n",
    "        print(output[i])\n",
    "    \n",
    "    return output"
   ]
  },
  {
   "cell_type": "code",
   "execution_count": 113,
   "id": "524d533c-dc56-46d8-bbeb-65cea1f4aeb0",
   "metadata": {},
   "outputs": [],
   "source": [
    "from scipy.integrate import solve_ivp"
   ]
  },
  {
   "cell_type": "code",
   "execution_count": 128,
   "id": "ffbf6efb-928e-41aa-be91-6e18e13b2c90",
   "metadata": {},
   "outputs": [
    {
     "data": {
      "text/plain": [
       "[1, 0, 0, 1, 0, 0, 1, 0, 0, 1, 0, 0, 1, 0, 0, 50]"
      ]
     },
     "execution_count": 128,
     "metadata": {},
     "output_type": "execute_result"
    }
   ],
   "source": [
    "init_conc"
   ]
  },
  {
   "cell_type": "code",
   "execution_count": 127,
   "id": "a0fb40b1-6b1c-42db-a4c7-10a4ae517d96",
   "metadata": {},
   "outputs": [],
   "source": [
    "#init_conc = test[0]\n",
    "#init_conc.append(params.init_dicer)"
   ]
  },
  {
   "cell_type": "code",
   "execution_count": 179,
   "id": "d7c051a8-cfa1-4d5d-b0d1-d8e899a7ed75",
   "metadata": {},
   "outputs": [
    {
     "name": "stdout",
     "output_type": "stream",
     "text": [
      "16\n",
      "16\n"
     ]
    },
    {
     "ename": "ValueError",
     "evalue": "operands could not be broadcast together with shapes (15,) (16,) ",
     "output_type": "error",
     "traceback": [
      "\u001b[1;31m---------------------------------------------------------------------------\u001b[0m",
      "\u001b[1;31mValueError\u001b[0m                                Traceback (most recent call last)",
      "\u001b[1;32m~\\AppData\\Local\\Temp/ipykernel_9188/2608451859.py\u001b[0m in \u001b[0;36m<module>\u001b[1;34m\u001b[0m\n\u001b[1;32m----> 1\u001b[1;33m \u001b[0mres1\u001b[0m \u001b[1;33m=\u001b[0m \u001b[0msolve_ivp\u001b[0m\u001b[1;33m(\u001b[0m\u001b[0mtest_model\u001b[0m\u001b[1;33m,\u001b[0m \u001b[1;33m(\u001b[0m\u001b[1;36m0\u001b[0m\u001b[1;33m,\u001b[0m \u001b[0mint\u001b[0m\u001b[1;33m(\u001b[0m\u001b[0mparams\u001b[0m\u001b[1;33m.\u001b[0m\u001b[0mminutes\u001b[0m\u001b[1;33m)\u001b[0m\u001b[1;33m)\u001b[0m\u001b[1;33m,\u001b[0m \u001b[0minit_conc\u001b[0m\u001b[1;33m,\u001b[0m \u001b[0margs\u001b[0m\u001b[1;33m=\u001b[0m\u001b[1;33m(\u001b[0m\u001b[1;33m[\u001b[0m\u001b[0mka1\u001b[0m\u001b[1;33m]\u001b[0m\u001b[1;33m*\u001b[0m\u001b[1;36m5\u001b[0m\u001b[1;33m,\u001b[0m \u001b[1;33m[\u001b[0m\u001b[0mka_1\u001b[0m\u001b[1;33m]\u001b[0m\u001b[1;33m*\u001b[0m\u001b[1;36m5\u001b[0m\u001b[1;33m,\u001b[0m \u001b[1;33m[\u001b[0m\u001b[0mka2\u001b[0m\u001b[1;33m]\u001b[0m\u001b[1;33m*\u001b[0m\u001b[1;36m5\u001b[0m\u001b[1;33m)\u001b[0m\u001b[1;33m)\u001b[0m\u001b[1;33m\u001b[0m\u001b[1;33m\u001b[0m\u001b[0m\n\u001b[0m",
      "\u001b[1;32m~\\Anaconda3\\lib\\site-packages\\scipy\\integrate\\_ivp\\ivp.py\u001b[0m in \u001b[0;36msolve_ivp\u001b[1;34m(fun, t_span, y0, method, t_eval, dense_output, events, vectorized, args, **options)\u001b[0m\n\u001b[0;32m    553\u001b[0m         \u001b[0mmethod\u001b[0m \u001b[1;33m=\u001b[0m \u001b[0mMETHODS\u001b[0m\u001b[1;33m[\u001b[0m\u001b[0mmethod\u001b[0m\u001b[1;33m]\u001b[0m\u001b[1;33m\u001b[0m\u001b[1;33m\u001b[0m\u001b[0m\n\u001b[0;32m    554\u001b[0m \u001b[1;33m\u001b[0m\u001b[0m\n\u001b[1;32m--> 555\u001b[1;33m     \u001b[0msolver\u001b[0m \u001b[1;33m=\u001b[0m \u001b[0mmethod\u001b[0m\u001b[1;33m(\u001b[0m\u001b[0mfun\u001b[0m\u001b[1;33m,\u001b[0m \u001b[0mt0\u001b[0m\u001b[1;33m,\u001b[0m \u001b[0my0\u001b[0m\u001b[1;33m,\u001b[0m \u001b[0mtf\u001b[0m\u001b[1;33m,\u001b[0m \u001b[0mvectorized\u001b[0m\u001b[1;33m=\u001b[0m\u001b[0mvectorized\u001b[0m\u001b[1;33m,\u001b[0m \u001b[1;33m**\u001b[0m\u001b[0moptions\u001b[0m\u001b[1;33m)\u001b[0m\u001b[1;33m\u001b[0m\u001b[1;33m\u001b[0m\u001b[0m\n\u001b[0m\u001b[0;32m    556\u001b[0m \u001b[1;33m\u001b[0m\u001b[0m\n\u001b[0;32m    557\u001b[0m     \u001b[1;32mif\u001b[0m \u001b[0mt_eval\u001b[0m \u001b[1;32mis\u001b[0m \u001b[1;32mNone\u001b[0m\u001b[1;33m:\u001b[0m\u001b[1;33m\u001b[0m\u001b[1;33m\u001b[0m\u001b[0m\n",
      "\u001b[1;32m~\\Anaconda3\\lib\\site-packages\\scipy\\integrate\\_ivp\\rk.py\u001b[0m in \u001b[0;36m__init__\u001b[1;34m(self, fun, t0, y0, t_bound, max_step, rtol, atol, vectorized, first_step, **extraneous)\u001b[0m\n\u001b[0;32m     92\u001b[0m         \u001b[0mself\u001b[0m\u001b[1;33m.\u001b[0m\u001b[0mmax_step\u001b[0m \u001b[1;33m=\u001b[0m \u001b[0mvalidate_max_step\u001b[0m\u001b[1;33m(\u001b[0m\u001b[0mmax_step\u001b[0m\u001b[1;33m)\u001b[0m\u001b[1;33m\u001b[0m\u001b[1;33m\u001b[0m\u001b[0m\n\u001b[0;32m     93\u001b[0m         \u001b[0mself\u001b[0m\u001b[1;33m.\u001b[0m\u001b[0mrtol\u001b[0m\u001b[1;33m,\u001b[0m \u001b[0mself\u001b[0m\u001b[1;33m.\u001b[0m\u001b[0matol\u001b[0m \u001b[1;33m=\u001b[0m \u001b[0mvalidate_tol\u001b[0m\u001b[1;33m(\u001b[0m\u001b[0mrtol\u001b[0m\u001b[1;33m,\u001b[0m \u001b[0matol\u001b[0m\u001b[1;33m,\u001b[0m \u001b[0mself\u001b[0m\u001b[1;33m.\u001b[0m\u001b[0mn\u001b[0m\u001b[1;33m)\u001b[0m\u001b[1;33m\u001b[0m\u001b[1;33m\u001b[0m\u001b[0m\n\u001b[1;32m---> 94\u001b[1;33m         \u001b[0mself\u001b[0m\u001b[1;33m.\u001b[0m\u001b[0mf\u001b[0m \u001b[1;33m=\u001b[0m \u001b[0mself\u001b[0m\u001b[1;33m.\u001b[0m\u001b[0mfun\u001b[0m\u001b[1;33m(\u001b[0m\u001b[0mself\u001b[0m\u001b[1;33m.\u001b[0m\u001b[0mt\u001b[0m\u001b[1;33m,\u001b[0m \u001b[0mself\u001b[0m\u001b[1;33m.\u001b[0m\u001b[0my\u001b[0m\u001b[1;33m)\u001b[0m\u001b[1;33m\u001b[0m\u001b[1;33m\u001b[0m\u001b[0m\n\u001b[0m\u001b[0;32m     95\u001b[0m         \u001b[1;32mif\u001b[0m \u001b[0mfirst_step\u001b[0m \u001b[1;32mis\u001b[0m \u001b[1;32mNone\u001b[0m\u001b[1;33m:\u001b[0m\u001b[1;33m\u001b[0m\u001b[1;33m\u001b[0m\u001b[0m\n\u001b[0;32m     96\u001b[0m             self.h_abs = select_initial_step(\n",
      "\u001b[1;32m~\\Anaconda3\\lib\\site-packages\\scipy\\integrate\\_ivp\\base.py\u001b[0m in \u001b[0;36mfun\u001b[1;34m(t, y)\u001b[0m\n\u001b[0;32m    136\u001b[0m         \u001b[1;32mdef\u001b[0m \u001b[0mfun\u001b[0m\u001b[1;33m(\u001b[0m\u001b[0mt\u001b[0m\u001b[1;33m,\u001b[0m \u001b[0my\u001b[0m\u001b[1;33m)\u001b[0m\u001b[1;33m:\u001b[0m\u001b[1;33m\u001b[0m\u001b[1;33m\u001b[0m\u001b[0m\n\u001b[0;32m    137\u001b[0m             \u001b[0mself\u001b[0m\u001b[1;33m.\u001b[0m\u001b[0mnfev\u001b[0m \u001b[1;33m+=\u001b[0m \u001b[1;36m1\u001b[0m\u001b[1;33m\u001b[0m\u001b[1;33m\u001b[0m\u001b[0m\n\u001b[1;32m--> 138\u001b[1;33m             \u001b[1;32mreturn\u001b[0m \u001b[0mself\u001b[0m\u001b[1;33m.\u001b[0m\u001b[0mfun_single\u001b[0m\u001b[1;33m(\u001b[0m\u001b[0mt\u001b[0m\u001b[1;33m,\u001b[0m \u001b[0my\u001b[0m\u001b[1;33m)\u001b[0m\u001b[1;33m\u001b[0m\u001b[1;33m\u001b[0m\u001b[0m\n\u001b[0m\u001b[0;32m    139\u001b[0m \u001b[1;33m\u001b[0m\u001b[0m\n\u001b[0;32m    140\u001b[0m         \u001b[0mself\u001b[0m\u001b[1;33m.\u001b[0m\u001b[0mfun\u001b[0m \u001b[1;33m=\u001b[0m \u001b[0mfun\u001b[0m\u001b[1;33m\u001b[0m\u001b[1;33m\u001b[0m\u001b[0m\n",
      "\u001b[1;32m~\\Anaconda3\\lib\\site-packages\\scipy\\integrate\\_ivp\\base.py\u001b[0m in \u001b[0;36mfun_wrapped\u001b[1;34m(t, y)\u001b[0m\n\u001b[0;32m     18\u001b[0m \u001b[1;33m\u001b[0m\u001b[0m\n\u001b[0;32m     19\u001b[0m     \u001b[1;32mdef\u001b[0m \u001b[0mfun_wrapped\u001b[0m\u001b[1;33m(\u001b[0m\u001b[0mt\u001b[0m\u001b[1;33m,\u001b[0m \u001b[0my\u001b[0m\u001b[1;33m)\u001b[0m\u001b[1;33m:\u001b[0m\u001b[1;33m\u001b[0m\u001b[1;33m\u001b[0m\u001b[0m\n\u001b[1;32m---> 20\u001b[1;33m         \u001b[1;32mreturn\u001b[0m \u001b[0mnp\u001b[0m\u001b[1;33m.\u001b[0m\u001b[0masarray\u001b[0m\u001b[1;33m(\u001b[0m\u001b[0mfun\u001b[0m\u001b[1;33m(\u001b[0m\u001b[0mt\u001b[0m\u001b[1;33m,\u001b[0m \u001b[0my\u001b[0m\u001b[1;33m)\u001b[0m\u001b[1;33m,\u001b[0m \u001b[0mdtype\u001b[0m\u001b[1;33m=\u001b[0m\u001b[0mdtype\u001b[0m\u001b[1;33m)\u001b[0m\u001b[1;33m\u001b[0m\u001b[1;33m\u001b[0m\u001b[0m\n\u001b[0m\u001b[0;32m     21\u001b[0m \u001b[1;33m\u001b[0m\u001b[0m\n\u001b[0;32m     22\u001b[0m     \u001b[1;32mreturn\u001b[0m \u001b[0mfun_wrapped\u001b[0m\u001b[1;33m,\u001b[0m \u001b[0my0\u001b[0m\u001b[1;33m\u001b[0m\u001b[1;33m\u001b[0m\u001b[0m\n",
      "\u001b[1;32m~\\Anaconda3\\lib\\site-packages\\scipy\\integrate\\_ivp\\ivp.py\u001b[0m in \u001b[0;36m<lambda>\u001b[1;34m(t, x, fun)\u001b[0m\n\u001b[0;32m    525\u001b[0m             \u001b[1;32mraise\u001b[0m \u001b[0mTypeError\u001b[0m\u001b[1;33m(\u001b[0m\u001b[0msuggestion_tuple\u001b[0m\u001b[1;33m)\u001b[0m \u001b[1;32mfrom\u001b[0m \u001b[0mexp\u001b[0m\u001b[1;33m\u001b[0m\u001b[1;33m\u001b[0m\u001b[0m\n\u001b[0;32m    526\u001b[0m \u001b[1;33m\u001b[0m\u001b[0m\n\u001b[1;32m--> 527\u001b[1;33m         \u001b[0mfun\u001b[0m \u001b[1;33m=\u001b[0m \u001b[1;32mlambda\u001b[0m \u001b[0mt\u001b[0m\u001b[1;33m,\u001b[0m \u001b[0mx\u001b[0m\u001b[1;33m,\u001b[0m \u001b[0mfun\u001b[0m\u001b[1;33m=\u001b[0m\u001b[0mfun\u001b[0m\u001b[1;33m:\u001b[0m \u001b[0mfun\u001b[0m\u001b[1;33m(\u001b[0m\u001b[0mt\u001b[0m\u001b[1;33m,\u001b[0m \u001b[0mx\u001b[0m\u001b[1;33m,\u001b[0m \u001b[1;33m*\u001b[0m\u001b[0margs\u001b[0m\u001b[1;33m)\u001b[0m\u001b[1;33m\u001b[0m\u001b[1;33m\u001b[0m\u001b[0m\n\u001b[0m\u001b[0;32m    528\u001b[0m         \u001b[0mjac\u001b[0m \u001b[1;33m=\u001b[0m \u001b[0moptions\u001b[0m\u001b[1;33m.\u001b[0m\u001b[0mget\u001b[0m\u001b[1;33m(\u001b[0m\u001b[1;34m'jac'\u001b[0m\u001b[1;33m)\u001b[0m\u001b[1;33m\u001b[0m\u001b[1;33m\u001b[0m\u001b[0m\n\u001b[0;32m    529\u001b[0m         \u001b[1;32mif\u001b[0m \u001b[0mcallable\u001b[0m\u001b[1;33m(\u001b[0m\u001b[0mjac\u001b[0m\u001b[1;33m)\u001b[0m\u001b[1;33m:\u001b[0m\u001b[1;33m\u001b[0m\u001b[1;33m\u001b[0m\u001b[0m\n",
      "\u001b[1;32m~\\AppData\\Local\\Temp/ipykernel_9188/2339154472.py\u001b[0m in \u001b[0;36mtest_model\u001b[1;34m(t, init_values, ka, kb, kc)\u001b[0m\n\u001b[0;32m     21\u001b[0m     \u001b[0mprint\u001b[0m\u001b[1;33m(\u001b[0m\u001b[0mlen\u001b[0m\u001b[1;33m(\u001b[0m\u001b[0mODEs\u001b[0m\u001b[1;33m)\u001b[0m\u001b[1;33m)\u001b[0m\u001b[1;33m\u001b[0m\u001b[1;33m\u001b[0m\u001b[0m\n\u001b[0;32m     22\u001b[0m     \u001b[0mprint\u001b[0m\u001b[1;33m(\u001b[0m\u001b[0mlen\u001b[0m\u001b[1;33m(\u001b[0m\u001b[0minit_values\u001b[0m\u001b[1;33m)\u001b[0m\u001b[1;33m)\u001b[0m\u001b[1;33m\u001b[0m\u001b[1;33m\u001b[0m\u001b[0m\n\u001b[1;32m---> 23\u001b[1;33m     \u001b[0mprint\u001b[0m\u001b[1;33m(\u001b[0m\u001b[0mODEs\u001b[0m\u001b[1;33m[\u001b[0m\u001b[1;36m0\u001b[0m\u001b[1;33m]\u001b[0m \u001b[1;33m*\u001b[0m \u001b[0minit_values\u001b[0m\u001b[1;33m)\u001b[0m\u001b[1;33m\u001b[0m\u001b[1;33m\u001b[0m\u001b[0m\n\u001b[0m\u001b[0;32m     24\u001b[0m \u001b[1;33m\u001b[0m\u001b[0m\n\u001b[0;32m     25\u001b[0m     \u001b[1;32mfor\u001b[0m \u001b[0mi\u001b[0m \u001b[1;32min\u001b[0m \u001b[0mrange\u001b[0m\u001b[1;33m(\u001b[0m\u001b[0mlen\u001b[0m\u001b[1;33m(\u001b[0m\u001b[0mODEs\u001b[0m\u001b[1;33m)\u001b[0m\u001b[1;33m)\u001b[0m\u001b[1;33m:\u001b[0m\u001b[1;33m\u001b[0m\u001b[1;33m\u001b[0m\u001b[0m\n",
      "\u001b[1;31mValueError\u001b[0m: operands could not be broadcast together with shapes (15,) (16,) "
     ]
    }
   ],
   "source": [
    "res1 = solve_ivp(test_model, (0, int(params.minutes)), init_conc, args=([ka1]*5, [ka_1]*5, [ka2]*5))"
   ]
  },
  {
   "cell_type": "code",
   "execution_count": null,
   "id": "df5b0c15-6313-4e24-927c-d46156655e57",
   "metadata": {},
   "outputs": [],
   "source": []
  }
 ],
 "metadata": {
  "kernelspec": {
   "display_name": "Python 3 (ipykernel)",
   "language": "python",
   "name": "python3"
  },
  "language_info": {
   "codemirror_mode": {
    "name": "ipython",
    "version": 3
   },
   "file_extension": ".py",
   "mimetype": "text/x-python",
   "name": "python",
   "nbconvert_exporter": "python",
   "pygments_lexer": "ipython3",
   "version": "3.9.13"
  }
 },
 "nbformat": 4,
 "nbformat_minor": 5
}
