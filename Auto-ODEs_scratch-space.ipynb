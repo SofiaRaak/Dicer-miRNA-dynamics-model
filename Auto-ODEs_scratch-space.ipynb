{
 "cells": [
  {
   "cell_type": "code",
   "execution_count": 1,
   "id": "6e67bf84-4967-42ca-b2c1-bbd91cf099d8",
   "metadata": {},
   "outputs": [],
   "source": [
    "import numpy as np\n",
    "import numba\n",
    "import params"
   ]
  },
  {
   "cell_type": "code",
   "execution_count": 2,
   "id": "bb6e5532-a132-4798-917f-f6cc3998e20d",
   "metadata": {},
   "outputs": [],
   "source": [
    "species = [(\"preMiR\", 1),\n",
    "          (\"preMiR_Dicer\", 0),\n",
    "          (\"miRNA\", 0),\n",
    "          (\"Dicer\", 50)]"
   ]
  },
  {
   "cell_type": "code",
   "execution_count": 3,
   "id": "8209211e-a1e7-4f2a-b098-afe781d29f5b",
   "metadata": {},
   "outputs": [
    {
     "data": {
      "text/plain": [
       "[('preMiR', 1), ('preMiR_Dicer', 0), ('miRNA', 0), ('Dicer', 50)]"
      ]
     },
     "execution_count": 3,
     "metadata": {},
     "output_type": "execute_result"
    }
   ],
   "source": [
    "species"
   ]
  },
  {
   "cell_type": "code",
   "execution_count": 45,
   "id": "d29d77de-b7ce-4226-89ea-b5c79cc2bfb4",
   "metadata": {},
   "outputs": [],
   "source": [
    "init_dicer, init_premirna1, init_premirna2, init_premirna3, init_premirna4, \\\n",
    "init_premirna5, init_premirna1_dicer, init_premirna2_dicer, init_premirna3_dicer, \\\n",
    "init_premirna4_dicer, init_premirna5_dicer, init_mirna1, init_mirna2, init_mirna3, \\\n",
    "init_mirna4, init_mirna5 = params.init_values"
   ]
  },
  {
   "cell_type": "code",
   "execution_count": 9,
   "id": "e730aa52-2c40-477c-87bb-38a8562c5790",
   "metadata": {},
   "outputs": [],
   "source": [
    "ka1, ka_1, ka2, kb1, kb_1, kb2, kc1, kc_1, kc2, kd1, kd_1, kd2, ke1, ke_1, ke2 = params.theta"
   ]
  },
  {
   "cell_type": "code",
   "execution_count": 33,
   "id": "942f2d6b-e090-418b-aaf2-17594b9f661d",
   "metadata": {},
   "outputs": [],
   "source": [
    "def generateSpecies(num_preMiR, pMiR, dicer_pMiR, miR):\n",
    "    \"\"\"\n",
    "    Function to generate vector of initial concentrations for all species.\n",
    "    \n",
    "    Args:\n",
    "    num_preMiR:    int, number of pre-miRNA species\n",
    "    pMiR:          list of floats, initial concentration of pre-miRNA\n",
    "    dicer_pMiR:    list of floats, initial concentration Dicer and pre-miRNA complexes\n",
    "    miR:           list of floats, initial concentration of miRNA\n",
    "    \"\"\"\n",
    "    \n",
    "    assert num_preMiR == len(pMiR), \"The number of concentrations given do not correspond with the number of species\"\n",
    "    assert num_preMiR == len(dicer_pMiR), \"The number of concentrations given do not correspond with the number of species\"\n",
    "    assert num_preMiR == len(miR), \"The number of concentrations given do not correspond with the number of species\"\n",
    "    \n",
    "    init_concs = [pMiR[0], dicer_pMiR[0]]\n",
    "    init_species = {\"pMiR0\": pMiR[0], \"dicer_pMiR0\": dicer_pMiR[0], \"miR0\": miR[0]}\n",
    "    \n",
    "    for i in range(1, num_preMiR):\n",
    "        init_concs.append(pMiR[i])\n",
    "        init_concs.append(dicer_pMiR[i])\n",
    "        \n",
    "        init_species[\"preMiR\"+str(i)] = pMiR[i]\n",
    "        init_species[\"dicer_preMiR\"+str(i)] = dicer_pMiR[i]\n",
    "        init_species[\"miR\"+str(i)] = miR[i]\n",
    "        \n",
    "    return init_concs, init_species"
   ]
  },
  {
   "cell_type": "code",
   "execution_count": 86,
   "id": "68b5b233-3070-46f6-9382-33ed95f303ba",
   "metadata": {},
   "outputs": [],
   "source": [
    "def generateSystem(num_preMiR, k0, k1, k2):\n",
    "    \"\"\"\n",
    "    Function to generate system of ODEs with n type miRNAs, all with customisable reaction rates.\n",
    "    \n",
    "    Args:\n",
    "    num_preMiR:    int, number of pre-miRNA species\n",
    "    k0:            list of floats, reaction rate for association of Dicer with pre-miRNA\n",
    "    k1:            list of floats, reaction rate for disassociation of Dicer and pre-miRNA\n",
    "    k2:            list of floats, reaction rate for miRNA formation\n",
    "    \"\"\"\n",
    "    \n",
    "    assert num_preMiR == len(k0), \"The number of reaction rates given do not correspond with the number of ODEs in the system\"\n",
    "    assert num_preMiR == len(k1), \"The number of reaction rates given do not correspond with the number of ODEs in the system\"\n",
    "    assert num_preMiR == len(k2), \"The number of reaction rates given do not correspond with the number of ODEs in the system\"\n",
    "    \n",
    "    basic_system = [[k1[0], -k0[0]], #dWT/dt start with dicer_pre-miR, second term dicer x pre-miR\n",
    "              [-(k1[0] + k2[0]), k0[0]], #dDicerWT/dt\n",
    "              [k2[0], 0]] #dmiRNA/dt\n",
    "    dicer = [(k1[0] + k2[0]), -k0[0]] #last index:  dDicer/dt\n",
    "    \n",
    "    for i in range(1, num_preMiR):\n",
    "        \n",
    "        basic_system0 = [[k1[i], -k0[i]], #dWT/dt start with dicer_pre-miR, second term dicer x pre-miR\n",
    "              [-(k1[i] + k2[i]), k0[0]], #dDicerWT/dt\n",
    "              [k2[i], 0]] #dmiRNA/dt\n",
    "        dDicer = [(k1[i] + k2[i]), -k0[i]] #last index:  dDicer/dt\n",
    "        \n",
    "        for j in range(3):\n",
    "            #add empty rows at bottom of matrix\n",
    "            basic_system.append([0]*len(basic_system[0]))\n",
    "        for k in range(len(basic_system)):\n",
    "            if k < len(basic_system) - 3:\n",
    "                #add 0s to end of each row unless last 3\n",
    "                basic_system[k] = basic_system[k] + [0]*2 #to keep it flat\n",
    "            else:\n",
    "                #add correct equation to end of row\n",
    "                if k == len(basic_system) - 3:\n",
    "                    basic_system[k] = basic_system[k] + basic_system0[0][:2]             \n",
    "                elif k == len(basic_system) - 2:\n",
    "                    basic_system[k] = basic_system[k] + basic_system0[1][:2]\n",
    "                elif k == len(basic_system) - 1:\n",
    "                    basic_system[k] = basic_system[k] + basic_system0[2][:2]\n",
    "        #update dicer\n",
    "        dicer = dicer + dDicer\n",
    "        \n",
    "    return basic_system + [dicer]"
   ]
  },
  {
   "cell_type": "code",
   "execution_count": 46,
   "id": "410ce6b9-9a45-4bcd-9699-82587df525d7",
   "metadata": {
    "tags": []
   },
   "outputs": [],
   "source": [
    "test = generateSpecies(5, [init_premirna1]*5, [init_dicer*init_premirna1]*5, \\\n",
    "                       [init_mirna1]*5)"
   ]
  },
  {
   "cell_type": "code",
   "execution_count": 28,
   "id": "9bd435e0-2c4b-4853-8138-a12361f3898a",
   "metadata": {
    "tags": []
   },
   "outputs": [
    {
     "name": "stdout",
     "output_type": "stream",
     "text": [
      "4.97 µs ± 187 ns per loop (mean ± std. dev. of 7 runs, 100000 loops each)\n"
     ]
    }
   ],
   "source": [
    "timeit(generateSpecies(5, [1]*5, [0]*5, [0]*5))"
   ]
  },
  {
   "cell_type": "code",
   "execution_count": 139,
   "id": "87b1bc4d-afbc-4195-b4ea-87a067ad6403",
   "metadata": {},
   "outputs": [
    {
     "data": {
      "text/plain": [
       "[1, 50, 1, 50, 1, 50, 1, 50, 1, 50]"
      ]
     },
     "execution_count": 139,
     "metadata": {},
     "output_type": "execute_result"
    }
   ],
   "source": [
    "test[0]"
   ]
  },
  {
   "cell_type": "code",
   "execution_count": 87,
   "id": "96598981-92b6-4355-bf3e-55a769003571",
   "metadata": {},
   "outputs": [],
   "source": [
    "test2 = generateSystem(5, [ka1]*5, [ka_1]*5, [ka2]*5)"
   ]
  },
  {
   "cell_type": "code",
   "execution_count": 89,
   "id": "3cfb1662-2b7d-4bd8-9b60-8b62588a7cbb",
   "metadata": {},
   "outputs": [
    {
     "data": {
      "text/plain": [
       "16"
      ]
     },
     "execution_count": 89,
     "metadata": {},
     "output_type": "execute_result"
    }
   ],
   "source": [
    "len(test2)"
   ]
  },
  {
   "cell_type": "code",
   "execution_count": 42,
   "id": "7d33c11c-1d03-4bd6-b650-b61bc569a1c1",
   "metadata": {},
   "outputs": [
    {
     "name": "stdout",
     "output_type": "stream",
     "text": [
      "22.7 µs ± 675 ns per loop (mean ± std. dev. of 7 runs, 10000 loops each)\n"
     ]
    }
   ],
   "source": [
    "timeit(generateSystem(5, [ka1]*5, [ka_1]*5, [ka2]*5))"
   ]
  },
  {
   "cell_type": "code",
   "execution_count": null,
   "id": "247fbc7b-802f-4b4d-9e89-6168a57f3a19",
   "metadata": {},
   "outputs": [],
   "source": []
  },
  {
   "cell_type": "code",
   "execution_count": 137,
   "id": "81b72092-1691-4731-8426-91931dd442fc",
   "metadata": {},
   "outputs": [],
   "source": [
    "def test_model(t, init_values, ka, kb, kc):\n",
    "    \"\"\"\n",
    "    Function to pass to generate, pass ODEs to ODE solver.\n",
    "    \n",
    "    Args:\n",
    "    init_values:    Array of initial concentration of each initial concentration of every species, min 4\n",
    "    ka:             Array of reaction rates for formation of pre-miR - dicer commplex\n",
    "    kb:             Array of reaction rates for dissociation of pre-miR - dicer complex\n",
    "    kc:             Array of reaction rates for catalysis of pre-miR to miR by dicer\n",
    "    \"\"\"\n",
    "    \n",
    "    concs_len = len(init_values)\n",
    "    \n",
    "    assert int(concs_len/2) == len(ka), \"The number of reactions do not agree with the number of reaction rates given.\"\n",
    "    assert int(concs_len/2) == len(kb), \"The number of reactions do not agree with the number of reaction rates given.\"\n",
    "    assert int(concs_len/2) == len(kc), \"The number of reactions do not agree with the number of reaction rates given.\"\n",
    "    \n",
    "    ODEs = generateSystem(int(concs_len/2), ka, kb, kc)\n",
    "    #output = [[0]]*len(ODEs)\n",
    "    output = []\n",
    "    \n",
    "    for i in range(len(ODEs)):\n",
    "        #utput[i] = output[i][0] + [(sum(ODEs[i] * init_values))]\n",
    "        #utput.append(sum(ODEs[i] * init_values))\n",
    "        #rint(output[i])\n",
    "        if i == int(len(ODEs) - 1):\n",
    "            exec('dicer = sum(ODEs[i] * init_values)')\n",
    "            exec('output.append(dicer)')\n",
    "            exec('print(i, dicer)')\n",
    "        elif (i + 1) % 3 == 0:\n",
    "            exec('mirna' + str(i) + ' = sum(ODEs[i] * init_values)')\n",
    "            exec('output.append(mirna' + str(i) + ')')\n",
    "            exec('print(i, mirna' + str(i) + ')')\n",
    "        elif (i + 1) % 2 == 0:\n",
    "            exec('pmiR_dicer' + str(i) + ' = sum(ODEs[i] * init_values)')\n",
    "            exec('output.append(pmiR_dicer' + str(i) + ')')\n",
    "            exec('print(i, pmiR_dicer' + str(i) + ')')\n",
    "        else:\n",
    "            exec('pmiR' + str(i) + ' = sum(ODEs[i] * init_values)')\n",
    "            exec('output.append(pmiR' + str(i) + ')')         \n",
    "            exec('print(i, pmiR' + str(i) + ')')\n",
    "                 \n",
    "    return output[:]"
   ]
  },
  {
   "cell_type": "code",
   "execution_count": 17,
   "id": "524d533c-dc56-46d8-bbeb-65cea1f4aeb0",
   "metadata": {},
   "outputs": [],
   "source": [
    "from scipy.integrate import solve_ivp"
   ]
  },
  {
   "cell_type": "code",
   "execution_count": 62,
   "id": "ffbf6efb-928e-41aa-be91-6e18e13b2c90",
   "metadata": {},
   "outputs": [],
   "source": [
    "init_conc = test[0]"
   ]
  },
  {
   "cell_type": "code",
   "execution_count": 138,
   "id": "d7c051a8-cfa1-4d5d-b0d1-d8e899a7ed75",
   "metadata": {
    "collapsed": true,
    "jupyter": {
     "outputs_hidden": true
    },
    "tags": []
   },
   "outputs": [
    {
     "name": "stdout",
     "output_type": "stream",
     "text": [
      "0 -25.30294992\n",
      "1 25.12263892\n",
      "2 0.180311\n",
      "3 -25.30294992\n",
      "4 25.12263892\n",
      "5 0.180311\n",
      "6 -25.30294992\n",
      "7 25.12263892\n",
      "8 0.180311\n",
      "9 -25.30294992\n",
      "10 25.12263892\n",
      "11 0.180311\n",
      "12 -25.30294992\n",
      "13 25.12263892\n",
      "14 0.180311\n",
      "15 -125.6131946\n"
     ]
    },
    {
     "ename": "ValueError",
     "evalue": "operands could not be broadcast together with shapes (16,) (10,) ",
     "output_type": "error",
     "traceback": [
      "\u001b[1;31m---------------------------------------------------------------------------\u001b[0m",
      "\u001b[1;31mValueError\u001b[0m                                Traceback (most recent call last)",
      "\u001b[1;32m~\\AppData\\Local\\Temp/ipykernel_21992/2608451859.py\u001b[0m in \u001b[0;36m<module>\u001b[1;34m\u001b[0m\n\u001b[1;32m----> 1\u001b[1;33m \u001b[0mres1\u001b[0m \u001b[1;33m=\u001b[0m \u001b[0msolve_ivp\u001b[0m\u001b[1;33m(\u001b[0m\u001b[0mtest_model\u001b[0m\u001b[1;33m,\u001b[0m \u001b[1;33m(\u001b[0m\u001b[1;36m0\u001b[0m\u001b[1;33m,\u001b[0m \u001b[0mint\u001b[0m\u001b[1;33m(\u001b[0m\u001b[0mparams\u001b[0m\u001b[1;33m.\u001b[0m\u001b[0mminutes\u001b[0m\u001b[1;33m)\u001b[0m\u001b[1;33m)\u001b[0m\u001b[1;33m,\u001b[0m \u001b[0minit_conc\u001b[0m\u001b[1;33m,\u001b[0m \u001b[0margs\u001b[0m\u001b[1;33m=\u001b[0m\u001b[1;33m(\u001b[0m\u001b[1;33m[\u001b[0m\u001b[0mka1\u001b[0m\u001b[1;33m]\u001b[0m\u001b[1;33m*\u001b[0m\u001b[1;36m5\u001b[0m\u001b[1;33m,\u001b[0m \u001b[1;33m[\u001b[0m\u001b[0mka_1\u001b[0m\u001b[1;33m]\u001b[0m\u001b[1;33m*\u001b[0m\u001b[1;36m5\u001b[0m\u001b[1;33m,\u001b[0m \u001b[1;33m[\u001b[0m\u001b[0mka2\u001b[0m\u001b[1;33m]\u001b[0m\u001b[1;33m*\u001b[0m\u001b[1;36m5\u001b[0m\u001b[1;33m)\u001b[0m\u001b[1;33m)\u001b[0m\u001b[1;33m\u001b[0m\u001b[1;33m\u001b[0m\u001b[0m\n\u001b[0m",
      "\u001b[1;32m~\\Anaconda3\\lib\\site-packages\\scipy\\integrate\\_ivp\\ivp.py\u001b[0m in \u001b[0;36msolve_ivp\u001b[1;34m(fun, t_span, y0, method, t_eval, dense_output, events, vectorized, args, **options)\u001b[0m\n\u001b[0;32m    553\u001b[0m         \u001b[0mmethod\u001b[0m \u001b[1;33m=\u001b[0m \u001b[0mMETHODS\u001b[0m\u001b[1;33m[\u001b[0m\u001b[0mmethod\u001b[0m\u001b[1;33m]\u001b[0m\u001b[1;33m\u001b[0m\u001b[1;33m\u001b[0m\u001b[0m\n\u001b[0;32m    554\u001b[0m \u001b[1;33m\u001b[0m\u001b[0m\n\u001b[1;32m--> 555\u001b[1;33m     \u001b[0msolver\u001b[0m \u001b[1;33m=\u001b[0m \u001b[0mmethod\u001b[0m\u001b[1;33m(\u001b[0m\u001b[0mfun\u001b[0m\u001b[1;33m,\u001b[0m \u001b[0mt0\u001b[0m\u001b[1;33m,\u001b[0m \u001b[0my0\u001b[0m\u001b[1;33m,\u001b[0m \u001b[0mtf\u001b[0m\u001b[1;33m,\u001b[0m \u001b[0mvectorized\u001b[0m\u001b[1;33m=\u001b[0m\u001b[0mvectorized\u001b[0m\u001b[1;33m,\u001b[0m \u001b[1;33m**\u001b[0m\u001b[0moptions\u001b[0m\u001b[1;33m)\u001b[0m\u001b[1;33m\u001b[0m\u001b[1;33m\u001b[0m\u001b[0m\n\u001b[0m\u001b[0;32m    556\u001b[0m \u001b[1;33m\u001b[0m\u001b[0m\n\u001b[0;32m    557\u001b[0m     \u001b[1;32mif\u001b[0m \u001b[0mt_eval\u001b[0m \u001b[1;32mis\u001b[0m \u001b[1;32mNone\u001b[0m\u001b[1;33m:\u001b[0m\u001b[1;33m\u001b[0m\u001b[1;33m\u001b[0m\u001b[0m\n",
      "\u001b[1;32m~\\Anaconda3\\lib\\site-packages\\scipy\\integrate\\_ivp\\rk.py\u001b[0m in \u001b[0;36m__init__\u001b[1;34m(self, fun, t0, y0, t_bound, max_step, rtol, atol, vectorized, first_step, **extraneous)\u001b[0m\n\u001b[0;32m     94\u001b[0m         \u001b[0mself\u001b[0m\u001b[1;33m.\u001b[0m\u001b[0mf\u001b[0m \u001b[1;33m=\u001b[0m \u001b[0mself\u001b[0m\u001b[1;33m.\u001b[0m\u001b[0mfun\u001b[0m\u001b[1;33m(\u001b[0m\u001b[0mself\u001b[0m\u001b[1;33m.\u001b[0m\u001b[0mt\u001b[0m\u001b[1;33m,\u001b[0m \u001b[0mself\u001b[0m\u001b[1;33m.\u001b[0m\u001b[0my\u001b[0m\u001b[1;33m)\u001b[0m\u001b[1;33m\u001b[0m\u001b[1;33m\u001b[0m\u001b[0m\n\u001b[0;32m     95\u001b[0m         \u001b[1;32mif\u001b[0m \u001b[0mfirst_step\u001b[0m \u001b[1;32mis\u001b[0m \u001b[1;32mNone\u001b[0m\u001b[1;33m:\u001b[0m\u001b[1;33m\u001b[0m\u001b[1;33m\u001b[0m\u001b[0m\n\u001b[1;32m---> 96\u001b[1;33m             self.h_abs = select_initial_step(\n\u001b[0m\u001b[0;32m     97\u001b[0m                 \u001b[0mself\u001b[0m\u001b[1;33m.\u001b[0m\u001b[0mfun\u001b[0m\u001b[1;33m,\u001b[0m \u001b[0mself\u001b[0m\u001b[1;33m.\u001b[0m\u001b[0mt\u001b[0m\u001b[1;33m,\u001b[0m \u001b[0mself\u001b[0m\u001b[1;33m.\u001b[0m\u001b[0my\u001b[0m\u001b[1;33m,\u001b[0m \u001b[0mself\u001b[0m\u001b[1;33m.\u001b[0m\u001b[0mf\u001b[0m\u001b[1;33m,\u001b[0m \u001b[0mself\u001b[0m\u001b[1;33m.\u001b[0m\u001b[0mdirection\u001b[0m\u001b[1;33m,\u001b[0m\u001b[1;33m\u001b[0m\u001b[1;33m\u001b[0m\u001b[0m\n\u001b[0;32m     98\u001b[0m                 self.error_estimator_order, self.rtol, self.atol)\n",
      "\u001b[1;32m~\\Anaconda3\\lib\\site-packages\\scipy\\integrate\\_ivp\\common.py\u001b[0m in \u001b[0;36mselect_initial_step\u001b[1;34m(fun, t0, y0, f0, direction, order, rtol, atol)\u001b[0m\n\u001b[0;32m    104\u001b[0m     \u001b[0mscale\u001b[0m \u001b[1;33m=\u001b[0m \u001b[0matol\u001b[0m \u001b[1;33m+\u001b[0m \u001b[0mnp\u001b[0m\u001b[1;33m.\u001b[0m\u001b[0mabs\u001b[0m\u001b[1;33m(\u001b[0m\u001b[0my0\u001b[0m\u001b[1;33m)\u001b[0m \u001b[1;33m*\u001b[0m \u001b[0mrtol\u001b[0m\u001b[1;33m\u001b[0m\u001b[1;33m\u001b[0m\u001b[0m\n\u001b[0;32m    105\u001b[0m     \u001b[0md0\u001b[0m \u001b[1;33m=\u001b[0m \u001b[0mnorm\u001b[0m\u001b[1;33m(\u001b[0m\u001b[0my0\u001b[0m \u001b[1;33m/\u001b[0m \u001b[0mscale\u001b[0m\u001b[1;33m)\u001b[0m\u001b[1;33m\u001b[0m\u001b[1;33m\u001b[0m\u001b[0m\n\u001b[1;32m--> 106\u001b[1;33m     \u001b[0md1\u001b[0m \u001b[1;33m=\u001b[0m \u001b[0mnorm\u001b[0m\u001b[1;33m(\u001b[0m\u001b[0mf0\u001b[0m \u001b[1;33m/\u001b[0m \u001b[0mscale\u001b[0m\u001b[1;33m)\u001b[0m\u001b[1;33m\u001b[0m\u001b[1;33m\u001b[0m\u001b[0m\n\u001b[0m\u001b[0;32m    107\u001b[0m     \u001b[1;32mif\u001b[0m \u001b[0md0\u001b[0m \u001b[1;33m<\u001b[0m \u001b[1;36m1e-5\u001b[0m \u001b[1;32mor\u001b[0m \u001b[0md1\u001b[0m \u001b[1;33m<\u001b[0m \u001b[1;36m1e-5\u001b[0m\u001b[1;33m:\u001b[0m\u001b[1;33m\u001b[0m\u001b[1;33m\u001b[0m\u001b[0m\n\u001b[0;32m    108\u001b[0m         \u001b[0mh0\u001b[0m \u001b[1;33m=\u001b[0m \u001b[1;36m1e-6\u001b[0m\u001b[1;33m\u001b[0m\u001b[1;33m\u001b[0m\u001b[0m\n",
      "\u001b[1;31mValueError\u001b[0m: operands could not be broadcast together with shapes (16,) (10,) "
     ]
    }
   ],
   "source": [
    "res1 = solve_ivp(test_model, (0, int(params.minutes)), init_conc, \\\n",
    "                 args=([ka1]*5, [ka_1]*5, [ka2]*5))"
   ]
  },
  {
   "cell_type": "code",
   "execution_count": 160,
   "id": "df5b0c15-6313-4e24-927c-d46156655e57",
   "metadata": {},
   "outputs": [],
   "source": [
    "def dynamic_model(t, init_values, ka, kb, kc):\n",
    "    \"\"\"\n",
    "    Dynamic model for ODE system creation and solving\n",
    "    \n",
    "    init_values:    List of initial concentration of free pre-miRNA concentration for\n",
    "                    each pre-mirna, pre-mirna x dicer concentration and dicer \n",
    "                    concentration. Alternating pre-mirna (a) and pre-mirna dicer (b),\n",
    "                    with final dicer concentration (c) i.e. [a, b, a, b, a, b, c]\n",
    "    ka:             Array of reaction rates for formation of pre-miR - dicer commplex\n",
    "    kb:             Array of reaction rates for dissociation of pre-miR - dicer complex\n",
    "    kc:             Array of reaction rates for catalysis of pre-miR to miR by dicer\n",
    "    \"\"\"\n",
    "    \n",
    "    assert len(init_values-1) % 2 == 0, \"You have supplied an uneven number of \\\n",
    "    pre-mirna, dicer x pre-mirna concentrations\"\n",
    "    assert int((len(init_values) - 1)/2) == len(ka), \"The number of reactions do not \\\n",
    "    agree with the number of reaction rates given.\"\n",
    "    assert int((len(init_values) - 1)/2) == len(kb), \"The number of reactions do not \\\n",
    "    agree with the number of reaction rates given.\"\n",
    "    assert int((len(init_values) - 1)/2) == len(kc), \"The number of reactions do not \\\n",
    "    agree with the number of reaction rates given.\"\n",
    "    \n",
    "    #calculate number of miRNAs\n",
    "    n_mirna = int(init_values/2)\n",
    "    \n",
    "    output = []\n",
    "    dicer_strings = \"\"\n",
    "    \n",
    "    for i in range(n_mirna):\n",
    "        exec('premirna' + str(i) + ' = init_values[i+1] * kb[i] - \\\n",
    "        init_values[i] * init_values[-1] * ka[i]')\n",
    "        exec('output.append(premirna' + str(i) + ')')\n",
    "        \n",
    "        exec('pmiR_dicer' + str(i) + ' = init_values[i] * init_values[-1] * ka[i] - \\\n",
    "        init_values[i+1] * kb[i]')\n",
    "        exec('output.append(pmiR_dicer' + str(i) + ')')\n",
    "        \n",
    "        exec('mirna' + str(i) + ' = init_values[i+1] * kc[i]')\n",
    "        exec('output.append(mirna' + str(i) + ')')\n",
    "    \n",
    "        if i == 0:\n",
    "            dicer_strings = dicer_strings + 'init_values[i+1] * (kb[i] + kc[i]) - \\\n",
    "            init_values[-1] * init_values[i] * ka[i]'\n",
    "        \n",
    "        else:\n",
    "            dicer_strings = dicer_strings + '+ init_values[i+1] * (kb[i] + kc[i]) - \\\n",
    "            init_values[-1] * init_values[i] * ka[i]'\n",
    "    \n",
    "    exec('dicer = ' + dicer_strings)\n",
    "    exec('output.append(dicer)')\n",
    "    \n",
    "    return output\n",
    "    "
   ]
  },
  {
   "cell_type": "code",
   "execution_count": 146,
   "id": "3ef202b2-6f7f-410f-942e-1538c449f9b6",
   "metadata": {
    "tags": []
   },
   "outputs": [],
   "source": [
    "def make_inits(num_preMiR, pMiR, dicer_pMiR, dicer):\n",
    "    \"\"\"\n",
    "    Function to generate vector of initial concentrations for all species.\n",
    "    \n",
    "    Args:\n",
    "    num_preMiR:    int, number of pre-miRNA species\n",
    "    pMiR:          list of floats, initial concentration of pre-miRNA\n",
    "    dicer_pMiR:    list of floats, initial concentration Dicer and pre-miRNA complexes\n",
    "    dicer:         float, initial concentration of dicer\n",
    "    \"\"\"\n",
    "    \n",
    "    assert num_preMiR == len(pMiR), \"The number of concentrations given do \\\n",
    "    not correspond with the number of species\"\n",
    "    assert num_preMiR == len(dicer_pMiR), \"The number of concentrations given do not \\\n",
    "    correspond with the number of species\"\n",
    "    \n",
    "    init_concs = [pMiR[0], dicer_pMiR[0]]\n",
    "    init_species = {\"pMiR0\": pMiR[0], \"dicer_pMiR0\": dicer_pMiR[0]}\n",
    "    \n",
    "    for i in range(1, num_preMiR):\n",
    "        init_concs.append(pMiR[i])\n",
    "        init_concs.append(dicer_pMiR[i])\n",
    "        \n",
    "        init_species[\"preMiR\"+str(i)] = pMiR[i]\n",
    "        init_species[\"dicer_preMiR\"+str(i)] = dicer_pMiR[i]\n",
    "    \n",
    "    init_concs.append(dicer)\n",
    "    init_species[\"dicer\"] = dicer\n",
    "        \n",
    "    return init_concs, init_species"
   ]
  },
  {
   "cell_type": "code",
   "execution_count": 147,
   "id": "12c7744b-3ca9-415c-84f3-60b7c5ff151c",
   "metadata": {},
   "outputs": [],
   "source": [
    "inits = make_inits(5, [params.init_premirna1] * 5, [params.init_premirna1_dicer] * 5, \\\n",
    "                   params.init_dicer)"
   ]
  },
  {
   "cell_type": "code",
   "execution_count": 148,
   "id": "5b06a9a7-f9f2-4e3f-b83d-a05c90477e32",
   "metadata": {},
   "outputs": [
    {
     "data": {
      "text/plain": [
       "([1, 0, 1, 0, 1, 0, 1, 0, 1, 0, 50],\n",
       " {'pMiR0': 1,\n",
       "  'dicer_pMiR0': 0,\n",
       "  'preMiR1': 1,\n",
       "  'dicer_preMiR1': 0,\n",
       "  'preMiR2': 1,\n",
       "  'dicer_preMiR2': 0,\n",
       "  'preMiR3': 1,\n",
       "  'dicer_preMiR3': 0,\n",
       "  'preMiR4': 1,\n",
       "  'dicer_preMiR4': 0,\n",
       "  'dicer': 50})"
      ]
     },
     "execution_count": 148,
     "metadata": {},
     "output_type": "execute_result"
    }
   ],
   "source": [
    "inits"
   ]
  },
  {
   "cell_type": "code",
   "execution_count": 159,
   "id": "8a31219e-092b-41b2-97b6-1da4c980c650",
   "metadata": {},
   "outputs": [
    {
     "ename": "ValueError",
     "evalue": "setting an array element with a sequence.",
     "output_type": "error",
     "traceback": [
      "\u001b[1;31m---------------------------------------------------------------------------\u001b[0m",
      "\u001b[1;31mTypeError\u001b[0m                                 Traceback (most recent call last)",
      "\u001b[1;31mTypeError\u001b[0m: float() argument must be a string or a number, not 'list'",
      "\nThe above exception was the direct cause of the following exception:\n",
      "\u001b[1;31mValueError\u001b[0m                                Traceback (most recent call last)",
      "\u001b[1;32m~\\AppData\\Local\\Temp/ipykernel_21992/4143523089.py\u001b[0m in \u001b[0;36m<module>\u001b[1;34m\u001b[0m\n\u001b[1;32m----> 1\u001b[1;33m res2 = solve_ivp(dynamic_model, (0, int(params.minutes)), inits, \\\n\u001b[0m\u001b[0;32m      2\u001b[0m                  args=([ka1]*5, [ka_1]*5, [ka2]*5))\n",
      "\u001b[1;32m~\\Anaconda3\\lib\\site-packages\\scipy\\integrate\\_ivp\\ivp.py\u001b[0m in \u001b[0;36msolve_ivp\u001b[1;34m(fun, t_span, y0, method, t_eval, dense_output, events, vectorized, args, **options)\u001b[0m\n\u001b[0;32m    553\u001b[0m         \u001b[0mmethod\u001b[0m \u001b[1;33m=\u001b[0m \u001b[0mMETHODS\u001b[0m\u001b[1;33m[\u001b[0m\u001b[0mmethod\u001b[0m\u001b[1;33m]\u001b[0m\u001b[1;33m\u001b[0m\u001b[1;33m\u001b[0m\u001b[0m\n\u001b[0;32m    554\u001b[0m \u001b[1;33m\u001b[0m\u001b[0m\n\u001b[1;32m--> 555\u001b[1;33m     \u001b[0msolver\u001b[0m \u001b[1;33m=\u001b[0m \u001b[0mmethod\u001b[0m\u001b[1;33m(\u001b[0m\u001b[0mfun\u001b[0m\u001b[1;33m,\u001b[0m \u001b[0mt0\u001b[0m\u001b[1;33m,\u001b[0m \u001b[0my0\u001b[0m\u001b[1;33m,\u001b[0m \u001b[0mtf\u001b[0m\u001b[1;33m,\u001b[0m \u001b[0mvectorized\u001b[0m\u001b[1;33m=\u001b[0m\u001b[0mvectorized\u001b[0m\u001b[1;33m,\u001b[0m \u001b[1;33m**\u001b[0m\u001b[0moptions\u001b[0m\u001b[1;33m)\u001b[0m\u001b[1;33m\u001b[0m\u001b[1;33m\u001b[0m\u001b[0m\n\u001b[0m\u001b[0;32m    556\u001b[0m \u001b[1;33m\u001b[0m\u001b[0m\n\u001b[0;32m    557\u001b[0m     \u001b[1;32mif\u001b[0m \u001b[0mt_eval\u001b[0m \u001b[1;32mis\u001b[0m \u001b[1;32mNone\u001b[0m\u001b[1;33m:\u001b[0m\u001b[1;33m\u001b[0m\u001b[1;33m\u001b[0m\u001b[0m\n",
      "\u001b[1;32m~\\Anaconda3\\lib\\site-packages\\scipy\\integrate\\_ivp\\rk.py\u001b[0m in \u001b[0;36m__init__\u001b[1;34m(self, fun, t0, y0, t_bound, max_step, rtol, atol, vectorized, first_step, **extraneous)\u001b[0m\n\u001b[0;32m     87\u001b[0m                  first_step=None, **extraneous):\n\u001b[0;32m     88\u001b[0m         \u001b[0mwarn_extraneous\u001b[0m\u001b[1;33m(\u001b[0m\u001b[0mextraneous\u001b[0m\u001b[1;33m)\u001b[0m\u001b[1;33m\u001b[0m\u001b[1;33m\u001b[0m\u001b[0m\n\u001b[1;32m---> 89\u001b[1;33m         super().__init__(fun, t0, y0, t_bound, vectorized,\n\u001b[0m\u001b[0;32m     90\u001b[0m                          support_complex=True)\n\u001b[0;32m     91\u001b[0m         \u001b[0mself\u001b[0m\u001b[1;33m.\u001b[0m\u001b[0my_old\u001b[0m \u001b[1;33m=\u001b[0m \u001b[1;32mNone\u001b[0m\u001b[1;33m\u001b[0m\u001b[1;33m\u001b[0m\u001b[0m\n",
      "\u001b[1;32m~\\Anaconda3\\lib\\site-packages\\scipy\\integrate\\_ivp\\base.py\u001b[0m in \u001b[0;36m__init__\u001b[1;34m(self, fun, t0, y0, t_bound, vectorized, support_complex)\u001b[0m\n\u001b[0;32m    117\u001b[0m         \u001b[0mself\u001b[0m\u001b[1;33m.\u001b[0m\u001b[0mt_old\u001b[0m \u001b[1;33m=\u001b[0m \u001b[1;32mNone\u001b[0m\u001b[1;33m\u001b[0m\u001b[1;33m\u001b[0m\u001b[0m\n\u001b[0;32m    118\u001b[0m         \u001b[0mself\u001b[0m\u001b[1;33m.\u001b[0m\u001b[0mt\u001b[0m \u001b[1;33m=\u001b[0m \u001b[0mt0\u001b[0m\u001b[1;33m\u001b[0m\u001b[1;33m\u001b[0m\u001b[0m\n\u001b[1;32m--> 119\u001b[1;33m         \u001b[0mself\u001b[0m\u001b[1;33m.\u001b[0m\u001b[0m_fun\u001b[0m\u001b[1;33m,\u001b[0m \u001b[0mself\u001b[0m\u001b[1;33m.\u001b[0m\u001b[0my\u001b[0m \u001b[1;33m=\u001b[0m \u001b[0mcheck_arguments\u001b[0m\u001b[1;33m(\u001b[0m\u001b[0mfun\u001b[0m\u001b[1;33m,\u001b[0m \u001b[0my0\u001b[0m\u001b[1;33m,\u001b[0m \u001b[0msupport_complex\u001b[0m\u001b[1;33m)\u001b[0m\u001b[1;33m\u001b[0m\u001b[1;33m\u001b[0m\u001b[0m\n\u001b[0m\u001b[0;32m    120\u001b[0m         \u001b[0mself\u001b[0m\u001b[1;33m.\u001b[0m\u001b[0mt_bound\u001b[0m \u001b[1;33m=\u001b[0m \u001b[0mt_bound\u001b[0m\u001b[1;33m\u001b[0m\u001b[1;33m\u001b[0m\u001b[0m\n\u001b[0;32m    121\u001b[0m         \u001b[0mself\u001b[0m\u001b[1;33m.\u001b[0m\u001b[0mvectorized\u001b[0m \u001b[1;33m=\u001b[0m \u001b[0mvectorized\u001b[0m\u001b[1;33m\u001b[0m\u001b[1;33m\u001b[0m\u001b[0m\n",
      "\u001b[1;32m~\\Anaconda3\\lib\\site-packages\\scipy\\integrate\\_ivp\\base.py\u001b[0m in \u001b[0;36mcheck_arguments\u001b[1;34m(fun, y0, support_complex)\u001b[0m\n\u001b[0;32m     12\u001b[0m     \u001b[1;32melse\u001b[0m\u001b[1;33m:\u001b[0m\u001b[1;33m\u001b[0m\u001b[1;33m\u001b[0m\u001b[0m\n\u001b[0;32m     13\u001b[0m         \u001b[0mdtype\u001b[0m \u001b[1;33m=\u001b[0m \u001b[0mfloat\u001b[0m\u001b[1;33m\u001b[0m\u001b[1;33m\u001b[0m\u001b[0m\n\u001b[1;32m---> 14\u001b[1;33m     \u001b[0my0\u001b[0m \u001b[1;33m=\u001b[0m \u001b[0my0\u001b[0m\u001b[1;33m.\u001b[0m\u001b[0mastype\u001b[0m\u001b[1;33m(\u001b[0m\u001b[0mdtype\u001b[0m\u001b[1;33m,\u001b[0m \u001b[0mcopy\u001b[0m\u001b[1;33m=\u001b[0m\u001b[1;32mFalse\u001b[0m\u001b[1;33m)\u001b[0m\u001b[1;33m\u001b[0m\u001b[1;33m\u001b[0m\u001b[0m\n\u001b[0m\u001b[0;32m     15\u001b[0m \u001b[1;33m\u001b[0m\u001b[0m\n\u001b[0;32m     16\u001b[0m     \u001b[1;32mif\u001b[0m \u001b[0my0\u001b[0m\u001b[1;33m.\u001b[0m\u001b[0mndim\u001b[0m \u001b[1;33m!=\u001b[0m \u001b[1;36m1\u001b[0m\u001b[1;33m:\u001b[0m\u001b[1;33m\u001b[0m\u001b[1;33m\u001b[0m\u001b[0m\n",
      "\u001b[1;31mValueError\u001b[0m: setting an array element with a sequence."
     ]
    }
   ],
   "source": [
    "res2 = solve_ivp(dynamic_model, (0, int(params.minutes)), inits, \\\n",
    "                 args=([ka1]*5, [ka_1]*5, [ka2]*5))"
   ]
  },
  {
   "cell_type": "code",
   "execution_count": null,
   "id": "166a3453-49ec-4625-8f47-c6715637bfce",
   "metadata": {},
   "outputs": [],
   "source": []
  },
  {
   "cell_type": "code",
   "execution_count": null,
   "id": "ab37ba83-5658-419b-9576-c78fe3962c8d",
   "metadata": {},
   "outputs": [],
   "source": []
  }
 ],
 "metadata": {
  "kernelspec": {
   "display_name": "Python 3 (ipykernel)",
   "language": "python",
   "name": "python3"
  },
  "language_info": {
   "codemirror_mode": {
    "name": "ipython",
    "version": 3
   },
   "file_extension": ".py",
   "mimetype": "text/x-python",
   "name": "python",
   "nbconvert_exporter": "python",
   "pygments_lexer": "ipython3",
   "version": "3.9.13"
  }
 },
 "nbformat": 4,
 "nbformat_minor": 5
}
