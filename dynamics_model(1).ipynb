{
 "cells": [
  {
   "cell_type": "code",
   "execution_count": 1,
   "id": "383e157f-2134-4c58-8e7d-b1771ebb7282",
   "metadata": {},
   "outputs": [],
   "source": [
    "import numpy as np\n",
    "import matplotlib.pyplot as plt\n",
    "import params\n",
    "import utils\n",
    "from scipy.integrate import solve_ivp"
   ]
  },
  {
   "cell_type": "code",
   "execution_count": 3,
   "id": "28632512-7675-4316-871e-7f4d9d96a8e6",
   "metadata": {},
   "outputs": [],
   "source": [
    "inits, inits_dict = utils.make_inits(100, [params.init_premirna1]*100, \\\n",
    "                                     [params.init_premirna1_dicer]*100, \\\n",
    "                                     [params.init_mirna1]*100, \\\n",
    "                                     params.init_dicer * 100)"
   ]
  },
  {
   "cell_type": "code",
   "execution_count": 5,
   "id": "aedad826-d17f-4c6c-8077-8f30515c8925",
   "metadata": {},
   "outputs": [],
   "source": [
    "ODEs = utils.makeODEs(inits, [params.ka1]*100, \\\n",
    "                [params.ka_1]*100,\n",
    "                [params.ka2]*100)"
   ]
  },
  {
   "cell_type": "code",
   "execution_count": 7,
   "id": "2bc02aa4-df79-417c-a4c1-1d25fd2df50a",
   "metadata": {},
   "outputs": [],
   "source": [
    "model = utils.makeModel(ODEs)"
   ]
  },
  {
   "cell_type": "code",
   "execution_count": 8,
   "id": "7c11642e-9840-45f4-b229-99a693bdeb01",
   "metadata": {},
   "outputs": [],
   "source": [
    "exec(model)"
   ]
  },
  {
   "cell_type": "code",
   "execution_count": 9,
   "id": "3712e595-7a51-4671-8427-75822fc8d1dd",
   "metadata": {},
   "outputs": [
    {
     "name": "stdout",
     "output_type": "stream",
     "text": [
      "Help on function runModel in module __main__:\n",
      "\n",
      "runModel(t, init_values, ka, kb, kc)\n",
      "    Function to run model in ODE solver\n",
      "    \n",
      "    init_values:    List of initial concentration of free pre-miRNA concentration for\n",
      "                    each pre-mirna, pre-mirna x dicer concentration, mirna concentration\n",
      "                    and dicer concentration. Alternating pre-mirna (a), pre-mirna dicer (b),\n",
      "                    and mirna(c), with final dicer concentration (d), i.e. [a, b, c, a, b, c, d]\n",
      "    ka:             Array of reaction rates for formation of pre-miR - dicer commplex\n",
      "    kb:             Array of reaction rates for dissociation of pre-miR - dicer complex\n",
      "    kc:             Array of reaction rates for catalysis of pre-miR to miR by dicer\n",
      "\n"
     ]
    }
   ],
   "source": [
    "help(runModel)"
   ]
  },
  {
   "cell_type": "code",
   "execution_count": 10,
   "id": "60df3a88-b3ed-4bc2-b065-eb0bb32abc53",
   "metadata": {},
   "outputs": [],
   "source": [
    "res1 = solve_ivp(runModel, (0, int(params.minutes)), inits, \\\n",
    "                 args = ([params.ka1]*100, [params.ka_1]*100, [params.ka2]*100))"
   ]
  },
  {
   "cell_type": "code",
   "execution_count": 11,
   "id": "ef2c45ae-4de6-42c1-b1f0-b4fb0fb0fd1f",
   "metadata": {},
   "outputs": [],
   "source": [
    "dicer_basal = res1.y[-1]\n",
    "time1 = res1.t"
   ]
  },
  {
   "cell_type": "code",
   "execution_count": 12,
   "id": "8855ea7f-0d5c-4559-b7aa-6224631f54db",
   "metadata": {},
   "outputs": [],
   "source": [
    "res2 = solve_ivp(runModel, (0, int(params.minutes)), inits, \\\n",
    "                 args = ([params.ka1*10]*100, [params.ka_1]*100, [params.ka2]*100))"
   ]
  },
  {
   "cell_type": "code",
   "execution_count": 13,
   "id": "96c37bfd-1f60-45d8-ae0c-032b2c5877be",
   "metadata": {},
   "outputs": [],
   "source": [
    "dicer_highka = res2.y[-1]\n",
    "time2 = res2.t"
   ]
  },
  {
   "cell_type": "code",
   "execution_count": 14,
   "id": "b08e52ce-5181-4c45-ad7f-3dd4b09e16e7",
   "metadata": {},
   "outputs": [],
   "source": [
    "res3 = solve_ivp(runModel, (0, int(params.minutes)), inits, \\\n",
    "                 args = ([params.ka1/10]*100, [params.ka_1]*100, [params.ka2]*100))"
   ]
  },
  {
   "cell_type": "code",
   "execution_count": 15,
   "id": "d81e1e1c-ca5f-440b-b5e9-269364818a3b",
   "metadata": {},
   "outputs": [],
   "source": [
    "dicer_lowka = res3.y[-1]\n",
    "time3 = res3.t"
   ]
  },
  {
   "cell_type": "code",
   "execution_count": 16,
   "id": "7dddcc5c-ab45-49c1-b4ea-c100adc99aac",
   "metadata": {},
   "outputs": [],
   "source": [
    "res4 = solve_ivp(runModel, (0, int(params.minutes)), inits, \\\n",
    "                 args = ([params.ka1]*100, [params.ka_1*10]*100, [params.ka2]*100))"
   ]
  },
  {
   "cell_type": "code",
   "execution_count": 18,
   "id": "f751c961-0d23-4c23-9587-7d2bfa8e494d",
   "metadata": {},
   "outputs": [],
   "source": [
    "dicer_highkb = res4.y[-1]\n",
    "time4 = res4.t"
   ]
  },
  {
   "cell_type": "code",
   "execution_count": 19,
   "id": "089ca0e2-926d-48e4-b58c-a1561c3952b4",
   "metadata": {},
   "outputs": [],
   "source": [
    "res5 = solve_ivp(runModel, (0, int(params.minutes)), inits, \\\n",
    "                 args = ([params.ka1]*100, [params.ka_1/10]*100, [params.ka2]*100))"
   ]
  },
  {
   "cell_type": "code",
   "execution_count": 20,
   "id": "625ed814-a9c0-4369-b47b-f9c7d189648e",
   "metadata": {},
   "outputs": [],
   "source": [
    "dicer_lowkb = res5.y[-1]\n",
    "time5 = res5.t"
   ]
  },
  {
   "cell_type": "code",
   "execution_count": 21,
   "id": "ab6fb7f2-75d7-4366-9810-e2f32a0dbc1b",
   "metadata": {},
   "outputs": [],
   "source": [
    "res6 = solve_ivp(runModel, (0, int(params.minutes)), inits, \\\n",
    "                 args = ([params.ka1]*100, [params.ka_1]*100, [params.ka2*10]*100))"
   ]
  },
  {
   "cell_type": "code",
   "execution_count": 22,
   "id": "88c9cac6-6df9-4a6b-a354-81c21cc27793",
   "metadata": {},
   "outputs": [],
   "source": [
    "dicer_highkc = res6.y[-1]\n",
    "time6 = res6.t"
   ]
  },
  {
   "cell_type": "code",
   "execution_count": 23,
   "id": "83fb6172-31ab-49aa-94a5-e47e7306f3a2",
   "metadata": {},
   "outputs": [],
   "source": [
    "res7 = solve_ivp(runModel, (0, int(params.minutes)), inits, \\\n",
    "                 args = ([params.ka1]*100, [params.ka_1]*100, [params.ka2/10]*100))"
   ]
  },
  {
   "cell_type": "code",
   "execution_count": 24,
   "id": "c42d32b5-b5aa-42cf-9a2b-5de72fa5b2cf",
   "metadata": {},
   "outputs": [],
   "source": [
    "dicer_lowkc = res7.y[-1]\n",
    "time7 = res7.t"
   ]
  },
  {
   "cell_type": "code",
   "execution_count": 26,
   "id": "07a36a3c-b9a2-4203-abe2-910e9c97d995",
   "metadata": {},
   "outputs": [
    {
     "data": {
      "image/png": "[encoded data removed]",
      "text/plain": [
       "<Figure size 432x288 with 1 Axes>"
      ]
     },
     "metadata": {
      "needs_background": "light"
     },
     "output_type": "display_data"
    }
   ],
   "source": [
    "fig = plt.figure()\n",
    "plt.rc('font', size=12)\n",
    "ax = plt.subplot()\n",
    "\n",
    "ax.plot(time1, dicer_basal, \"o\")\n",
    "ax.plot(time2, dicer_highka, \"x\")\n",
    "ax.plot(time3, dicer_lowka, \"*\")\n",
    "ax.plot(time4, dicer_highkb, \"-\")\n",
    "ax.plot(time5, dicer_lowkb, \".\")\n",
    "ax.plot(time6, dicer_highkc, \"--\")\n",
    "ax.plot(time7, dicer_lowkc, \"-.\")\n",
    "\n",
    "ax.legend([\"Basal\", \"High ka\", \"Low ka\", \"High kb\", \"Low kb\", \"High kc\", \"Low kc\"])\n",
    "ax.set_xlabel(\"Time (minutes)\")\n",
    "ax.set_ylabel(\"Dicer concentration (nM)\")\n",
    "\n",
    "plt.tight_layout()\n",
    "\n",
    "fig.savefig(r'./figures/dynamic_model(1a).svg', dpi=600, bbox_inches = 'tight')\n",
    "\n",
    "plt.show()\n"
   ]
  },
  {
   "cell_type": "code",
   "execution_count": null,
   "id": "df3ec850-f89e-4801-90af-9213da0ddd8e",
   "metadata": {},
   "outputs": [],
   "source": [
    "fig = plt.figure()\n",
    "plt.rc('font', size=12)\n",
    "ax1 = plt.subplot(3, 3, 1)\n",
    "ax1.plot(time1, dicer_basal, \"o\")\n",
    "\n",
    "ax2 = plt.subplot(3, 3, 2)\n",
    "ax2.plot(time2, dicer_highka, \"x\")\n",
    "\n",
    "ax3 = plt.subplot(3, 3, 3)\n",
    "ax3.plot(time3, dicer_lowka, \"*\")\n",
    "\n",
    "ax4 = plt.subplot(3, 3, 4)\n",
    "ax4.plot(time4, dicer_highkb, \"-\")\n",
    "\n",
    "ax5 = plt.subplot(3, 3, 5)\n",
    "ax5.plot(time5, dicer_lowkb, \".\")\n",
    "\n",
    "ax6 = plt.subplot(3, 3, 6)\n",
    "ax6.plot(time6, dicer_highkc, \"--\")\n",
    "\n",
    "ax7 = plt.subplot(3, 3, 7)\n",
    "ax7.plot(time7, dicer_lowkc, \"-.\")\n",
    "\n",
    "ax.legend([\"Basal\", \"High ka\", \"Low ka\", \"High kb\", \"Low kb\", \"High kc\", \"Low kc\"])\n",
    "ax.set_xlabel(\"Time (minutes)\")\n",
    "ax.set_ylabel(\"Dicer concentration (nM)\")\n",
    "\n",
    "plt.tight_layout()\n",
    "\n",
    "fig.savefig(r'./figures/dynamic_model(1ba).svg', dpi=600, bbox_inches = 'tight')\n",
    "\n",
    "plt.show()"
   ]
  },
  {
   "cell_type": "code",
   "execution_count": 28,
   "id": "c6e409ec-cf53-4ee8-a55c-3719bba670c0",
   "metadata": {},
   "outputs": [],
   "source": [
    "import pandas as pd"
   ]
  },
  {
   "cell_type": "code",
   "execution_count": 30,
   "id": "06bbd039-41cd-471b-bfda-1c046c9e90a3",
   "metadata": {},
   "outputs": [],
   "source": [
    "df1 = pd.DataFrame({\"time_basal\": time1, \"dicer_basal\": dicer_basal})\n",
    "df2 = pd.DataFrame({\"time_highka\": time2, \"dicer_highka\": dicer_highka})\n",
    "df3 = pd.DataFrame({\"time_lowka\": time3, \"dicer_lowka\": dicer_lowka})\n",
    "df4 = pd.DataFrame({\"time_highkb\": time4, \"dicer_highkb\": dicer_highkb})\n",
    "df5 = pd.DataFrame({\"time_lowkb\": time5, \"dicer_lowkb\": dicer_lowkb})\n",
    "df6 = pd.DataFrame({\"time_highkc\": time6, \"dicer_highkc\": dicer_highkc})\n",
    "df7 = pd.DataFrame({\"time_lowkc\": time7, \"dicer_lowkc\": dicer_lowkc})"
   ]
  },
  {
   "cell_type": "code",
   "execution_count": null,
   "id": "51015cf6-87fb-485d-8ae9-944341dbbccf",
   "metadata": {},
   "outputs": [],
   "source": []
  }
 ],
 "metadata": {
  "kernelspec": {
   "display_name": "Python 3 (ipykernel)",
   "language": "python",
   "name": "python3"
  },
  "language_info": {
   "codemirror_mode": {
    "name": "ipython",
    "version": 3
   },
   "file_extension": ".py",
   "mimetype": "text/x-python",
   "name": "python",
   "nbconvert_exporter": "python",
   "pygments_lexer": "ipython3",
   "version": "3.9.13"
  }
 },
 "nbformat": 4,
 "nbformat_minor": 5
}
