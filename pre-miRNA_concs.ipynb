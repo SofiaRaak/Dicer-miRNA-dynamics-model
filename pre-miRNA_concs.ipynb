{
 "cells": [
  {
   "cell_type": "markdown",
   "id": "f06ad8de-ff0e-421f-843e-82c159a202fe",
   "metadata": {},
   "source": [
    "# Investigating the role of pre-miRNA concentration on competition\n",
    "\n",
    "Using same model as for the investigations into the competition effects between 8 theoretical pre-miRNAs"
   ]
  },
  {
   "cell_type": "markdown",
   "id": "659c9cbc-bb3e-4ff9-afbe-9cf84ec8dfbc",
   "metadata": {
    "tags": []
   },
   "source": [
    "## Set up workspace"
   ]
  },
  {
   "cell_type": "code",
   "execution_count": 1,
   "id": "f9bcdc79-0d38-425b-8fb2-642ed142c7aa",
   "metadata": {},
   "outputs": [],
   "source": [
    "import model_utils as mu\n",
    "import params\n",
    "from scipy.integrate import solve_ivp\n",
    "import numpy as np\n",
    "import pandas as pd\n",
    "import matplotlib.pyplot as plt\n",
    "import matplotlib.lines as mlines\n",
    "from tqdm import tqdm\n",
    "import seaborn as sns\n",
    "import matplotlib.style as style\n",
    "style.use('seaborn-colorblind')"
   ]
  },
  {
   "cell_type": "code",
   "execution_count": 2,
   "id": "53686b0c-829f-4d92-a7cc-213d7a994def",
   "metadata": {},
   "outputs": [],
   "source": [
    "destdir_csvs = './outputs/premir-conc-vars/csvs/'\n",
    "destdir_figs = './outputs/premir-conc-vars/plots/'"
   ]
  },
  {
   "cell_type": "markdown",
   "id": "7a3c2f53-1bf8-44d1-9ac5-492bcf05b5e4",
   "metadata": {
    "tags": []
   },
   "source": [
    "## Generate model"
   ]
  },
  {
   "cell_type": "code",
   "execution_count": 3,
   "id": "29cf33bd-d1e2-4905-b6a8-f343a10ea961",
   "metadata": {},
   "outputs": [],
   "source": [
    "#make 2 miRNA model\n",
    "ODE_inits = [0]*8*4 + [0]\n",
    "ODE_ka = [0] * 8\n",
    "ODE_kb = ODE_ka\n",
    "ODE_kc = ODE_ka\n",
    "ODE_kd = ODE_ka"
   ]
  },
  {
   "cell_type": "code",
   "execution_count": 4,
   "id": "77595d80-b1fd-4cc3-b9b5-7639b178cf7a",
   "metadata": {},
   "outputs": [],
   "source": [
    "ode = mu.makeODEs(ODE_inits, ODE_ka, ODE_kb, ODE_kc, ODE_kd)"
   ]
  },
  {
   "cell_type": "code",
   "execution_count": 5,
   "id": "b31f66ea-6245-458f-b610-83744cd2184d",
   "metadata": {},
   "outputs": [],
   "source": [
    "model = mu.makeModel(ode)"
   ]
  },
  {
   "cell_type": "markdown",
   "id": "fff14db2-d4fd-4a60-bdf3-56dc773ca8b3",
   "metadata": {},
   "source": [
    "## Set up conditions for models"
   ]
  },
  {
   "cell_type": "code",
   "execution_count": 6,
   "id": "9bb08c40-059f-4a00-b3a3-3cc1e7a98fde",
   "metadata": {},
   "outputs": [],
   "source": [
    "high = 10\n",
    "low = 1\n",
    "k = 2"
   ]
  },
  {
   "cell_type": "code",
   "execution_count": 7,
   "id": "d67abd96-7902-41c3-8504-be2156ac2d13",
   "metadata": {},
   "outputs": [],
   "source": [
    "inits1 = [params.init_pMiR1, params.init_pMiR1_dcr, params.init_pMiR1_dcr_star, params.init_MiR1] * 8"
   ]
  },
  {
   "cell_type": "code",
   "execution_count": 8,
   "id": "3c4ce644-9b82-4490-b665-916621ce2f5d",
   "metadata": {},
   "outputs": [],
   "source": [
    "ka = [params.ka1 * high, params.ka1 * low] + [params.ka1] * 2 +\\\n",
    "     [params.ka1 * high * k, params.ka1 * low] + [params.ka1 * k] * 2\n",
    "\n",
    "kb = [params.ka1 * params.Kd_wt, params.ka1 * params.Kd_wt * high]  + \\\n",
    "    [params.ka1 * params.Kd_wt] * 2 + \\\n",
    "    [params.ka1 * params.Kd_wt, params.ka1 * params.Kd_wt * high * k] +\\\n",
    "    [params.ka1 * params.Kd_wt] * 2\n",
    "\n",
    "kc = [params.kc1] * 2 + [params.kc1 * high, params.kc1] + \\\n",
    "     [params.kc1] * 2 + [params.kc1 * high * k, params.kc1]\n",
    "\n",
    "kd = [params.kd] * 3 + [params.kd * high] + [params.kd] * 3 + [params.kd * high * k]"
   ]
  },
  {
   "cell_type": "code",
   "execution_count": 9,
   "id": "cd2d9605-dea3-4972-a672-e2df685e34bd",
   "metadata": {},
   "outputs": [],
   "source": [
    "#Dicer concentration variations\n",
    "dvars = np.linspace(0, 7.25, 15)\n",
    "dvars[0] = 0.01\n",
    "dvars = np.append(dvars, np.linspace(10, 15, 4))\n",
    "variations = [str(int(i * 100)) for i in list(dvars)]"
   ]
  },
  {
   "cell_type": "code",
   "execution_count": 17,
   "id": "3c3acd62-1a8b-424a-9137-48555ac35794",
   "metadata": {},
   "outputs": [],
   "source": [
    "#pre-miRNA concentration variations\n",
    "pvars = np.linspace(0, 1, 5)\n",
    "pvars = np.append(pvars, np.linspace(1.5, 5, 8))\n",
    "p_variations = [str(int(i*100)) for i in list(dvars)]"
   ]
  },
  {
   "cell_type": "markdown",
   "id": "faf9d4d2-4b86-4638-b109-3e4218a69589",
   "metadata": {},
   "source": [
    "## Run model, save outputs"
   ]
  },
  {
   "cell_type": "code",
   "execution_count": 19,
   "id": "2bca163d-25ea-4d83-849c-55288d277caa",
   "metadata": {},
   "outputs": [],
   "source": [
    "exec(model)"
   ]
  },
  {
   "cell_type": "code",
   "execution_count": 22,
   "id": "52aa1065-bc8d-4223-93c2-5d6c468571ce",
   "metadata": {},
   "outputs": [
    {
     "name": "stderr",
     "output_type": "stream",
     "text": [
      "100%|██████████| 19/19 [00:58<00:00,  3.09s/it]\n"
     ]
    }
   ],
   "source": [
    "names = []\n",
    "for ii in tqdm(range(len(dvars))):\n",
    "    for ij in range(8):\n",
    "        for ik in range(len(pvars)):\n",
    "            name = 'model_' + variations[ii] + '_miR' + str(ij) + '_' + p_variations[ik]\n",
    "            \n",
    "            init = inits1 + [dvars[ii]]\n",
    "            init[ij] = init[ij] * pvars[ik]\n",
    "            \n",
    "            res = solve_ivp(runModel, (0, int(params.minutes)), init, \\\n",
    "                            args = (ka, kb, kc, kd), method = 'LSODA')\n",
    "    \n",
    "            mirna_length = int((len(res.y)-1)/4)\n",
    "            index = []\n",
    "    \n",
    "            for j in range(mirna_length):\n",
    "                index = index + ['pMiR' + str(j), 'pMiR_dicer' + str(j), \\\n",
    "                                 'pMiR_dicer_star' + str(j), 'miR' + str(j)]\n",
    "    \n",
    "            index = index + ['dicer']\n",
    "    \n",
    "            df = pd.DataFrame(res.y, index = index)\n",
    "            df = df.transpose()\n",
    "            df.insert(loc = 0, column = 'time_min', value = res.t)\n",
    "    \n",
    "            names.append(name)\n",
    "    \n",
    "            df.to_csv(destdir_csvs + name + '.csv', index = False)\n",
    "\n",
    "df1 = pd.DataFrame({'names': names})\n",
    "df1.to_csv(destdir_csvs + 'names.csv', index = False)"
   ]
  },
  {
   "cell_type": "code",
   "execution_count": null,
   "id": "ee3e4678-76a9-40e0-aa29-590bb58361ea",
   "metadata": {},
   "outputs": [],
   "source": []
  }
 ],
 "metadata": {
  "kernelspec": {
   "display_name": "Python 3 (ipykernel)",
   "language": "python",
   "name": "python3"
  },
  "language_info": {
   "codemirror_mode": {
    "name": "ipython",
    "version": 3
   },
   "file_extension": ".py",
   "mimetype": "text/x-python",
   "name": "python",
   "nbconvert_exporter": "python",
   "pygments_lexer": "ipython3",
   "version": "3.9.13"
  }
 },
 "nbformat": 4,
 "nbformat_minor": 5
}
