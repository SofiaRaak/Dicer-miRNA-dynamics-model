{
 "cells": [
  {
   "cell_type": "markdown",
   "id": "f1ba2606-8be6-4a90-8053-e490014e0e71",
   "metadata": {
    "tags": []
   },
   "source": [
    "# Model optimisation\n",
    "\n",
    "Model optimised based on data from [Tsutsumi _et al._ 2011](https://doi.org/10.1038/nsmb.2125).\n",
    "\n",
    "This notebook only shows the optimisation strategy, the actual optimised paramters used in the model can be found in ``params.py``."
   ]
  },
  {
   "cell_type": "markdown",
   "id": "bf77077f-e68f-410b-92f7-28fcec8e446c",
   "metadata": {},
   "source": [
    "## Setup"
   ]
  },
  {
   "cell_type": "code",
   "execution_count": 1,
   "id": "d60a3730-b961-422c-8102-3a8d6f23979e",
   "metadata": {},
   "outputs": [
    {
     "name": "stderr",
     "output_type": "stream",
     "text": [
      "C:\\Users\\Sofia\\anaconda3\\lib\\site-packages\\pandas\\core\\computation\\expressions.py:21: UserWarning: Pandas requires version '2.8.4' or newer of 'numexpr' (version '2.7.3' currently installed).\n",
      "  from pandas.core.computation.check import NUMEXPR_INSTALLED\n",
      "C:\\Users\\Sofia\\anaconda3\\lib\\site-packages\\pandas\\core\\arrays\\masked.py:60: UserWarning: Pandas requires version '1.3.6' or newer of 'bottleneck' (version '1.3.2' currently installed).\n",
      "  from pandas.core import (\n"
     ]
    }
   ],
   "source": [
    "#setup workspace\n",
    "import pandas as pd\n",
    "import matplotlib.pyplot as plt\n",
    "import matplotlib.lines as mlines\n",
    "import numpy as np\n",
    "from scipy.integrate import solve_ivp\n",
    "import  model_utils as mu\n",
    "from scipy.optimize import curve_fit\n",
    "import cma"
   ]
  },
  {
   "cell_type": "code",
   "execution_count": 2,
   "id": "3d84c574-1060-4a8d-ae2d-b003d5d4d6bc",
   "metadata": {},
   "outputs": [],
   "source": [
    "#set up initial conditions\n",
    "##initial concentrations (nM) as outlined in Tsutsumi et al.\n",
    "pre_wt = 1\n",
    "pre_sl = 1\n",
    "wt_dcr = 0\n",
    "sl_dcr = 0\n",
    "wt_dcr_star = 0\n",
    "sl_dcr_star = 0\n",
    "dcr_wt = 5 #free Dicer in WT system\n",
    "dcr_sl = 5 #free Dicer in SL system\n",
    "wt = 0\n",
    "sl = 0\n",
    "\n",
    "init_values = [pre_wt, pre_sl, wt_dcr, sl_dcr, wt_dcr_star, sl_dcr_star, dcr_wt, dcr_sl, wt, sl]\n",
    "\n",
    "##measured affinities for wt, sl pre-miRNAs (nM)\n",
    "Kd_wt = 25.4\n",
    "Kd_sl = 147.7\n",
    "\n",
    "##initial theta (reaction rates) to be optimised:\n",
    "ka_wt = 5\n",
    "ka_sl = 5\n",
    "kc_wt = .1\n",
    "kc_sl = .1\n",
    "kd = 5 \n",
    "\n",
    "theta = np.log(np.array([ka_wt, ka_sl, kc_wt, kc_sl, kd, kd])) #log theta to prevent negative reaction rates in optimisation\n",
    "\n",
    "#experimental data from figure 1, tsutsumi et al. to pass to optimiser\n",
    "##extracted from graph\n",
    "WT_data = np.array([0, 0.11144276160503169, 0.16566679779700877, 0.23905143587726366, 0.2954956726986665, 0.2946793863099961])\n",
    "short_data = np.array([0, 0.0033684107002276975, 0.007599822974028003, 0.010019177812737812, 0.009603658536577298, 0.01242378048779691])\n",
    "##simulation time and time steps\n",
    "time = np.array([0, 5, 10, 20, 40, 60])\n",
    "minutes = 60"
   ]
  },
  {
   "cell_type": "markdown",
   "id": "a2c158ce-2432-4663-80ce-e9ba62b38e0c",
   "metadata": {
    "tags": []
   },
   "source": [
    "### Functions"
   ]
  },
  {
   "cell_type": "code",
   "execution_count": 3,
   "id": "a79d4f05-79e4-4032-b131-24edc5c7b1e1",
   "metadata": {},
   "outputs": [],
   "source": [
    "#model\n",
    "def optim_model(t, init_values, ka1, ka2, kc1, kc2, kd1, kd2):\n",
    "    \"\"\"\n",
    "    Model for optimising parameters for expanded model. Using short loop and wt maturing \n",
    "    miRNAs in separate Dicer pool.\n",
    "    \"\"\"   \n",
    "    kb1 = ka2 * Kd_wt #Kd = kb / ka\n",
    "    kb2 = ka2 * Kd_sl\n",
    "    \n",
    "    init_pMiR1, init_pMiR2, init_pMiR1_dcr, init_pMiR2_dcr, init_pMiR1_dcr_star, \\\n",
    "    init_pMiR2_dcr_star, init_dcr1, init_dcr2, init_miR1, init_miR2 = init_values\n",
    "    \n",
    "    pMiR1 = init_pMiR1_dcr * kb1 - init_pMiR1 * init_dcr1 * (ka1 + kc1)\n",
    "    pMiR1_dcr = init_pMiR1 * init_dcr1 * ka1 - init_pMiR1_dcr * (kb1 + kd1)\n",
    "    pMiR1_dcr_star = init_pMiR1 * init_dcr1 * kc1\n",
    "    dcr1 = init_pMiR1_dcr * (kb1 + kd1) - init_pMiR1 * init_dcr1 * (ka1 + kc1)\n",
    "    MiR1 = init_pMiR1_dcr * kd1\n",
    "    \n",
    "    pMiR2 = init_pMiR2_dcr * kb2 - init_pMiR2 * init_dcr2 * (ka2 + kc2)\n",
    "    pMiR2_dcr = init_pMiR2 * init_dcr2 * ka2 - init_pMiR2_dcr * (kb2 + kd2)\n",
    "    pMiR2_dcr_star = init_pMiR2 * init_dcr2 * kc2\n",
    "    dcr2 = init_pMiR2_dcr * (kb2 + kd2) - init_pMiR2 * init_dcr2 * (ka2 + kc2)\n",
    "    MiR2 = init_pMiR2_dcr * kd2\n",
    "\n",
    "    \n",
    "    return pMiR1, pMiR2, pMiR1_dcr, pMiR2_dcr, pMiR1_dcr_star, pMiR2_dcr_star, dcr1, dcr2, MiR1, MiR2\n",
    "    "
   ]
  },
  {
   "cell_type": "code",
   "execution_count": 4,
   "id": "1d231d44-73d1-4bd8-b0a3-6ed875113b4f",
   "metadata": {},
   "outputs": [],
   "source": [
    "#calculate fraction diced\n",
    "def frac_diced(theta):\n",
    "    \"\"\"\n",
    "    Function to calculate the fraction of WT, short loop miRNAs diced\n",
    "    \"\"\"\n",
    "    ka1, ka2, kc1, kc2, kd1, kd2 = np.exp(theta)\n",
    "        \n",
    "    sol = solve_ivp(optim_model, (0, int(minutes)), init_values, \\\n",
    "                    method = 'LSODA', args = (ka1, ka2, kc1, kc2, kd1, kd2))\n",
    "    \n",
    "    pMiR1, pMiR2, pMiR1_dcr, pMiR2_dcr, pMiR1_dcr_star, pMiR2_dcr_star, dcr1, dcr2, MiR1, MiR2 = sol.y\n",
    "    \n",
    "    diced1 = []\n",
    "    diced2 = []\n",
    "    \n",
    "    for i in range(len(MiR1)):\n",
    "        diced1.append(MiR1[i]/ pMiR1[0]) #1 pMiR = 1 MiR\n",
    "        diced2.append(MiR2[i] / pMiR2[0]) #using pMiR and MiR to account for loss of pMiR\n",
    "                                                      #in pMiR_dcr_star\n",
    "                      \n",
    "    return diced1, diced2, sol.t"
   ]
  },
  {
   "cell_type": "code",
   "execution_count": 5,
   "id": "45f53cac-b232-4e65-9fff-efe6d708f7fe",
   "metadata": {
    "tags": []
   },
   "outputs": [],
   "source": [
    "#create error function\n",
    "def errorODE(theta):\n",
    "    \"\"\"\n",
    "    Function to calculate the relative error of ODE model values against data values.\n",
    "    \"\"\"\n",
    "    \n",
    "    diced1, diced2, ts = frac_diced(theta)\n",
    "    \n",
    "    data = np.array([[WT_data],\n",
    "                     [short_data*10]])#scale by 10 to force optimisation to account for relative changes\n",
    "    WT = np.interp(time, ts, diced1)\n",
    "    short = np.interp(time, ts, diced2)\n",
    "\n",
    "    \n",
    "    model = np.array([[WT],\n",
    "                      [short*10]])#scale by 10 to force optimisation to account for relative changes\n",
    "    \n",
    "    return np.sum(np.power((data-model), 2))\n",
    "    "
   ]
  },
  {
   "cell_type": "markdown",
   "id": "e8bf938d-555a-4e92-aaa3-3653a334b06e",
   "metadata": {},
   "source": [
    "## Optimisation"
   ]
  },
  {
   "cell_type": "code",
   "execution_count": 6,
   "id": "73f9237d-8da2-4674-8d5d-5bf08b38338b",
   "metadata": {},
   "outputs": [
    {
     "name": "stdout",
     "output_type": "stream",
     "text": [
      "(4_w,9)-aCMA-ES (mu_w=2.8,w_1=49%) in dimension 6 (seed=633716, Tue Nov 26 09:00:07 2024)\n",
      "Iterat #Fevals   function value  axis ratio  sigma  min&max std  t[m:s]\n",
      "    1      9 1.455472941608605e+00 1.0e+00 2.17e+00  2e+00  2e+00 0:00.0\n",
      "    2     18 2.504016101504053e-01 1.5e+00 2.34e+00  2e+00  3e+00 0:00.1\n",
      "    3     27 1.248484043804580e-01 1.6e+00 2.54e+00  2e+00  3e+00 0:00.1\n"
     ]
    },
    {
     "ename": "KeyboardInterrupt",
     "evalue": "",
     "output_type": "error",
     "traceback": [
      "\u001b[1;31m---------------------------------------------------------------------------\u001b[0m",
      "\u001b[1;31mKeyboardInterrupt\u001b[0m                         Traceback (most recent call last)",
      "\u001b[1;32m~\\AppData\\Local\\Temp/ipykernel_7704/3007195097.py\u001b[0m in \u001b[0;36m<module>\u001b[1;34m\u001b[0m\n\u001b[0;32m      1\u001b[0m \u001b[1;31m#minimise with CMA-ES\u001b[0m\u001b[1;33m\u001b[0m\u001b[1;33m\u001b[0m\u001b[0m\n\u001b[0;32m      2\u001b[0m \u001b[1;31m##NB! Optimised values vary between optimisation runs!\u001b[0m\u001b[1;33m\u001b[0m\u001b[1;33m\u001b[0m\u001b[0m\n\u001b[1;32m----> 3\u001b[1;33m \u001b[0mres\u001b[0m \u001b[1;33m=\u001b[0m \u001b[0mcma\u001b[0m\u001b[1;33m.\u001b[0m\u001b[0mfmin\u001b[0m\u001b[1;33m(\u001b[0m\u001b[0merrorODE\u001b[0m\u001b[1;33m,\u001b[0m \u001b[0mtheta\u001b[0m\u001b[1;33m,\u001b[0m \u001b[1;36m2\u001b[0m\u001b[1;33m)\u001b[0m\u001b[1;33m\u001b[0m\u001b[1;33m\u001b[0m\u001b[0m\n\u001b[0m",
      "\u001b[1;32m~\\anaconda3\\lib\\site-packages\\cma\\evolution_strategy.py\u001b[0m in \u001b[0;36mfmin\u001b[1;34m(objective_function, x0, sigma0, options, args, gradf, restarts, restart_from_best, incpopsize, eval_initial_x, parallel_objective, noise_handler, noise_change_sigma_exponent, noise_kappa_exponent, bipop, callback)\u001b[0m\n\u001b[0;32m   5027\u001b[0m                 \u001b[1;32mwhile\u001b[0m \u001b[1;32mnot\u001b[0m \u001b[0mes\u001b[0m\u001b[1;33m.\u001b[0m\u001b[0mstop\u001b[0m\u001b[1;33m(\u001b[0m\u001b[1;33m)\u001b[0m\u001b[1;33m:\u001b[0m  \u001b[1;31m# iteration loop\u001b[0m\u001b[1;33m\u001b[0m\u001b[1;33m\u001b[0m\u001b[0m\n\u001b[0;32m   5028\u001b[0m                     \u001b[1;31m# X, fit = eval_in_parallel(lambda: es.ask(1)[0], es.popsize, args, repetitions=noisehandler.evaluations-1)\u001b[0m\u001b[1;33m\u001b[0m\u001b[1;33m\u001b[0m\u001b[0m\n\u001b[1;32m-> 5029\u001b[1;33m                     X, fit = es.ask_and_eval(parallel_objective or objective_function,\n\u001b[0m\u001b[0;32m   5030\u001b[0m                                              \u001b[0margs\u001b[0m\u001b[1;33m,\u001b[0m \u001b[0mgradf\u001b[0m\u001b[1;33m=\u001b[0m\u001b[0mgradf\u001b[0m\u001b[1;33m,\u001b[0m\u001b[1;33m\u001b[0m\u001b[1;33m\u001b[0m\u001b[0m\n\u001b[0;32m   5031\u001b[0m                                              \u001b[0mevaluations\u001b[0m\u001b[1;33m=\u001b[0m\u001b[0mnoisehandler\u001b[0m\u001b[1;33m.\u001b[0m\u001b[0mevaluations\u001b[0m\u001b[1;33m,\u001b[0m\u001b[1;33m\u001b[0m\u001b[1;33m\u001b[0m\u001b[0m\n",
      "\u001b[1;32m~\\anaconda3\\lib\\site-packages\\cma\\evolution_strategy.py\u001b[0m in \u001b[0;36mask_and_eval\u001b[1;34m(self, func, args, gradf, number, xmean, sigma_fac, evaluations, aggregation, kappa, parallel_mode)\u001b[0m\n\u001b[0;32m   2557\u001b[0m                     \u001b[1;31m# self.more_to_write += [length_normalizer * 1e-3, length_normalizer * self.mahalanobis_norm(x - xmean) * 1e2]\u001b[0m\u001b[1;33m\u001b[0m\u001b[1;33m\u001b[0m\u001b[0m\n\u001b[0;32m   2558\u001b[0m \u001b[1;33m\u001b[0m\u001b[0m\n\u001b[1;32m-> 2559\u001b[1;33m                 \u001b[0mf\u001b[0m \u001b[1;33m=\u001b[0m \u001b[0mfunc\u001b[0m\u001b[1;33m(\u001b[0m\u001b[0mx\u001b[0m\u001b[1;33m,\u001b[0m \u001b[1;33m*\u001b[0m\u001b[0margs\u001b[0m\u001b[1;33m)\u001b[0m \u001b[1;32mif\u001b[0m \u001b[0mkappa\u001b[0m \u001b[1;33m==\u001b[0m \u001b[1;36m1\u001b[0m \u001b[1;32melse\u001b[0m\u001b[0;31m \u001b[0m\u001b[0;31m\\\u001b[0m\u001b[1;33m\u001b[0m\u001b[1;33m\u001b[0m\u001b[0m\n\u001b[0m\u001b[0;32m   2560\u001b[0m                     func(xmean + kappa * length_normalizer * (x - xmean),\n\u001b[0;32m   2561\u001b[0m                          *args)\n",
      "\u001b[1;32m~\\AppData\\Local\\Temp/ipykernel_7704/2960496629.py\u001b[0m in \u001b[0;36merrorODE\u001b[1;34m(theta)\u001b[0m\n\u001b[0;32m      5\u001b[0m     \"\"\"\n\u001b[0;32m      6\u001b[0m \u001b[1;33m\u001b[0m\u001b[0m\n\u001b[1;32m----> 7\u001b[1;33m     \u001b[0mdiced1\u001b[0m\u001b[1;33m,\u001b[0m \u001b[0mdiced2\u001b[0m\u001b[1;33m,\u001b[0m \u001b[0mts\u001b[0m \u001b[1;33m=\u001b[0m \u001b[0mfrac_diced\u001b[0m\u001b[1;33m(\u001b[0m\u001b[0mtheta\u001b[0m\u001b[1;33m)\u001b[0m\u001b[1;33m\u001b[0m\u001b[1;33m\u001b[0m\u001b[0m\n\u001b[0m\u001b[0;32m      8\u001b[0m \u001b[1;33m\u001b[0m\u001b[0m\n\u001b[0;32m      9\u001b[0m     data = np.array([[WT_data],\n",
      "\u001b[1;32m~\\AppData\\Local\\Temp/ipykernel_7704/1514053264.py\u001b[0m in \u001b[0;36mfrac_diced\u001b[1;34m(theta)\u001b[0m\n\u001b[0;32m      6\u001b[0m     \u001b[0mka1\u001b[0m\u001b[1;33m,\u001b[0m \u001b[0mka2\u001b[0m\u001b[1;33m,\u001b[0m \u001b[0mkc1\u001b[0m\u001b[1;33m,\u001b[0m \u001b[0mkc2\u001b[0m\u001b[1;33m,\u001b[0m \u001b[0mkd1\u001b[0m\u001b[1;33m,\u001b[0m \u001b[0mkd2\u001b[0m \u001b[1;33m=\u001b[0m \u001b[0mnp\u001b[0m\u001b[1;33m.\u001b[0m\u001b[0mexp\u001b[0m\u001b[1;33m(\u001b[0m\u001b[0mtheta\u001b[0m\u001b[1;33m)\u001b[0m\u001b[1;33m\u001b[0m\u001b[1;33m\u001b[0m\u001b[0m\n\u001b[0;32m      7\u001b[0m \u001b[1;33m\u001b[0m\u001b[0m\n\u001b[1;32m----> 8\u001b[1;33m     sol = solve_ivp(optim_model, (0, int(minutes)), init_values, \\\n\u001b[0m\u001b[0;32m      9\u001b[0m                     method = 'LSODA', args = (ka1, ka2, kc1, kc2, kd1, kd2))\n\u001b[0;32m     10\u001b[0m \u001b[1;33m\u001b[0m\u001b[0m\n",
      "\u001b[1;32m~\\AppData\\Roaming\\Python\\Python39\\site-packages\\scipy\\integrate\\_ivp\\ivp.py\u001b[0m in \u001b[0;36msolve_ivp\u001b[1;34m(fun, t_span, y0, method, t_eval, dense_output, events, vectorized, args, **options)\u001b[0m\n\u001b[0;32m    727\u001b[0m     \u001b[1;32mif\u001b[0m \u001b[0mt_eval\u001b[0m \u001b[1;32mis\u001b[0m \u001b[1;32mNone\u001b[0m\u001b[1;33m:\u001b[0m\u001b[1;33m\u001b[0m\u001b[1;33m\u001b[0m\u001b[0m\n\u001b[0;32m    728\u001b[0m         \u001b[0mts\u001b[0m \u001b[1;33m=\u001b[0m \u001b[0mnp\u001b[0m\u001b[1;33m.\u001b[0m\u001b[0marray\u001b[0m\u001b[1;33m(\u001b[0m\u001b[0mts\u001b[0m\u001b[1;33m)\u001b[0m\u001b[1;33m\u001b[0m\u001b[1;33m\u001b[0m\u001b[0m\n\u001b[1;32m--> 729\u001b[1;33m         \u001b[0mys\u001b[0m \u001b[1;33m=\u001b[0m \u001b[0mnp\u001b[0m\u001b[1;33m.\u001b[0m\u001b[0mvstack\u001b[0m\u001b[1;33m(\u001b[0m\u001b[0mys\u001b[0m\u001b[1;33m)\u001b[0m\u001b[1;33m.\u001b[0m\u001b[0mT\u001b[0m\u001b[1;33m\u001b[0m\u001b[1;33m\u001b[0m\u001b[0m\n\u001b[0m\u001b[0;32m    730\u001b[0m     \u001b[1;32melif\u001b[0m \u001b[0mts\u001b[0m\u001b[1;33m:\u001b[0m\u001b[1;33m\u001b[0m\u001b[1;33m\u001b[0m\u001b[0m\n\u001b[0;32m    731\u001b[0m         \u001b[0mts\u001b[0m \u001b[1;33m=\u001b[0m \u001b[0mnp\u001b[0m\u001b[1;33m.\u001b[0m\u001b[0mhstack\u001b[0m\u001b[1;33m(\u001b[0m\u001b[0mts\u001b[0m\u001b[1;33m)\u001b[0m\u001b[1;33m\u001b[0m\u001b[1;33m\u001b[0m\u001b[0m\n",
      "\u001b[1;32m~\\anaconda3\\lib\\site-packages\\numpy\\core\\shape_base.py\u001b[0m in \u001b[0;36mvstack\u001b[1;34m(tup, dtype, casting)\u001b[0m\n\u001b[0;32m    287\u001b[0m     \u001b[1;32mif\u001b[0m \u001b[1;32mnot\u001b[0m \u001b[0misinstance\u001b[0m\u001b[1;33m(\u001b[0m\u001b[0marrs\u001b[0m\u001b[1;33m,\u001b[0m \u001b[0mlist\u001b[0m\u001b[1;33m)\u001b[0m\u001b[1;33m:\u001b[0m\u001b[1;33m\u001b[0m\u001b[1;33m\u001b[0m\u001b[0m\n\u001b[0;32m    288\u001b[0m         \u001b[0marrs\u001b[0m \u001b[1;33m=\u001b[0m \u001b[1;33m[\u001b[0m\u001b[0marrs\u001b[0m\u001b[1;33m]\u001b[0m\u001b[1;33m\u001b[0m\u001b[1;33m\u001b[0m\u001b[0m\n\u001b[1;32m--> 289\u001b[1;33m     \u001b[1;32mreturn\u001b[0m \u001b[0m_nx\u001b[0m\u001b[1;33m.\u001b[0m\u001b[0mconcatenate\u001b[0m\u001b[1;33m(\u001b[0m\u001b[0marrs\u001b[0m\u001b[1;33m,\u001b[0m \u001b[1;36m0\u001b[0m\u001b[1;33m,\u001b[0m \u001b[0mdtype\u001b[0m\u001b[1;33m=\u001b[0m\u001b[0mdtype\u001b[0m\u001b[1;33m,\u001b[0m \u001b[0mcasting\u001b[0m\u001b[1;33m=\u001b[0m\u001b[0mcasting\u001b[0m\u001b[1;33m)\u001b[0m\u001b[1;33m\u001b[0m\u001b[1;33m\u001b[0m\u001b[0m\n\u001b[0m\u001b[0;32m    290\u001b[0m \u001b[1;33m\u001b[0m\u001b[0m\n\u001b[0;32m    291\u001b[0m \u001b[1;33m\u001b[0m\u001b[0m\n",
      "\u001b[1;31mKeyboardInterrupt\u001b[0m: "
     ]
    }
   ],
   "source": [
    "#minimise with CMA-ES\n",
    "##NB! Optimised values vary between optimisation runs!\n",
    "res = cma.fmin(errorODE, theta, 2)"
   ]
  },
  {
   "cell_type": "code",
   "execution_count": null,
   "id": "a3e12edf-7c0e-4edb-be97-271aa078d654",
   "metadata": {},
   "outputs": [],
   "source": [
    "#error at end of optimisation\n",
    "res[0]"
   ]
  },
  {
   "cell_type": "markdown",
   "id": "4baecb62-80b2-4e69-8e7c-9227663aaee1",
   "metadata": {},
   "source": [
    "### Plotting"
   ]
  },
  {
   "cell_type": "code",
   "execution_count": null,
   "id": "6499e0b8-a072-41f0-adbe-55f768080ab6",
   "metadata": {},
   "outputs": [],
   "source": [
    "#load logger\n",
    "logger = res[-1]\n",
    "#load function evaluations\n",
    "f_dat = logger.load().data['f']\n",
    "#loaf best f-value for each iteration\n",
    "f_best = f_dat[:, 5]\n",
    "evals = f_dat[:, 1]"
   ]
  },
  {
   "cell_type": "code",
   "execution_count": null,
   "id": "ad554fb5-d324-495d-a403-733abc55c2ad",
   "metadata": {},
   "outputs": [],
   "source": [
    "#plot error minimisation\n",
    "fig, ax = plt.subplots()\n",
    "\n",
    "ax.plot(evals,\n",
    "        f_best)\n",
    "for i in range(len(f_best)): #find where f was minimised and mark with red circle\n",
    "    if f_best[i] == res[1]:\n",
    "        ax.scatter(evals[i],\n",
    "                   f_best[i],\n",
    "                   marker = 'o',\n",
    "                   color = 'red')\n",
    "        \n",
    "        \n",
    "ax.set_xlabel('Number of evaluations')\n",
    "ax.set_ylabel('SEE, a.u.')\n",
    "ax.set_xscale('log')\n",
    "ax.text(200, .1, f'min(f) = {res[1]}')\n",
    "\n",
    "plt.savefig(r'./figures/optim_f-mins.svg', dpi = 600, bbox_inches = 'tight')\n",
    "plt.show()"
   ]
  },
  {
   "cell_type": "code",
   "execution_count": 6,
   "id": "580bf9d6-1184-4235-888d-fe99f2a75231",
   "metadata": {
    "tags": []
   },
   "outputs": [],
   "source": [
    "#fit experimental data with curve_fit\n",
    "WT_popt, WT_pcov = curve_fit(lambda t, a, b: a * np.log(t) + b,\n",
    "                             time[1:], WT_data[1:]) #exclude origin\n",
    "\n",
    "short_popt, short_pcov = curve_fit(lambda t, a, b: a * np.log(t) + b,\n",
    "                             time[1:], short_data[1:]) #exclude origin\n",
    "\n",
    "#create array with curve_fit data\n",
    "x = np.linspace(0,60,600)\n",
    "\n",
    "WT_pred = np.zeros(len(x))\n",
    "short_pred = np.zeros(len(x))\n",
    "\n",
    "for i in range(1, len(x)):\n",
    "    WT_pred[i] = WT_popt[0] * np.log(x[i]) + WT_popt[1]\n",
    "    short_pred[i] =  short_popt[0] * np.log(x[i]) + short_popt[1]"
   ]
  },
  {
   "cell_type": "code",
   "execution_count": 7,
   "id": "7707394d-b375-42fe-90be-7ac26bf2cc2b",
   "metadata": {},
   "outputs": [
    {
     "data": {
      "text/plain": [
       "array([ 0.07927374, -0.01165457])"
      ]
     },
     "execution_count": 7,
     "metadata": {},
     "output_type": "execute_result"
    }
   ],
   "source": [
    "WT_popt"
   ]
  },
  {
   "cell_type": "code",
   "execution_count": 8,
   "id": "eb1d5698-abe4-46a2-a588-0b629ddddbc7",
   "metadata": {},
   "outputs": [
    {
     "data": {
      "text/plain": [
       "array([ 0.00315316, -0.00066163])"
      ]
     },
     "execution_count": 8,
     "metadata": {},
     "output_type": "execute_result"
    }
   ],
   "source": [
    "short_popt"
   ]
  },
  {
   "cell_type": "code",
   "execution_count": 9,
   "id": "0c8ec8cd-9c4b-45af-bb23-c7a6f2fbf0fa",
   "metadata": {},
   "outputs": [
    {
     "ename": "NameError",
     "evalue": "name 'res' is not defined",
     "output_type": "error",
     "traceback": [
      "\u001b[1;31m---------------------------------------------------------------------------\u001b[0m",
      "\u001b[1;31mNameError\u001b[0m                                 Traceback (most recent call last)",
      "\u001b[1;32m~\\AppData\\Local\\Temp/ipykernel_5156/304705520.py\u001b[0m in \u001b[0;36m<module>\u001b[1;34m\u001b[0m\n\u001b[0;32m      1\u001b[0m \u001b[1;31m#find model data at set experimental timepoints\u001b[0m\u001b[1;33m\u001b[0m\u001b[1;33m\u001b[0m\u001b[0m\n\u001b[1;32m----> 2\u001b[1;33m \u001b[0mwt2\u001b[0m\u001b[1;33m,\u001b[0m \u001b[0mshort2\u001b[0m\u001b[1;33m,\u001b[0m \u001b[0mts2\u001b[0m \u001b[1;33m=\u001b[0m \u001b[0mfrac_diced\u001b[0m\u001b[1;33m(\u001b[0m\u001b[0mres\u001b[0m\u001b[1;33m[\u001b[0m\u001b[1;36m0\u001b[0m\u001b[1;33m]\u001b[0m\u001b[1;33m)\u001b[0m\u001b[1;33m\u001b[0m\u001b[1;33m\u001b[0m\u001b[0m\n\u001b[0m\u001b[0;32m      3\u001b[0m \u001b[0mwt_scatter2\u001b[0m \u001b[1;33m=\u001b[0m \u001b[0mnp\u001b[0m\u001b[1;33m.\u001b[0m\u001b[0minterp\u001b[0m\u001b[1;33m(\u001b[0m\u001b[0mtime\u001b[0m\u001b[1;33m,\u001b[0m \u001b[0mts2\u001b[0m\u001b[1;33m,\u001b[0m \u001b[0mwt2\u001b[0m\u001b[1;33m)\u001b[0m\u001b[1;33m\u001b[0m\u001b[1;33m\u001b[0m\u001b[0m\n\u001b[0;32m      4\u001b[0m \u001b[0mshort_scatter2\u001b[0m \u001b[1;33m=\u001b[0m \u001b[0mnp\u001b[0m\u001b[1;33m.\u001b[0m\u001b[0minterp\u001b[0m\u001b[1;33m(\u001b[0m\u001b[0mtime\u001b[0m\u001b[1;33m,\u001b[0m \u001b[0mts2\u001b[0m\u001b[1;33m,\u001b[0m \u001b[0mshort2\u001b[0m\u001b[1;33m)\u001b[0m\u001b[1;33m\u001b[0m\u001b[1;33m\u001b[0m\u001b[0m\n",
      "\u001b[1;31mNameError\u001b[0m: name 'res' is not defined"
     ]
    }
   ],
   "source": [
    "#find model data at set experimental timepoints\n",
    "wt2, short2, ts2 = frac_diced(res[0])\n",
    "wt_scatter2 = np.interp(time, ts2, wt2)\n",
    "short_scatter2 = np.interp(time, ts2, short2)"
   ]
  },
  {
   "cell_type": "code",
   "execution_count": null,
   "id": "4740211c-b4d4-4ffb-8bb8-81aa79d5f53c",
   "metadata": {},
   "outputs": [],
   "source": [
    "#plot experimental data with curve_fit, model data\n",
    "fig, ax = plt.subplots(2, sharex = True, sharey = True, figsize = (5, 7))\n",
    "\n",
    "ax[0].set_ylim(0, 0.4)\n",
    "\n",
    "ax[0].plot(x,\n",
    "           WT_pred,\n",
    "           color = 'black')\n",
    "ax[0].plot(x,\n",
    "           short_pred,\n",
    "           color = 'red')\n",
    "ax[0].scatter(time,\n",
    "              WT_data,\n",
    "              marker = 's',\n",
    "              color = 'black')\n",
    "ax[0].scatter(time,\n",
    "              short_data,\n",
    "              marker = 's',\n",
    "              color = 'red')\n",
    "\n",
    "ax[0].set_xlabel('Time (min)')\n",
    "ax[0].set_ylabel('Fraction diced')\n",
    "ax[0].set_title('Experimental data')\n",
    "\n",
    "ax[1].plot(ts2,\n",
    "           wt2,\n",
    "           color = 'black')\n",
    "ax[1].plot(ts2,\n",
    "           short2,\n",
    "           color = 'red')\n",
    "ax[1].scatter(time,\n",
    "              wt_scatter2,\n",
    "              marker = 's',\n",
    "              color = 'black')\n",
    "ax[1].scatter(time,\n",
    "              short_scatter2,\n",
    "              marker = 's',\n",
    "              color = 'red')\n",
    "\n",
    "ax[1].set_xlabel('Time (min)')\n",
    "ax[1].set_ylabel('Fraction diced')\n",
    "ax[1].set_title('Model data')\n",
    "\n",
    "l1 = mlines.Line2D([], [], marker = 's', color = 'black', label = 'WT')\n",
    "l2 = mlines.Line2D([], [], marker = 's', color = 'red', label = 'SL')\n",
    "\n",
    "plt.legend(handles = [l1, l2], loc = 2)\n",
    "\n",
    "plt.tight_layout()\n",
    "\n",
    "plt.savefig(r'./figures/exp-mod-data-fit.svg', dpi = 600, bbox_inches = 'tight')\n",
    "\n",
    "plt.show()"
   ]
  },
  {
   "cell_type": "code",
   "execution_count": 10,
   "id": "fd359349-ef13-4487-ac13-71212b064d97",
   "metadata": {},
   "outputs": [
    {
     "ename": "NameError",
     "evalue": "name 'ts2' is not defined",
     "output_type": "error",
     "traceback": [
      "\u001b[1;31m---------------------------------------------------------------------------\u001b[0m",
      "\u001b[1;31mNameError\u001b[0m                                 Traceback (most recent call last)",
      "\u001b[1;32m~\\AppData\\Local\\Temp/ipykernel_5156/1105349013.py\u001b[0m in \u001b[0;36m<module>\u001b[1;34m\u001b[0m\n\u001b[0;32m      7\u001b[0m            \u001b[0mWT_pred\u001b[0m\u001b[1;33m,\u001b[0m\u001b[1;33m\u001b[0m\u001b[1;33m\u001b[0m\u001b[0m\n\u001b[0;32m      8\u001b[0m            color = 'black')\n\u001b[1;32m----> 9\u001b[1;33m ax[0].plot(ts2,\n\u001b[0m\u001b[0;32m     10\u001b[0m            \u001b[0mwt2\u001b[0m\u001b[1;33m,\u001b[0m\u001b[1;33m\u001b[0m\u001b[1;33m\u001b[0m\u001b[0m\n\u001b[0;32m     11\u001b[0m            \u001b[0mlinestyle\u001b[0m \u001b[1;33m=\u001b[0m \u001b[1;34m':'\u001b[0m\u001b[1;33m,\u001b[0m\u001b[1;33m\u001b[0m\u001b[1;33m\u001b[0m\u001b[0m\n",
      "\u001b[1;31mNameError\u001b[0m: name 'ts2' is not defined"
     ]
    },
    {
     "data": {
      "image/png": "[encoded data removed]",
      "text/plain": [
       "<Figure size 360x504 with 2 Axes>"
      ]
     },
     "metadata": {
      "needs_background": "light"
     },
     "output_type": "display_data"
    }
   ],
   "source": [
    "#plot overlaid data\n",
    "fig, ax = plt.subplots(2, sharex = True, figsize = (5, 7))\n",
    "\n",
    "ax[0].set_ylim(0, 0.4)\n",
    "\n",
    "ax[0].plot(x,\n",
    "           WT_pred,\n",
    "           color = 'black')\n",
    "ax[0].plot(ts2,\n",
    "           wt2,\n",
    "           linestyle = ':',\n",
    "           color = 'red')\n",
    "ax[0].scatter(time,\n",
    "              WT_data,\n",
    "              marker = 's',\n",
    "              color = 'black')\n",
    "ax[0].scatter(time,\n",
    "              wt_scatter2,\n",
    "              marker = 'o',\n",
    "              color = 'red')\n",
    "\n",
    "ax[0].set_xlabel('Time (min)')\n",
    "ax[0].set_ylabel('Fraction diced')\n",
    "ax[0].set_title('Wild-type')\n",
    "\n",
    "ax[1].set_ylim(0, 0.014)\n",
    "\n",
    "ax[1].plot(x,\n",
    "           short_pred,\n",
    "           color = 'black')\n",
    "ax[1].plot(ts2,\n",
    "           short2,\n",
    "           linestyle = ':',\n",
    "           color = 'red')\n",
    "ax[1].scatter(time,\n",
    "              short_data,\n",
    "              marker = 's',\n",
    "              color = 'black')\n",
    "ax[1].scatter(time,\n",
    "              short_scatter2,\n",
    "              marker = 'o',\n",
    "              color = 'red')\n",
    "\n",
    "ax[1].set_xlabel('Time (min)')\n",
    "ax[1].set_ylabel('Fraction diced')\n",
    "ax[1].set_title('Short loop')\n",
    "\n",
    "l1 = mlines.Line2D([], [], marker = 's', color = 'black', label = 'data')\n",
    "l2 = mlines.Line2D([], [], linestyle = ':', marker = 'o', color = 'red', label = 'model')\n",
    "\n",
    "plt.legend(handles = [l1, l2], loc = 2)\n",
    "\n",
    "plt.tight_layout()\n",
    "\n",
    "plt.savefig('./figures/overlay_optims.svg', dpi = 600, bbox_inches = 'tight')\n",
    "\n",
    "plt.show()"
   ]
  },
  {
   "cell_type": "code",
   "execution_count": 2,
   "id": "ce64d4ad-ca29-4ae8-bcb3-6f1a47cb61bb",
   "metadata": {},
   "outputs": [],
   "source": [
    "#import parameters as obtained from optimisation used in further simulations\n",
    "import params"
   ]
  },
  {
   "cell_type": "code",
   "execution_count": 3,
   "id": "ce2b7e69-8c74-4c2e-9439-c9dc4fc8c20a",
   "metadata": {},
   "outputs": [
    {
     "ename": "NameError",
     "evalue": "name 'optim_model' is not defined",
     "output_type": "error",
     "traceback": [
      "\u001b[1;31m---------------------------------------------------------------------------\u001b[0m",
      "\u001b[1;31mNameError\u001b[0m                                 Traceback (most recent call last)",
      "\u001b[1;32m~\\AppData\\Local\\Temp/ipykernel_24680/1471293223.py\u001b[0m in \u001b[0;36m<module>\u001b[1;34m\u001b[0m\n\u001b[0;32m      1\u001b[0m \u001b[0mka1\u001b[0m\u001b[1;33m,\u001b[0m \u001b[0mka2\u001b[0m\u001b[1;33m,\u001b[0m \u001b[0mkc1\u001b[0m\u001b[1;33m,\u001b[0m \u001b[0mkc2\u001b[0m\u001b[1;33m,\u001b[0m \u001b[0mkd1\u001b[0m\u001b[1;33m,\u001b[0m \u001b[0mkd2\u001b[0m \u001b[1;33m=\u001b[0m \u001b[0mparams\u001b[0m\u001b[1;33m.\u001b[0m\u001b[0mtheta\u001b[0m \u001b[1;31m#final line in outputcmaes/xrecentbest.dat\u001b[0m\u001b[1;33m\u001b[0m\u001b[1;33m\u001b[0m\u001b[0m\n\u001b[1;32m----> 2\u001b[1;33m output = solve_ivp(optim_model, (0, int(minutes)), init_values, \\\n\u001b[0m\u001b[0;32m      3\u001b[0m                     method = 'LSODA', args = (ka1, ka2, kc1, kc2, kd1, kd2))\n",
      "\u001b[1;31mNameError\u001b[0m: name 'optim_model' is not defined"
     ]
    }
   ],
   "source": [
    "ka1, ka2, kc1, kc2, kd1, kd2 = params.theta #final line in outputcmaes/xrecentbest.dat\n",
    "output = solve_ivp(optim_model, (0, int(minutes)), init_values, \\\n",
    "                    method = 'LSODA', args = (ka1, ka2, kc1, kc2, kd1, kd2))"
   ]
  },
  {
   "cell_type": "code",
   "execution_count": 13,
   "id": "b5048063-9e8c-4a5a-b578-77d628dc8008",
   "metadata": {},
   "outputs": [],
   "source": [
    "#unpack species\n",
    "order = ['pMiR', 'pMiR_dicer', 'pMiR_dicer_star', 'dicer', 'miR']\n",
    "wt_res = {}\n",
    "short_res = {}\n",
    "\n",
    "j = 0\n",
    "for i in range(len(output.y)):\n",
    "    if i%2 == 0:\n",
    "        wt_res[order[j]] = output.y[i]\n",
    "        if order[j] == 'dicer':\n",
    "            wt_res['dicer_scaled'] = output.y[i] / 5\n",
    "    else:\n",
    "        short_res[order[j]] = output.y[i]\n",
    "        if order[j] == 'dicer':\n",
    "            short_res['dicer_scaled'] = output.y[i] / 5\n",
    "        j += 1"
   ]
  },
  {
   "cell_type": "code",
   "execution_count": 14,
   "id": "96597b48-e48b-4e0c-98cc-244f5b59ab1f",
   "metadata": {},
   "outputs": [],
   "source": [
    "colors = [i[0] for i in params.colors] + ['#88CCEE']\n",
    "lines = ['-', ':', '--', '-.', '-']\n",
    "to_plot = ['pMiR', 'miR', 'pMiR_dicer', 'pMiR_dicer_star', 'dicer_scaled']"
   ]
  },
  {
   "cell_type": "code",
   "execution_count": 4,
   "id": "dd756881-e54a-4f1c-8a52-e6861b01d98b",
   "metadata": {
    "tags": []
   },
   "outputs": [],
   "source": [
    "import matplotlib.lines as mlines"
   ]
  },
  {
   "cell_type": "code",
   "execution_count": 16,
   "id": "63ca1f34-9a6d-4924-b08c-13c84665d75c",
   "metadata": {},
   "outputs": [
    {
     "data": {
      "image/png": "[encoded data removed]",
      "text/plain": [
       "<Figure size 432x288 with 4 Axes>"
      ]
     },
     "metadata": {
      "needs_background": "light"
     },
     "output_type": "display_data"
    }
   ],
   "source": [
    "fig, ax = plt.subplots(2, sharex = True, sharey = True)\n",
    "\n",
    "for i in range(len(to_plot)):\n",
    "    ax[0].plot(output.t,\n",
    "               wt_res[to_plot[i]],\n",
    "               color = colors[i],\n",
    "               linestyle = lines[i])\n",
    "ax[0].set_yticks(np.linspace(0,1,5), labels = np.linspace(0,1,5))\n",
    "ax[0].set_ylabel('Nucleic acid species, nM')\n",
    "ax0 = ax[0].twinx()\n",
    "ax0.set_yticks(np.linspace(0,1,5), labels = np.linspace(0,5,5))\n",
    "ax0.set_ylabel('Free Dicer, nM')\n",
    "\n",
    "ax[0].set_title('Wild type')\n",
    "\n",
    "for i in range(len(to_plot)):\n",
    "    ax[1].plot(output.t,\n",
    "               short_res[to_plot[i]],\n",
    "               color = colors[i],\n",
    "               linestyle = lines[i])\n",
    "ax[1].set_yticks(np.linspace(0,1,5), labels = np.linspace(0,1,5))\n",
    "ax[1].set_ylabel('Nucleic acid species, nM')\n",
    "ax1 = ax[1].twinx()\n",
    "ax1.set_yticks(np.linspace(0,1,5), labels = np.linspace(0,5,5))\n",
    "ax1.set_ylabel('Free Dicer, nM')\n",
    "\n",
    "ax[1].set_title('Short loop')\n",
    "\n",
    "leg = []\n",
    "for i in range(len(colors)):\n",
    "    leg.append(mlines.Line2D([], [], linestyle = lines[i], color = colors[i], \n",
    "                             label = ['[P]', '[M]', '[PD]', '[S]', '[D]'][i]))\n",
    "               \n",
    "plt.legend(handles = leg, loc = 1)\n",
    "\n",
    "fig.tight_layout()\n",
    "\n",
    "#plt.savefig('./figures/overlay_species.svg', dpi = 600, bbox_inches = 'tight')\n",
    "plt.show()"
   ]
  },
  {
   "cell_type": "markdown",
   "id": "cd08e145-96f0-40fc-ab71-57c0df552111",
   "metadata": {},
   "source": [
    "## Investigate effects of scaling ks, pre-miRNA concentration, Dicer"
   ]
  },
  {
   "cell_type": "code",
   "execution_count": 1,
   "id": "7e7f5144-f983-4ef3-af54-cbd6430836d0",
   "metadata": {},
   "outputs": [
    {
     "name": "stderr",
     "output_type": "stream",
     "text": [
      "C:\\Users\\Sofia\\anaconda3\\lib\\site-packages\\pandas\\core\\computation\\expressions.py:21: UserWarning: Pandas requires version '2.8.4' or newer of 'numexpr' (version '2.7.3' currently installed).\n",
      "  from pandas.core.computation.check import NUMEXPR_INSTALLED\n",
      "C:\\Users\\Sofia\\anaconda3\\lib\\site-packages\\pandas\\core\\arrays\\masked.py:60: UserWarning: Pandas requires version '1.3.6' or newer of 'bottleneck' (version '1.3.2' currently installed).\n",
      "  from pandas.core import (\n"
     ]
    }
   ],
   "source": [
    "import pandas as pd\n",
    "import matplotlib.pyplot as plt\n",
    "import matplotlib.lines as mlines\n",
    "import numpy as np\n",
    "import params\n",
    "import model_utils as mu\n",
    "from tqdm import tqdm\n",
    "from scipy.integrate import solve_ivp"
   ]
  },
  {
   "cell_type": "code",
   "execution_count": 2,
   "id": "20d5a63e-2a76-44c5-be69-2c411b1e9816",
   "metadata": {},
   "outputs": [],
   "source": [
    "#params\n",
    "ka = [params.ka1]\n",
    "kb = [params.ka1 * params.Kd_wt]\n",
    "kc = [params.kc1]\n",
    "kd = [params.kd1]\n",
    "ks = [ka, kb, kc, kd] \n",
    "inits = [params.init_pMiR1, params.init_pMiR1_dcr, params.init_pMiR1_dcr_star, \n",
    "                 params.init_MiR1]"
   ]
  },
  {
   "cell_type": "code",
   "execution_count": 3,
   "id": "c8c100e1-8d3c-4b1b-8693-fb4e9ffabc02",
   "metadata": {},
   "outputs": [],
   "source": [
    "#variation of ks, dicer concentration (single miRNA)\n",
    "kvars = [10**i for i in list(np.linspace(-2,2,9))]\n",
    "dvars = np.linspace(0, 7.25, 15)\n",
    "dvars[0] = 0.01\n",
    "dvars = np.append(dvars, np.linspace(10, 15, 4))"
   ]
  },
  {
   "cell_type": "code",
   "execution_count": 4,
   "id": "bc752d64-3ca8-4191-a90b-1c5cbfb48810",
   "metadata": {},
   "outputs": [],
   "source": [
    "#set up ODEs, make model\n",
    "ode = mu.makeODEs(inits + [0], ka, kb, kc, kd)"
   ]
  },
  {
   "cell_type": "code",
   "execution_count": 5,
   "id": "5984ef31-81d3-410a-93ec-3c4bba36d41b",
   "metadata": {},
   "outputs": [],
   "source": [
    "model = mu.makeModel(ode)"
   ]
  },
  {
   "cell_type": "markdown",
   "id": "e96457c6-c9b5-4f0f-870a-2b43a57424d1",
   "metadata": {},
   "source": [
    "### Run model and save output"
   ]
  },
  {
   "cell_type": "code",
   "execution_count": 6,
   "id": "bad935ac-f7c5-40fe-b2e1-96aacd25b9ef",
   "metadata": {},
   "outputs": [],
   "source": [
    "exec(model)"
   ]
  },
  {
   "cell_type": "code",
   "execution_count": 7,
   "id": "f5830d78-d7f7-47ee-8a06-7880d673545f",
   "metadata": {
    "tags": []
   },
   "outputs": [
    {
     "name": "stderr",
     "output_type": "stream",
     "text": [
      "100%|██████████| 19/19 [00:01<00:00, 12.97it/s]\n"
     ]
    }
   ],
   "source": [
    "names = []\n",
    "for i in tqdm(range(len(dvars))):\n",
    "    for k in range(4):\n",
    "        for j in range(len(kvars)):\n",
    "            init = inits + [dvars[i]]\n",
    "            if k == 0:\n",
    "                ks = ([ka[0] * kvars[j]], kb, kc, kd)\n",
    "            elif k == 1:\n",
    "                ks = (ka, [kb[0] * kvars[j]], kc, kd)\n",
    "            elif k == 2:\n",
    "                ks = (ka, kb, [kc[0] * kvars[j]], kd)\n",
    "            elif k == 3:\n",
    "                ks = (ka, kb, kc, [kd[0] * kvars[j]])\n",
    "            \n",
    "            res = solve_ivp(runModel, (0, 3000), init, \\\n",
    "                            args = ks, method = 'LSODA',\n",
    "                           atol = 1e-3)\n",
    "            \n",
    "            index = ['pMiR', 'pMiR_dicer', 'pMiR_dicer_star', 'miR', 'dicer']\n",
    "            \n",
    "            df = pd.DataFrame(res.y, index = index)\n",
    "            df = df.transpose()\n",
    "            df.insert(loc = 0, column = 'time_min', value = res.t)\n",
    "            \n",
    "            name = 'k' + ['a', 'b', 'c', 'd'][k] + '_' + str(int(kvars[j]*100)) + 'dvar_' + str(int(dvars[i]*100))\n",
    "            names.append(name)\n",
    "            \n",
    "            df.to_csv('outputs/optim/csvs/' + name + '.csv', index = False)"
   ]
  },
  {
   "cell_type": "code",
   "execution_count": 8,
   "id": "a0737769-9997-480c-8af3-35b6422d7792",
   "metadata": {},
   "outputs": [],
   "source": [
    "for name in names:\n",
    "    exec(name + ' = pd.read_csv(\"outputs/optim/csvs/' + name + '.csv\", header = [0])')"
   ]
  },
  {
   "cell_type": "code",
   "execution_count": 9,
   "id": "a1b219c4-2fdb-4b65-a9a5-02d1cb998d27",
   "metadata": {},
   "outputs": [],
   "source": [
    "ends = np.zeros((4, len(kvars), len(dvars)))\n",
    "\n",
    "for i in range(4):\n",
    "    for j in range(len(kvars)):\n",
    "        for k in range(len(dvars)):\n",
    "            exec('miR = k' + ['a', 'b', 'c', 'd'][i]+ '_' + str(int(kvars[j]*100)) + 'dvar_' + str(int(dvars[k]*100)))\n",
    "            \n",
    "            ends[i, j, k] = miR['miR'].iloc[-1]"
   ]
  },
  {
   "cell_type": "code",
   "execution_count": 10,
   "id": "9871776f-69ea-416e-a575-177d5e8e3458",
   "metadata": {},
   "outputs": [
    {
     "data": {
      "image/png": "[encoded data removed]",
      "text/plain": [
       "<Figure size 864x720 with 8 Axes>"
      ]
     },
     "metadata": {
      "needs_background": "light"
     },
     "output_type": "display_data"
    }
   ],
   "source": [
    "#plot\n",
    "fig, ax = plt.subplots(2,2, sharex = True, sharey = True, figsize = (12, 10))\n",
    "\n",
    "x = dvars\n",
    "y = kvars\n",
    "\n",
    "cs0 = ax[0,0].contourf(x, y, ends[0], vmin = 0, vmax = 1)\n",
    "ax[0,0].set_title('ka varied')\n",
    "fig.colorbar(cs0)\n",
    "ax[0,0].set_xlabel('Dicer')\n",
    "ax[0,0].set_ylabel('k-variation')\n",
    "ax[0,0].scatter(5, 1, edgecolor = 'black', color = 'red')\n",
    "ax[0,0].set_yscale('log')\n",
    "\n",
    "cs1 = ax[0,1].contourf(x, y, ends[1], vmin = 0, vmax = 1)\n",
    "ax[0,1].set_title('kb varied')\n",
    "fig.colorbar(cs1)\n",
    "ax[0,1].set_xlabel('Dicer')\n",
    "ax[0,1].set_ylabel('k-variation')\n",
    "ax[0,1].scatter(5, 1, edgecolor = 'black', color = 'red')\n",
    "ax[0,1].set_yscale('log')\n",
    "\n",
    "cs2 = ax[1,0].contourf(x, y, ends[2], vmin = 0, vmax = 1)\n",
    "ax[1,0].set_title('kc varied')\n",
    "fig.colorbar(cs2)\n",
    "ax[1,0].set_xlabel('Dicer')\n",
    "ax[1,0].set_ylabel('k-variation')\n",
    "ax[1,0].scatter(5, 1, edgecolor = 'black', color = 'red')\n",
    "ax[1,0].set_yscale('log')\n",
    "\n",
    "cs3 = ax[1,1].contourf(x, y, ends[3], vmin = 0, vmax = 1)\n",
    "ax[1,1].set_title('kd varied')\n",
    "fig.colorbar(cs3)\n",
    "ax[1,1].set_xlabel('Dicer')\n",
    "ax[1,1].set_ylabel('k-variation')\n",
    "ax[1,1].scatter(5, 1, edgecolor = 'black', color = 'red')\n",
    "ax[1,1].set_yscale('log')\n",
    "\n",
    "fig.tight_layout()\n",
    "\n",
    "plt.savefig('outputs/optim/plots/k-var_dvars2.svg', dpi = 600, bbox_inches = 'tight')\n",
    "plt.show()"
   ]
  },
  {
   "cell_type": "code",
   "execution_count": 11,
   "id": "7d065297-1e9c-49c1-9dc4-8325380038b9",
   "metadata": {
    "tags": []
   },
   "outputs": [],
   "source": [
    "#what happens when increasing pmir concentration?\n",
    "pvars = np.linspace(0, 1, 5)\n",
    "pvars = np.append(pvars, np.linspace(1.5, 5, 8))\n",
    "inits = [params.init_pMiR1_dcr, params.init_pMiR1_dcr_star, \n",
    "                 params.init_MiR1]"
   ]
  },
  {
   "cell_type": "code",
   "execution_count": 12,
   "id": "671426be-8411-423f-a3ab-bcbacf050b9e",
   "metadata": {
    "tags": []
   },
   "outputs": [
    {
     "name": "stderr",
     "output_type": "stream",
     "text": [
      "100%|██████████| 19/19 [00:00<00:00, 25.14it/s]\n"
     ]
    }
   ],
   "source": [
    "names2 = []\n",
    "for i in tqdm(range(len(dvars))):\n",
    "    for j in range(len(pvars)):\n",
    "        init = [pvars[j]] + inits + [dvars[i]]\n",
    "            \n",
    "        res = solve_ivp(runModel, (0, 3000), init, args = (ka, kb, kc, kd), method = 'LSODA')\n",
    "            \n",
    "        index = ['pMiR', 'pMiR_dicer', 'pMiR_dicer_star', 'miR', 'dicer']\n",
    "            \n",
    "        df = pd.DataFrame(res.y, index = index)\n",
    "        df = df.transpose()\n",
    "        df.insert(loc = 0, column = 'time_min', value = res.t)\n",
    "            \n",
    "        name = 'pvar_' + str(int(pvars[j]*100)) + 'dvar_' + str(int(dvars[i]*100))\n",
    "        names2.append(name)\n",
    "            \n",
    "        df.to_csv('outputs/optim/csvs/' + name + '.csv', index = False)"
   ]
  },
  {
   "cell_type": "code",
   "execution_count": 13,
   "id": "791c87bc-fcd7-4e84-bae8-db3c2c38837d",
   "metadata": {
    "tags": []
   },
   "outputs": [],
   "source": [
    "for name in names2:\n",
    "    exec(name + ' = pd.read_csv(\"outputs/optim/csvs/' + name + '.csv\", header = [0])')"
   ]
  },
  {
   "cell_type": "code",
   "execution_count": 52,
   "id": "40b0b407-a441-429a-b854-17389eca2c74",
   "metadata": {
    "tags": []
   },
   "outputs": [],
   "source": [
    "ends2 = np.zeros((len(pvars), len(dvars)))\n",
    "\n",
    "for j in range(len(pvars)):\n",
    "    for k in range(len(dvars)):\n",
    "        exec('miR = pvar_' + str(int(pvars[j]*100)) + 'dvar_' + str(int(dvars[k]*100)))\n",
    "            \n",
    "        ends2[j, k] = miR['miR'].iloc[-1]"
   ]
  },
  {
   "cell_type": "code",
   "execution_count": 53,
   "id": "38eb16f1-5c7e-48f3-a57d-50e3da1a04d2",
   "metadata": {
    "tags": []
   },
   "outputs": [
    {
     "data": {
      "image/png": "[encoded data removed]",
      "text/plain": [
       "<Figure size 432x360 with 2 Axes>"
      ]
     },
     "metadata": {
      "needs_background": "light"
     },
     "output_type": "display_data"
    }
   ],
   "source": [
    "fig, ax = plt.subplots(figsize = (6,5))\n",
    "\n",
    "x = dvars\n",
    "y = pvars\n",
    "\n",
    "cs = ax.contourf(x, y, ends2, vmin = 0, vmax = 5)\n",
    "fig.colorbar(cs)\n",
    "ax.set_xlabel('Dicer')\n",
    "ax.set_ylabel('Pre-miRNA')\n",
    "ax.scatter(5, 1, edgecolor = 'black', color = 'red')\n",
    "\n",
    "plt.savefig('outputs/optim/plots/premir-conc.svg', dpi = 600, bbox_inches = 'tight')\n",
    "\n",
    "plt.show()"
   ]
  },
  {
   "cell_type": "code",
   "execution_count": 17,
   "id": "11186e81-61b4-4e6e-bfa8-b00e667ef193",
   "metadata": {
    "tags": []
   },
   "outputs": [],
   "source": [
    "inits = [params.init_pMiR1_dcr, params.init_pMiR1_dcr_star, \n",
    "                 params.init_MiR1, params.init_dcr1]"
   ]
  },
  {
   "cell_type": "code",
   "execution_count": 18,
   "id": "bef1895e-17b5-45a8-b366-468b31fe251d",
   "metadata": {
    "tags": []
   },
   "outputs": [
    {
     "name": "stderr",
     "output_type": "stream",
     "text": [
      "100%|██████████| 13/13 [00:01<00:00, 12.51it/s]\n"
     ]
    }
   ],
   "source": [
    "names3 = []\n",
    "for i in tqdm(range(len(pvars))):\n",
    "    for j in range(len(kvars)):\n",
    "        for k in range(4):\n",
    "            init = [pvars[i]] + inits \n",
    "            if k == 0:\n",
    "                ks = ([ka[0] * kvars[j]], kb, kc, kd)\n",
    "            elif k == 1:\n",
    "                ks = (ka, [kb[0] * kvars[j]], kc, kd)\n",
    "            elif k == 2:\n",
    "                ks = (ka, kb, [kc[0] * kvars[j]], kd)\n",
    "            elif k == 3:\n",
    "                ks = (ka, kb, kc, [kd[0] * kvars[j]])\n",
    "            \n",
    "            res = solve_ivp(runModel, (0, 3000), init, \\\n",
    "                            args = ks, method = 'LSODA',\n",
    "                           atol = 1e-3)\n",
    "            \n",
    "            index = ['pMiR', 'pMiR_dicer', 'pMiR_dicer_star', 'miR', 'dicer']\n",
    "            \n",
    "            df = pd.DataFrame(res.y, index = index)\n",
    "            df = df.transpose()\n",
    "            df.insert(loc = 0, column = 'time_min', value = res.t)\n",
    "            \n",
    "            name = 'k' + ['a', 'b', 'c', 'd'][k] + '_' + str(int(kvars[j]*100)) + 'dvar_' + str(int(pvars[i]*100))\n",
    "            names3.append(name)\n",
    "            \n",
    "            df.to_csv('outputs/optim/csvs/' + name + '.csv', index = False)"
   ]
  },
  {
   "cell_type": "code",
   "execution_count": 19,
   "id": "350fab10-f37a-470e-8c5a-8bb0752ec0a8",
   "metadata": {
    "tags": []
   },
   "outputs": [],
   "source": [
    "for name in names3:\n",
    "    exec(name + ' = pd.read_csv(\"outputs/optim/csvs/' + name + '.csv\", header = [0])')"
   ]
  },
  {
   "cell_type": "code",
   "execution_count": 20,
   "id": "2803a93e-da67-404b-ac24-d843f42efaa1",
   "metadata": {
    "tags": []
   },
   "outputs": [],
   "source": [
    "ends3 = np.zeros((4, len(kvars), len(pvars)))\n",
    "\n",
    "for i in range(4):\n",
    "    for j in range(len(kvars)):\n",
    "        for k in range(len(pvars)):\n",
    "            exec('miR = k' + ['a', 'b', 'c', 'd'][i]+ '_' + str(int(kvars[j]*100)) + 'dvar_' + str(int(pvars[k]*100)))\n",
    "            \n",
    "            ends3[i, j, k] = miR['miR'].iloc[-1]"
   ]
  },
  {
   "cell_type": "code",
   "execution_count": 21,
   "id": "950678f6-0145-4098-ab3c-9fd8f3b341f8",
   "metadata": {
    "tags": []
   },
   "outputs": [
    {
     "data": {
      "image/png": "[encoded data removed]",
      "text/plain": [
       "<Figure size 864x720 with 8 Axes>"
      ]
     },
     "metadata": {
      "needs_background": "light"
     },
     "output_type": "display_data"
    }
   ],
   "source": [
    "#plot\n",
    "fig, ax = plt.subplots(2,2, sharex = True, sharey = True, figsize = (12, 10))\n",
    "\n",
    "x = pvars\n",
    "y = kvars\n",
    "\n",
    "cs0 = ax[0,0].contourf(x, y, ends3[0], vmin = 0, vmax = 5)\n",
    "ax[0,0].set_title('ka varied')\n",
    "fig.colorbar(cs0)\n",
    "ax[0,0].set_xlabel('Pre-miRNA')\n",
    "ax[0,0].set_ylabel('k-variation')\n",
    "ax[0,0].scatter(1, 1, edgecolor = 'black', color = 'red')\n",
    "ax[0,0].set_yscale('log')\n",
    "\n",
    "cs1 = ax[0,1].contourf(x, y, ends3[1], vmin = 0, vmax = 5)\n",
    "ax[0,1].set_title('kb varied')\n",
    "fig.colorbar(cs1)\n",
    "ax[0,1].set_xlabel('Pre-miRNA')\n",
    "ax[0,1].set_ylabel('k-variation')\n",
    "ax[0,1].scatter(1, 1, edgecolor = 'black', color = 'red')\n",
    "ax[0,1].set_yscale('log')\n",
    "\n",
    "cs2 = ax[1,0].contourf(x, y, ends3[2], vmin = 0, vmax = 5)\n",
    "ax[1,0].set_title('kc varied')\n",
    "fig.colorbar(cs2)\n",
    "ax[1,0].set_xlabel('Pre-miRNA')\n",
    "ax[1,0].set_ylabel('k-variation')\n",
    "ax[1,0].scatter(1, 1, edgecolor = 'black', color = 'red')\n",
    "ax[1,0].set_yscale('log')\n",
    "\n",
    "cs3 = ax[1,1].contourf(x, y, ends3[3], vmin = 0, vmax = 5)\n",
    "ax[1,1].set_title('kd varied')\n",
    "fig.colorbar(cs3)\n",
    "ax[1,1].set_xlabel('Pre-miRNA')\n",
    "ax[1,1].set_ylabel('k-variation')\n",
    "ax[1,1].scatter(1, 1, edgecolor = 'black', color = 'red')\n",
    "ax[1,1].set_yscale('log')\n",
    "\n",
    "fig.tight_layout()\n",
    "\n",
    "plt.savefig('outputs/optim/plots/k-var_pvars.svg', dpi = 600, bbox_inches = 'tight')\n",
    "plt.show()"
   ]
  },
  {
   "cell_type": "code",
   "execution_count": null,
   "id": "7875e57f-311b-4dca-9c21-e3732eee04a9",
   "metadata": {},
   "outputs": [],
   "source": []
  }
 ],
 "metadata": {
  "kernelspec": {
   "display_name": "Python 3 (ipykernel)",
   "language": "python",
   "name": "python3"
  },
  "language_info": {
   "codemirror_mode": {
    "name": "ipython",
    "version": 3
   },
   "file_extension": ".py",
   "mimetype": "text/x-python",
   "name": "python",
   "nbconvert_exporter": "python",
   "pygments_lexer": "ipython3",
   "version": "3.9.7"
  }
 },
 "nbformat": 4,
 "nbformat_minor": 5
}
