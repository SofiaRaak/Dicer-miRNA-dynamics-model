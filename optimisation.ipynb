{
 "cells": [
  {
   "cell_type": "code",
   "execution_count": 1,
   "id": "121d4092-a4c0-4917-b03f-2c31245bccda",
   "metadata": {
    "tags": []
   },
   "outputs": [
    {
     "name": "stderr",
     "output_type": "stream",
     "text": [
      "C:\\Users\\Sofia\\anaconda3\\lib\\site-packages\\pandas\\core\\computation\\expressions.py:21: UserWarning: Pandas requires version '2.8.4' or newer of 'numexpr' (version '2.7.3' currently installed).\n",
      "  from pandas.core.computation.check import NUMEXPR_INSTALLED\n",
      "C:\\Users\\Sofia\\anaconda3\\lib\\site-packages\\pandas\\core\\arrays\\masked.py:60: UserWarning: Pandas requires version '1.3.6' or newer of 'bottleneck' (version '1.3.2' currently installed).\n",
      "  from pandas.core import (\n"
     ]
    }
   ],
   "source": [
    "import pandas as pd\n",
    "import matplotlib.pyplot as plt\n",
    "import matplotlib.lines as mlines\n",
    "import numpy as np\n",
    "from scipy.integrate import solve_ivp\n",
    "import  model_utils as mu\n",
    "from scipy.optimize import curve_fit\n",
    "import cma\n",
    "import params\n",
    "from tqdm import tqdm"
   ]
  },
  {
   "cell_type": "code",
   "execution_count": 2,
   "id": "01d0eeef-49e5-48b3-a4cf-24d0ecf62145",
   "metadata": {},
   "outputs": [],
   "source": [
    "def runModel1(t, init_values, ka, kc, kd):\n",
    "        \"\"\"\n",
    "        Function to run model in ODE solver\n",
    "        \n",
    "        Function to generate string of functions for passing to ODE solver\n",
    "    \n",
    "        init_values:    List of initial concentration of free pre-miRNA concentration for\n",
    "                        each pre-mirna, pre-mirna x dicer concentration, pre-mirna x dicer* \n",
    "                        concentration, mirna concentration, and dicer concentration. \n",
    "                        Alternating pre-mirna (a), pre-mirna dicer (b), pre-mirna dicer* (c)\n",
    "                        and mirna(d), with final dicer concentration (e), i.e. \n",
    "                        [a, b, c, d, a, b, c, d, e]. Can be automatically generated with fun\n",
    "                        make_inits().\n",
    "        ka:             Array of reaction rates for formation of pre-miR - dicer commplex\n",
    "        kb:             Array of reaction rates for dissociation of pre-miR - dicer complex\n",
    "        kc:             Array of reaction rates for formation of pre-miR - dicer complex \n",
    "        kd:             Array of reaction rates for catalysis of pre-miR to miR by dicer\n",
    "        \"\"\"\n",
    "        \n",
    "        kb = ka * params.Kd_wt      \n",
    "\n",
    "        premirna0 = init_values[1] * kb - init_values[0] * init_values[-1] * (ka + kc)\n",
    "        pmiR_dicer0 = init_values[0] * init_values[-1] * ka - init_values[1] * (kb + kd)\n",
    "        pmiR_dicer_star0 = init_values[0] * init_values[-1] * kc\n",
    "        mirna0 = init_values[1] * kd\n",
    "\n",
    "        dicer = init_values[1] * (kb + kd) - init_values[-1] * init_values[0] * (ka + kc)\n",
    "        \n",
    "        return premirna0, pmiR_dicer0, pmiR_dicer_star0, mirna0, dicer"
   ]
  },
  {
   "cell_type": "code",
   "execution_count": 3,
   "id": "e53181cc-2382-470b-96dc-83111d184509",
   "metadata": {},
   "outputs": [],
   "source": [
    "def runModel2(t, init_values, ka, kc, kd):\n",
    "        \"\"\"\n",
    "        Function to run model in ODE solver\n",
    "        \n",
    "        Function to generate string of functions for passing to ODE solver\n",
    "    \n",
    "        init_values:    List of initial concentration of free pre-miRNA concentration for\n",
    "                        each pre-mirna, pre-mirna x dicer concentration, pre-mirna x dicer* \n",
    "                        concentration, mirna concentration, and dicer concentration. \n",
    "                        Alternating pre-mirna (a), pre-mirna dicer (b), pre-mirna dicer* (c)\n",
    "                        and mirna(d), with final dicer concentration (e), i.e. \n",
    "                        [a, b, c, d, a, b, c, d, e]. Can be automatically generated with fun\n",
    "                        make_inits().\n",
    "        ka:             Array of reaction rates for formation of pre-miR - dicer commplex\n",
    "        kb:             Array of reaction rates for dissociation of pre-miR - dicer complex\n",
    "        kc:             Array of reaction rates for formation of pre-miR - dicer complex \n",
    "        kd:             Array of reaction rates for catalysis of pre-miR to miR by dicer\n",
    "        \"\"\"\n",
    "        \n",
    "        kb = ka * params.Kd_short        \n",
    "\n",
    "        premirna0 = init_values[1] * kb - init_values[0] * init_values[-1] * (ka + kc)\n",
    "        pmiR_dicer0 = init_values[0] * init_values[-1] * ka - init_values[1] * (kb + kd)\n",
    "        pmiR_dicer_star0 = init_values[0] * init_values[-1] * kc\n",
    "        mirna0 = init_values[1] * kd\n",
    "\n",
    "        dicer = init_values[1] * (kb + kd) - init_values[-1] * init_values[0] * (ka + kc)\n",
    "        \n",
    "        return premirna0, pmiR_dicer0, pmiR_dicer_star0, mirna0, dicer"
   ]
  },
  {
   "cell_type": "code",
   "execution_count": 4,
   "id": "d4ae7d5a-8baf-45a9-a010-b4b7dbd6a229",
   "metadata": {
    "tags": []
   },
   "outputs": [],
   "source": [
    "#calculate fraction diced\n",
    "def frac1(theta):\n",
    "    \"\"\"\n",
    "    Function to calculate the fraction of WT, short loop miRNAs diced\n",
    "    \"\"\"\n",
    "    ka, kc, kd = np.exp(theta)\n",
    "    theta1 = (ka, kc, kd)\n",
    "        \n",
    "    sol1 = solve_ivp(runModel1, (0, int(params.minutes)), init_values, \\\n",
    "                    method = 'LSODA', args = theta1)\n",
    "    \n",
    "    pMiR1, pMiR1_dcr, pMiR1_dcr_star, MiR1, dcr1  = sol1.y\n",
    "    \n",
    "    diced1 = []\n",
    "    \n",
    "    for i in range(len(MiR1)):\n",
    "        diced1.append(MiR1[i]/ pMiR1[0]) #1 pMiR = 1 MiR\n",
    "                      \n",
    "    return diced1, sol1.t"
   ]
  },
  {
   "cell_type": "code",
   "execution_count": 5,
   "id": "c073ec53-6d07-460c-9c40-88730e36be22",
   "metadata": {
    "tags": []
   },
   "outputs": [],
   "source": [
    "#calculate fraction diced\n",
    "def frac2(theta):\n",
    "    \"\"\"\n",
    "    Function to calculate the fraction of WT, short loop miRNAs diced\n",
    "    \"\"\"\n",
    "    ka, kc, kd = np.exp(theta)\n",
    "    theta2 = (ka, kc, kd)\n",
    "        \n",
    "    sol2 = solve_ivp(runModel2, (0, int(params.minutes)), init_values, \\\n",
    "                     method = 'LSODA', args = theta2)\n",
    "    \n",
    "    pMiR2, pMiR2_dcr, pMiR2_dcr_star, MiR2, dcr2 = sol2.y\n",
    "    \n",
    "    diced2 = []\n",
    "    \n",
    "    for i in range(len(MiR2)):\n",
    "        diced2.append(MiR2[i] / pMiR2[0]) #using pMiR and MiR to account for loss of pMiR\n",
    "                                                      #in pMiR_dcr_star\n",
    "                      \n",
    "    return diced2, sol2.t"
   ]
  },
  {
   "cell_type": "code",
   "execution_count": 6,
   "id": "a9e42e64-81f5-4871-b97b-87a9f842f6a4",
   "metadata": {},
   "outputs": [],
   "source": [
    "#create error function\n",
    "def errorODE1(theta):\n",
    "    \"\"\"\n",
    "    Function to calculate the relative error of ODE model values against data values.\n",
    "    \"\"\"\n",
    "    \n",
    "    diced1, ts1 = frac1(theta)\n",
    "    \n",
    "    params.WT_data#scale by 10 to force optimisation to account for relative changes\n",
    "    WT = np.interp(params.time, ts1, diced1)\n",
    "\n",
    "    return np.sum(np.power((params.WT_data - WT), 2))"
   ]
  },
  {
   "cell_type": "code",
   "execution_count": 7,
   "id": "c184cfe0-9dee-4625-aee2-5c221674e854",
   "metadata": {},
   "outputs": [],
   "source": [
    "#create error function\n",
    "def errorODE2(theta):\n",
    "    \"\"\"\n",
    "    Function to calculate the relative error of ODE model values against data values.\n",
    "    \"\"\"\n",
    "    \n",
    "    diced2, ts2 = frac2(theta)\n",
    "    \n",
    "    short = np.interp(params.time, ts2, diced2)\n",
    "\n",
    "    \n",
    "    return np.sum(np.power((params.short_data*10-short*10), 2))"
   ]
  },
  {
   "cell_type": "code",
   "execution_count": 8,
   "id": "1aeca441-fd18-4da6-a589-53c0541389e0",
   "metadata": {},
   "outputs": [],
   "source": [
    "#init params\n",
    "#set up initial conditions\n",
    "##initial concentrations (nM) as outlined in Tsutsumi et al.\n",
    "init_values = [params.init_pMiR1, params.init_pMiR1_dcr, params.init_pMiR1_dcr_star, \\\n",
    "              params.init_MiR1, params.init_dcr1]\n",
    "\n",
    "##initial theta (reaction rates) to be optimised:\n",
    "ka_wt = 5\n",
    "ka_sl = 5\n",
    "kc_wt = .1\n",
    "kc_sl = .1\n",
    "kd = 5 \n",
    "\n",
    "theta = [ka_wt, ka_sl, kc_wt, kc_sl, kd, kd]\n",
    "theta1 = [ka_wt, kc_wt, kd]\n",
    "theta2 = [ka_sl, kc_sl, kd]"
   ]
  },
  {
   "cell_type": "code",
   "execution_count": 9,
   "id": "dd814506-d48d-45c9-b713-e99b6ead35a4",
   "metadata": {},
   "outputs": [
    {
     "name": "stdout",
     "output_type": "stream",
     "text": [
      "(3_w,7)-aCMA-ES (mu_w=2.3,w_1=58%) in dimension 3 (seed=811220, Thu Nov 28 09:13:25 2024)\n",
      "Iterat #Fevals   function value  axis ratio  sigma  min&max std  t[m:s]\n",
      "    1      7 3.106134299037551e-02 1.0e+00 1.90e+00  2e+00  2e+00 0:00.0\n",
      "    2     14 2.232584104268694e-01 1.3e+00 2.02e+00  2e+00  2e+00 0:00.0\n",
      "    3     21 1.603703170594351e-01 1.5e+00 1.87e+00  1e+00  2e+00 0:00.0\n",
      "  100    700 1.383679145242178e-04 1.8e+01 1.12e-03  2e-05  6e-05 0:00.7\n",
      "  132    924 1.383678953570244e-04 2.5e+02 9.20e-05  7e-07  2e-06 0:00.9\n",
      "termination on tolfun=1e-11 (Thu Nov 28 09:13:26 2024)\n",
      "final/bestever f-value = 1.383679e-04 1.383679e-04 after 925/888 evaluations\n",
      "incumbent solution: [-5.244624909312665, -4.404657175538828, 9.253196403768406]\n",
      "std deviation: [7.037714953512672e-07, 8.016466982024705e-07, 2.1513875927035275e-06]\n"
     ]
    }
   ],
   "source": [
    "res1 = cma.fmin(errorODE1, theta1, 2)"
   ]
  },
  {
   "cell_type": "code",
   "execution_count": 10,
   "id": "6234739c-e3b0-4437-8fe2-5b02c88d63d1",
   "metadata": {},
   "outputs": [
    {
     "data": {
      "text/plain": [
       "array([-5.24462493, -4.40465711,  9.2531963 ])"
      ]
     },
     "execution_count": 10,
     "metadata": {},
     "output_type": "execute_result"
    }
   ],
   "source": [
    "res1[0]"
   ]
  },
  {
   "cell_type": "code",
   "execution_count": 17,
   "id": "a3270b7f-671b-4927-8704-c79165ac34e3",
   "metadata": {},
   "outputs": [],
   "source": [
    "#load logger\n",
    "logger = res1[-1]\n",
    "#load function evaluations\n",
    "f_dat = logger.load().data['f']\n",
    "#loaf best f-value for each iteration\n",
    "f_best = f_dat[:, 5]\n",
    "evals = f_dat[:, 1]"
   ]
  },
  {
   "cell_type": "code",
   "execution_count": 18,
   "id": "9bce9017-0fd1-4c54-8f77-32d022b77e45",
   "metadata": {},
   "outputs": [
    {
     "data": {
      "image/png": "[encoded data removed]",
      "text/plain": [
       "<Figure size 432x288 with 1 Axes>"
      ]
     },
     "metadata": {
      "needs_background": "light"
     },
     "output_type": "display_data"
    }
   ],
   "source": [
    "#plot error minimisation\n",
    "fig, ax = plt.subplots()\n",
    "\n",
    "ax.plot(evals,\n",
    "        f_best)\n",
    "for i in range(len(f_best)): #find where f was minimised and mark with red circle\n",
    "    if f_best[i] == res1[1]:\n",
    "        ax.scatter(evals[i],\n",
    "                   f_best[i],\n",
    "                   marker = 'o',\n",
    "                   color = 'red')\n",
    "        \n",
    "        \n",
    "ax.set_xlabel('Number of evaluations')\n",
    "ax.set_ylabel('SEE, a.u.')\n",
    "ax.set_xscale('log')\n",
    "ax.text(200, .1, f'min(f) = {res1[1]}')\n",
    "\n",
    "plt.savefig(r'./figures/optim_f-mins_20241128_wt.svg', dpi = 600, bbox_inches = 'tight')\n",
    "plt.show()"
   ]
  },
  {
   "cell_type": "code",
   "execution_count": 19,
   "id": "abae6305-90de-46a6-b569-d10c5c46cec7",
   "metadata": {},
   "outputs": [
    {
     "name": "stdout",
     "output_type": "stream",
     "text": [
      "(3_w,7)-aCMA-ES (mu_w=2.3,w_1=58%) in dimension 3 (seed=949968, Thu Nov 28 09:15:58 2024)\n",
      "Iterat #Fevals   function value  axis ratio  sigma  min&max std  t[m:s]\n",
      "    1      7 9.132497969032404e-01 1.0e+00 1.87e+00  2e+00  2e+00 0:00.0\n",
      "    2     14 2.745173851424658e-02 1.3e+00 2.07e+00  2e+00  2e+00 0:00.0\n",
      "    3     21 4.086927869002031e-03 1.3e+00 2.48e+00  2e+00  3e+00 0:00.0\n",
      "  100    700 4.042915026427174e-04 2.6e+01 1.12e-02  4e-04  5e-04 0:00.6\n",
      "  149   1043 4.042910268606273e-04 5.4e+02 7.10e-04  1e-05  2e-05 0:00.8\n",
      "termination on tolfun=1e-11 (Thu Nov 28 09:15:59 2024)\n",
      "final/bestever f-value = 4.042910e-04 4.042910e-04 after 1044/1044 evaluations\n",
      "incumbent solution: [-6.23222263961112, -3.3724248507333012, -2.6499939082630712]\n",
      "std deviation: [1.1767348379410948e-05, 1.1910362914623339e-05, 1.674269385139117e-05]\n"
     ]
    }
   ],
   "source": [
    "res2 = cma.fmin(errorODE2, theta2, 2)"
   ]
  },
  {
   "cell_type": "code",
   "execution_count": 20,
   "id": "0110c78e-0e6a-481e-896d-54234017ae03",
   "metadata": {},
   "outputs": [
    {
     "data": {
      "text/plain": [
       "array([-6.23222264, -3.37242485, -2.64999391])"
      ]
     },
     "execution_count": 20,
     "metadata": {},
     "output_type": "execute_result"
    }
   ],
   "source": [
    "res2[0]"
   ]
  },
  {
   "cell_type": "code",
   "execution_count": 21,
   "id": "694060a0-bfd1-4406-ab7f-421c0735445f",
   "metadata": {},
   "outputs": [],
   "source": [
    "#load logger\n",
    "logger2 = res2[-1]\n",
    "#load function evaluations\n",
    "f_dat = logger2.load().data['f']\n",
    "#loaf best f-value for each iteration\n",
    "f_best = f_dat[:, 5]\n",
    "evals = f_dat[:, 1]"
   ]
  },
  {
   "cell_type": "code",
   "execution_count": 22,
   "id": "f110437a-9ecc-4d9a-b103-cbf73602e942",
   "metadata": {
    "tags": []
   },
   "outputs": [
    {
     "data": {
      "image/png": "[encoded data removed]",
      "text/plain": [
       "<Figure size 432x288 with 1 Axes>"
      ]
     },
     "metadata": {
      "needs_background": "light"
     },
     "output_type": "display_data"
    }
   ],
   "source": [
    "#plot error minimisation\n",
    "fig, ax = plt.subplots()\n",
    "\n",
    "ax.plot(evals,\n",
    "        f_best)\n",
    "for i in range(len(f_best)): #find where f was minimised and mark with red circle\n",
    "    if f_best[i] == res2[1]:\n",
    "        ax.scatter(evals[i],\n",
    "                   f_best[i],\n",
    "                   marker = 'o',\n",
    "                   color = 'red')\n",
    "        \n",
    "        \n",
    "ax.set_xlabel('Number of evaluations')\n",
    "ax.set_ylabel('SEE, a.u.')\n",
    "ax.set_xscale('log')\n",
    "ax.text(200, .1, f'min(f) = {res2[1]}')\n",
    "\n",
    "plt.savefig(r'./figures/optim_f-mins_20241128_sl.svg', dpi = 600, bbox_inches = 'tight')\n",
    "plt.show()"
   ]
  },
  {
   "cell_type": "code",
   "execution_count": 9,
   "id": "f8b9dfb9-9658-4455-94f7-899481144b6c",
   "metadata": {
    "tags": []
   },
   "outputs": [],
   "source": [
    "#fit experimental data with curve_fit\n",
    "WT_popt, WT_pcov = curve_fit(lambda t, a, b: a * np.log(t) + b,\n",
    "                             params.time[1:], params.WT_data[1:]) #exclude origin\n",
    "\n",
    "short_popt, short_pcov = curve_fit(lambda t, a, b: a * np.log(t) + b,\n",
    "                             params.time[1:], params.short_data[1:]) #exclude origin\n",
    "\n",
    "#create array with curve_fit data\n",
    "x = np.linspace(0,60,600)\n",
    "\n",
    "WT_pred = np.zeros(len(x))\n",
    "short_pred = np.zeros(len(x))\n",
    "\n",
    "for i in range(1, len(x)):\n",
    "    WT_pred[i] = WT_popt[0] * np.log(x[i]) + WT_popt[1]\n",
    "    short_pred[i] =  short_popt[0] * np.log(x[i]) + short_popt[1]"
   ]
  },
  {
   "cell_type": "code",
   "execution_count": 10,
   "id": "c0731989-599d-4072-9577-ffbe875f7850",
   "metadata": {},
   "outputs": [],
   "source": [
    "wt, ts = frac1([-5.24462493, -4.40465711, 9.2531963])\n",
    "short, ts2 = frac2([-6.23222264, -3.37242485, -2.64999391])\n",
    "short_scatter2 = np.interp(params.time, ts2, short)\n",
    "wt_scatter2 = np.interp(params.time, ts, wt)"
   ]
  },
  {
   "cell_type": "code",
   "execution_count": 11,
   "id": "98cfda23-84a7-420c-a8e5-b7e82c2b3d9e",
   "metadata": {
    "tags": []
   },
   "outputs": [
    {
     "data": {
      "image/png": "[encoded data removed]",
      "text/plain": [
       "<Figure size 360x504 with 2 Axes>"
      ]
     },
     "metadata": {
      "needs_background": "light"
     },
     "output_type": "display_data"
    }
   ],
   "source": [
    "fig, ax = plt.subplots(2, sharex = True, figsize = (5, 7))\n",
    "\n",
    "ax[0].set_ylim(0, 0.4)\n",
    "\n",
    "ax[0].plot(x,\n",
    "           WT_pred,\n",
    "           color = 'black')\n",
    "ax[0].plot(ts,\n",
    "           wt,\n",
    "           linestyle = ':',\n",
    "           color = 'red')\n",
    "ax[0].scatter(params.time,\n",
    "              params.WT_data,\n",
    "              marker = 's',\n",
    "              color = 'black')\n",
    "ax[0].scatter(params.time,\n",
    "              wt_scatter2,\n",
    "              marker = 'o',\n",
    "              color = 'red')\n",
    "\n",
    "ax[0].set_xlabel('Time (min)')\n",
    "ax[0].set_ylabel('Fraction diced')\n",
    "ax[0].set_title('Wild-type')\n",
    "\n",
    "ax[1].plot(x,\n",
    "           short_pred,\n",
    "           color = 'black')\n",
    "ax[1].plot(ts2,\n",
    "           short,\n",
    "           linestyle = ':',\n",
    "           color = 'red')\n",
    "ax[1].scatter(params.time,\n",
    "              params.short_data,\n",
    "              marker = 's',\n",
    "              color = 'black')\n",
    "ax[1].scatter(params.time,\n",
    "              short_scatter2,\n",
    "              marker = 'o',\n",
    "              color = 'red')\n",
    "\n",
    "ax[1].set_xlabel('Time (min)')\n",
    "ax[1].set_ylabel('Fraction diced')\n",
    "ax[1].set_title('Short loop')\n",
    "\n",
    "ax[1].set_ylim(0, 0.0130)\n",
    "\n",
    "l1 = mlines.Line2D([], [], marker = 's', color = 'black', label = 'data')\n",
    "l2 = mlines.Line2D([], [], linestyle = ':', marker = 'o', color = 'red', label = 'model')\n",
    "\n",
    "plt.legend(handles = [l1, l2], loc = 2)\n",
    "\n",
    "plt.tight_layout()\n",
    "\n",
    "plt.savefig('figures/20241128_new_optim.svg', dpi = 600, bbox_inches = 'tight')\n",
    "plt.show()"
   ]
  },
  {
   "cell_type": "code",
   "execution_count": 15,
   "id": "8fbd151d-d65a-4642-bcbe-46407d1740ab",
   "metadata": {},
   "outputs": [],
   "source": [
    "colors = [i[0] for i in params.colors] + ['#88CCEE']\n",
    "lines = ['-', ':', '--', '-.', '-']\n",
    "to_plot = ['pMiR', 'miR', 'pMiR_dicer', 'pMiR_dicer_star', 'dicer_scaled']\n",
    "ka1, ka2, kc1, kc2, kd1, kd2 = params.theta"
   ]
  },
  {
   "cell_type": "code",
   "execution_count": 18,
   "id": "42055d50-eaee-4a9b-b1bf-578401fa6d4f",
   "metadata": {},
   "outputs": [],
   "source": [
    "output1 = solve_ivp(runModel1, (0, int(params.minutes)), init_values, \\\n",
    "                    method = 'LSODA', args = (ka1,kc1, kd1))\n",
    "output2 = solve_ivp(runModel1, (0, int(params.minutes)), init_values, \\\n",
    "                    method = 'LSODA', args = (ka2,kc2, kd2))"
   ]
  },
  {
   "cell_type": "code",
   "execution_count": 39,
   "id": "21ae8266-7bb5-4e98-ac41-dd340f5d72c0",
   "metadata": {},
   "outputs": [],
   "source": [
    "#unpack species\n",
    "order = ['pMiR', 'pMiR_dicer', 'pMiR_dicer_star', 'miR', 'dicer']\n",
    "wt_res = {}\n",
    "short_res = {}\n",
    "\n",
    "j = 0\n",
    "for i in range(len(output1.y)):\n",
    "    wt_res[order[j]] = output1.y[i]\n",
    "    if order[j] == 'dicer':\n",
    "        wt_res['dicer_scaled'] = output1.y[i] / 5\n",
    "        \n",
    "    short_res[order[j]] = output2.y[i]\n",
    "    if order[j] == 'dicer':\n",
    "        short_res['dicer_scaled'] = output2.y[i] / 5\n",
    "        \n",
    "    j += 1"
   ]
  },
  {
   "cell_type": "code",
   "execution_count": 41,
   "id": "ed0d837b-fabd-4cb6-a68f-fda53b060af9",
   "metadata": {},
   "outputs": [
    {
     "data": {
      "image/png": "[encoded data removed]",
      "text/plain": [
       "<Figure size 432x288 with 4 Axes>"
      ]
     },
     "metadata": {
      "needs_background": "light"
     },
     "output_type": "display_data"
    }
   ],
   "source": [
    "fig, ax = plt.subplots(2, sharex = True, sharey = True)\n",
    "\n",
    "for i in range(len(to_plot)):\n",
    "    ax[0].plot(output1.t,\n",
    "               wt_res[to_plot[i]],\n",
    "               color = colors[i],\n",
    "               linestyle = lines[i])\n",
    "ax[0].set_yticks(np.linspace(0,1,5), labels = np.linspace(0,1,5))\n",
    "ax[0].set_ylabel('Nucleic acid species, nM')\n",
    "ax0 = ax[0].twinx()\n",
    "ax0.set_yticks(np.linspace(0,1,5), labels = np.linspace(0,5,5))\n",
    "ax0.set_ylabel('Free Dicer, nM')\n",
    "\n",
    "ax[0].set_title('Wild type')\n",
    "\n",
    "for i in range(len(to_plot)):\n",
    "    ax[1].plot(output2.t,\n",
    "               short_res[to_plot[i]],\n",
    "               color = colors[i],\n",
    "               linestyle = lines[i])\n",
    "ax[1].set_yticks(np.linspace(0,1,5), labels = np.linspace(0,1,5))\n",
    "ax[1].set_ylabel('Nucleic acid species, nM')\n",
    "ax1 = ax[1].twinx()\n",
    "ax1.set_yticks(np.linspace(0,1,5), labels = np.linspace(0,5,5))\n",
    "ax1.set_ylabel('Free Dicer, nM')\n",
    "\n",
    "ax[1].set_title('Short loop')\n",
    "\n",
    "leg = []\n",
    "for i in range(len(colors)):\n",
    "    leg.append(mlines.Line2D([], [], linestyle = lines[i], color = colors[i], \n",
    "                             label = ['[P]', '[M]', '[PD]', '[S]', '[D]'][i]))\n",
    "               \n",
    "plt.legend(handles = leg, loc = 1)\n",
    "\n",
    "fig.tight_layout()\n",
    "\n",
    "plt.savefig('./figures/overlay_species.svg', dpi = 600, bbox_inches = 'tight')\n",
    "plt.show()"
   ]
  },
  {
   "cell_type": "code",
   "execution_count": 51,
   "id": "d4f2e99d-99c9-45a2-b6b1-c84cc5232716",
   "metadata": {},
   "outputs": [],
   "source": [
    "ka = [np.exp(res1[0][0])]\n",
    "kb = [np.exp(res1[0][0]) * params.Kd_wt]\n",
    "kc = [np.exp(res1[0][1])]\n",
    "kd = [np.exp(res1[0][2])]"
   ]
  },
  {
   "cell_type": "code",
   "execution_count": 52,
   "id": "6d46ec88-d53e-4397-8abb-1722cf7cbe2f",
   "metadata": {},
   "outputs": [],
   "source": [
    "ks = [ka, kb, kc, kd] \n",
    "inits = [params.init_pMiR1, params.init_pMiR1_dcr, params.init_pMiR1_dcr_star, \n",
    "                 params.init_MiR1]"
   ]
  },
  {
   "cell_type": "code",
   "execution_count": 53,
   "id": "fa76c572-1272-432d-b2eb-e505b4367d9d",
   "metadata": {},
   "outputs": [],
   "source": [
    "#variation of ks, dicer concentration (single miRNA)\n",
    "kvars = [10**i for i in list(np.linspace(-2,2,9))]\n",
    "dvars = np.linspace(0, 7.25, 15)\n",
    "dvars[0] = 0.01\n",
    "dvars = np.append(dvars, np.linspace(10, 15, 4))"
   ]
  },
  {
   "cell_type": "code",
   "execution_count": 54,
   "id": "69502639-7c8a-4da6-9d84-61978c36a94f",
   "metadata": {},
   "outputs": [],
   "source": [
    "#set up ODEs, make model\n",
    "ode = mu.makeODEs(inits + [0], ka, kb, kc, kd)"
   ]
  },
  {
   "cell_type": "code",
   "execution_count": 55,
   "id": "3f41bbb3-95e5-46e1-9de0-bff87184679a",
   "metadata": {},
   "outputs": [],
   "source": [
    "model = mu.makeModel(ode)"
   ]
  },
  {
   "cell_type": "markdown",
   "id": "46d7ff38-9ea1-4389-bf10-edab4bde9a41",
   "metadata": {},
   "source": [
    "### Run model and save output"
   ]
  },
  {
   "cell_type": "code",
   "execution_count": 56,
   "id": "fcf1d415-1258-4487-b18c-dd25deefeadd",
   "metadata": {
    "tags": []
   },
   "outputs": [],
   "source": [
    "exec(model)"
   ]
  },
  {
   "cell_type": "code",
   "execution_count": 57,
   "id": "1f14415e-8015-4232-ab84-8cb97e3b0254",
   "metadata": {
    "tags": []
   },
   "outputs": [
    {
     "name": "stderr",
     "output_type": "stream",
     "text": [
      "  0%|          | 0/19 [00:00<?, ?it/s]C:\\Users\\Sofia\\AppData\\Roaming\\Python\\Python39\\site-packages\\scipy\\integrate\\_ivp\\lsoda.py:161: UserWarning: lsoda: Repeated convergence failures (perhaps bad Jacobian or tolerances).\n",
      "  solver._y, solver.t = integrator.run(\n",
      "100%|██████████| 19/19 [00:01<00:00, 11.39it/s]\n"
     ]
    }
   ],
   "source": [
    "names = []\n",
    "for i in tqdm(range(len(dvars))):\n",
    "    for k in range(4):\n",
    "        for j in range(len(kvars)):\n",
    "            init = inits + [dvars[i]]\n",
    "            if k == 0:\n",
    "                ks = ([ka[0] * kvars[j]], kb, kc, kd)\n",
    "            elif k == 1:\n",
    "                ks = (ka, [kb[0] * kvars[j]], kc, kd)\n",
    "            elif k == 2:\n",
    "                ks = (ka, kb, [kc[0] * kvars[j]], kd)\n",
    "            elif k == 3:\n",
    "                ks = (ka, kb, kc, [kd[0] * kvars[j]])\n",
    "            \n",
    "            res = solve_ivp(runModel, (0, 3000), init, \\\n",
    "                            args = ks, method = 'LSODA',\n",
    "                           atol = 1e-3)\n",
    "            \n",
    "            index = ['pMiR', 'pMiR_dicer', 'pMiR_dicer_star', 'miR', 'dicer']\n",
    "            \n",
    "            df = pd.DataFrame(res.y, index = index)\n",
    "            df = df.transpose()\n",
    "            df.insert(loc = 0, column = 'time_min', value = res.t)\n",
    "            \n",
    "            name = 'k' + ['a', 'b', 'c', 'd'][k] + '_' + str(int(kvars[j]*100)) + 'dvar_' + str(int(dvars[i]*100))\n",
    "            names.append(name)\n",
    "            \n",
    "            df.to_csv('outputs/optim/csvs2/' + name + '.csv', index = False)"
   ]
  },
  {
   "cell_type": "code",
   "execution_count": 58,
   "id": "3f710820-07cc-4781-8a2f-eceb5ab20bd1",
   "metadata": {},
   "outputs": [],
   "source": [
    "for name in names:\n",
    "    exec(name + ' = pd.read_csv(\"outputs/optim/csvs2/' + name + '.csv\", header = [0])')"
   ]
  },
  {
   "cell_type": "code",
   "execution_count": 59,
   "id": "81f064db-4ffd-44d4-94ee-3c6eb680cb20",
   "metadata": {},
   "outputs": [],
   "source": [
    "ends = np.zeros((4, len(kvars), len(dvars)))\n",
    "\n",
    "for i in range(4):\n",
    "    for j in range(len(kvars)):\n",
    "        for k in range(len(dvars)):\n",
    "            exec('miR = k' + ['a', 'b', 'c', 'd'][i]+ '_' + str(int(kvars[j]*100)) + 'dvar_' + str(int(dvars[k]*100)))\n",
    "            \n",
    "            ends[i, j, k] = miR['miR'].iloc[-1]"
   ]
  },
  {
   "cell_type": "code",
   "execution_count": 60,
   "id": "02e32a88-4acb-434d-8c46-bef9a9f3fe36",
   "metadata": {},
   "outputs": [
    {
     "data": {
      "image/png": "[encoded data removed]",
      "text/plain": [
       "<Figure size 864x720 with 8 Axes>"
      ]
     },
     "metadata": {
      "needs_background": "light"
     },
     "output_type": "display_data"
    }
   ],
   "source": [
    "#plot\n",
    "fig, ax = plt.subplots(2,2, sharex = True, sharey = True, figsize = (12, 10))\n",
    "\n",
    "x = dvars\n",
    "y = kvars\n",
    "\n",
    "cs0 = ax[0,0].contourf(x, y, ends[0], vmin = 0, vmax = 1)\n",
    "ax[0,0].set_title('ka varied')\n",
    "fig.colorbar(cs0)\n",
    "ax[0,0].set_xlabel('Dicer')\n",
    "ax[0,0].set_ylabel('k-variation')\n",
    "ax[0,0].scatter(5, 1, edgecolor = 'black', color = 'red')\n",
    "ax[0,0].set_yscale('log')\n",
    "\n",
    "cs1 = ax[0,1].contourf(x, y, ends[1], vmin = 0, vmax = 1)\n",
    "ax[0,1].set_title('kb varied')\n",
    "fig.colorbar(cs1)\n",
    "ax[0,1].set_xlabel('Dicer')\n",
    "ax[0,1].set_ylabel('k-variation')\n",
    "ax[0,1].scatter(5, 1, edgecolor = 'black', color = 'red')\n",
    "ax[0,1].set_yscale('log')\n",
    "\n",
    "cs2 = ax[1,0].contourf(x, y, ends[2], vmin = 0, vmax = 1)\n",
    "ax[1,0].set_title('kc varied')\n",
    "fig.colorbar(cs2)\n",
    "ax[1,0].set_xlabel('Dicer')\n",
    "ax[1,0].set_ylabel('k-variation')\n",
    "ax[1,0].scatter(5, 1, edgecolor = 'black', color = 'red')\n",
    "ax[1,0].set_yscale('log')\n",
    "\n",
    "cs3 = ax[1,1].contourf(x, y, ends[3], vmin = 0, vmax = 1)\n",
    "ax[1,1].set_title('kd varied')\n",
    "fig.colorbar(cs3)\n",
    "ax[1,1].set_xlabel('Dicer')\n",
    "ax[1,1].set_ylabel('k-variation')\n",
    "ax[1,1].scatter(5, 1, edgecolor = 'black', color = 'red')\n",
    "ax[1,1].set_yscale('log')\n",
    "\n",
    "fig.tight_layout()\n",
    "\n",
    "plt.savefig('outputs/optim/plots2/k-var_dvars2.svg', dpi = 600, bbox_inches = 'tight')\n",
    "plt.show()"
   ]
  },
  {
   "cell_type": "code",
   "execution_count": 61,
   "id": "38f2a46b-f32a-4778-925d-03aa4d357632",
   "metadata": {
    "tags": []
   },
   "outputs": [],
   "source": [
    "#what happens when increasing pmir concentration?\n",
    "pvars = np.linspace(0, 1, 5)\n",
    "pvars = np.append(pvars, np.linspace(1.5, 5, 8))\n",
    "inits = [params.init_pMiR1_dcr, params.init_pMiR1_dcr_star, \n",
    "                 params.init_MiR1]"
   ]
  },
  {
   "cell_type": "code",
   "execution_count": 62,
   "id": "8d4e82e4-3195-4ab3-8786-6772671a61bf",
   "metadata": {
    "tags": []
   },
   "outputs": [
    {
     "name": "stderr",
     "output_type": "stream",
     "text": [
      "100%|██████████| 19/19 [00:00<00:00, 25.82it/s]\n"
     ]
    }
   ],
   "source": [
    "names2 = []\n",
    "for i in tqdm(range(len(dvars))):\n",
    "    for j in range(len(pvars)):\n",
    "        init = [pvars[j]] + inits + [dvars[i]]\n",
    "            \n",
    "        res = solve_ivp(runModel, (0, 3000), init, args = (ka, kb, kc, kd), method = 'LSODA')\n",
    "            \n",
    "        index = ['pMiR', 'pMiR_dicer', 'pMiR_dicer_star', 'miR', 'dicer']\n",
    "            \n",
    "        df = pd.DataFrame(res.y, index = index)\n",
    "        df = df.transpose()\n",
    "        df.insert(loc = 0, column = 'time_min', value = res.t)\n",
    "            \n",
    "        name = 'pvar_' + str(int(pvars[j]*100)) + 'dvar_' + str(int(dvars[i]*100))\n",
    "        names2.append(name)\n",
    "            \n",
    "        df.to_csv('outputs/optim/csvs2/' + name + '.csv', index = False)"
   ]
  },
  {
   "cell_type": "code",
   "execution_count": 63,
   "id": "234178da-96cc-4f0e-90be-740df42d6bc8",
   "metadata": {
    "tags": []
   },
   "outputs": [],
   "source": [
    "for name in names2:\n",
    "    exec(name + ' = pd.read_csv(\"outputs/optim/csvs2/' + name + '.csv\", header = [0])')"
   ]
  },
  {
   "cell_type": "code",
   "execution_count": 64,
   "id": "3fba7b45-8293-4cd6-9717-68f97eedfabc",
   "metadata": {
    "tags": []
   },
   "outputs": [],
   "source": [
    "ends2 = np.zeros((len(pvars), len(dvars)))\n",
    "\n",
    "for j in range(len(pvars)):\n",
    "    for k in range(len(dvars)):\n",
    "        exec('miR = pvar_' + str(int(pvars[j]*100)) + 'dvar_' + str(int(dvars[k]*100)))\n",
    "            \n",
    "        ends2[j, k] = miR['miR'].iloc[-1]"
   ]
  },
  {
   "cell_type": "code",
   "execution_count": 65,
   "id": "7024ac32-9bfd-416d-8000-7c21c9e02d37",
   "metadata": {
    "tags": []
   },
   "outputs": [
    {
     "data": {
      "image/png": "[encoded data removed]",
      "text/plain": [
       "<Figure size 432x360 with 2 Axes>"
      ]
     },
     "metadata": {
      "needs_background": "light"
     },
     "output_type": "display_data"
    }
   ],
   "source": [
    "fig, ax = plt.subplots(figsize = (6,5))\n",
    "\n",
    "x = dvars\n",
    "y = pvars\n",
    "\n",
    "cs = ax.contourf(x, y, ends2, vmin = 0, vmax = 5)\n",
    "fig.colorbar(cs)\n",
    "ax.set_xlabel('Dicer')\n",
    "ax.set_ylabel('Pre-miRNA')\n",
    "ax.scatter(5, 1, edgecolor = 'black', color = 'red')\n",
    "\n",
    "plt.savefig('outputs/optim/plots2/premir-conc.svg', dpi = 600, bbox_inches = 'tight')\n",
    "\n",
    "plt.show()"
   ]
  },
  {
   "cell_type": "code",
   "execution_count": 66,
   "id": "f0136142-a43d-4ce6-a2ee-0857c2d32653",
   "metadata": {
    "tags": []
   },
   "outputs": [],
   "source": [
    "inits = [params.init_pMiR1_dcr, params.init_pMiR1_dcr_star, \n",
    "                 params.init_MiR1, params.init_dcr1]"
   ]
  },
  {
   "cell_type": "code",
   "execution_count": 67,
   "id": "6576f73e-a914-4b04-b9c8-c28cfd4317b1",
   "metadata": {
    "tags": []
   },
   "outputs": [
    {
     "name": "stderr",
     "output_type": "stream",
     "text": [
      "100%|██████████| 13/13 [00:01<00:00, 10.62it/s]\n"
     ]
    }
   ],
   "source": [
    "names3 = []\n",
    "for i in tqdm(range(len(pvars))):\n",
    "    for j in range(len(kvars)):\n",
    "        for k in range(4):\n",
    "            init = [pvars[i]] + inits \n",
    "            if k == 0:\n",
    "                ks = ([ka[0] * kvars[j]], kb, kc, kd)\n",
    "            elif k == 1:\n",
    "                ks = (ka, [kb[0] * kvars[j]], kc, kd)\n",
    "            elif k == 2:\n",
    "                ks = (ka, kb, [kc[0] * kvars[j]], kd)\n",
    "            elif k == 3:\n",
    "                ks = (ka, kb, kc, [kd[0] * kvars[j]])\n",
    "            \n",
    "            res = solve_ivp(runModel, (0, 3000), init, \\\n",
    "                            args = ks, method = 'LSODA',\n",
    "                           atol = 1e-3)\n",
    "            \n",
    "            index = ['pMiR', 'pMiR_dicer', 'pMiR_dicer_star', 'miR', 'dicer']\n",
    "            \n",
    "            df = pd.DataFrame(res.y, index = index)\n",
    "            df = df.transpose()\n",
    "            df.insert(loc = 0, column = 'time_min', value = res.t)\n",
    "            \n",
    "            name = 'k' + ['a', 'b', 'c', 'd'][k] + '_' + str(int(kvars[j]*100)) + 'dvar_' + str(int(pvars[i]*100))\n",
    "            names3.append(name)\n",
    "            \n",
    "            df.to_csv('outputs/optim/csvs2/' + name + '.csv', index = False)"
   ]
  },
  {
   "cell_type": "code",
   "execution_count": 68,
   "id": "e7f63a81-9907-463b-a685-4dfcfe1a6a94",
   "metadata": {
    "tags": []
   },
   "outputs": [],
   "source": [
    "for name in names3:\n",
    "    exec(name + ' = pd.read_csv(\"outputs/optim/csvs2/' + name + '.csv\", header = [0])')"
   ]
  },
  {
   "cell_type": "code",
   "execution_count": 69,
   "id": "81413ceb-bc2a-4f1e-8366-c10bba5c208f",
   "metadata": {
    "tags": []
   },
   "outputs": [],
   "source": [
    "ends3 = np.zeros((4, len(kvars), len(pvars)))\n",
    "\n",
    "for i in range(4):\n",
    "    for j in range(len(kvars)):\n",
    "        for k in range(len(pvars)):\n",
    "            exec('miR = k' + ['a', 'b', 'c', 'd'][i]+ '_' + str(int(kvars[j]*100)) + 'dvar_' + str(int(pvars[k]*100)))\n",
    "            \n",
    "            ends3[i, j, k] = miR['miR'].iloc[-1]"
   ]
  },
  {
   "cell_type": "code",
   "execution_count": 70,
   "id": "085c3d3a-c12d-4aad-b75b-6a7ec54edc93",
   "metadata": {
    "tags": []
   },
   "outputs": [
    {
     "data": {
      "image/png": "[encoded data removed]",
      "text/plain": [
       "<Figure size 864x720 with 8 Axes>"
      ]
     },
     "metadata": {
      "needs_background": "light"
     },
     "output_type": "display_data"
    }
   ],
   "source": [
    "#plot\n",
    "fig, ax = plt.subplots(2,2, sharex = True, sharey = True, figsize = (12, 10))\n",
    "\n",
    "x = pvars\n",
    "y = kvars\n",
    "\n",
    "#plt.set_cmap('inferno')\n",
    "\n",
    "cs0 = ax[0,0].contourf(x, y, ends3[0], vmin = 0, vmax = 5)\n",
    "ax[0,0].set_title('ka varied')\n",
    "fig.colorbar(cs0)\n",
    "ax[0,0].set_xlabel('Pre-miRNA')\n",
    "ax[0,0].set_ylabel('k-variation')\n",
    "ax[0,0].scatter(1, 1, edgecolor = 'black', color = 'red')\n",
    "ax[0,0].set_yscale('log')\n",
    "\n",
    "cs1 = ax[0,1].contourf(x, y, ends3[1], vmin = 0, vmax = 5)\n",
    "ax[0,1].set_title('kb varied')\n",
    "fig.colorbar(cs1)\n",
    "ax[0,1].set_xlabel('Pre-miRNA')\n",
    "ax[0,1].set_ylabel('k-variation')\n",
    "ax[0,1].scatter(1, 1, edgecolor = 'black', color = 'red')\n",
    "ax[0,1].set_yscale('log')\n",
    "\n",
    "cs2 = ax[1,0].contourf(x, y, ends3[2], vmin = 0, vmax = 5)\n",
    "ax[1,0].set_title('kc varied')\n",
    "fig.colorbar(cs2)\n",
    "ax[1,0].set_xlabel('Pre-miRNA')\n",
    "ax[1,0].set_ylabel('k-variation')\n",
    "ax[1,0].scatter(1, 1, edgecolor = 'black', color = 'red')\n",
    "ax[1,0].set_yscale('log')\n",
    "\n",
    "cs3 = ax[1,1].contourf(x, y, ends3[3], vmin = 0, vmax = 5)\n",
    "ax[1,1].set_title('kd varied')\n",
    "fig.colorbar(cs3)\n",
    "ax[1,1].set_xlabel('Pre-miRNA')\n",
    "ax[1,1].set_ylabel('k-variation')\n",
    "ax[1,1].scatter(1, 1, edgecolor = 'black', color = 'red')\n",
    "ax[1,1].set_yscale('log')\n",
    "\n",
    "fig.tight_layout()\n",
    "\n",
    "plt.savefig('outputs/optim/plots2/k-var_pvars2.svg', dpi = 600, bbox_inches = 'tight')\n",
    "plt.show()"
   ]
  },
  {
   "cell_type": "code",
   "execution_count": null,
   "id": "4f0a88d7-4853-4b98-9938-dda99c204b3f",
   "metadata": {},
   "outputs": [],
   "source": []
  }
 ],
 "metadata": {
  "kernelspec": {
   "display_name": "Python 3 (ipykernel)",
   "language": "python",
   "name": "python3"
  },
  "language_info": {
   "codemirror_mode": {
    "name": "ipython",
    "version": 3
   },
   "file_extension": ".py",
   "mimetype": "text/x-python",
   "name": "python",
   "nbconvert_exporter": "python",
   "pygments_lexer": "ipython3",
   "version": "3.12.7"
  }
 },
 "nbformat": 4,
 "nbformat_minor": 5
}
