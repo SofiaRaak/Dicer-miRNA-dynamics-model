{
 "cells": [
  {
   "cell_type": "markdown",
   "id": "f1ba2606-8be6-4a90-8053-e490014e0e71",
   "metadata": {},
   "source": [
    "# Model optimisation\n",
    "\n",
    "Model optimised based on data from [Tsutsumi _et al._ 2011](https://doi.org/10.1038/nsmb.2125).\n",
    "\n",
    "This notebook only shows the optimisation strategy, the actual optimised paramters used in the model can be found in ``params.py``."
   ]
  },
  {
   "cell_type": "markdown",
   "id": "bf77077f-e68f-410b-92f7-28fcec8e446c",
   "metadata": {},
   "source": [
    "## Setup"
   ]
  },
  {
   "cell_type": "code",
   "execution_count": 1,
   "id": "d60a3730-b961-422c-8102-3a8d6f23979e",
   "metadata": {},
   "outputs": [],
   "source": [
    "#setup workspace\n",
    "import pandas as pd\n",
    "import matplotlib.pyplot as plt\n",
    "import matplotlib.lines as mlines\n",
    "import numpy as np\n",
    "from scipy.integrate import solve_ivp\n",
    "import  model_utils as mu\n",
    "from scipy.optimize import curve_fit\n",
    "import cma"
   ]
  },
  {
   "cell_type": "code",
   "execution_count": 2,
   "id": "3d84c574-1060-4a8d-ae2d-b003d5d4d6bc",
   "metadata": {},
   "outputs": [],
   "source": [
    "#set up initial conditions\n",
    "##initial concentrations (nM) as outlined in Tsutsumi et al.\n",
    "pre_wt = 1\n",
    "pre_sl = 1\n",
    "wt_dcr = 0\n",
    "sl_dcr = 0\n",
    "wt_dcr_star = 0\n",
    "sl_dcr_star = 0\n",
    "dcr_wt = 5 #free Dicer in WT system\n",
    "dcr_sl = 5 #free Dicer in SL system\n",
    "wt = 0\n",
    "sl = 0\n",
    "\n",
    "init_values = [pre_wt, pre_sl, wt_dcr, sl_dcr, wt_dcr_star, sl_dcr_star, dcr_wt, dcr_sl, wt, sl]\n",
    "\n",
    "##measured affinities for wt, sl pre-miRNAs (nM)\n",
    "Kd_wt = 25.4\n",
    "Kd_sl = 147.7\n",
    "\n",
    "##initial theta (reaction rates) to be optimised:\n",
    "ka_wt = 5\n",
    "ka_sl = 5\n",
    "kc_wt = .1\n",
    "kc_sl = .1\n",
    "kd = 5 \n",
    "\n",
    "theta = np.log(np.array([ka_wt, ka_sl, kc_wt, kc_sl, kd, kd])) #log theta to prevent negative reaction rates in optimisation\n",
    "\n",
    "#experimental data from figure 1, tsutsumi et al. to pass to optimiser\n",
    "##extracted from graph\n",
    "WT_data = np.array([0, 0.11144276160503169, 0.16566679779700877, 0.23905143587726366, 0.2954956726986665, 0.2946793863099961])\n",
    "short_data = np.array([0, 0.0033684107002276975, 0.007599822974028003, 0.010019177812737812, 0.009603658536577298, 0.01242378048779691])\n",
    "##simulation time and time steps\n",
    "time = np.array([0, 5, 10, 20, 40, 60])\n",
    "minutes = 60"
   ]
  },
  {
   "cell_type": "markdown",
   "id": "a2c158ce-2432-4663-80ce-e9ba62b38e0c",
   "metadata": {
    "tags": []
   },
   "source": [
    "### Functions"
   ]
  },
  {
   "cell_type": "code",
   "execution_count": 3,
   "id": "a79d4f05-79e4-4032-b131-24edc5c7b1e1",
   "metadata": {},
   "outputs": [],
   "source": [
    "#model\n",
    "def optim_model(t, init_values, ka1, ka2, kc1, kc2, kd1, kd2):\n",
    "    \"\"\"\n",
    "    Model for optimising parameters for expanded model. Using short loop and wt maturing \n",
    "    miRNAs in separate Dicer pool.\n",
    "    \"\"\"   \n",
    "    kb1 = ka2 * Kd_wt #Kd = kb / ka\n",
    "    kb2 = ka2 * Kd_sl\n",
    "    \n",
    "    init_pMiR1, init_pMiR2, init_pMiR1_dcr, init_pMiR2_dcr, init_pMiR1_dcr_star, \\\n",
    "    init_pMiR2_dcr_star, init_dcr1, init_dcr2, init_miR1, init_miR2 = init_values\n",
    "    \n",
    "    pMiR1 = init_pMiR1_dcr * kb1 - init_pMiR1 * init_dcr1 * (ka1 + kc1)\n",
    "    pMiR1_dcr = init_pMiR1 * init_dcr1 * ka1 - init_pMiR1_dcr * (kb1 + kd)\n",
    "    pMiR1_dcr_star = init_pMiR1 * init_dcr1 * kc1\n",
    "    dcr1 = init_pMiR1_dcr * (kb1 + kd) - init_pMiR1 * init_dcr1 * (ka1 + kc1)\n",
    "    MiR1 = init_pMiR1_dcr * kd1\n",
    "    \n",
    "    pMiR2 = init_pMiR2_dcr * kb2 - init_pMiR2 * init_dcr2 * (ka2 + kc2)\n",
    "    pMiR2_dcr = init_pMiR2 * init_dcr2 * ka2 - init_pMiR2_dcr * (kb2 + kd)\n",
    "    pMiR2_dcr_star = init_pMiR2 * init_dcr2 * kc2\n",
    "    dcr2 = init_pMiR2_dcr * (kb2 + kd) - init_pMiR2 * init_dcr2 * (ka2 + kc2)\n",
    "    MiR2 = init_pMiR2_dcr * kd2\n",
    "\n",
    "    \n",
    "    return pMiR1, pMiR2, pMiR1_dcr, pMiR2_dcr, pMiR1_dcr_star, pMiR2_dcr_star, dcr1, dcr2, MiR1, MiR2\n",
    "    "
   ]
  },
  {
   "cell_type": "code",
   "execution_count": 4,
   "id": "1d231d44-73d1-4bd8-b0a3-6ed875113b4f",
   "metadata": {},
   "outputs": [],
   "source": [
    "#calculate fraction diced\n",
    "def frac_diced(theta):\n",
    "    \"\"\"\n",
    "    Function to calculate the fraction of WT, short loop miRNAs diced\n",
    "    \"\"\"\n",
    "    ka1, ka2, kc1, kc2, kd1, kd2 = np.exp(theta)\n",
    "        \n",
    "    sol = solve_ivp(optim_model, (0, int(minutes)), init_values, \\\n",
    "                    method = 'LSODA', args = (ka1, ka2, kc1, kc2, kd1, kd2))\n",
    "    \n",
    "    pMiR1, pMiR2, pMiR1_dcr, pMiR2_dcr, pMiR1_dcr_star, pMiR2_dcr_star, dcr1, dcr2, MiR1, MiR2 = sol.y\n",
    "    \n",
    "    diced1 = []\n",
    "    diced2 = []\n",
    "    \n",
    "    for i in range(len(MiR1)):\n",
    "        diced1.append(MiR1[i]/ pMiR1[0]) #1 pMiR = 1 MiR\n",
    "        diced2.append(MiR2[i] / pMiR2[0]) #using pMiR and MiR to account for loss of pMiR\n",
    "                                                      #in pMiR_dcr_star\n",
    "                      \n",
    "    return diced1, diced2, sol.t"
   ]
  },
  {
   "cell_type": "code",
   "execution_count": 16,
   "id": "45f53cac-b232-4e65-9fff-efe6d708f7fe",
   "metadata": {
    "tags": []
   },
   "outputs": [],
   "source": [
    "#create error function\n",
    "def errorODE(theta):\n",
    "    \"\"\"\n",
    "    Function to calculate the relative error of ODE model values against data values.\n",
    "    \"\"\"\n",
    "    \n",
    "    diced1, diced2, ts = frac_diced(theta)\n",
    "    \n",
    "    data = np.array([[WT_data],\n",
    "                     [short_data*10]])#scale by 10 to force optimisation to account for relative changes\n",
    "    WT = np.interp(time, ts, diced1)\n",
    "    short = np.interp(time, ts, diced2)\n",
    "\n",
    "    \n",
    "    model = np.array([[WT],\n",
    "                      [short*10]])#scale by 10 to force optimisation to account for relative changes\n",
    "    \n",
    "    return np.sum(np.power((data-model), 2))\n",
    "    "
   ]
  },
  {
   "cell_type": "markdown",
   "id": "e8bf938d-555a-4e92-aaa3-3653a334b06e",
   "metadata": {},
   "source": [
    "## Optimisation"
   ]
  },
  {
   "cell_type": "code",
   "execution_count": 17,
   "id": "73f9237d-8da2-4674-8d5d-5bf08b38338b",
   "metadata": {},
   "outputs": [
    {
     "name": "stdout",
     "output_type": "stream",
     "text": [
      "(4_w,9)-aCMA-ES (mu_w=2.8,w_1=49%) in dimension 6 (seed=285073, Fri Nov 17 10:55:04 2023)\n",
      "Iterat #Fevals   function value  axis ratio  sigma  min&max std  t[m:s]\n",
      "    1      9 1.635950103170862e-01 1.0e+00 1.88e+00  2e+00  2e+00 0:00.1\n",
      "    2     18 2.750920808555361e-01 1.2e+00 2.09e+00  2e+00  2e+00 0:00.2\n",
      "    3     27 2.230263560713893e-01 1.5e+00 2.14e+00  2e+00  2e+00 0:00.4\n",
      "   26    234 6.806372714667946e-02 5.8e+00 1.56e+00  4e-01  2e+00 0:03.5\n",
      "   55    495 6.797510152186230e-02 7.4e+01 3.28e-01  7e-03  4e-01 0:07.5\n",
      "   97    873 3.169241081031512e-02 2.2e+03 3.03e+00  7e-03  8e+00 0:12.6\n",
      "  100    900 4.761300450443408e-02 2.1e+03 3.89e+00  9e-03  1e+01 0:12.8\n",
      "  193   1737 1.089717707655106e-02 4.3e+02 1.85e+00  5e-03  1e+00 0:19.8\n",
      "  200   1800 8.455897397502105e-03 2.4e+02 3.66e+00  1e-02  2e+00 0:20.4\n",
      "  300   2700 6.737237299430741e-04 1.6e+03 2.27e-02  1e-05  1e-02 0:26.6\n",
      "  400   3600 6.730803017167046e-04 2.8e+03 1.09e+00  4e-04  6e-01 0:32.2\n",
      "  500   4500 6.706825649647311e-04 2.4e+04 1.07e+01  1e-03  1e+01 0:38.9\n",
      "NOTE (module=cma, iteration=524):  \n",
      "condition in coordinate system exceeded 1.0e+08, rescaled to 1.0e+00, \n",
      "condition changed from 4.4e+08 to 2.9e+02\n",
      "  600   5400 6.630010597481012e-04 6.5e+01 3.30e+01  9e-04  1e+01 0:44.4\n",
      "  700   6300 6.546620131869102e-04 1.5e+02 4.96e+02  4e-03  2e+02 0:49.9\n",
      "  800   7200 6.446908455041006e-04 9.7e+02 7.14e+02  9e-04  2e+02 0:55.3\n",
      "  900   8100 6.434423385365208e-04 3.5e+03 5.10e+01  2e-05  1e+01 1:01.1\n",
      "  963   8667 6.434420585071130e-04 1.8e+04 3.20e+00  1e-06  3e-01 1:04.7\n",
      "termination on tolfun=1e-11 (Fri Nov 17 10:56:22 2023)\n",
      "final/bestever f-value = 6.434421e-04 6.434421e-04\n",
      "incumbent solution: [-4.9123908164186485, -3.1528177225624576, -4.433092554057611, -6441.21671072859, 1.4947324175657526, -2.862793461449347]\n",
      "std deviation: [1.0529361295016725e-05, 2.046121650674264e-06, 7.087560134685217e-06, 0.282434271930992, 1.1203044661333963e-05, 1.1105402518573786e-06]\n"
     ]
    }
   ],
   "source": [
    "#minimise with CMA-ES\n",
    "##NB! Optimised values vary between optimisation runs!\n",
    "res = cma.fmin(errorODE, theta, 2)"
   ]
  },
  {
   "cell_type": "code",
   "execution_count": 18,
   "id": "a3e12edf-7c0e-4edb-be97-271aa078d654",
   "metadata": {},
   "outputs": [
    {
     "data": {
      "text/plain": [
       "0.0006434420579263252"
      ]
     },
     "execution_count": 18,
     "metadata": {},
     "output_type": "execute_result"
    }
   ],
   "source": [
    "#error at end of optimisation\n",
    "res[1]"
   ]
  },
  {
   "cell_type": "markdown",
   "id": "4baecb62-80b2-4e69-8e7c-9227663aaee1",
   "metadata": {},
   "source": [
    "### Plotting"
   ]
  },
  {
   "cell_type": "code",
   "execution_count": 19,
   "id": "6499e0b8-a072-41f0-adbe-55f768080ab6",
   "metadata": {},
   "outputs": [],
   "source": [
    "#load logger\n",
    "logger = res[-1]\n",
    "#load function evaluations\n",
    "f_dat = logger.load().data['f']\n",
    "#loaf best f-value for each iteration\n",
    "f_best = f_dat[:, 5]\n",
    "evals = f_dat[:, 1]"
   ]
  },
  {
   "cell_type": "code",
   "execution_count": 20,
   "id": "ad554fb5-d324-495d-a403-733abc55c2ad",
   "metadata": {},
   "outputs": [
    {
     "data": {
      "image/png": "[encoded data removed]",
      "text/plain": [
       "<Figure size 432x288 with 1 Axes>"
      ]
     },
     "metadata": {
      "needs_background": "light"
     },
     "output_type": "display_data"
    }
   ],
   "source": [
    "#plot error minimisation\n",
    "fig, ax = plt.subplots()\n",
    "\n",
    "ax.plot(evals,\n",
    "        f_best)\n",
    "for i in range(len(f_best)): #find where f was minimised and mark with red circle\n",
    "    if f_best[i] == res[1]:\n",
    "        ax.scatter(evals[i],\n",
    "                   f_best[i],\n",
    "                   marker = 'o',\n",
    "                   color = 'red')\n",
    "        \n",
    "        \n",
    "ax.set_xlabel('Number of evaluations')\n",
    "ax.set_ylabel('SEE, a.u.')\n",
    "ax.set_xscale('log')\n",
    "ax.text(200, .1, f'min(f) = {res[1]}')\n",
    "\n",
    "plt.savefig(r'./figures/optim_f-mins.svg', dpi = 600, bbox_inches = 'tight')\n",
    "plt.show()"
   ]
  },
  {
   "cell_type": "code",
   "execution_count": 21,
   "id": "580bf9d6-1184-4235-888d-fe99f2a75231",
   "metadata": {},
   "outputs": [],
   "source": [
    "#fit experimental data with curve_fit\n",
    "WT_popt, WT_pcov = curve_fit(lambda t, a, b: a * np.log(t) + b,\n",
    "                             time[1:], WT_data[1:]) #exclude origin\n",
    "\n",
    "short_popt, short_pcov = curve_fit(lambda t, a, b: a * np.log(t) + b,\n",
    "                             time[1:], short_data[1:]) #exclude origin\n",
    "\n",
    "#create array with curve_fit data\n",
    "x = np.linspace(0,60,600)\n",
    "\n",
    "WT_pred = np.zeros(len(x))\n",
    "short_pred = np.zeros(len(x))\n",
    "\n",
    "for i in range(1, len(x)):\n",
    "    WT_pred[i] = WT_popt[0] * np.log(x[i]) + WT_popt[1]\n",
    "    short_pred[i] =  short_popt[0] * np.log(x[i]) + short_popt[1]"
   ]
  },
  {
   "cell_type": "code",
   "execution_count": 22,
   "id": "0c8ec8cd-9c4b-45af-bb23-c7a6f2fbf0fa",
   "metadata": {},
   "outputs": [],
   "source": [
    "#find model data at set experimental timepoints\n",
    "wt2, short2, ts2 = frac_diced(res[0])\n",
    "wt_scatter2 = np.interp(time, ts2, wt2)\n",
    "short_scatter2 = np.interp(time, ts2, short2)"
   ]
  },
  {
   "cell_type": "code",
   "execution_count": 25,
   "id": "4740211c-b4d4-4ffb-8bb8-81aa79d5f53c",
   "metadata": {},
   "outputs": [
    {
     "data": {
      "image/png": "[encoded data removed]",
      "text/plain": [
       "<Figure size 360x504 with 2 Axes>"
      ]
     },
     "metadata": {
      "needs_background": "light"
     },
     "output_type": "display_data"
    }
   ],
   "source": [
    "#plot experimental data with curve_fit, model data\n",
    "fig, ax = plt.subplots(2, sharex = True, figsize = (5, 7))\n",
    "\n",
    "ax[0].set_ylim(0, 0.4)\n",
    "\n",
    "ax[0].plot(x,\n",
    "           WT_pred,\n",
    "           color = 'black')\n",
    "ax[0].plot(x,\n",
    "           short_pred,\n",
    "           color = 'red')\n",
    "ax[0].scatter(time,\n",
    "              WT_data,\n",
    "              marker = 's',\n",
    "              color = 'black')\n",
    "ax[0].scatter(time,\n",
    "              short_data,\n",
    "              marker = 's',\n",
    "              color = 'red')\n",
    "\n",
    "ax[0].set_xlabel('Time (min)')\n",
    "ax[0].set_ylabel('Fraction diced')\n",
    "ax[0].set_title('Experimental data')\n",
    "\n",
    "ax[1].plot(ts2,\n",
    "           wt2,\n",
    "           color = 'black')\n",
    "ax[1].plot(ts2,\n",
    "           short2,\n",
    "           color = 'red')\n",
    "ax[1].scatter(time,\n",
    "              wt_scatter2,\n",
    "              marker = 's',\n",
    "              color = 'black')\n",
    "ax[1].scatter(time,\n",
    "              short_scatter2,\n",
    "              marker = 's',\n",
    "              color = 'red')\n",
    "\n",
    "ax[1].set_xlabel('Time (min)')\n",
    "ax[1].set_ylabel('Fraction diced')\n",
    "ax[1].set_title('Model data')\n",
    "\n",
    "l1 = mlines.Line2D([], [], marker = 's', color = 'black', label = 'WT')\n",
    "l2 = mlines.Line2D([], [], marker = 's', color = 'red', label = 'SL')\n",
    "\n",
    "plt.legend(handles = [l1, l2], loc = 2)\n",
    "\n",
    "plt.tight_layout()\n",
    "\n",
    "plt.savefig(r'./figures/exp-mod-data-fit.svg', dpi = 600, bbox_inches = 'tight')\n",
    "\n",
    "plt.show()"
   ]
  },
  {
   "cell_type": "code",
   "execution_count": 26,
   "id": "fd359349-ef13-4487-ac13-71212b064d97",
   "metadata": {},
   "outputs": [
    {
     "data": {
      "image/png": "[encoded data removed]",
      "text/plain": [
       "<Figure size 360x504 with 2 Axes>"
      ]
     },
     "metadata": {
      "needs_background": "light"
     },
     "output_type": "display_data"
    }
   ],
   "source": [
    "#plot overlaid data\n",
    "fig, ax = plt.subplots(2, sharex = True, figsize = (5, 7))\n",
    "\n",
    "ax[0].set_ylim(0, 0.4)\n",
    "\n",
    "ax[0].plot(x,\n",
    "           WT_pred,\n",
    "           color = 'black')\n",
    "ax[0].plot(ts2,\n",
    "           wt2,\n",
    "           linestyle = ':',\n",
    "           color = 'red')\n",
    "ax[0].scatter(time,\n",
    "              WT_data,\n",
    "              marker = 's',\n",
    "              color = 'black')\n",
    "ax[0].scatter(time,\n",
    "              wt_scatter2,\n",
    "              marker = 'o',\n",
    "              color = 'red')\n",
    "\n",
    "ax[0].set_xlabel('Time (min)')\n",
    "ax[0].set_ylabel('Fraction diced')\n",
    "ax[0].set_title('Wild-type')\n",
    "\n",
    "ax[1].set_ylim(0, 0.014)\n",
    "\n",
    "ax[1].plot(x,\n",
    "           short_pred,\n",
    "           color = 'black')\n",
    "ax[1].plot(ts2,\n",
    "           short2,\n",
    "           linestyle = ':',\n",
    "           color = 'red')\n",
    "ax[1].scatter(time,\n",
    "              short_data,\n",
    "              marker = 's',\n",
    "              color = 'black')\n",
    "ax[1].scatter(time,\n",
    "              short_scatter2,\n",
    "              marker = 'o',\n",
    "              color = 'red')\n",
    "\n",
    "ax[1].set_xlabel('Time (min)')\n",
    "ax[1].set_ylabel('Fraction diced')\n",
    "ax[1].set_title('Short loop')\n",
    "\n",
    "l1 = mlines.Line2D([], [], marker = 's', color = 'black', label = 'data')\n",
    "l2 = mlines.Line2D([], [], linestyle = ':', marker = 'o', color = 'red', label = 'model')\n",
    "\n",
    "plt.legend(handles = [l1, l2], loc = 2)\n",
    "\n",
    "plt.tight_layout()\n",
    "\n",
    "plt.savefig('./figures/overlay_optims.svg', dpi = 600, bbox_inches = 'tight')\n",
    "\n",
    "plt.show()"
   ]
  },
  {
   "cell_type": "code",
   "execution_count": null,
   "id": "b3c166b2-57c8-499c-8c96-ec1cd87d7b87",
   "metadata": {},
   "outputs": [],
   "source": []
  }
 ],
 "metadata": {
  "kernelspec": {
   "display_name": "Python 3 (ipykernel)",
   "language": "python",
   "name": "python3"
  },
  "language_info": {
   "codemirror_mode": {
    "name": "ipython",
    "version": 3
   },
   "file_extension": ".py",
   "mimetype": "text/x-python",
   "name": "python",
   "nbconvert_exporter": "python",
   "pygments_lexer": "ipython3",
   "version": "3.9.13"
  }
 },
 "nbformat": 4,
 "nbformat_minor": 5
}
